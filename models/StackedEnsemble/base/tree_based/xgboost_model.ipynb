{
 "cells": [
  {
   "cell_type": "markdown",
   "metadata": {},
   "source": [
    "# XGBoost Model Implementation with CPU Optimization\n",
    "\n",
    "This notebook implements an XGBoost-based model for soccer match draw prediction with CPU optimization. The implementation includes:\n",
    "\n",
    "- Model creation and configuration\n",
    "- Training with early stopping\n",
    "- Threshold optimization\n",
    "- Hyperparameter tuning\n",
    "- Model evaluation\n",
    "- MLflow integration for experiment tracking\n",
    "\n",
    "## Setup and Imports"
   ]
  },
  {
   "cell_type": "code",
   "execution_count": 32,
   "metadata": {},
   "outputs": [
    {
     "name": "stdout",
     "output_type": "stream",
     "text": [
      "2025-02-21 12:37:38,728 | INFO     | xgboost_soccer_prediction | Setting up MLflow tracking for experiment: xgboost_soccer_prediction\n",
      "mlflow local_path_uri: c:/Users/szita/Documents/TheDrawCode/mlruns\n",
      "2025-02-21 12:37:38,840 | INFO     | xgboost_soccer_prediction | Using existing experiment: xgboost_soccer_prediction experiment_id: 600562561289637747\n",
      "2025-02-21 12:37:38,842 | INFO     | xgboost_soccer_prediction | MLflow tracking configured successfully at: c:/Users/szita/Documents/TheDrawCode/mlruns\n",
      "2025-02-21 12:37:38,844 | INFO     | xgboost_soccer_prediction | Loading data splits according to ensemble strategy\n",
      "2025-02-21 12:37:38,845 | INFO     | xgboost_soccer_prediction | Returning features common to all models\n",
      "2025-02-21 12:37:38,847 | INFO     | xgboost_soccer_prediction | Loaded 102 selected features\n",
      "2025-02-21 12:37:38,900 | INFO     | xgboost_soccer_prediction | Loaded training data from parquet: c:\\Users\\szita\\Documents\\TheDrawCode\\data\\api_training_final.parquet\n",
      "2025-02-21 12:37:38,961 | INFO     | xgboost_soccer_prediction | Loaded training/test data:\n",
      " - Training samples: 22343\n",
      " - Test samples: 5586\n",
      "2025-02-21 12:37:38,961 | INFO     | xgboost_soccer_prediction | Loading training data from: c:\\Users\\szita\\Documents\\TheDrawCode\\data\\prediction\\api_prediction_eval.xlsx\n"
     ]
    },
    {
     "ename": "KeyboardInterrupt",
     "evalue": "",
     "output_type": "error",
     "traceback": [
      "\u001b[1;31m---------------------------------------------------------------------------\u001b[0m",
      "\u001b[1;31mKeyboardInterrupt\u001b[0m                         Traceback (most recent call last)",
      "Cell \u001b[1;32mIn[32], line 45\u001b[0m\n\u001b[0;32m     43\u001b[0m mlruns_dir \u001b[38;5;241m=\u001b[39m setup_mlflow_tracking(experiment_name)\n\u001b[0;32m     44\u001b[0m dataloader \u001b[38;5;241m=\u001b[39m DataLoader()\n\u001b[1;32m---> 45\u001b[0m X_train, y_train, X_test, y_test, X_eval, y_eval \u001b[38;5;241m=\u001b[39m \u001b[43mdataloader\u001b[49m\u001b[38;5;241;43m.\u001b[39;49m\u001b[43mload_data\u001b[49m\u001b[43m(\u001b[49m\u001b[43m)\u001b[49m\n",
      "File \u001b[1;32mc:\\Users\\szita\\Documents\\TheDrawCode\\models\\StackedEnsemble\\shared\\data_loader.py:62\u001b[0m, in \u001b[0;36mDataLoader.load_data\u001b[1;34m(self)\u001b[0m\n\u001b[0;32m     55\u001b[0m \u001b[38;5;28mself\u001b[39m\u001b[38;5;241m.\u001b[39mlogger\u001b[38;5;241m.\u001b[39minfo(\n\u001b[0;32m     56\u001b[0m     \u001b[38;5;124m\"\u001b[39m\u001b[38;5;124mLoaded training/test data:\u001b[39m\u001b[38;5;124m\"\u001b[39m\n\u001b[0;32m     57\u001b[0m     \u001b[38;5;124mf\u001b[39m\u001b[38;5;124m\"\u001b[39m\u001b[38;5;130;01m\\n\u001b[39;00m\u001b[38;5;124m - Training samples: \u001b[39m\u001b[38;5;132;01m{\u001b[39;00m\u001b[38;5;28mlen\u001b[39m(X_train)\u001b[38;5;132;01m}\u001b[39;00m\u001b[38;5;124m\"\u001b[39m\n\u001b[0;32m     58\u001b[0m     \u001b[38;5;124mf\u001b[39m\u001b[38;5;124m\"\u001b[39m\u001b[38;5;130;01m\\n\u001b[39;00m\u001b[38;5;124m - Test samples: \u001b[39m\u001b[38;5;132;01m{\u001b[39;00m\u001b[38;5;28mlen\u001b[39m(X_test)\u001b[38;5;132;01m}\u001b[39;00m\u001b[38;5;124m\"\u001b[39m\n\u001b[0;32m     59\u001b[0m )\n\u001b[0;32m     61\u001b[0m \u001b[38;5;66;03m# Load validation data (completely held-out set)\u001b[39;00m\n\u001b[1;32m---> 62\u001b[0m X_val, y_val \u001b[38;5;241m=\u001b[39m \u001b[43mcreate_ensemble_evaluation_set\u001b[49m\u001b[43m(\u001b[49m\u001b[43m)\u001b[49m\n\u001b[0;32m     63\u001b[0m \u001b[38;5;28mself\u001b[39m\u001b[38;5;241m.\u001b[39mlogger\u001b[38;5;241m.\u001b[39minfo(\u001b[38;5;124mf\u001b[39m\u001b[38;5;124m\"\u001b[39m\u001b[38;5;124mLoaded validation data: \u001b[39m\u001b[38;5;132;01m{\u001b[39;00m\u001b[38;5;28mlen\u001b[39m(X_val)\u001b[38;5;132;01m}\u001b[39;00m\u001b[38;5;124m samples\u001b[39m\u001b[38;5;124m\"\u001b[39m)\n\u001b[0;32m     65\u001b[0m \u001b[38;5;66;03m# Apply feature selection to all splits\u001b[39;00m\n",
      "File \u001b[1;32mc:\\Users\\szita\\Documents\\TheDrawCode\\utils\\create_evaluation_set.py:1153\u001b[0m, in \u001b[0;36mcreate_ensemble_evaluation_set\u001b[1;34m()\u001b[0m\n\u001b[0;32m   1151\u001b[0m data_path \u001b[38;5;241m=\u001b[39m os\u001b[38;5;241m.\u001b[39mpath\u001b[38;5;241m.\u001b[39mjoin(project_root, \u001b[38;5;124m\"\u001b[39m\u001b[38;5;124mdata\u001b[39m\u001b[38;5;124m\"\u001b[39m, \u001b[38;5;124m\"\u001b[39m\u001b[38;5;124mprediction\u001b[39m\u001b[38;5;124m\"\u001b[39m, \u001b[38;5;124m\"\u001b[39m\u001b[38;5;124mapi_prediction_eval.xlsx\u001b[39m\u001b[38;5;124m\"\u001b[39m)\n\u001b[0;32m   1152\u001b[0m logger\u001b[38;5;241m.\u001b[39minfo(\u001b[38;5;124mf\u001b[39m\u001b[38;5;124m\"\u001b[39m\u001b[38;5;124mLoading training data from: \u001b[39m\u001b[38;5;132;01m{\u001b[39;00mdata_path\u001b[38;5;132;01m}\u001b[39;00m\u001b[38;5;124m\"\u001b[39m)\n\u001b[1;32m-> 1153\u001b[0m data \u001b[38;5;241m=\u001b[39m \u001b[43mpd\u001b[49m\u001b[38;5;241;43m.\u001b[39;49m\u001b[43mread_excel\u001b[49m\u001b[43m(\u001b[49m\u001b[43mdata_path\u001b[49m\u001b[43m)\u001b[49m\n\u001b[0;32m   1155\u001b[0m \u001b[38;5;66;03m# Create target variable\u001b[39;00m\n\u001b[0;32m   1156\u001b[0m data[\u001b[38;5;124m'\u001b[39m\u001b[38;5;124mis_draw\u001b[39m\u001b[38;5;124m'\u001b[39m] \u001b[38;5;241m=\u001b[39m (data[\u001b[38;5;124m'\u001b[39m\u001b[38;5;124mmatch_outcome\u001b[39m\u001b[38;5;124m'\u001b[39m] \u001b[38;5;241m==\u001b[39m \u001b[38;5;241m2\u001b[39m)\u001b[38;5;241m.\u001b[39mastype(\u001b[38;5;28mint\u001b[39m)\n",
      "File \u001b[1;32mc:\\Users\\szita\\.conda\\envs\\soccerpredictor_env\\lib\\site-packages\\pandas\\io\\excel\\_base.py:517\u001b[0m, in \u001b[0;36mread_excel\u001b[1;34m(io, sheet_name, header, names, index_col, usecols, dtype, engine, converters, true_values, false_values, skiprows, nrows, na_values, keep_default_na, na_filter, verbose, parse_dates, date_parser, date_format, thousands, decimal, comment, skipfooter, storage_options, dtype_backend, engine_kwargs)\u001b[0m\n\u001b[0;32m    511\u001b[0m     \u001b[38;5;28;01mraise\u001b[39;00m \u001b[38;5;167;01mValueError\u001b[39;00m(\n\u001b[0;32m    512\u001b[0m         \u001b[38;5;124m\"\u001b[39m\u001b[38;5;124mEngine should not be specified when passing \u001b[39m\u001b[38;5;124m\"\u001b[39m\n\u001b[0;32m    513\u001b[0m         \u001b[38;5;124m\"\u001b[39m\u001b[38;5;124man ExcelFile - ExcelFile already has the engine set\u001b[39m\u001b[38;5;124m\"\u001b[39m\n\u001b[0;32m    514\u001b[0m     )\n\u001b[0;32m    516\u001b[0m \u001b[38;5;28;01mtry\u001b[39;00m:\n\u001b[1;32m--> 517\u001b[0m     data \u001b[38;5;241m=\u001b[39m \u001b[43mio\u001b[49m\u001b[38;5;241;43m.\u001b[39;49m\u001b[43mparse\u001b[49m\u001b[43m(\u001b[49m\n\u001b[0;32m    518\u001b[0m \u001b[43m        \u001b[49m\u001b[43msheet_name\u001b[49m\u001b[38;5;241;43m=\u001b[39;49m\u001b[43msheet_name\u001b[49m\u001b[43m,\u001b[49m\n\u001b[0;32m    519\u001b[0m \u001b[43m        \u001b[49m\u001b[43mheader\u001b[49m\u001b[38;5;241;43m=\u001b[39;49m\u001b[43mheader\u001b[49m\u001b[43m,\u001b[49m\n\u001b[0;32m    520\u001b[0m \u001b[43m        \u001b[49m\u001b[43mnames\u001b[49m\u001b[38;5;241;43m=\u001b[39;49m\u001b[43mnames\u001b[49m\u001b[43m,\u001b[49m\n\u001b[0;32m    521\u001b[0m \u001b[43m        \u001b[49m\u001b[43mindex_col\u001b[49m\u001b[38;5;241;43m=\u001b[39;49m\u001b[43mindex_col\u001b[49m\u001b[43m,\u001b[49m\n\u001b[0;32m    522\u001b[0m \u001b[43m        \u001b[49m\u001b[43musecols\u001b[49m\u001b[38;5;241;43m=\u001b[39;49m\u001b[43musecols\u001b[49m\u001b[43m,\u001b[49m\n\u001b[0;32m    523\u001b[0m \u001b[43m        \u001b[49m\u001b[43mdtype\u001b[49m\u001b[38;5;241;43m=\u001b[39;49m\u001b[43mdtype\u001b[49m\u001b[43m,\u001b[49m\n\u001b[0;32m    524\u001b[0m \u001b[43m        \u001b[49m\u001b[43mconverters\u001b[49m\u001b[38;5;241;43m=\u001b[39;49m\u001b[43mconverters\u001b[49m\u001b[43m,\u001b[49m\n\u001b[0;32m    525\u001b[0m \u001b[43m        \u001b[49m\u001b[43mtrue_values\u001b[49m\u001b[38;5;241;43m=\u001b[39;49m\u001b[43mtrue_values\u001b[49m\u001b[43m,\u001b[49m\n\u001b[0;32m    526\u001b[0m \u001b[43m        \u001b[49m\u001b[43mfalse_values\u001b[49m\u001b[38;5;241;43m=\u001b[39;49m\u001b[43mfalse_values\u001b[49m\u001b[43m,\u001b[49m\n\u001b[0;32m    527\u001b[0m \u001b[43m        \u001b[49m\u001b[43mskiprows\u001b[49m\u001b[38;5;241;43m=\u001b[39;49m\u001b[43mskiprows\u001b[49m\u001b[43m,\u001b[49m\n\u001b[0;32m    528\u001b[0m \u001b[43m        \u001b[49m\u001b[43mnrows\u001b[49m\u001b[38;5;241;43m=\u001b[39;49m\u001b[43mnrows\u001b[49m\u001b[43m,\u001b[49m\n\u001b[0;32m    529\u001b[0m \u001b[43m        \u001b[49m\u001b[43mna_values\u001b[49m\u001b[38;5;241;43m=\u001b[39;49m\u001b[43mna_values\u001b[49m\u001b[43m,\u001b[49m\n\u001b[0;32m    530\u001b[0m \u001b[43m        \u001b[49m\u001b[43mkeep_default_na\u001b[49m\u001b[38;5;241;43m=\u001b[39;49m\u001b[43mkeep_default_na\u001b[49m\u001b[43m,\u001b[49m\n\u001b[0;32m    531\u001b[0m \u001b[43m        \u001b[49m\u001b[43mna_filter\u001b[49m\u001b[38;5;241;43m=\u001b[39;49m\u001b[43mna_filter\u001b[49m\u001b[43m,\u001b[49m\n\u001b[0;32m    532\u001b[0m \u001b[43m        \u001b[49m\u001b[43mverbose\u001b[49m\u001b[38;5;241;43m=\u001b[39;49m\u001b[43mverbose\u001b[49m\u001b[43m,\u001b[49m\n\u001b[0;32m    533\u001b[0m \u001b[43m        \u001b[49m\u001b[43mparse_dates\u001b[49m\u001b[38;5;241;43m=\u001b[39;49m\u001b[43mparse_dates\u001b[49m\u001b[43m,\u001b[49m\n\u001b[0;32m    534\u001b[0m \u001b[43m        \u001b[49m\u001b[43mdate_parser\u001b[49m\u001b[38;5;241;43m=\u001b[39;49m\u001b[43mdate_parser\u001b[49m\u001b[43m,\u001b[49m\n\u001b[0;32m    535\u001b[0m \u001b[43m        \u001b[49m\u001b[43mdate_format\u001b[49m\u001b[38;5;241;43m=\u001b[39;49m\u001b[43mdate_format\u001b[49m\u001b[43m,\u001b[49m\n\u001b[0;32m    536\u001b[0m \u001b[43m        \u001b[49m\u001b[43mthousands\u001b[49m\u001b[38;5;241;43m=\u001b[39;49m\u001b[43mthousands\u001b[49m\u001b[43m,\u001b[49m\n\u001b[0;32m    537\u001b[0m \u001b[43m        \u001b[49m\u001b[43mdecimal\u001b[49m\u001b[38;5;241;43m=\u001b[39;49m\u001b[43mdecimal\u001b[49m\u001b[43m,\u001b[49m\n\u001b[0;32m    538\u001b[0m \u001b[43m        \u001b[49m\u001b[43mcomment\u001b[49m\u001b[38;5;241;43m=\u001b[39;49m\u001b[43mcomment\u001b[49m\u001b[43m,\u001b[49m\n\u001b[0;32m    539\u001b[0m \u001b[43m        \u001b[49m\u001b[43mskipfooter\u001b[49m\u001b[38;5;241;43m=\u001b[39;49m\u001b[43mskipfooter\u001b[49m\u001b[43m,\u001b[49m\n\u001b[0;32m    540\u001b[0m \u001b[43m        \u001b[49m\u001b[43mdtype_backend\u001b[49m\u001b[38;5;241;43m=\u001b[39;49m\u001b[43mdtype_backend\u001b[49m\u001b[43m,\u001b[49m\n\u001b[0;32m    541\u001b[0m \u001b[43m    \u001b[49m\u001b[43m)\u001b[49m\n\u001b[0;32m    542\u001b[0m \u001b[38;5;28;01mfinally\u001b[39;00m:\n\u001b[0;32m    543\u001b[0m     \u001b[38;5;66;03m# make sure to close opened file handles\u001b[39;00m\n\u001b[0;32m    544\u001b[0m     \u001b[38;5;28;01mif\u001b[39;00m should_close:\n",
      "File \u001b[1;32mc:\\Users\\szita\\.conda\\envs\\soccerpredictor_env\\lib\\site-packages\\pandas\\io\\excel\\_base.py:1629\u001b[0m, in \u001b[0;36mExcelFile.parse\u001b[1;34m(self, sheet_name, header, names, index_col, usecols, converters, true_values, false_values, skiprows, nrows, na_values, parse_dates, date_parser, date_format, thousands, comment, skipfooter, dtype_backend, **kwds)\u001b[0m\n\u001b[0;32m   1589\u001b[0m \u001b[38;5;28;01mdef\u001b[39;00m\u001b[38;5;250m \u001b[39m\u001b[38;5;21mparse\u001b[39m(\n\u001b[0;32m   1590\u001b[0m     \u001b[38;5;28mself\u001b[39m,\n\u001b[0;32m   1591\u001b[0m     sheet_name: \u001b[38;5;28mstr\u001b[39m \u001b[38;5;241m|\u001b[39m \u001b[38;5;28mint\u001b[39m \u001b[38;5;241m|\u001b[39m \u001b[38;5;28mlist\u001b[39m[\u001b[38;5;28mint\u001b[39m] \u001b[38;5;241m|\u001b[39m \u001b[38;5;28mlist\u001b[39m[\u001b[38;5;28mstr\u001b[39m] \u001b[38;5;241m|\u001b[39m \u001b[38;5;28;01mNone\u001b[39;00m \u001b[38;5;241m=\u001b[39m \u001b[38;5;241m0\u001b[39m,\n\u001b[1;32m   (...)\u001b[0m\n\u001b[0;32m   1609\u001b[0m     \u001b[38;5;241m*\u001b[39m\u001b[38;5;241m*\u001b[39mkwds,\n\u001b[0;32m   1610\u001b[0m ) \u001b[38;5;241m-\u001b[39m\u001b[38;5;241m>\u001b[39m DataFrame \u001b[38;5;241m|\u001b[39m \u001b[38;5;28mdict\u001b[39m[\u001b[38;5;28mstr\u001b[39m, DataFrame] \u001b[38;5;241m|\u001b[39m \u001b[38;5;28mdict\u001b[39m[\u001b[38;5;28mint\u001b[39m, DataFrame]:\n\u001b[0;32m   1611\u001b[0m \u001b[38;5;250m    \u001b[39m\u001b[38;5;124;03m\"\"\"\u001b[39;00m\n\u001b[0;32m   1612\u001b[0m \u001b[38;5;124;03m    Parse specified sheet(s) into a DataFrame.\u001b[39;00m\n\u001b[0;32m   1613\u001b[0m \n\u001b[1;32m   (...)\u001b[0m\n\u001b[0;32m   1627\u001b[0m \u001b[38;5;124;03m    >>> file.parse()  # doctest: +SKIP\u001b[39;00m\n\u001b[0;32m   1628\u001b[0m \u001b[38;5;124;03m    \"\"\"\u001b[39;00m\n\u001b[1;32m-> 1629\u001b[0m     \u001b[38;5;28;01mreturn\u001b[39;00m \u001b[38;5;28mself\u001b[39m\u001b[38;5;241m.\u001b[39m_reader\u001b[38;5;241m.\u001b[39mparse(\n\u001b[0;32m   1630\u001b[0m         sheet_name\u001b[38;5;241m=\u001b[39msheet_name,\n\u001b[0;32m   1631\u001b[0m         header\u001b[38;5;241m=\u001b[39mheader,\n\u001b[0;32m   1632\u001b[0m         names\u001b[38;5;241m=\u001b[39mnames,\n\u001b[0;32m   1633\u001b[0m         index_col\u001b[38;5;241m=\u001b[39mindex_col,\n\u001b[0;32m   1634\u001b[0m         usecols\u001b[38;5;241m=\u001b[39musecols,\n\u001b[0;32m   1635\u001b[0m         converters\u001b[38;5;241m=\u001b[39mconverters,\n\u001b[0;32m   1636\u001b[0m         true_values\u001b[38;5;241m=\u001b[39mtrue_values,\n\u001b[0;32m   1637\u001b[0m         false_values\u001b[38;5;241m=\u001b[39mfalse_values,\n\u001b[0;32m   1638\u001b[0m         skiprows\u001b[38;5;241m=\u001b[39mskiprows,\n\u001b[0;32m   1639\u001b[0m         nrows\u001b[38;5;241m=\u001b[39mnrows,\n\u001b[0;32m   1640\u001b[0m         na_values\u001b[38;5;241m=\u001b[39mna_values,\n\u001b[0;32m   1641\u001b[0m         parse_dates\u001b[38;5;241m=\u001b[39mparse_dates,\n\u001b[0;32m   1642\u001b[0m         date_parser\u001b[38;5;241m=\u001b[39mdate_parser,\n\u001b[0;32m   1643\u001b[0m         date_format\u001b[38;5;241m=\u001b[39mdate_format,\n\u001b[0;32m   1644\u001b[0m         thousands\u001b[38;5;241m=\u001b[39mthousands,\n\u001b[0;32m   1645\u001b[0m         comment\u001b[38;5;241m=\u001b[39mcomment,\n\u001b[0;32m   1646\u001b[0m         skipfooter\u001b[38;5;241m=\u001b[39mskipfooter,\n\u001b[0;32m   1647\u001b[0m         dtype_backend\u001b[38;5;241m=\u001b[39mdtype_backend,\n\u001b[0;32m   1648\u001b[0m         \u001b[38;5;241m*\u001b[39m\u001b[38;5;241m*\u001b[39mkwds,\n\u001b[0;32m   1649\u001b[0m     )\n",
      "File \u001b[1;32mc:\\Users\\szita\\.conda\\envs\\soccerpredictor_env\\lib\\site-packages\\pandas\\io\\excel\\_base.py:793\u001b[0m, in \u001b[0;36mBaseExcelReader.parse\u001b[1;34m(self, sheet_name, header, names, index_col, usecols, dtype, true_values, false_values, skiprows, nrows, na_values, verbose, parse_dates, date_parser, date_format, thousands, decimal, comment, skipfooter, dtype_backend, **kwds)\u001b[0m\n\u001b[0;32m    790\u001b[0m     sheet \u001b[38;5;241m=\u001b[39m \u001b[38;5;28mself\u001b[39m\u001b[38;5;241m.\u001b[39mget_sheet_by_index(asheetname)\n\u001b[0;32m    792\u001b[0m file_rows_needed \u001b[38;5;241m=\u001b[39m \u001b[38;5;28mself\u001b[39m\u001b[38;5;241m.\u001b[39m_calc_rows(header, index_col, skiprows, nrows)\n\u001b[1;32m--> 793\u001b[0m data \u001b[38;5;241m=\u001b[39m \u001b[38;5;28;43mself\u001b[39;49m\u001b[38;5;241;43m.\u001b[39;49m\u001b[43mget_sheet_data\u001b[49m\u001b[43m(\u001b[49m\u001b[43msheet\u001b[49m\u001b[43m,\u001b[49m\u001b[43m \u001b[49m\u001b[43mfile_rows_needed\u001b[49m\u001b[43m)\u001b[49m\n\u001b[0;32m    794\u001b[0m \u001b[38;5;28;01mif\u001b[39;00m \u001b[38;5;28mhasattr\u001b[39m(sheet, \u001b[38;5;124m\"\u001b[39m\u001b[38;5;124mclose\u001b[39m\u001b[38;5;124m\"\u001b[39m):\n\u001b[0;32m    795\u001b[0m     \u001b[38;5;66;03m# pyxlsb opens two TemporaryFiles\u001b[39;00m\n\u001b[0;32m    796\u001b[0m     sheet\u001b[38;5;241m.\u001b[39mclose()\n",
      "File \u001b[1;32mc:\\Users\\szita\\.conda\\envs\\soccerpredictor_env\\lib\\site-packages\\pandas\\io\\excel\\_openpyxl.py:616\u001b[0m, in \u001b[0;36mOpenpyxlReader.get_sheet_data\u001b[1;34m(self, sheet, file_rows_needed)\u001b[0m\n\u001b[0;32m    614\u001b[0m data: \u001b[38;5;28mlist\u001b[39m[\u001b[38;5;28mlist\u001b[39m[Scalar]] \u001b[38;5;241m=\u001b[39m []\n\u001b[0;32m    615\u001b[0m last_row_with_data \u001b[38;5;241m=\u001b[39m \u001b[38;5;241m-\u001b[39m\u001b[38;5;241m1\u001b[39m\n\u001b[1;32m--> 616\u001b[0m \u001b[38;5;28;01mfor\u001b[39;00m row_number, row \u001b[38;5;129;01min\u001b[39;00m \u001b[38;5;28menumerate\u001b[39m(sheet\u001b[38;5;241m.\u001b[39mrows):\n\u001b[0;32m    617\u001b[0m     converted_row \u001b[38;5;241m=\u001b[39m [\u001b[38;5;28mself\u001b[39m\u001b[38;5;241m.\u001b[39m_convert_cell(cell) \u001b[38;5;28;01mfor\u001b[39;00m cell \u001b[38;5;129;01min\u001b[39;00m row]\n\u001b[0;32m    618\u001b[0m     \u001b[38;5;28;01mwhile\u001b[39;00m converted_row \u001b[38;5;129;01mand\u001b[39;00m converted_row[\u001b[38;5;241m-\u001b[39m\u001b[38;5;241m1\u001b[39m] \u001b[38;5;241m==\u001b[39m \u001b[38;5;124m\"\u001b[39m\u001b[38;5;124m\"\u001b[39m:\n\u001b[0;32m    619\u001b[0m         \u001b[38;5;66;03m# trim trailing empty elements\u001b[39;00m\n",
      "File \u001b[1;32mc:\\Users\\szita\\.conda\\envs\\soccerpredictor_env\\lib\\site-packages\\openpyxl\\worksheet\\_read_only.py:85\u001b[0m, in \u001b[0;36mReadOnlyWorksheet._cells_by_row\u001b[1;34m(self, min_col, min_row, max_col, max_row, values_only)\u001b[0m\n\u001b[0;32m     77\u001b[0m \u001b[38;5;28;01mwith\u001b[39;00m \u001b[38;5;28mself\u001b[39m\u001b[38;5;241m.\u001b[39m_get_source() \u001b[38;5;28;01mas\u001b[39;00m src:\n\u001b[0;32m     78\u001b[0m     parser \u001b[38;5;241m=\u001b[39m WorkSheetParser(src,\n\u001b[0;32m     79\u001b[0m                              \u001b[38;5;28mself\u001b[39m\u001b[38;5;241m.\u001b[39m_shared_strings,\n\u001b[0;32m     80\u001b[0m                              data_only\u001b[38;5;241m=\u001b[39m\u001b[38;5;28mself\u001b[39m\u001b[38;5;241m.\u001b[39mparent\u001b[38;5;241m.\u001b[39mdata_only,\n\u001b[0;32m     81\u001b[0m                              epoch\u001b[38;5;241m=\u001b[39m\u001b[38;5;28mself\u001b[39m\u001b[38;5;241m.\u001b[39mparent\u001b[38;5;241m.\u001b[39mepoch,\n\u001b[0;32m     82\u001b[0m                              date_formats\u001b[38;5;241m=\u001b[39m\u001b[38;5;28mself\u001b[39m\u001b[38;5;241m.\u001b[39mparent\u001b[38;5;241m.\u001b[39m_date_formats,\n\u001b[0;32m     83\u001b[0m                              timedelta_formats\u001b[38;5;241m=\u001b[39m\u001b[38;5;28mself\u001b[39m\u001b[38;5;241m.\u001b[39mparent\u001b[38;5;241m.\u001b[39m_timedelta_formats)\n\u001b[1;32m---> 85\u001b[0m     \u001b[38;5;28;01mfor\u001b[39;00m idx, row \u001b[38;5;129;01min\u001b[39;00m parser\u001b[38;5;241m.\u001b[39mparse():\n\u001b[0;32m     86\u001b[0m         \u001b[38;5;28;01mif\u001b[39;00m max_row \u001b[38;5;129;01mis\u001b[39;00m \u001b[38;5;129;01mnot\u001b[39;00m \u001b[38;5;28;01mNone\u001b[39;00m \u001b[38;5;129;01mand\u001b[39;00m idx \u001b[38;5;241m>\u001b[39m max_row:\n\u001b[0;32m     87\u001b[0m             \u001b[38;5;28;01mbreak\u001b[39;00m\n",
      "File \u001b[1;32mc:\\Users\\szita\\.conda\\envs\\soccerpredictor_env\\lib\\site-packages\\openpyxl\\worksheet\\_reader.py:156\u001b[0m, in \u001b[0;36mparse\u001b[1;34m()\u001b[0m\n",
      "File \u001b[1;32mc:\\Users\\szita\\.conda\\envs\\soccerpredictor_env\\lib\\xml\\etree\\ElementTree.py:1258\u001b[0m, in \u001b[0;36miterparse.<locals>.iterator\u001b[1;34m(source)\u001b[0m\n\u001b[0;32m   1256\u001b[0m     \u001b[38;5;28;01mif\u001b[39;00m \u001b[38;5;129;01mnot\u001b[39;00m data:\n\u001b[0;32m   1257\u001b[0m         \u001b[38;5;28;01mbreak\u001b[39;00m\n\u001b[1;32m-> 1258\u001b[0m     \u001b[43mpullparser\u001b[49m\u001b[38;5;241;43m.\u001b[39;49m\u001b[43mfeed\u001b[49m\u001b[43m(\u001b[49m\u001b[43mdata\u001b[49m\u001b[43m)\u001b[49m\n\u001b[0;32m   1259\u001b[0m root \u001b[38;5;241m=\u001b[39m pullparser\u001b[38;5;241m.\u001b[39m_close_and_return_root()\n\u001b[0;32m   1260\u001b[0m \u001b[38;5;28;01myield from\u001b[39;00m pullparser\u001b[38;5;241m.\u001b[39mread_events()\n",
      "File \u001b[1;32mc:\\Users\\szita\\.conda\\envs\\soccerpredictor_env\\lib\\xml\\etree\\ElementTree.py:1296\u001b[0m, in \u001b[0;36mXMLPullParser.feed\u001b[1;34m(self, data)\u001b[0m\n\u001b[0;32m   1294\u001b[0m \u001b[38;5;28;01mif\u001b[39;00m data:\n\u001b[0;32m   1295\u001b[0m     \u001b[38;5;28;01mtry\u001b[39;00m:\n\u001b[1;32m-> 1296\u001b[0m         \u001b[38;5;28;43mself\u001b[39;49m\u001b[38;5;241;43m.\u001b[39;49m\u001b[43m_parser\u001b[49m\u001b[38;5;241;43m.\u001b[39;49m\u001b[43mfeed\u001b[49m\u001b[43m(\u001b[49m\u001b[43mdata\u001b[49m\u001b[43m)\u001b[49m\n\u001b[0;32m   1297\u001b[0m     \u001b[38;5;28;01mexcept\u001b[39;00m \u001b[38;5;167;01mSyntaxError\u001b[39;00m \u001b[38;5;28;01mas\u001b[39;00m exc:\n\u001b[0;32m   1298\u001b[0m         \u001b[38;5;28mself\u001b[39m\u001b[38;5;241m.\u001b[39m_events_queue\u001b[38;5;241m.\u001b[39mappend(exc)\n",
      "File \u001b[1;32mc:\\Users\\szita\\.conda\\envs\\soccerpredictor_env\\lib\\xml\\etree\\ElementTree.py:1720\u001b[0m, in \u001b[0;36mXMLParser.feed\u001b[1;34m(self, data)\u001b[0m\n\u001b[0;32m   1718\u001b[0m \u001b[38;5;250m\u001b[39m\u001b[38;5;124;03m\"\"\"Feed encoded data to parser.\"\"\"\u001b[39;00m\n\u001b[0;32m   1719\u001b[0m \u001b[38;5;28;01mtry\u001b[39;00m:\n\u001b[1;32m-> 1720\u001b[0m     \u001b[38;5;28;43mself\u001b[39;49m\u001b[38;5;241;43m.\u001b[39;49m\u001b[43mparser\u001b[49m\u001b[38;5;241;43m.\u001b[39;49m\u001b[43mParse\u001b[49m\u001b[43m(\u001b[49m\u001b[43mdata\u001b[49m\u001b[43m,\u001b[49m\u001b[43m \u001b[49m\u001b[38;5;28;43;01mFalse\u001b[39;49;00m\u001b[43m)\u001b[49m\n\u001b[0;32m   1721\u001b[0m \u001b[38;5;28;01mexcept\u001b[39;00m \u001b[38;5;28mself\u001b[39m\u001b[38;5;241m.\u001b[39m_error \u001b[38;5;28;01mas\u001b[39;00m v:\n\u001b[0;32m   1722\u001b[0m     \u001b[38;5;28mself\u001b[39m\u001b[38;5;241m.\u001b[39m_raiseerror(v)\n",
      "File \u001b[1;32mD:\\bld\\python-split_1710938004002\\work\\Modules\\pyexpat.c:414\u001b[0m, in \u001b[0;36mStartElement\u001b[1;34m()\u001b[0m\n",
      "File \u001b[1;32mc:\\Users\\szita\\.conda\\envs\\soccerpredictor_env\\lib\\xml\\etree\\ElementTree.py:1658\u001b[0m, in \u001b[0;36mXMLParser._start\u001b[1;34m(self, tag, attr_list)\u001b[0m\n\u001b[0;32m   1656\u001b[0m     \u001b[38;5;28;01mfor\u001b[39;00m i \u001b[38;5;129;01min\u001b[39;00m \u001b[38;5;28mrange\u001b[39m(\u001b[38;5;241m0\u001b[39m, \u001b[38;5;28mlen\u001b[39m(attr_list), \u001b[38;5;241m2\u001b[39m):\n\u001b[0;32m   1657\u001b[0m         attrib[fixname(attr_list[i])] \u001b[38;5;241m=\u001b[39m attr_list[i\u001b[38;5;241m+\u001b[39m\u001b[38;5;241m1\u001b[39m]\n\u001b[1;32m-> 1658\u001b[0m \u001b[38;5;28;01mreturn\u001b[39;00m \u001b[38;5;28;43mself\u001b[39;49m\u001b[38;5;241;43m.\u001b[39;49m\u001b[43mtarget\u001b[49m\u001b[38;5;241;43m.\u001b[39;49m\u001b[43mstart\u001b[49m\u001b[43m(\u001b[49m\u001b[43mtag\u001b[49m\u001b[43m,\u001b[49m\u001b[43m \u001b[49m\u001b[43mattrib\u001b[49m\u001b[43m)\u001b[49m\n",
      "\u001b[1;31mKeyboardInterrupt\u001b[0m: "
     ]
    }
   ],
   "source": [
    "# Block 1: Imports and Setup\n",
    "import numpy as np\n",
    "import pandas as pd\n",
    "from pathlib import Path\n",
    "import xgboost as xgb\n",
    "import joblib\n",
    "import json\n",
    "import os\n",
    "import sys\n",
    "import time\n",
    "import optuna\n",
    "import mlflow\n",
    "import mlflow.xgboost\n",
    "import random\n",
    "from typing import Any, Dict, Tuple\n",
    "from datetime import datetime\n",
    "from optuna.samplers import TPESampler\n",
    "from optuna.pruners import MedianPruner\n",
    "from sklearn.metrics import roc_auc_score\n",
    "import yaml\n",
    "\n",
    "# Add project root to Python path\n",
    "project_root = str(Path().absolute().parent.parent.parent.parent)\n",
    "if project_root not in sys.path:\n",
    "    sys.path.append(project_root)\n",
    "os.environ[\"PYTHONPATH\"] = project_root + os.pathsep + os.environ.get(\"PYTHONPATH\", \"\")\n",
    "os.environ[\"ARROW_S3_DISABLE\"] = \"1\"\n",
    "# Configure Git executable path if available\n",
    "git_executable = os.environ.get(\"GIT_PYTHON_GIT_EXECUTABLE\")\n",
    "if git_executable and os.path.exists(git_executable):\n",
    "    import git\n",
    "    git.refresh(git_executable)\n",
    "\n",
    "from utils.logger import ExperimentLogger\n",
    "experiment_name = \"xgboost_soccer_prediction\"\n",
    "logger = ExperimentLogger(experiment_name)\n",
    "\n",
    "from utils.create_evaluation_set import setup_mlflow_tracking\n",
    "from models.StackedEnsemble.utils.metrics import calculate_metrics\n",
    "from models.StackedEnsemble.shared.data_loader import DataLoader\n",
    "\n",
    "# Load data\n",
    "mlruns_dir = setup_mlflow_tracking(experiment_name)\n",
    "dataloader = DataLoader()\n",
    "X_train, y_train, X_test, y_test, X_eval, y_eval = dataloader.load_data()\n"
   ]
  },
  {
   "cell_type": "code",
   "execution_count": 17,
   "metadata": {},
   "outputs": [],
   "source": [
    "# Block 2: Configuration Loading\n",
    "def load_hyperparameter_space():\n",
    "    \"\"\"Define hyperparameter space for optimization.\"\"\"\n",
    "    try:\n",
    "        hyperparameter_space = {\n",
    "            'learning_rate': {\n",
    "                'type': 'float',\n",
    "                'low': 0.02,\n",
    "                'high': 0.06,\n",
    "                'log': True\n",
    "            },\n",
    "            'max_depth': {\n",
    "                'type': 'int', \n",
    "                'low': 8,\n",
    "                'high': 14\n",
    "            },\n",
    "            'min_child_weight': {\n",
    "                'type': 'int',\n",
    "                'low': 50,\n",
    "                'high': 100\n",
    "            },\n",
    "            'subsample': {\n",
    "                'type': 'float',\n",
    "                'low': 0.4,\n",
    "                'high': 0.7\n",
    "            },\n",
    "            'colsample_bytree': {\n",
    "                'type': 'float',\n",
    "                'low': 0.6,\n",
    "                'high': 0.8\n",
    "            },\n",
    "            'reg_alpha': {\n",
    "                'type': 'float',\n",
    "                'low': 0.01,\n",
    "                'high': 1.0,\n",
    "                'log': True\n",
    "            },\n",
    "            'reg_lambda': {\n",
    "                'type': 'float',\n",
    "                'low': 7.0,\n",
    "                'high': 12.0,\n",
    "                'log': True\n",
    "            },\n",
    "            'gamma': {\n",
    "                'type': 'float',\n",
    "                'low': 0.1,\n",
    "                'high': 3.0\n",
    "            },\n",
    "            'early_stopping_rounds': {\n",
    "                'type': 'int',\n",
    "                'low': 300,\n",
    "                'high': 350\n",
    "            },\n",
    "            'scale_pos_weight': {\n",
    "                'type': 'float',\n",
    "                'low': 2.4,\n",
    "                'high': 2.6\n",
    "            }\n",
    "            \n",
    "            # 'rate_drop': {\n",
    "            #     'type': 'float',\n",
    "            #     'low': 0.03,\n",
    "            #     'high': 0.3\n",
    "            # },\n",
    "            # 'skip_drop': {\n",
    "            #     'type': 'float',\n",
    "            #     'low': 0.2,\n",
    "            #     'high': 0.8\n",
    "            # }\n",
    "        }\n",
    "        \n",
    "        # hyperparameter_space = {\n",
    "        #     'learning_rate': {\n",
    "        #         'type': 'float',\n",
    "        #         'low': 0.04,       # Focus around ~0.046\n",
    "        #         'high': 0.05,\n",
    "        #         'log': True\n",
    "        #     },\n",
    "        #     'max_depth': {\n",
    "        #         'type': 'int',\n",
    "        #         'low': 10,         # Narrow around best value 11\n",
    "        #         'high': 12\n",
    "        #     },\n",
    "        #     'min_child_weight': {\n",
    "        #         'type': 'int',\n",
    "        #         'low': 70,         # Focus near best 72\n",
    "        #         'high': 75\n",
    "        #     },\n",
    "        #     'subsample': {\n",
    "        #         'type': 'float',\n",
    "        #         'low': 0.45,       # Focus around 0.4639\n",
    "        #         'high': 0.48\n",
    "        #     },\n",
    "        #     'colsample_bytree': {\n",
    "        #         'type': 'float',\n",
    "        #         'low': 0.65,       # Focus near best 0.6671\n",
    "        #         'high': 0.70\n",
    "        #     },\n",
    "        #     'reg_alpha': {\n",
    "        #         'type': 'float',\n",
    "        #         'low': 0.7,        # Around best 0.7545\n",
    "        #         'high': 0.8,\n",
    "        #         'log': True\n",
    "        #     },\n",
    "        #     'reg_lambda': {\n",
    "        #         'type': 'float',\n",
    "        #         'low': 9.0,        # Nearly best 9.32\n",
    "        #         'high': 10.0,\n",
    "        #         'log': True\n",
    "        #     },\n",
    "        #     'gamma': {\n",
    "        #         'type': 'float',\n",
    "        #         'low': 0.75,       # Around best 0.7820\n",
    "        #         'high': 0.85\n",
    "        #     },\n",
    "        #     'early_stopping_rounds': {\n",
    "        #         'type': 'int',\n",
    "        #         'low': 300,        # Focused around best 327\n",
    "        #         'high': 350\n",
    "        #     },\n",
    "        #     'scale_pos_weight': {\n",
    "        #         'type': 'float',\n",
    "        #         'low': 2.4,        # Around best 2.4845\n",
    "        #         'high': 2.6\n",
    "        #     }\n",
    "        # }\n",
    "        \n",
    "        return hyperparameter_space\n",
    "    except Exception as e:\n",
    "        logger.error(f\"Error creating hyperparameter space: {str(e)}\")\n",
    "        return None\n",
    "\n",
    "hyperparameter_space = load_hyperparameter_space()\n"
   ]
  },
  {
   "cell_type": "code",
   "execution_count": 18,
   "metadata": {},
   "outputs": [],
   "source": [
    "# Block 3: Model Creation\n",
    "def create_model(**kwargs):\n",
    "    \"\"\"Create and configure XGBoost model instance.\"\"\"\n",
    "    try:\n",
    "        params = {\n",
    "            'objective': 'binary:logistic',\n",
    "            'eval_metric': ['logloss', 'auc'],\n",
    "            'tree_method': 'hist',\n",
    "            'n_jobs': -1,\n",
    "            'verbosity': 0\n",
    "        }\n",
    "        \n",
    "        # Update with provided parameters\n",
    "        params.update(kwargs)\n",
    "        \n",
    "        # Create model\n",
    "        model = xgb.XGBClassifier(**params)\n",
    "        \n",
    "        return model\n",
    "        \n",
    "    except Exception as e:\n",
    "        logger.error(f\"Error creating XGBoost model: {str(e)}\")\n",
    "        raise\n"
   ]
  },
  {
   "cell_type": "code",
   "execution_count": 19,
   "metadata": {},
   "outputs": [],
   "source": [
    "# Block 4: Data Conversion\n",
    "def convert_to_model_format(X: pd.DataFrame, y: pd.Series = None):\n",
    "    \"\"\"Convert data to XGBoost DMatrix format.\"\"\"\n",
    "    if X is None:\n",
    "        raise ValueError(\"The feature dataset X must not be None.\")\n",
    "    \n",
    "    try:\n",
    "        if y is not None:\n",
    "            dmatrix = xgb.DMatrix(X, label=y)\n",
    "        else:\n",
    "            dmatrix = xgb.DMatrix(X)\n",
    "        return dmatrix\n",
    "    except Exception as e:\n",
    "        logger.error(f\"Error converting data to DMatrix: {str(e)}\")\n",
    "        raise\n"
   ]
  },
  {
   "cell_type": "code",
   "execution_count": 20,
   "metadata": {},
   "outputs": [],
   "source": [
    "# Block 6: Prediction Functions\n",
    "def predict(model, X, threshold=0.5):\n",
    "    \"\"\"Generate predictions using trained model.\"\"\"\n",
    "    if model is None:\n",
    "        raise RuntimeError(\"Model must be trained before prediction\")\n",
    "        \n",
    "    try:\n",
    "        probas = model.predict_proba(X)[:, 1]\n",
    "        return (probas >= threshold).astype(int)\n",
    "        \n",
    "    except Exception as e:\n",
    "        logger.error(f\"Error in model prediction: {str(e)}\")\n",
    "        return np.zeros(len(X))\n",
    "\n",
    "def predict_proba(model, X):\n",
    "    \"\"\"Generate probability predictions.\"\"\"\n",
    "    if model is None:\n",
    "        raise RuntimeError(\"Model must be trained before prediction\")\n",
    "        \n",
    "    try:\n",
    "        return model.predict_proba(X)[:, 1]\n",
    "        \n",
    "    except Exception as e:\n",
    "        logger.error(f\"Error in probability prediction: {str(e)}\")\n",
    "        return np.zeros(len(X))\n"
   ]
  },
  {
   "cell_type": "code",
   "execution_count": 21,
   "metadata": {},
   "outputs": [],
   "source": [
    "def evaluate(model, X: Any, y: Any, best_threshold: float) -> Dict[str, float]:\n",
    "    \"\"\"Evaluate model performance on given data.\"\"\"\n",
    "    if model is None:\n",
    "        raise RuntimeError(\"Model must be trained before evaluation\")\n",
    "    \n",
    "    try:\n",
    "        # Get probability predictions\n",
    "        y_prob = model.predict_proba(X)[:, 1]\n",
    "        \n",
    "        # Get binary predictions using best threshold\n",
    "        y_pred = (y_prob >= best_threshold).astype(int)\n",
    "        \n",
    "        # Calculate metrics\n",
    "        tp = np.sum((y == 1) & (y_pred == 1))\n",
    "        fp = np.sum((y == 0) & (y_pred == 1))\n",
    "        fn = np.sum((y == 1) & (y_pred == 0))\n",
    "        \n",
    "        metrics = {\n",
    "            'precision': tp / (tp + fp + 1e-10),\n",
    "            'recall': tp / (tp + fn + 1e-10),\n",
    "            'f1': 2 * tp / (2 * tp + fp + fn + 1e-10),\n",
    "            'auc': roc_auc_score(y, y_prob),\n",
    "            'brier_score': np.mean((y_prob - y) ** 2),\n",
    "            'threshold': best_threshold\n",
    "        }\n",
    "        \n",
    "        return metrics\n",
    "        \n",
    "    except Exception as e:\n",
    "        logger.error(f\"Error in model evaluation: {str(e)}\")\n",
    "        return {\n",
    "            'precision': 0.0,\n",
    "            'recall': 0.0,\n",
    "            'f1': 0.0,\n",
    "            'auc': 0.0,\n",
    "            'brier_score': 1.0,\n",
    "            'threshold': best_threshold\n",
    "        }\n"
   ]
  },
  {
   "cell_type": "code",
   "execution_count": 22,
   "metadata": {},
   "outputs": [],
   "source": [
    "def optimize_threshold(model, y_true: np.ndarray, y_prob: np.ndarray) -> float:\n",
    "    \"\"\"Optimize prediction threshold with focus on precision while maintaining recall above 15%.\"\"\"\n",
    "    try:\n",
    "        best_threshold = 0.5\n",
    "        best_precision = 0.0\n",
    "        \n",
    "        # Search through thresholds\n",
    "        for threshold in np.linspace(0.3, 0.8, 51):\n",
    "            y_pred = (y_prob >= threshold).astype(int)\n",
    "            \n",
    "            # Calculate confusion matrix components\n",
    "            tp = np.sum((y_true == 1) & (y_pred == 1))\n",
    "            fp = np.sum((y_true == 0) & (y_pred == 1))\n",
    "            fn = np.sum((y_true == 1) & (y_pred == 0))\n",
    "            \n",
    "            precision = tp / (tp + fp + 1e-10)\n",
    "            recall = tp / (tp + fn + 1e-10)\n",
    "            \n",
    "            # Only consider thresholds that maintain recall above 15%\n",
    "            if recall >= 0.15:\n",
    "                if precision > best_precision:\n",
    "                    best_precision = precision\n",
    "                    best_threshold = threshold\n",
    "        \n",
    "        logger.info(f\"Optimized threshold: {best_threshold:.3f} with precision: {best_precision:.3f}\")\n",
    "\n",
    "        metrics = evaluate(model, X_eval, y_eval, best_threshold)\n",
    "        return metrics\n",
    "        \n",
    "    except Exception as e:\n",
    "        logger.error(f\"Error optimizing threshold: {str(e)}\")\n",
    "        return 0.5\n"
   ]
  },
  {
   "cell_type": "code",
   "execution_count": 23,
   "metadata": {},
   "outputs": [],
   "source": [
    "# Block 5: Training Function\n",
    "def train_model(X_train, y_train, X_test, y_test, X_eval, y_eval, **kwargs):\n",
    "    \"\"\"Train XGBoost model with early stopping.\"\"\"\n",
    "    try:\n",
    "        # Create model with remaining parameters\n",
    "        model = create_model(**kwargs)\n",
    "        \n",
    "        # Create eval set for early stopping\n",
    "        eval_set = [(X_test, y_test)]\n",
    "        \n",
    "        # Fit model with early stopping\n",
    "        model.fit(\n",
    "            X_train, y_train,\n",
    "            eval_set=eval_set,\n",
    "            verbose=False\n",
    "        )\n",
    "        \n",
    "        # Get validation predictions\n",
    "        y_prob = model.predict_proba(X_eval)[:, 1]\n",
    "        metrics = optimize_threshold(model, y_eval, y_prob)\n",
    "        \n",
    "        return model, metrics\n",
    "        \n",
    "    except Exception as e:\n",
    "        logger.error(f\"Error training XGBoost model: {str(e)}\")\n",
    "        raise\n"
   ]
  },
  {
   "cell_type": "code",
   "execution_count": 24,
   "metadata": {},
   "outputs": [],
   "source": [
    "# Block 7: Model Save/Load\n",
    "def save_model(model, path, threshold=None):\n",
    "    \"\"\"Save XGBoost model and threshold to specified path.\"\"\"\n",
    "    path = Path(path)\n",
    "    path.parent.mkdir(parents=True, exist_ok=True)\n",
    "    \n",
    "    try:\n",
    "        # Save model\n",
    "        joblib.dump(model, path)\n",
    "        \n",
    "        # Save threshold\n",
    "        if threshold:\n",
    "            threshold_path = path.parent / \"threshold.json\"\n",
    "            with open(threshold_path, 'w') as f:\n",
    "                json.dump({\n",
    "                    'threshold': threshold,\n",
    "                    'model_type': 'xgboost',\n",
    "                    'params': model.get_params()\n",
    "                }, f, indent=2)\n",
    "                \n",
    "        logger.info(f\"Model saved to {path}\")\n",
    "        \n",
    "    except Exception as e:\n",
    "        logger.error(f\"Error saving model: {str(e)}\")\n",
    "        raise\n",
    "\n",
    "def load_model(path):\n",
    "    \"\"\"Load XGBoost model from specified path.\"\"\"\n",
    "    path = Path(path)\n",
    "    if not path.exists():\n",
    "        raise FileNotFoundError(f\"No model file found at {path}\")\n",
    "        \n",
    "    try:\n",
    "        # Load model\n",
    "        model = joblib.load(path)\n",
    "        \n",
    "        # Load threshold\n",
    "        threshold_path = path.parent / \"threshold.json\"\n",
    "        if threshold_path.exists():\n",
    "            with open(threshold_path, 'r') as f:\n",
    "                data = json.load(f)\n",
    "                threshold = data.get('threshold', 0.5)\n",
    "        else:\n",
    "            threshold = 0.5\n",
    "            \n",
    "        logger.info(f\"Model loaded from {path}\")\n",
    "        return model, threshold\n",
    "        \n",
    "    except Exception as e:\n",
    "        logger.error(f\"Error loading model: {str(e)}\")\n",
    "        raise\n"
   ]
  },
  {
   "cell_type": "code",
   "execution_count": 25,
   "metadata": {},
   "outputs": [],
   "source": [
    "# Block 8: Hyperparameter Tuning\n",
    "def objective(trial):\n",
    "    \"\"\"Optuna objective function for hyperparameter optimization.\"\"\"\n",
    "    try:\n",
    "        params = {\n",
    "            'objective': 'binary:logistic',\n",
    "            'tree_method': 'hist',  # CPU-only as per requirements\n",
    "            'eval_metric': ['logloss', 'auc'],\n",
    "            'verbose': -1,\n",
    "            'n_jobs': -1,\n",
    "            # 'booster': 'hist',\n",
    "            # 'normalize_type': 'tree',\n",
    "            # 'sample_type': 'uniform',\n",
    "            'random_state': 19\n",
    "        }\n",
    "        \n",
    "        # Add hyperparameters from config\n",
    "        hyperparameter_space = load_hyperparameter_space()\n",
    "        for param_name, param_config in hyperparameter_space.items():\n",
    "            if param_config['type'] == 'float':\n",
    "                params[param_name] = trial.suggest_float(\n",
    "                    param_name,\n",
    "                    param_config['low'], \n",
    "                    param_config['high'],\n",
    "                    log=param_config.get('log', False)  # Pass log if in param_config, default False\n",
    "                )\n",
    "            elif param_config['type'] == 'int':\n",
    "                params[param_name] = trial.suggest_int(\n",
    "                    param_name,\n",
    "                    param_config['low'],\n",
    "                    param_config['high']\n",
    "                )\n",
    "            elif param_config['type'] == 'categorical':\n",
    "                params[param_name] = trial.suggest_categorical(\n",
    "                    param_name,\n",
    "                    param_config['choices']\n",
    "                )\n",
    "        # Train model and get metrics\n",
    "        model, metrics = train_model(\n",
    "            X_train, y_train,\n",
    "            X_test, y_test,\n",
    "            X_eval, y_eval,\n",
    "            **params\n",
    "        )\n",
    "        \n",
    "        recall = metrics.get('recall', 0.0)\n",
    "        precision = metrics.get('precision', 0.0)\n",
    "        \n",
    "        # Report intermediate values for pruning\n",
    "        trial.report(precision, step=1)\n",
    "        if trial.should_prune():\n",
    "            raise optuna.TrialPruned()\n",
    "        \n",
    "        # Optimize for precision while maintaining minimum recall\n",
    "        score = precision if recall >= 0.15 else 0.0\n",
    "        \n",
    "        logger.info(f\"Trial {trial.number}:\")\n",
    "        logger.info(f\"  Params: {params}\")\n",
    "        logger.info(f\"  Score: {score}\")\n",
    "        \n",
    "        for metric_name, metric_value in metrics.items():\n",
    "            trial.set_user_attr(metric_name, metric_value)\n",
    "        return score\n",
    "\n",
    "    except Exception as e:\n",
    "        logger.error(f\"Error in trial {trial.number}: {str(e)}\")\n",
    "        raise\n"
   ]
  },
  {
   "cell_type": "code",
   "execution_count": 26,
   "metadata": {},
   "outputs": [],
   "source": [
    "# Block 9: Hypertuning Function\n",
    "def hypertune_xgboost(experiment_name: str) -> float:\n",
    "    \"\"\"Run hyperparameter optimization with MLflow tracking.\"\"\"\n",
    "    try:\n",
    "        # Create study\n",
    "        study = optuna.create_study(\n",
    "            study_name=f\"xgboost_optimization_{datetime.now().strftime('%Y%m%d_%H%M')}\",\n",
    "            direction=\"maximize\",\n",
    "            sampler=TPESampler(seed=42),\n",
    "            pruner=MedianPruner(n_startup_trials=5, n_warmup_steps=5)\n",
    "        )\n",
    "        \n",
    "        # Start MLflow run\n",
    "        with mlflow.start_run(run_name=f\"xgboost_optimization_{datetime.now().strftime('%Y%m%d_%H%M')}\"):\n",
    "            # Log dataset info\n",
    "            mlflow.log_params({\n",
    "                \"train_samples\": len(X_train),\n",
    "                \"test_samples\": len(X_test),\n",
    "                \"eval_samples\": len(X_eval),\n",
    "                \"features\": X_train.shape[1]\n",
    "            })\n",
    "            \n",
    "            # Set tags\n",
    "            mlflow.set_tags({\n",
    "                \"model_type\": \"xgboost_base\",\n",
    "                \"optimization\": \"optuna\",\n",
    "                \"cpu_only\": True\n",
    "            })\n",
    "            \n",
    "            # Optimize\n",
    "            best_score = -float('inf')  # Initialize with worst possible score\n",
    "            def callback(study, trial):\n",
    "                nonlocal best_score\n",
    "                logger.info(f\"Current best score: {best_score:.4f}\")\n",
    "                if study.best_value > best_score:\n",
    "                    best_score = study.best_value\n",
    "                    logger.info(f\"New best score found in trial {trial.number}: {best_score:.4f}\")\n",
    "                return best_score\n",
    "            \n",
    "            study.optimize(objective, n_trials=200, timeout=10000, callbacks=[callback])  # 2 hours timeout\n",
    "            \n",
    "            # Log best trial info\n",
    "            logger.info(f\"Best trial value: {study.best_value}\")\n",
    "            logger.info(f\"Best parameters found: {study.best_params}\")\n",
    "            \n",
    "            # Train final model with best parameters\n",
    "            logger.info(\"Training final model with best parameters\")\n",
    "            final_model, final_metrics = train_model(\n",
    "                X_train, y_train,\n",
    "                X_test, y_test,\n",
    "                X_eval, y_eval,\n",
    "                **study.best_params\n",
    "            )\n",
    "            \n",
    "            # Log best parameters and metrics\n",
    "            mlflow.log_params(study.best_params)\n",
    "            mlflow.log_metrics(final_metrics)\n",
    "            \n",
    "            # Create and log model signature\n",
    "            input_example = pd.DataFrame(X_train[:1].copy())\n",
    "            signature = mlflow.models.infer_signature(\n",
    "                model_input=input_example,\n",
    "                model_output=final_model.predict_proba(input_example)\n",
    "            )\n",
    "            \n",
    "            # Log model\n",
    "            mlflow.xgboost.log_model(\n",
    "                xgb_model=final_model,\n",
    "                artifact_path=\"xgboost_base_model\",\n",
    "                registered_model_name=f\"xgboost_base_{datetime.now().strftime('%Y%m%d_%H%M')}\",\n",
    "                signature=signature,\n",
    "                input_example=input_example\n",
    "            )\n",
    "            \n",
    "            # Save study results\n",
    "            study_path = Path(mlruns_dir) / experiment_name / \"optuna_studies\"\n",
    "            study_path.mkdir(parents=True, exist_ok=True)\n",
    "            joblib.dump(study, study_path / f\"study_{datetime.now().strftime('%Y%m%d_%H%M')}.pkl\")\n",
    "            \n",
    "            logger.info(f\"Training completed with precision: {final_metrics['precision']:.4f}\")\n",
    "            return final_metrics['precision']\n",
    "            \n",
    "    except Exception as e:\n",
    "        logger.error(f\"Error in hyperparameter optimization: {str(e)}\")\n",
    "        raise\n"
   ]
  },
  {
   "cell_type": "code",
   "execution_count": 27,
   "metadata": {},
   "outputs": [],
   "source": [
    "def train_with_precision_target(\n",
    "    X_train: np.ndarray,\n",
    "    y_train: np.ndarray,\n",
    "    X_test: np.ndarray,\n",
    "    y_test: np.ndarray,\n",
    "    X_eval: np.ndarray,\n",
    "    y_eval: np.ndarray,\n",
    "    logger: ExperimentLogger) -> Tuple[Any, float, Dict[str, Any]]:\n",
    "    \"\"\"Train XGBoost model with target precision threshold.\"\"\"\n",
    "    \n",
    "    precision = 0\n",
    "    best_precision = 0\n",
    "    best_recall = 0\n",
    "    best_params = None\n",
    "    best_seed = 0\n",
    "    best_model = None\n",
    "    best_threshold = 0.5\n",
    "    \n",
    "    # Base parameters from previous optimization\n",
    "    base_params = {\n",
    "        'learning_rate': 0.02054068407141532,\n",
    "        'max_depth': 9,\n",
    "        'min_child_weight': 54,\n",
    "        'subsample': 0.5260707987602047,\n",
    "        'colsample_bytree': 0.6681727685021486,\n",
    "        'reg_alpha': 0.07727180013165219,\n",
    "        'reg_lambda': 11.225510838289434,\n",
    "        'gamma': 1.7715866142249037,\n",
    "        'early_stopping_rounds': 331,\n",
    "        'scale_pos_weight': 2.422289591187272,\n",
    "        'tree_method': 'hist',  # Required for CPU-only training per project rules\n",
    "        'objective': 'binary:logistic',\n",
    "        'eval_metric': ['logloss', 'auc'],\n",
    "        'verbose': -1,\n",
    "        'n_jobs': -1\n",
    "    }\n",
    "    \n",
    "    while best_precision < 0.48:  # Target precision threshold\n",
    "        for random_seed in range(1, 1000):  # Try up to 1000 different seeds\n",
    "            logger.info(f\"Using sequential random seed: {random_seed}\")\n",
    "            \n",
    "            # Set all random seeds\n",
    "            os.environ['PYTHONHASHSEED'] = str(random_seed)\n",
    "            np.random.seed(random_seed)\n",
    "            random.seed(random_seed)\n",
    "            base_params['random_state'] = random_seed\n",
    "            \n",
    "            try:\n",
    "                # Create and train model\n",
    "                model, metrics = train_model(\n",
    "                    X_train, y_train,\n",
    "                    X_test, y_test,\n",
    "                    X_eval, y_eval,\n",
    "                    **base_params\n",
    "                )\n",
    "                precision = metrics['precision']\n",
    "                recall = metrics['recall']\n",
    "\n",
    "                # Update best model if precision improved\n",
    "                if precision > best_precision:\n",
    "                    best_precision = precision\n",
    "                    best_recall = recall\n",
    "                    best_params = base_params.copy()\n",
    "                    best_seed = random_seed\n",
    "                    best_model = model\n",
    "                    logger.info(f\"New best precision: {precision:.4f} with seed {best_seed}\")\n",
    "                \n",
    "                # Check if target precision reached\n",
    "                if precision >= 0.48:\n",
    "                    logger.info(f\"Target precision achieved: {precision:.4f}\")\n",
    "                    return best_model, precision, recall, best_params\n",
    "                \n",
    "                logger.info(\n",
    "                    f\"Current precision: {precision:.4f}, \"\n",
    "                    f\"target: 0.4800, highest precision: {best_precision:.4f}, \"\n",
    "                    f\"best seed: {best_seed}\"\n",
    "                )\n",
    "                \n",
    "            except Exception as e:\n",
    "                logger.error(f\"Error training with seed {random_seed}: {str(e)}\")\n",
    "                continue\n",
    "            \n",
    "            # Clear model to free memory\n",
    "            model = None\n",
    "        \n",
    "        # If target not reached after all seeds, return best model\n",
    "        if precision < 0.48:\n",
    "            logger.info(f\"Target precision not reached, using best seed: {best_seed}\")\n",
    "            return best_model, best_precision, best_recall, best_params\n",
    "            \n",
    "    return best_model, best_precision, best_recall, best_params\n"
   ]
  },
  {
   "cell_type": "code",
   "execution_count": 28,
   "metadata": {},
   "outputs": [],
   "source": [
    "def log_to_mlflow(model: object, precision: float, recall: float, params: dict, experiment_name: str) -> str:\n",
    "    \"\"\"Log model, metrics and parameters to MLflow.\n",
    "    \n",
    "    Args:\n",
    "        model: Trained XGBoost model\n",
    "        metrics (dict): Dictionary of metrics like precision, recall etc.\n",
    "        params (dict): Model parameters used for training\n",
    "        experiment_name (str): Name of the MLflow experiment\n",
    "    \"\"\"\n",
    "    from utils.create_evaluation_set import setup_mlflow_tracking\n",
    "    \n",
    "    mlruns_dir = setup_mlflow_tracking(experiment_name)\n",
    "    \n",
    "    # Start MLflow run\n",
    "    with mlflow.start_run(run_name=f\"xgboost_base_{datetime.now().strftime('%Y%m%d_%H%M')}\") as run:\n",
    "        \n",
    "        # Log parameters\n",
    "        mlflow.log_params(params)\n",
    "        \n",
    "        # Log metrics\n",
    "        mlflow.log_metrics({\n",
    "            \"precision\": precision,\n",
    "            \"recall\": recall\n",
    "        })\n",
    "        \n",
    "        # Register model with timestamp\n",
    "        model_name = f\"xgboost_base_{datetime.now().strftime('%Y%m%d_%H%M')}\"\n",
    "        \n",
    "        # Log model with signature\n",
    "        input_example = pd.DataFrame(model.feature_names_in_[:1].copy(), dtype=float)\n",
    "        signature = mlflow.models.infer_signature(\n",
    "            model_input=input_example,\n",
    "            model_output=predict_proba(model, input_example)\n",
    "        )\n",
    "        \n",
    "        mlflow.xgboost.log_model(\n",
    "            xgb_model=model,\n",
    "            artifact_path=\"model\",\n",
    "            registered_model_name=model_name,\n",
    "            signature=signature\n",
    "        )\n",
    "        \n",
    "        # Log run ID\n",
    "        run_id = run.info.run_id\n",
    "        logger.info(f\"Run ID: {run_id}\")\n",
    "        return run_id\n"
   ]
  },
  {
   "cell_type": "code",
   "execution_count": 29,
   "metadata": {},
   "outputs": [],
   "source": [
    "def train_seed_model():\n",
    "    model, precision, recall, best_params = train_with_precision_target(\n",
    "                X_train, y_train,\n",
    "                X_test, y_test,\n",
    "                X_eval, y_eval,\n",
    "                logger\n",
    "            )\n",
    "    print(f\"Training completed with precision: {precision:.4f}\")\n",
    "    \n",
    "    # Log to MLflow if we got a valid model\n",
    "    if model is not None:\n",
    "        log_to_mlflow(model, precision, recall, best_params, experiment_name)\n"
   ]
  },
  {
   "cell_type": "code",
   "execution_count": 30,
   "metadata": {},
   "outputs": [
    {
     "name": "stderr",
     "output_type": "stream",
     "text": [
      "[I 2025-02-21 12:21:26,452] A new study created in memory with name: xgboost_optimization_20250221_1221\n"
     ]
    },
    {
     "name": "stdout",
     "output_type": "stream",
     "text": [
      "2025-02-21 12:21:28,468 | INFO     | xgboost_soccer_prediction | Optimized threshold: 0.500 with precision: 0.331\n",
      "2025-02-21 12:21:28,510 | INFO     | xgboost_soccer_prediction | Trial 0:\n",
      "2025-02-21 12:21:28,512 | INFO     | xgboost_soccer_prediction |   Params: {'objective': 'binary:logistic', 'tree_method': 'hist', 'eval_metric': ['logloss', 'auc'], 'verbose': -1, 'n_jobs': -1, 'random_state': 19, 'learning_rate': 0.030180820828066838, 'max_depth': 14, 'min_child_weight': 87, 'subsample': 0.579597545259111, 'colsample_bytree': 0.6312037280884872, 'reg_alpha': 0.020511104188433976, 'reg_lambda': 7.2226145454655, 'gamma': 2.611910822747312, 'early_stopping_rounds': 330, 'scale_pos_weight': 2.541614515559209}\n",
      "2025-02-21 12:21:28,512 | INFO     | xgboost_soccer_prediction |   Score: 0.33065442020662106\n"
     ]
    },
    {
     "name": "stderr",
     "output_type": "stream",
     "text": [
      "[I 2025-02-21 12:21:28,514] Trial 0 finished with value: 0.33065442020662106 and parameters: {'learning_rate': 0.030180820828066838, 'max_depth': 14, 'min_child_weight': 87, 'subsample': 0.579597545259111, 'colsample_bytree': 0.6312037280884872, 'reg_alpha': 0.020511104188433976, 'reg_lambda': 7.2226145454655, 'gamma': 2.611910822747312, 'early_stopping_rounds': 330, 'scale_pos_weight': 2.541614515559209}. Best is trial 0 with value: 0.33065442020662106.\n"
     ]
    },
    {
     "name": "stdout",
     "output_type": "stream",
     "text": [
      "2025-02-21 12:21:28,516 | INFO     | xgboost_soccer_prediction | Current best score: -inf\n",
      "2025-02-21 12:21:28,518 | INFO     | xgboost_soccer_prediction | New best score found in trial 0: 0.3307\n",
      "2025-02-21 12:21:30,134 | INFO     | xgboost_soccer_prediction | Optimized threshold: 0.530 with precision: 0.363\n",
      "2025-02-21 12:21:30,177 | INFO     | xgboost_soccer_prediction | Trial 1:\n",
      "2025-02-21 12:21:30,177 | INFO     | xgboost_soccer_prediction |   Params: {'objective': 'binary:logistic', 'tree_method': 'hist', 'eval_metric': ['logloss', 'auc'], 'verbose': -1, 'n_jobs': -1, 'random_state': 19, 'learning_rate': 0.020457440438566, 'max_depth': 14, 'min_child_weight': 92, 'subsample': 0.46370173320348285, 'colsample_bytree': 0.6363649934414202, 'reg_alpha': 0.023270677083837805, 'reg_lambda': 8.247380653476348, 'gamma': 1.6217936517334899, 'early_stopping_rounds': 322, 'scale_pos_weight': 2.4582458280396082}\n",
      "2025-02-21 12:21:30,179 | INFO     | xgboost_soccer_prediction |   Score: 0.3629242819842395\n"
     ]
    },
    {
     "name": "stderr",
     "output_type": "stream",
     "text": [
      "[I 2025-02-21 12:21:30,181] Trial 1 finished with value: 0.3629242819842395 and parameters: {'learning_rate': 0.020457440438566, 'max_depth': 14, 'min_child_weight': 92, 'subsample': 0.46370173320348285, 'colsample_bytree': 0.6363649934414202, 'reg_alpha': 0.023270677083837805, 'reg_lambda': 8.247380653476348, 'gamma': 1.6217936517334899, 'early_stopping_rounds': 322, 'scale_pos_weight': 2.4582458280396082}. Best is trial 1 with value: 0.3629242819842395.\n"
     ]
    },
    {
     "name": "stdout",
     "output_type": "stream",
     "text": [
      "2025-02-21 12:21:30,183 | INFO     | xgboost_soccer_prediction | Current best score: 0.3307\n",
      "2025-02-21 12:21:30,185 | INFO     | xgboost_soccer_prediction | New best score found in trial 1: 0.3629\n",
      "2025-02-21 12:21:31,768 | INFO     | xgboost_soccer_prediction | Optimized threshold: 0.540 with precision: 0.334\n",
      "2025-02-21 12:21:31,806 | INFO     | xgboost_soccer_prediction | Trial 2:\n",
      "2025-02-21 12:21:31,808 | INFO     | xgboost_soccer_prediction |   Params: {'objective': 'binary:logistic', 'tree_method': 'hist', 'eval_metric': ['logloss', 'auc'], 'verbose': -1, 'n_jobs': -1, 'random_state': 19, 'learning_rate': 0.03917040090212149, 'max_depth': 8, 'min_child_weight': 64, 'subsample': 0.5099085529881076, 'colsample_bytree': 0.6912139968434072, 'reg_alpha': 0.3718364180573207, 'reg_lambda': 7.795398462654345, 'gamma': 1.5912798713994738, 'early_stopping_rounds': 330, 'scale_pos_weight': 2.4092900825439996}\n",
      "2025-02-21 12:21:31,810 | INFO     | xgboost_soccer_prediction |   Score: 0.3341288782815432\n"
     ]
    },
    {
     "name": "stderr",
     "output_type": "stream",
     "text": [
      "[I 2025-02-21 12:21:31,812] Trial 2 finished with value: 0.3341288782815432 and parameters: {'learning_rate': 0.03917040090212149, 'max_depth': 8, 'min_child_weight': 64, 'subsample': 0.5099085529881076, 'colsample_bytree': 0.6912139968434072, 'reg_alpha': 0.3718364180573207, 'reg_lambda': 7.795398462654345, 'gamma': 1.5912798713994738, 'early_stopping_rounds': 330, 'scale_pos_weight': 2.4092900825439996}. Best is trial 1 with value: 0.3629242819842395.\n"
     ]
    },
    {
     "name": "stdout",
     "output_type": "stream",
     "text": [
      "2025-02-21 12:21:31,812 | INFO     | xgboost_soccer_prediction | Current best score: 0.3629\n",
      "2025-02-21 12:21:33,820 | INFO     | xgboost_soccer_prediction | Optimized threshold: 0.530 with precision: 0.335\n",
      "2025-02-21 12:21:33,860 | INFO     | xgboost_soccer_prediction | Trial 3:\n",
      "2025-02-21 12:21:33,860 | INFO     | xgboost_soccer_prediction |   Params: {'objective': 'binary:logistic', 'tree_method': 'hist', 'eval_metric': ['logloss', 'auc'], 'verbose': -1, 'n_jobs': -1, 'random_state': 19, 'learning_rate': 0.038985450552575775, 'max_depth': 9, 'min_child_weight': 53, 'subsample': 0.6846656611759999, 'colsample_bytree': 0.793126406614912, 'reg_alpha': 0.4138040112561014, 'reg_lambda': 8.249032367787985, 'gamma': 0.3832491306185132, 'early_stopping_rounds': 334, 'scale_pos_weight': 2.48803049874792}\n",
      "2025-02-21 12:21:33,862 | INFO     | xgboost_soccer_prediction |   Score: 0.33485193621860254\n"
     ]
    },
    {
     "name": "stderr",
     "output_type": "stream",
     "text": [
      "[I 2025-02-21 12:21:33,864] Trial 3 finished with value: 0.33485193621860254 and parameters: {'learning_rate': 0.038985450552575775, 'max_depth': 9, 'min_child_weight': 53, 'subsample': 0.6846656611759999, 'colsample_bytree': 0.793126406614912, 'reg_alpha': 0.4138040112561014, 'reg_lambda': 8.249032367787985, 'gamma': 0.3832491306185132, 'early_stopping_rounds': 334, 'scale_pos_weight': 2.48803049874792}. Best is trial 1 with value: 0.3629242819842395.\n"
     ]
    },
    {
     "name": "stdout",
     "output_type": "stream",
     "text": [
      "2025-02-21 12:21:33,866 | INFO     | xgboost_soccer_prediction | Current best score: 0.3629\n",
      "2025-02-21 12:21:36,150 | INFO     | xgboost_soccer_prediction | Optimized threshold: 0.520 with precision: 0.338\n",
      "2025-02-21 12:21:36,191 | INFO     | xgboost_soccer_prediction | Trial 4:\n",
      "2025-02-21 12:21:36,193 | INFO     | xgboost_soccer_prediction |   Params: {'objective': 'binary:logistic', 'tree_method': 'hist', 'eval_metric': ['logloss', 'auc'], 'verbose': -1, 'n_jobs': -1, 'random_state': 19, 'learning_rate': 0.02286951904912051, 'max_depth': 11, 'min_child_weight': 51, 'subsample': 0.6727961206236346, 'colsample_bytree': 0.6517559963200034, 'reg_alpha': 0.21137059440645725, 'reg_lambda': 8.280648845475856, 'gamma': 1.6081972614156514, 'early_stopping_rounds': 327, 'scale_pos_weight': 2.4369708911051053}\n",
      "2025-02-21 12:21:36,195 | INFO     | xgboost_soccer_prediction |   Score: 0.3384615384614641\n"
     ]
    },
    {
     "name": "stderr",
     "output_type": "stream",
     "text": [
      "[I 2025-02-21 12:21:36,197] Trial 4 finished with value: 0.3384615384614641 and parameters: {'learning_rate': 0.02286951904912051, 'max_depth': 11, 'min_child_weight': 51, 'subsample': 0.6727961206236346, 'colsample_bytree': 0.6517559963200034, 'reg_alpha': 0.21137059440645725, 'reg_lambda': 8.280648845475856, 'gamma': 1.6081972614156514, 'early_stopping_rounds': 327, 'scale_pos_weight': 2.4369708911051053}. Best is trial 1 with value: 0.3629242819842395.\n"
     ]
    },
    {
     "name": "stdout",
     "output_type": "stream",
     "text": [
      "2025-02-21 12:21:36,197 | INFO     | xgboost_soccer_prediction | Current best score: 0.3629\n",
      "2025-02-21 12:21:38,028 | INFO     | xgboost_soccer_prediction | Optimized threshold: 0.510 with precision: 0.336\n",
      "2025-02-21 12:21:38,067 | INFO     | xgboost_soccer_prediction | Trial 5:\n",
      "2025-02-21 12:21:38,068 | INFO     | xgboost_soccer_prediction |   Params: {'objective': 'binary:logistic', 'tree_method': 'hist', 'eval_metric': ['logloss', 'auc'], 'verbose': -1, 'n_jobs': -1, 'random_state': 19, 'learning_rate': 0.05802824417323742, 'max_depth': 13, 'min_child_weight': 97, 'subsample': 0.6684482051282946, 'colsample_bytree': 0.7195799957622171, 'reg_alpha': 0.697828126512603, 'reg_lambda': 7.34197072697379, 'gamma': 0.6683503010155211, 'early_stopping_rounds': 302, 'scale_pos_weight': 2.465066066152653}\n",
      "2025-02-21 12:21:38,070 | INFO     | xgboost_soccer_prediction |   Score: 0.33626373626366235\n"
     ]
    },
    {
     "name": "stderr",
     "output_type": "stream",
     "text": [
      "[I 2025-02-21 12:21:38,072] Trial 5 finished with value: 0.33626373626366235 and parameters: {'learning_rate': 0.05802824417323742, 'max_depth': 13, 'min_child_weight': 97, 'subsample': 0.6684482051282946, 'colsample_bytree': 0.7195799957622171, 'reg_alpha': 0.697828126512603, 'reg_lambda': 7.34197072697379, 'gamma': 0.6683503010155211, 'early_stopping_rounds': 302, 'scale_pos_weight': 2.465066066152653}. Best is trial 1 with value: 0.3629242819842395.\n"
     ]
    },
    {
     "name": "stdout",
     "output_type": "stream",
     "text": [
      "2025-02-21 12:21:38,072 | INFO     | xgboost_soccer_prediction | Current best score: 0.3629\n",
      "2025-02-21 12:21:39,693 | INFO     | xgboost_soccer_prediction | Optimized threshold: 0.530 with precision: 0.343\n",
      "2025-02-21 12:21:39,730 | INFO     | xgboost_soccer_prediction | Trial 6:\n",
      "2025-02-21 12:21:39,732 | INFO     | xgboost_soccer_prediction |   Params: {'objective': 'binary:logistic', 'tree_method': 'hist', 'eval_metric': ['logloss', 'auc'], 'verbose': -1, 'n_jobs': -1, 'random_state': 19, 'learning_rate': 0.03065322632598881, 'max_depth': 9, 'min_child_weight': 92, 'subsample': 0.5070259980080768, 'colsample_bytree': 0.6561869019374762, 'reg_alpha': 0.1217284708112243, 'reg_lambda': 7.552418274133421, 'gamma': 2.426371244186715, 'early_stopping_rounds': 303, 'scale_pos_weight': 2.5973773873201034}\n",
      "2025-02-21 12:21:39,733 | INFO     | xgboost_soccer_prediction |   Score: 0.34325396825390014\n"
     ]
    },
    {
     "name": "stderr",
     "output_type": "stream",
     "text": [
      "[I 2025-02-21 12:21:39,735] Trial 6 finished with value: 0.34325396825390014 and parameters: {'learning_rate': 0.03065322632598881, 'max_depth': 9, 'min_child_weight': 92, 'subsample': 0.5070259980080768, 'colsample_bytree': 0.6561869019374762, 'reg_alpha': 0.1217284708112243, 'reg_lambda': 7.552418274133421, 'gamma': 2.426371244186715, 'early_stopping_rounds': 303, 'scale_pos_weight': 2.5973773873201034}. Best is trial 1 with value: 0.3629242819842395.\n"
     ]
    },
    {
     "name": "stdout",
     "output_type": "stream",
     "text": [
      "2025-02-21 12:21:39,737 | INFO     | xgboost_soccer_prediction | Current best score: 0.3629\n",
      "2025-02-21 12:21:41,680 | INFO     | xgboost_soccer_prediction | Optimized threshold: 0.500 with precision: 0.360\n",
      "2025-02-21 12:21:41,718 | INFO     | xgboost_soccer_prediction | Trial 7:\n",
      "2025-02-21 12:21:41,720 | INFO     | xgboost_soccer_prediction |   Params: {'objective': 'binary:logistic', 'tree_method': 'hist', 'eval_metric': ['logloss', 'auc'], 'verbose': -1, 'n_jobs': -1, 'random_state': 19, 'learning_rate': 0.046718015770993736, 'max_depth': 9, 'min_child_weight': 50, 'subsample': 0.6446384285364501, 'colsample_bytree': 0.7413714687695234, 'reg_alpha': 0.2870875348195467, 'reg_lambda': 10.608145686969985, 'gamma': 0.3147294900288621, 'early_stopping_rounds': 318, 'scale_pos_weight': 2.4231738119050257}\n",
      "2025-02-21 12:21:41,722 | INFO     | xgboost_soccer_prediction |   Score: 0.35982339955841947\n"
     ]
    },
    {
     "name": "stderr",
     "output_type": "stream",
     "text": [
      "[I 2025-02-21 12:21:41,722] Trial 7 finished with value: 0.35982339955841947 and parameters: {'learning_rate': 0.046718015770993736, 'max_depth': 9, 'min_child_weight': 50, 'subsample': 0.6446384285364501, 'colsample_bytree': 0.7413714687695234, 'reg_alpha': 0.2870875348195467, 'reg_lambda': 10.608145686969985, 'gamma': 0.3147294900288621, 'early_stopping_rounds': 318, 'scale_pos_weight': 2.4231738119050257}. Best is trial 1 with value: 0.3629242819842395.\n"
     ]
    },
    {
     "name": "stdout",
     "output_type": "stream",
     "text": [
      "2025-02-21 12:21:41,722 | INFO     | xgboost_soccer_prediction | Current best score: 0.3629\n",
      "2025-02-21 12:21:43,477 | INFO     | xgboost_soccer_prediction | Optimized threshold: 0.560 with precision: 0.349\n",
      "2025-02-21 12:21:43,514 | INFO     | xgboost_soccer_prediction | Trial 8:\n",
      "2025-02-21 12:21:43,516 | INFO     | xgboost_soccer_prediction |   Params: {'objective': 'binary:logistic', 'tree_method': 'hist', 'eval_metric': ['logloss', 'auc'], 'verbose': -1, 'n_jobs': -1, 'random_state': 19, 'learning_rate': 0.05162201886267932, 'max_depth': 12, 'min_child_weight': 66, 'subsample': 0.4190675050858071, 'colsample_bytree': 0.6621964643431324, 'reg_alpha': 0.044706085467784894, 'reg_lambda': 10.372575230641925, 'gamma': 1.9489166669301181, 'early_stopping_rounds': 345, 'scale_pos_weight': 2.4944429850323897}\n",
      "2025-02-21 12:21:43,518 | INFO     | xgboost_soccer_prediction |   Score: 0.34888888888881137\n"
     ]
    },
    {
     "name": "stderr",
     "output_type": "stream",
     "text": [
      "[I 2025-02-21 12:21:43,520] Trial 8 finished with value: 0.34888888888881137 and parameters: {'learning_rate': 0.05162201886267932, 'max_depth': 12, 'min_child_weight': 66, 'subsample': 0.4190675050858071, 'colsample_bytree': 0.6621964643431324, 'reg_alpha': 0.044706085467784894, 'reg_lambda': 10.372575230641925, 'gamma': 1.9489166669301181, 'early_stopping_rounds': 345, 'scale_pos_weight': 2.4944429850323897}. Best is trial 1 with value: 0.3629242819842395.\n"
     ]
    },
    {
     "name": "stdout",
     "output_type": "stream",
     "text": [
      "2025-02-21 12:21:43,520 | INFO     | xgboost_soccer_prediction | Current best score: 0.3629\n",
      "2025-02-21 12:21:45,360 | INFO     | xgboost_soccer_prediction | Optimized threshold: 0.520 with precision: 0.351\n",
      "2025-02-21 12:21:45,399 | INFO     | xgboost_soccer_prediction | Trial 9:\n",
      "2025-02-21 12:21:45,402 | INFO     | xgboost_soccer_prediction |   Params: {'objective': 'binary:logistic', 'tree_method': 'hist', 'eval_metric': ['logloss', 'auc'], 'verbose': -1, 'n_jobs': -1, 'random_state': 19, 'learning_rate': 0.02280819683811876, 'max_depth': 12, 'min_child_weight': 88, 'subsample': 0.5683831592708488, 'colsample_bytree': 0.7541934359909123, 'reg_alpha': 0.09718319944817398, 'reg_lambda': 9.278142034099393, 'gamma': 1.339868953239794, 'early_stopping_rounds': 301, 'scale_pos_weight': 2.421578285398661}\n",
      "2025-02-21 12:21:45,404 | INFO     | xgboost_soccer_prediction |   Score: 0.3508771929823682\n"
     ]
    },
    {
     "name": "stderr",
     "output_type": "stream",
     "text": [
      "[I 2025-02-21 12:21:45,406] Trial 9 finished with value: 0.3508771929823682 and parameters: {'learning_rate': 0.02280819683811876, 'max_depth': 12, 'min_child_weight': 88, 'subsample': 0.5683831592708488, 'colsample_bytree': 0.7541934359909123, 'reg_alpha': 0.09718319944817398, 'reg_lambda': 9.278142034099393, 'gamma': 1.339868953239794, 'early_stopping_rounds': 301, 'scale_pos_weight': 2.421578285398661}. Best is trial 1 with value: 0.3629242819842395.\n"
     ]
    },
    {
     "name": "stdout",
     "output_type": "stream",
     "text": [
      "2025-02-21 12:21:45,406 | INFO     | xgboost_soccer_prediction | Current best score: 0.3629\n",
      "2025-02-21 12:21:47,131 | INFO     | xgboost_soccer_prediction | Optimized threshold: 0.530 with precision: 0.349\n",
      "2025-02-21 12:21:47,171 | INFO     | xgboost_soccer_prediction | Trial 10:\n",
      "2025-02-21 12:21:47,173 | INFO     | xgboost_soccer_prediction |   Params: {'objective': 'binary:logistic', 'tree_method': 'hist', 'eval_metric': ['logloss', 'auc'], 'verbose': -1, 'n_jobs': -1, 'random_state': 19, 'learning_rate': 0.020456175749108532, 'max_depth': 14, 'min_child_weight': 79, 'subsample': 0.4053885626844459, 'colsample_bytree': 0.6032592217188237, 'reg_alpha': 0.011952270129143842, 'reg_lambda': 11.742599620345944, 'gamma': 1.043543994116726, 'early_stopping_rounds': 315, 'scale_pos_weight': 2.5363044966430204}\n",
      "2025-02-21 12:21:47,173 | INFO     | xgboost_soccer_prediction |   Score: 0.3487297921477255\n"
     ]
    },
    {
     "name": "stderr",
     "output_type": "stream",
     "text": [
      "[I 2025-02-21 12:21:47,175] Trial 10 finished with value: 0.3487297921477255 and parameters: {'learning_rate': 0.020456175749108532, 'max_depth': 14, 'min_child_weight': 79, 'subsample': 0.4053885626844459, 'colsample_bytree': 0.6032592217188237, 'reg_alpha': 0.011952270129143842, 'reg_lambda': 11.742599620345944, 'gamma': 1.043543994116726, 'early_stopping_rounds': 315, 'scale_pos_weight': 2.5363044966430204}. Best is trial 1 with value: 0.3629242819842395.\n"
     ]
    },
    {
     "name": "stdout",
     "output_type": "stream",
     "text": [
      "2025-02-21 12:21:47,177 | INFO     | xgboost_soccer_prediction | Current best score: 0.3629\n",
      "2025-02-21 12:21:49,204 | INFO     | xgboost_soccer_prediction | Optimized threshold: 0.530 with precision: 0.350\n",
      "2025-02-21 12:21:49,243 | INFO     | xgboost_soccer_prediction | Trial 11:\n",
      "2025-02-21 12:21:49,245 | INFO     | xgboost_soccer_prediction |   Params: {'objective': 'binary:logistic', 'tree_method': 'hist', 'eval_metric': ['logloss', 'auc'], 'verbose': -1, 'n_jobs': -1, 'random_state': 19, 'learning_rate': 0.04586341801705585, 'max_depth': 10, 'min_child_weight': 77, 'subsample': 0.6111388754989113, 'colsample_bytree': 0.7428995956927715, 'reg_alpha': 0.043308435993796184, 'reg_lambda': 9.675993609647767, 'gamma': 0.12277461209511203, 'early_stopping_rounds': 315, 'scale_pos_weight': 2.451216948232196}\n",
      "2025-02-21 12:21:49,245 | INFO     | xgboost_soccer_prediction |   Score: 0.3499111900532238\n"
     ]
    },
    {
     "name": "stderr",
     "output_type": "stream",
     "text": [
      "[I 2025-02-21 12:21:49,247] Trial 11 finished with value: 0.3499111900532238 and parameters: {'learning_rate': 0.04586341801705585, 'max_depth': 10, 'min_child_weight': 77, 'subsample': 0.6111388754989113, 'colsample_bytree': 0.7428995956927715, 'reg_alpha': 0.043308435993796184, 'reg_lambda': 9.675993609647767, 'gamma': 0.12277461209511203, 'early_stopping_rounds': 315, 'scale_pos_weight': 2.451216948232196}. Best is trial 1 with value: 0.3629242819842395.\n"
     ]
    },
    {
     "name": "stdout",
     "output_type": "stream",
     "text": [
      "2025-02-21 12:21:49,249 | INFO     | xgboost_soccer_prediction | Current best score: 0.3629\n",
      "2025-02-21 12:21:51,091 | INFO     | xgboost_soccer_prediction | Optimized threshold: 0.510 with precision: 0.365\n",
      "2025-02-21 12:21:51,127 | INFO     | xgboost_soccer_prediction | Trial 12:\n",
      "2025-02-21 12:21:51,129 | INFO     | xgboost_soccer_prediction |   Params: {'objective': 'binary:logistic', 'tree_method': 'hist', 'eval_metric': ['logloss', 'auc'], 'verbose': -1, 'n_jobs': -1, 'random_state': 19, 'learning_rate': 0.02714440155519105, 'max_depth': 10, 'min_child_weight': 63, 'subsample': 0.4823454919847443, 'colsample_bytree': 0.7079240213605595, 'reg_alpha': 0.05642120215220477, 'reg_lambda': 11.068550038143838, 'gamma': 2.0542060319274564, 'early_stopping_rounds': 317, 'scale_pos_weight': 2.401055574111971}\n",
      "2025-02-21 12:21:51,130 | INFO     | xgboost_soccer_prediction |   Score: 0.36503856041121724\n"
     ]
    },
    {
     "name": "stderr",
     "output_type": "stream",
     "text": [
      "[I 2025-02-21 12:21:51,132] Trial 12 finished with value: 0.36503856041121724 and parameters: {'learning_rate': 0.02714440155519105, 'max_depth': 10, 'min_child_weight': 63, 'subsample': 0.4823454919847443, 'colsample_bytree': 0.7079240213605595, 'reg_alpha': 0.05642120215220477, 'reg_lambda': 11.068550038143838, 'gamma': 2.0542060319274564, 'early_stopping_rounds': 317, 'scale_pos_weight': 2.401055574111971}. Best is trial 12 with value: 0.36503856041121724.\n"
     ]
    },
    {
     "name": "stdout",
     "output_type": "stream",
     "text": [
      "2025-02-21 12:21:51,133 | INFO     | xgboost_soccer_prediction | Current best score: 0.3629\n",
      "2025-02-21 12:21:51,134 | INFO     | xgboost_soccer_prediction | New best score found in trial 12: 0.3650\n",
      "2025-02-21 12:21:53,001 | INFO     | xgboost_soccer_prediction | Optimized threshold: 0.520 with precision: 0.353\n",
      "2025-02-21 12:21:53,039 | INFO     | xgboost_soccer_prediction | Trial 13:\n",
      "2025-02-21 12:21:53,041 | INFO     | xgboost_soccer_prediction |   Params: {'objective': 'binary:logistic', 'tree_method': 'hist', 'eval_metric': ['logloss', 'auc'], 'verbose': -1, 'n_jobs': -1, 'random_state': 19, 'learning_rate': 0.026932812193911866, 'max_depth': 11, 'min_child_weight': 67, 'subsample': 0.47246647989410195, 'colsample_bytree': 0.6951264975679511, 'reg_alpha': 0.033356093320799536, 'reg_lambda': 11.837994046412634, 'gamma': 2.1256728005457446, 'early_stopping_rounds': 311, 'scale_pos_weight': 2.4003802201185533}\n",
      "2025-02-21 12:21:53,041 | INFO     | xgboost_soccer_prediction |   Score: 0.3532219570404885\n"
     ]
    },
    {
     "name": "stderr",
     "output_type": "stream",
     "text": [
      "[I 2025-02-21 12:21:53,045] Trial 13 finished with value: 0.3532219570404885 and parameters: {'learning_rate': 0.026932812193911866, 'max_depth': 11, 'min_child_weight': 67, 'subsample': 0.47246647989410195, 'colsample_bytree': 0.6951264975679511, 'reg_alpha': 0.033356093320799536, 'reg_lambda': 11.837994046412634, 'gamma': 2.1256728005457446, 'early_stopping_rounds': 311, 'scale_pos_weight': 2.4003802201185533}. Best is trial 12 with value: 0.36503856041121724.\n"
     ]
    },
    {
     "name": "stdout",
     "output_type": "stream",
     "text": [
      "2025-02-21 12:21:53,045 | INFO     | xgboost_soccer_prediction | Current best score: 0.3650\n",
      "2025-02-21 12:21:54,955 | INFO     | xgboost_soccer_prediction | Optimized threshold: 0.500 with precision: 0.334\n",
      "2025-02-21 12:21:54,995 | INFO     | xgboost_soccer_prediction | Trial 14:\n",
      "2025-02-21 12:21:54,997 | INFO     | xgboost_soccer_prediction |   Params: {'objective': 'binary:logistic', 'tree_method': 'hist', 'eval_metric': ['logloss', 'auc'], 'verbose': -1, 'n_jobs': -1, 'random_state': 19, 'learning_rate': 0.025264868429974968, 'max_depth': 12, 'min_child_weight': 72, 'subsample': 0.4584110713774802, 'colsample_bytree': 0.610171505225861, 'reg_alpha': 0.07098701732564443, 'reg_lambda': 8.588218090550864, 'gamma': 2.9108825709412827, 'early_stopping_rounds': 339, 'scale_pos_weight': 2.470304331626642}\n",
      "2025-02-21 12:21:54,997 | INFO     | xgboost_soccer_prediction |   Score: 0.33378378378373863\n"
     ]
    },
    {
     "name": "stderr",
     "output_type": "stream",
     "text": [
      "[I 2025-02-21 12:21:55,001] Trial 14 finished with value: 0.33378378378373863 and parameters: {'learning_rate': 0.025264868429974968, 'max_depth': 12, 'min_child_weight': 72, 'subsample': 0.4584110713774802, 'colsample_bytree': 0.610171505225861, 'reg_alpha': 0.07098701732564443, 'reg_lambda': 8.588218090550864, 'gamma': 2.9108825709412827, 'early_stopping_rounds': 339, 'scale_pos_weight': 2.470304331626642}. Best is trial 12 with value: 0.36503856041121724.\n"
     ]
    },
    {
     "name": "stdout",
     "output_type": "stream",
     "text": [
      "2025-02-21 12:21:55,002 | INFO     | xgboost_soccer_prediction | Current best score: 0.3650\n",
      "2025-02-21 12:21:56,617 | INFO     | xgboost_soccer_prediction | Optimized threshold: 0.540 with precision: 0.352\n",
      "2025-02-21 12:21:56,654 | INFO     | xgboost_soccer_prediction | Trial 15:\n",
      "2025-02-21 12:21:56,656 | INFO     | xgboost_soccer_prediction |   Params: {'objective': 'binary:logistic', 'tree_method': 'hist', 'eval_metric': ['logloss', 'auc'], 'verbose': -1, 'n_jobs': -1, 'random_state': 19, 'learning_rate': 0.029252451544192048, 'max_depth': 10, 'min_child_weight': 100, 'subsample': 0.5191061370721738, 'colsample_bytree': 0.6777058042252557, 'reg_alpha': 0.010429515756902995, 'reg_lambda': 10.614907998686261, 'gamma': 1.97095203321806, 'early_stopping_rounds': 324, 'scale_pos_weight': 2.5153898347779355}\n",
      "2025-02-21 12:21:56,658 | INFO     | xgboost_soccer_prediction |   Score: 0.3521126760562554\n"
     ]
    },
    {
     "name": "stderr",
     "output_type": "stream",
     "text": [
      "[I 2025-02-21 12:21:56,660] Trial 15 finished with value: 0.3521126760562554 and parameters: {'learning_rate': 0.029252451544192048, 'max_depth': 10, 'min_child_weight': 100, 'subsample': 0.5191061370721738, 'colsample_bytree': 0.6777058042252557, 'reg_alpha': 0.010429515756902995, 'reg_lambda': 10.614907998686261, 'gamma': 1.97095203321806, 'early_stopping_rounds': 324, 'scale_pos_weight': 2.5153898347779355}. Best is trial 12 with value: 0.36503856041121724.\n"
     ]
    },
    {
     "name": "stdout",
     "output_type": "stream",
     "text": [
      "2025-02-21 12:21:56,660 | INFO     | xgboost_soccer_prediction | Current best score: 0.3650\n",
      "2025-02-21 12:21:58,670 | INFO     | xgboost_soccer_prediction | Optimized threshold: 0.520 with precision: 0.356\n",
      "2025-02-21 12:21:58,710 | INFO     | xgboost_soccer_prediction | Trial 16:\n",
      "2025-02-21 12:21:58,712 | INFO     | xgboost_soccer_prediction |   Params: {'objective': 'binary:logistic', 'tree_method': 'hist', 'eval_metric': ['logloss', 'auc'], 'verbose': -1, 'n_jobs': -1, 'random_state': 19, 'learning_rate': 0.02003202938869752, 'max_depth': 13, 'min_child_weight': 59, 'subsample': 0.4562474133553059, 'colsample_bytree': 0.7171936451138013, 'reg_alpha': 0.02426599929300541, 'reg_lambda': 8.890220309270182, 'gamma': 1.1549523877859011, 'early_stopping_rounds': 321, 'scale_pos_weight': 2.4445702492180783}\n",
      "2025-02-21 12:21:58,712 | INFO     | xgboost_soccer_prediction |   Score: 0.35616438356157415\n"
     ]
    },
    {
     "name": "stderr",
     "output_type": "stream",
     "text": [
      "[I 2025-02-21 12:21:58,714] Trial 16 finished with value: 0.35616438356157415 and parameters: {'learning_rate': 0.02003202938869752, 'max_depth': 13, 'min_child_weight': 59, 'subsample': 0.4562474133553059, 'colsample_bytree': 0.7171936451138013, 'reg_alpha': 0.02426599929300541, 'reg_lambda': 8.890220309270182, 'gamma': 1.1549523877859011, 'early_stopping_rounds': 321, 'scale_pos_weight': 2.4445702492180783}. Best is trial 12 with value: 0.36503856041121724.\n"
     ]
    },
    {
     "name": "stdout",
     "output_type": "stream",
     "text": [
      "2025-02-21 12:21:58,716 | INFO     | xgboost_soccer_prediction | Current best score: 0.3650\n",
      "2025-02-21 12:22:00,474 | INFO     | xgboost_soccer_prediction | Optimized threshold: 0.520 with precision: 0.350\n",
      "2025-02-21 12:22:00,514 | INFO     | xgboost_soccer_prediction | Trial 17:\n",
      "2025-02-21 12:22:00,517 | INFO     | xgboost_soccer_prediction |   Params: {'objective': 'binary:logistic', 'tree_method': 'hist', 'eval_metric': ['logloss', 'auc'], 'verbose': -1, 'n_jobs': -1, 'random_state': 19, 'learning_rate': 0.03382064190811381, 'max_depth': 10, 'min_child_weight': 82, 'subsample': 0.48520097800179535, 'colsample_bytree': 0.6366610711628151, 'reg_alpha': 0.01862444362590078, 'reg_lambda': 9.69441060486127, 'gamma': 2.2638010984381767, 'early_stopping_rounds': 309, 'scale_pos_weight': 2.475199451900706}\n",
      "2025-02-21 12:22:00,518 | INFO     | xgboost_soccer_prediction |   Score: 0.3496801705756184\n"
     ]
    },
    {
     "name": "stderr",
     "output_type": "stream",
     "text": [
      "[I 2025-02-21 12:22:00,520] Trial 17 finished with value: 0.3496801705756184 and parameters: {'learning_rate': 0.03382064190811381, 'max_depth': 10, 'min_child_weight': 82, 'subsample': 0.48520097800179535, 'colsample_bytree': 0.6366610711628151, 'reg_alpha': 0.01862444362590078, 'reg_lambda': 9.69441060486127, 'gamma': 2.2638010984381767, 'early_stopping_rounds': 309, 'scale_pos_weight': 2.475199451900706}. Best is trial 12 with value: 0.36503856041121724.\n"
     ]
    },
    {
     "name": "stdout",
     "output_type": "stream",
     "text": [
      "2025-02-21 12:22:00,520 | INFO     | xgboost_soccer_prediction | Current best score: 0.3650\n",
      "2025-02-21 12:22:02,199 | INFO     | xgboost_soccer_prediction | Optimized threshold: 0.550 with precision: 0.349\n",
      "2025-02-21 12:22:02,237 | INFO     | xgboost_soccer_prediction | Trial 18:\n",
      "2025-02-21 12:22:02,239 | INFO     | xgboost_soccer_prediction |   Params: {'objective': 'binary:logistic', 'tree_method': 'hist', 'eval_metric': ['logloss', 'auc'], 'verbose': -1, 'n_jobs': -1, 'random_state': 19, 'learning_rate': 0.02395891646853073, 'max_depth': 8, 'min_child_weight': 71, 'subsample': 0.5446594789227139, 'colsample_bytree': 0.7716826424822245, 'reg_alpha': 0.06613644475520923, 'reg_lambda': 8.046977492231148, 'gamma': 1.788440691540863, 'early_stopping_rounds': 349, 'scale_pos_weight': 2.573645400849274}\n",
      "2025-02-21 12:22:02,241 | INFO     | xgboost_soccer_prediction |   Score: 0.3487858719646029\n"
     ]
    },
    {
     "name": "stderr",
     "output_type": "stream",
     "text": [
      "[I 2025-02-21 12:22:02,243] Trial 18 finished with value: 0.3487858719646029 and parameters: {'learning_rate': 0.02395891646853073, 'max_depth': 8, 'min_child_weight': 71, 'subsample': 0.5446594789227139, 'colsample_bytree': 0.7716826424822245, 'reg_alpha': 0.06613644475520923, 'reg_lambda': 8.046977492231148, 'gamma': 1.788440691540863, 'early_stopping_rounds': 349, 'scale_pos_weight': 2.573645400849274}. Best is trial 12 with value: 0.36503856041121724.\n"
     ]
    },
    {
     "name": "stdout",
     "output_type": "stream",
     "text": [
      "2025-02-21 12:22:02,243 | INFO     | xgboost_soccer_prediction | Current best score: 0.3650\n",
      "2025-02-21 12:22:04,220 | INFO     | xgboost_soccer_prediction | Optimized threshold: 0.490 with precision: 0.328\n",
      "2025-02-21 12:22:04,258 | INFO     | xgboost_soccer_prediction | Trial 19:\n",
      "2025-02-21 12:22:04,260 | INFO     | xgboost_soccer_prediction |   Params: {'objective': 'binary:logistic', 'tree_method': 'hist', 'eval_metric': ['logloss', 'auc'], 'verbose': -1, 'n_jobs': -1, 'random_state': 19, 'learning_rate': 0.02657671421040181, 'max_depth': 13, 'min_child_weight': 58, 'subsample': 0.4322757555340503, 'colsample_bytree': 0.7207456634366702, 'reg_alpha': 0.11764224144689968, 'reg_lambda': 11.164337427456543, 'gamma': 0.9060843620543049, 'early_stopping_rounds': 308, 'scale_pos_weight': 2.431756197491491}\n",
      "2025-02-21 12:22:04,262 | INFO     | xgboost_soccer_prediction |   Score: 0.3275632490012879\n"
     ]
    },
    {
     "name": "stderr",
     "output_type": "stream",
     "text": [
      "[I 2025-02-21 12:22:04,264] Trial 19 finished with value: 0.3275632490012879 and parameters: {'learning_rate': 0.02657671421040181, 'max_depth': 13, 'min_child_weight': 58, 'subsample': 0.4322757555340503, 'colsample_bytree': 0.7207456634366702, 'reg_alpha': 0.11764224144689968, 'reg_lambda': 11.164337427456543, 'gamma': 0.9060843620543049, 'early_stopping_rounds': 308, 'scale_pos_weight': 2.431756197491491}. Best is trial 12 with value: 0.36503856041121724.\n"
     ]
    },
    {
     "name": "stdout",
     "output_type": "stream",
     "text": [
      "2025-02-21 12:22:04,264 | INFO     | xgboost_soccer_prediction | Current best score: 0.3650\n",
      "2025-02-21 12:22:06,114 | INFO     | xgboost_soccer_prediction | Optimized threshold: 0.500 with precision: 0.335\n",
      "2025-02-21 12:22:06,152 | INFO     | xgboost_soccer_prediction | Trial 20:\n",
      "2025-02-21 12:22:06,154 | INFO     | xgboost_soccer_prediction |   Params: {'objective': 'binary:logistic', 'tree_method': 'hist', 'eval_metric': ['logloss', 'auc'], 'verbose': -1, 'n_jobs': -1, 'random_state': 19, 'learning_rate': 0.021401631251045362, 'max_depth': 11, 'min_child_weight': 84, 'subsample': 0.5368923005511858, 'colsample_bytree': 0.6768616664578581, 'reg_alpha': 0.030796754516680833, 'reg_lambda': 10.06776564161997, 'gamma': 2.6480183190907964, 'early_stopping_rounds': 322, 'scale_pos_weight': 2.4486607101070854}\n",
      "2025-02-21 12:22:06,156 | INFO     | xgboost_soccer_prediction |   Score: 0.33540372670802243\n"
     ]
    },
    {
     "name": "stderr",
     "output_type": "stream",
     "text": [
      "[I 2025-02-21 12:22:06,158] Trial 20 finished with value: 0.33540372670802243 and parameters: {'learning_rate': 0.021401631251045362, 'max_depth': 11, 'min_child_weight': 84, 'subsample': 0.5368923005511858, 'colsample_bytree': 0.6768616664578581, 'reg_alpha': 0.030796754516680833, 'reg_lambda': 10.06776564161997, 'gamma': 2.6480183190907964, 'early_stopping_rounds': 322, 'scale_pos_weight': 2.4486607101070854}. Best is trial 12 with value: 0.36503856041121724.\n"
     ]
    },
    {
     "name": "stdout",
     "output_type": "stream",
     "text": [
      "2025-02-21 12:22:06,158 | INFO     | xgboost_soccer_prediction | Current best score: 0.3650\n",
      "2025-02-21 12:22:08,054 | INFO     | xgboost_soccer_prediction | Optimized threshold: 0.530 with precision: 0.341\n",
      "2025-02-21 12:22:08,093 | INFO     | xgboost_soccer_prediction | Trial 21:\n",
      "2025-02-21 12:22:08,095 | INFO     | xgboost_soccer_prediction |   Params: {'objective': 'binary:logistic', 'tree_method': 'hist', 'eval_metric': ['logloss', 'auc'], 'verbose': -1, 'n_jobs': -1, 'random_state': 19, 'learning_rate': 0.04356264938627424, 'max_depth': 9, 'min_child_weight': 58, 'subsample': 0.6194020670710321, 'colsample_bytree': 0.7415896852693756, 'reg_alpha': 0.2398034590403274, 'reg_lambda': 11.104690954761729, 'gamma': 1.3773637567594643, 'early_stopping_rounds': 318, 'scale_pos_weight': 2.416244646130336}\n",
      "2025-02-21 12:22:08,095 | INFO     | xgboost_soccer_prediction |   Score: 0.34130434782601277\n"
     ]
    },
    {
     "name": "stderr",
     "output_type": "stream",
     "text": [
      "[I 2025-02-21 12:22:08,097] Trial 21 finished with value: 0.34130434782601277 and parameters: {'learning_rate': 0.04356264938627424, 'max_depth': 9, 'min_child_weight': 58, 'subsample': 0.6194020670710321, 'colsample_bytree': 0.7415896852693756, 'reg_alpha': 0.2398034590403274, 'reg_lambda': 11.104690954761729, 'gamma': 1.3773637567594643, 'early_stopping_rounds': 318, 'scale_pos_weight': 2.416244646130336}. Best is trial 12 with value: 0.36503856041121724.\n"
     ]
    },
    {
     "name": "stdout",
     "output_type": "stream",
     "text": [
      "2025-02-21 12:22:08,099 | INFO     | xgboost_soccer_prediction | Current best score: 0.3650\n",
      "2025-02-21 12:22:10,052 | INFO     | xgboost_soccer_prediction | Optimized threshold: 0.510 with precision: 0.347\n",
      "2025-02-21 12:22:10,091 | INFO     | xgboost_soccer_prediction | Trial 22:\n",
      "2025-02-21 12:22:10,093 | INFO     | xgboost_soccer_prediction |   Params: {'objective': 'binary:logistic', 'tree_method': 'hist', 'eval_metric': ['logloss', 'auc'], 'verbose': -1, 'n_jobs': -1, 'random_state': 19, 'learning_rate': 0.03523404266801966, 'max_depth': 9, 'min_child_weight': 56, 'subsample': 0.6175484649098243, 'colsample_bytree': 0.7150938542944936, 'reg_alpha': 0.18536425291146724, 'reg_lambda': 10.985603851207873, 'gamma': 0.6984243437005759, 'early_stopping_rounds': 317, 'scale_pos_weight': 2.425636235111627}\n",
      "2025-02-21 12:22:10,093 | INFO     | xgboost_soccer_prediction |   Score: 0.34747474747467727\n"
     ]
    },
    {
     "name": "stderr",
     "output_type": "stream",
     "text": [
      "[I 2025-02-21 12:22:10,095] Trial 22 finished with value: 0.34747474747467727 and parameters: {'learning_rate': 0.03523404266801966, 'max_depth': 9, 'min_child_weight': 56, 'subsample': 0.6175484649098243, 'colsample_bytree': 0.7150938542944936, 'reg_alpha': 0.18536425291146724, 'reg_lambda': 10.985603851207873, 'gamma': 0.6984243437005759, 'early_stopping_rounds': 317, 'scale_pos_weight': 2.425636235111627}. Best is trial 12 with value: 0.36503856041121724.\n"
     ]
    },
    {
     "name": "stdout",
     "output_type": "stream",
     "text": [
      "2025-02-21 12:22:10,097 | INFO     | xgboost_soccer_prediction | Current best score: 0.3650\n",
      "2025-02-21 12:22:11,928 | INFO     | xgboost_soccer_prediction | Optimized threshold: 0.540 with precision: 0.336\n",
      "2025-02-21 12:22:11,966 | INFO     | xgboost_soccer_prediction | Trial 23:\n",
      "2025-02-21 12:22:11,968 | INFO     | xgboost_soccer_prediction |   Params: {'objective': 'binary:logistic', 'tree_method': 'hist', 'eval_metric': ['logloss', 'auc'], 'verbose': -1, 'n_jobs': -1, 'random_state': 19, 'learning_rate': 0.050049487919924904, 'max_depth': 10, 'min_child_weight': 62, 'subsample': 0.4443901740186394, 'colsample_bytree': 0.7653071903088275, 'reg_alpha': 0.9085819031922866, 'reg_lambda': 9.11046162671254, 'gamma': 1.6715436937633597, 'early_stopping_rounds': 312, 'scale_pos_weight': 2.4045777984824803}\n",
      "2025-02-21 12:22:11,968 | INFO     | xgboost_soccer_prediction |   Score: 0.33558558558551\n"
     ]
    },
    {
     "name": "stderr",
     "output_type": "stream",
     "text": [
      "[I 2025-02-21 12:22:11,972] Trial 23 finished with value: 0.33558558558551 and parameters: {'learning_rate': 0.050049487919924904, 'max_depth': 10, 'min_child_weight': 62, 'subsample': 0.4443901740186394, 'colsample_bytree': 0.7653071903088275, 'reg_alpha': 0.9085819031922866, 'reg_lambda': 9.11046162671254, 'gamma': 1.6715436937633597, 'early_stopping_rounds': 312, 'scale_pos_weight': 2.4045777984824803}. Best is trial 12 with value: 0.36503856041121724.\n"
     ]
    },
    {
     "name": "stdout",
     "output_type": "stream",
     "text": [
      "2025-02-21 12:22:11,972 | INFO     | xgboost_soccer_prediction | Current best score: 0.3650\n",
      "2025-02-21 12:22:13,604 | INFO     | xgboost_soccer_prediction | Optimized threshold: 0.480 with precision: 0.331\n",
      "2025-02-21 12:22:13,642 | INFO     | xgboost_soccer_prediction | Trial 24:\n",
      "2025-02-21 12:22:13,643 | INFO     | xgboost_soccer_prediction |   Params: {'objective': 'binary:logistic', 'tree_method': 'hist', 'eval_metric': ['logloss', 'auc'], 'verbose': -1, 'n_jobs': -1, 'random_state': 19, 'learning_rate': 0.03381480412638181, 'max_depth': 8, 'min_child_weight': 71, 'subsample': 0.4905446145036842, 'colsample_bytree': 0.7376075858426138, 'reg_alpha': 0.06252044508977736, 'reg_lambda': 9.937476024536508, 'gamma': 1.3344274538555674, 'early_stopping_rounds': 321, 'scale_pos_weight': 2.463268314570837}\n",
      "2025-02-21 12:22:13,645 | INFO     | xgboost_soccer_prediction |   Score: 0.33143507972661373\n"
     ]
    },
    {
     "name": "stderr",
     "output_type": "stream",
     "text": [
      "[I 2025-02-21 12:22:13,647] Trial 24 finished with value: 0.33143507972661373 and parameters: {'learning_rate': 0.03381480412638181, 'max_depth': 8, 'min_child_weight': 71, 'subsample': 0.4905446145036842, 'colsample_bytree': 0.7376075858426138, 'reg_alpha': 0.06252044508977736, 'reg_lambda': 9.937476024536508, 'gamma': 1.3344274538555674, 'early_stopping_rounds': 321, 'scale_pos_weight': 2.463268314570837}. Best is trial 12 with value: 0.36503856041121724.\n"
     ]
    },
    {
     "name": "stdout",
     "output_type": "stream",
     "text": [
      "2025-02-21 12:22:13,648 | INFO     | xgboost_soccer_prediction | Current best score: 0.3650\n",
      "2025-02-21 12:22:15,876 | INFO     | xgboost_soccer_prediction | Optimized threshold: 0.510 with precision: 0.355\n",
      "2025-02-21 12:22:15,914 | INFO     | xgboost_soccer_prediction | Trial 25:\n",
      "2025-02-21 12:22:15,918 | INFO     | xgboost_soccer_prediction |   Params: {'objective': 'binary:logistic', 'tree_method': 'hist', 'eval_metric': ['logloss', 'auc'], 'verbose': -1, 'n_jobs': -1, 'random_state': 19, 'learning_rate': 0.027574307300543634, 'max_depth': 10, 'min_child_weight': 50, 'subsample': 0.6416693393025206, 'colsample_bytree': 0.7071072272346294, 'reg_alpha': 0.3735698381915361, 'reg_lambda': 10.652622645282312, 'gamma': 1.8726760581767512, 'early_stopping_rounds': 326, 'scale_pos_weight': 2.42700626132744}\n",
      "2025-02-21 12:22:15,919 | INFO     | xgboost_soccer_prediction |   Score: 0.35517970401683824\n"
     ]
    },
    {
     "name": "stderr",
     "output_type": "stream",
     "text": [
      "[I 2025-02-21 12:22:15,921] Trial 25 finished with value: 0.35517970401683824 and parameters: {'learning_rate': 0.027574307300543634, 'max_depth': 10, 'min_child_weight': 50, 'subsample': 0.6416693393025206, 'colsample_bytree': 0.7071072272346294, 'reg_alpha': 0.3735698381915361, 'reg_lambda': 10.652622645282312, 'gamma': 1.8726760581767512, 'early_stopping_rounds': 326, 'scale_pos_weight': 2.42700626132744}. Best is trial 12 with value: 0.36503856041121724.\n"
     ]
    },
    {
     "name": "stdout",
     "output_type": "stream",
     "text": [
      "2025-02-21 12:22:15,921 | INFO     | xgboost_soccer_prediction | Current best score: 0.3650\n",
      "2025-02-21 12:22:17,776 | INFO     | xgboost_soccer_prediction | Optimized threshold: 0.530 with precision: 0.337\n",
      "2025-02-21 12:22:17,814 | INFO     | xgboost_soccer_prediction | Trial 26:\n",
      "2025-02-21 12:22:17,816 | INFO     | xgboost_soccer_prediction |   Params: {'objective': 'binary:logistic', 'tree_method': 'hist', 'eval_metric': ['logloss', 'auc'], 'verbose': -1, 'n_jobs': -1, 'random_state': 19, 'learning_rate': 0.05683695210968905, 'max_depth': 9, 'min_child_weight': 54, 'subsample': 0.5815278100072472, 'colsample_bytree': 0.7979248961579849, 'reg_alpha': 0.013658526407328592, 'reg_lambda': 11.327659042261688, 'gamma': 2.256652828076785, 'early_stopping_rounds': 334, 'scale_pos_weight': 2.4433204965816917}\n",
      "2025-02-21 12:22:17,818 | INFO     | xgboost_soccer_prediction |   Score: 0.3372881355931631\n"
     ]
    },
    {
     "name": "stderr",
     "output_type": "stream",
     "text": [
      "[I 2025-02-21 12:22:17,821] Trial 26 finished with value: 0.3372881355931631 and parameters: {'learning_rate': 0.05683695210968905, 'max_depth': 9, 'min_child_weight': 54, 'subsample': 0.5815278100072472, 'colsample_bytree': 0.7979248961579849, 'reg_alpha': 0.013658526407328592, 'reg_lambda': 11.327659042261688, 'gamma': 2.256652828076785, 'early_stopping_rounds': 334, 'scale_pos_weight': 2.4433204965816917}. Best is trial 12 with value: 0.36503856041121724.\n"
     ]
    },
    {
     "name": "stdout",
     "output_type": "stream",
     "text": [
      "2025-02-21 12:22:17,821 | INFO     | xgboost_soccer_prediction | Current best score: 0.3650\n",
      "2025-02-21 12:22:19,689 | INFO     | xgboost_soccer_prediction | Optimized threshold: 0.540 with precision: 0.337\n",
      "2025-02-21 12:22:19,726 | INFO     | xgboost_soccer_prediction | Trial 27:\n",
      "2025-02-21 12:22:19,728 | INFO     | xgboost_soccer_prediction |   Params: {'objective': 'binary:logistic', 'tree_method': 'hist', 'eval_metric': ['logloss', 'auc'], 'verbose': -1, 'n_jobs': -1, 'random_state': 19, 'learning_rate': 0.03886064843375875, 'max_depth': 11, 'min_child_weight': 75, 'subsample': 0.5270590556268805, 'colsample_bytree': 0.6803396529351067, 'reg_alpha': 0.15168692304362694, 'reg_lambda': 8.596938455027026, 'gamma': 0.13910013936173513, 'early_stopping_rounds': 319, 'scale_pos_weight': 2.5159573305080123}\n",
      "2025-02-21 12:22:19,730 | INFO     | xgboost_soccer_prediction |   Score: 0.33749999999991565\n"
     ]
    },
    {
     "name": "stderr",
     "output_type": "stream",
     "text": [
      "[I 2025-02-21 12:22:19,733] Trial 27 finished with value: 0.33749999999991565 and parameters: {'learning_rate': 0.03886064843375875, 'max_depth': 11, 'min_child_weight': 75, 'subsample': 0.5270590556268805, 'colsample_bytree': 0.6803396529351067, 'reg_alpha': 0.15168692304362694, 'reg_lambda': 8.596938455027026, 'gamma': 0.13910013936173513, 'early_stopping_rounds': 319, 'scale_pos_weight': 2.5159573305080123}. Best is trial 12 with value: 0.36503856041121724.\n"
     ]
    },
    {
     "name": "stdout",
     "output_type": "stream",
     "text": [
      "2025-02-21 12:22:19,733 | INFO     | xgboost_soccer_prediction | Current best score: 0.3650\n",
      "2025-02-21 12:22:21,891 | INFO     | xgboost_soccer_prediction | Optimized threshold: 0.510 with precision: 0.347\n",
      "2025-02-21 12:22:21,931 | INFO     | xgboost_soccer_prediction | Trial 28:\n",
      "2025-02-21 12:22:21,933 | INFO     | xgboost_soccer_prediction |   Params: {'objective': 'binary:logistic', 'tree_method': 'hist', 'eval_metric': ['logloss', 'auc'], 'verbose': -1, 'n_jobs': -1, 'random_state': 19, 'learning_rate': 0.02445941966265392, 'max_depth': 14, 'min_child_weight': 62, 'subsample': 0.4861461800038826, 'colsample_bytree': 0.6222101503771884, 'reg_alpha': 0.09164992058170779, 'reg_lambda': 9.426503750559753, 'gamma': 0.5371611973947784, 'early_stopping_rounds': 314, 'scale_pos_weight': 2.4170145582185127}\n",
      "2025-02-21 12:22:21,933 | INFO     | xgboost_soccer_prediction |   Score: 0.34710743801647154\n"
     ]
    },
    {
     "name": "stderr",
     "output_type": "stream",
     "text": [
      "[I 2025-02-21 12:22:21,937] Trial 28 finished with value: 0.34710743801647154 and parameters: {'learning_rate': 0.02445941966265392, 'max_depth': 14, 'min_child_weight': 62, 'subsample': 0.4861461800038826, 'colsample_bytree': 0.6222101503771884, 'reg_alpha': 0.09164992058170779, 'reg_lambda': 9.426503750559753, 'gamma': 0.5371611973947784, 'early_stopping_rounds': 314, 'scale_pos_weight': 2.4170145582185127}. Best is trial 12 with value: 0.36503856041121724.\n"
     ]
    },
    {
     "name": "stdout",
     "output_type": "stream",
     "text": [
      "2025-02-21 12:22:21,938 | INFO     | xgboost_soccer_prediction | Current best score: 0.3650\n",
      "2025-02-21 12:22:23,768 | INFO     | xgboost_soccer_prediction | Optimized threshold: 0.520 with precision: 0.342\n",
      "2025-02-21 12:22:23,808 | INFO     | xgboost_soccer_prediction | Trial 29:\n",
      "2025-02-21 12:22:23,810 | INFO     | xgboost_soccer_prediction |   Params: {'objective': 'binary:logistic', 'tree_method': 'hist', 'eval_metric': ['logloss', 'auc'], 'verbose': -1, 'n_jobs': -1, 'random_state': 19, 'learning_rate': 0.031406438894627485, 'max_depth': 14, 'min_child_weight': 92, 'subsample': 0.5649819452370196, 'colsample_bytree': 0.7335598844787241, 'reg_alpha': 0.018330048160386487, 'reg_lambda': 7.093339539134448, 'gamma': 2.662839831492512, 'early_stopping_rounds': 306, 'scale_pos_weight': 2.45864156873195}\n",
      "2025-02-21 12:22:23,812 | INFO     | xgboost_soccer_prediction |   Score: 0.3424878836833049\n"
     ]
    },
    {
     "name": "stderr",
     "output_type": "stream",
     "text": [
      "[I 2025-02-21 12:22:23,814] Trial 29 finished with value: 0.3424878836833049 and parameters: {'learning_rate': 0.031406438894627485, 'max_depth': 14, 'min_child_weight': 92, 'subsample': 0.5649819452370196, 'colsample_bytree': 0.7335598844787241, 'reg_alpha': 0.018330048160386487, 'reg_lambda': 7.093339539134448, 'gamma': 2.662839831492512, 'early_stopping_rounds': 306, 'scale_pos_weight': 2.45864156873195}. Best is trial 12 with value: 0.36503856041121724.\n"
     ]
    },
    {
     "name": "stdout",
     "output_type": "stream",
     "text": [
      "2025-02-21 12:22:23,814 | INFO     | xgboost_soccer_prediction | Current best score: 0.3650\n",
      "2025-02-21 12:22:25,602 | INFO     | xgboost_soccer_prediction | Optimized threshold: 0.540 with precision: 0.347\n",
      "2025-02-21 12:22:25,642 | INFO     | xgboost_soccer_prediction | Trial 30:\n",
      "2025-02-21 12:22:25,644 | INFO     | xgboost_soccer_prediction |   Params: {'objective': 'binary:logistic', 'tree_method': 'hist', 'eval_metric': ['logloss', 'auc'], 'verbose': -1, 'n_jobs': -1, 'random_state': 19, 'learning_rate': 0.02894172144886743, 'max_depth': 8, 'min_child_weight': 69, 'subsample': 0.6984226033573977, 'colsample_bytree': 0.6412705385792179, 'reg_alpha': 0.04371058341008449, 'reg_lambda': 11.998357952953361, 'gamma': 0.9623245444081163, 'early_stopping_rounds': 330, 'scale_pos_weight': 2.4809821405105117}\n",
      "2025-02-21 12:22:25,645 | INFO     | xgboost_soccer_prediction |   Score: 0.3467933491685637\n"
     ]
    },
    {
     "name": "stderr",
     "output_type": "stream",
     "text": [
      "[I 2025-02-21 12:22:25,647] Trial 30 finished with value: 0.3467933491685637 and parameters: {'learning_rate': 0.02894172144886743, 'max_depth': 8, 'min_child_weight': 69, 'subsample': 0.6984226033573977, 'colsample_bytree': 0.6412705385792179, 'reg_alpha': 0.04371058341008449, 'reg_lambda': 11.998357952953361, 'gamma': 0.9623245444081163, 'early_stopping_rounds': 330, 'scale_pos_weight': 2.4809821405105117}. Best is trial 12 with value: 0.36503856041121724.\n"
     ]
    },
    {
     "name": "stdout",
     "output_type": "stream",
     "text": [
      "2025-02-21 12:22:25,648 | INFO     | xgboost_soccer_prediction | Current best score: 0.3650\n",
      "2025-02-21 12:22:27,645 | INFO     | xgboost_soccer_prediction | Optimized threshold: 0.500 with precision: 0.349\n",
      "2025-02-21 12:22:27,680 | INFO     | xgboost_soccer_prediction | Trial 31:\n",
      "2025-02-21 12:22:27,683 | INFO     | xgboost_soccer_prediction |   Params: {'objective': 'binary:logistic', 'tree_method': 'hist', 'eval_metric': ['logloss', 'auc'], 'verbose': -1, 'n_jobs': -1, 'random_state': 19, 'learning_rate': 0.020433757094216024, 'max_depth': 13, 'min_child_weight': 61, 'subsample': 0.4569877374698102, 'colsample_bytree': 0.7026895167362913, 'reg_alpha': 0.02522513321562126, 'reg_lambda': 8.897137421639254, 'gamma': 1.1386394736513776, 'early_stopping_rounds': 323, 'scale_pos_weight': 2.441471642205997}\n",
      "2025-02-21 12:22:27,685 | INFO     | xgboost_soccer_prediction |   Score: 0.3486682808715863\n"
     ]
    },
    {
     "name": "stderr",
     "output_type": "stream",
     "text": [
      "[I 2025-02-21 12:22:27,687] Trial 31 finished with value: 0.3486682808715863 and parameters: {'learning_rate': 0.020433757094216024, 'max_depth': 13, 'min_child_weight': 61, 'subsample': 0.4569877374698102, 'colsample_bytree': 0.7026895167362913, 'reg_alpha': 0.02522513321562126, 'reg_lambda': 8.897137421639254, 'gamma': 1.1386394736513776, 'early_stopping_rounds': 323, 'scale_pos_weight': 2.441471642205997}. Best is trial 12 with value: 0.36503856041121724.\n"
     ]
    },
    {
     "name": "stdout",
     "output_type": "stream",
     "text": [
      "2025-02-21 12:22:27,687 | INFO     | xgboost_soccer_prediction | Current best score: 0.3650\n",
      "2025-02-21 12:22:29,672 | INFO     | xgboost_soccer_prediction | Optimized threshold: 0.510 with precision: 0.342\n",
      "2025-02-21 12:22:29,712 | INFO     | xgboost_soccer_prediction | Trial 32:\n",
      "2025-02-21 12:22:29,714 | INFO     | xgboost_soccer_prediction |   Params: {'objective': 'binary:logistic', 'tree_method': 'hist', 'eval_metric': ['logloss', 'auc'], 'verbose': -1, 'n_jobs': -1, 'random_state': 19, 'learning_rate': 0.022244690064313843, 'max_depth': 13, 'min_child_weight': 58, 'subsample': 0.4340716345243855, 'colsample_bytree': 0.7271670555005029, 'reg_alpha': 0.023218057318383393, 'reg_lambda': 8.793779182474383, 'gamma': 1.4020336960468407, 'early_stopping_rounds': 320, 'scale_pos_weight': 2.400533592255456}\n",
      "2025-02-21 12:22:29,716 | INFO     | xgboost_soccer_prediction |   Score: 0.342163355408313\n"
     ]
    },
    {
     "name": "stderr",
     "output_type": "stream",
     "text": [
      "[I 2025-02-21 12:22:29,718] Trial 32 finished with value: 0.342163355408313 and parameters: {'learning_rate': 0.022244690064313843, 'max_depth': 13, 'min_child_weight': 58, 'subsample': 0.4340716345243855, 'colsample_bytree': 0.7271670555005029, 'reg_alpha': 0.023218057318383393, 'reg_lambda': 8.793779182474383, 'gamma': 1.4020336960468407, 'early_stopping_rounds': 320, 'scale_pos_weight': 2.400533592255456}. Best is trial 12 with value: 0.36503856041121724.\n"
     ]
    },
    {
     "name": "stdout",
     "output_type": "stream",
     "text": [
      "2025-02-21 12:22:29,718 | INFO     | xgboost_soccer_prediction | Current best score: 0.3650\n",
      "2025-02-21 12:22:31,925 | INFO     | xgboost_soccer_prediction | Optimized threshold: 0.480 with precision: 0.342\n",
      "2025-02-21 12:22:31,962 | INFO     | xgboost_soccer_prediction | Trial 33:\n",
      "2025-02-21 12:22:31,964 | INFO     | xgboost_soccer_prediction |   Params: {'objective': 'binary:logistic', 'tree_method': 'hist', 'eval_metric': ['logloss', 'auc'], 'verbose': -1, 'n_jobs': -1, 'random_state': 19, 'learning_rate': 0.020346904050066755, 'max_depth': 14, 'min_child_weight': 53, 'subsample': 0.502505405302378, 'colsample_bytree': 0.687927277692412, 'reg_alpha': 0.016947872173317176, 'reg_lambda': 7.800530005815467, 'gamma': 0.32530645189813967, 'early_stopping_rounds': 327, 'scale_pos_weight': 2.414732927152417}\n",
      "2025-02-21 12:22:31,964 | INFO     | xgboost_soccer_prediction |   Score: 0.34191176470581947\n"
     ]
    },
    {
     "name": "stderr",
     "output_type": "stream",
     "text": [
      "[I 2025-02-21 12:22:31,968] Trial 33 finished with value: 0.34191176470581947 and parameters: {'learning_rate': 0.020346904050066755, 'max_depth': 14, 'min_child_weight': 53, 'subsample': 0.502505405302378, 'colsample_bytree': 0.687927277692412, 'reg_alpha': 0.016947872173317176, 'reg_lambda': 7.800530005815467, 'gamma': 0.32530645189813967, 'early_stopping_rounds': 327, 'scale_pos_weight': 2.414732927152417}. Best is trial 12 with value: 0.36503856041121724.\n"
     ]
    },
    {
     "name": "stdout",
     "output_type": "stream",
     "text": [
      "2025-02-21 12:22:31,969 | INFO     | xgboost_soccer_prediction | Current best score: 0.3650\n",
      "2025-02-21 12:22:34,047 | INFO     | xgboost_soccer_prediction | Optimized threshold: 0.520 with precision: 0.341\n",
      "2025-02-21 12:22:34,084 | INFO     | xgboost_soccer_prediction | Trial 34:\n",
      "2025-02-21 12:22:34,085 | INFO     | xgboost_soccer_prediction |   Params: {'objective': 'binary:logistic', 'tree_method': 'hist', 'eval_metric': ['logloss', 'auc'], 'verbose': -1, 'n_jobs': -1, 'random_state': 19, 'learning_rate': 0.022109938258787588, 'max_depth': 12, 'min_child_weight': 50, 'subsample': 0.4639539695413921, 'colsample_bytree': 0.7575224083596229, 'reg_alpha': 0.5333762361032415, 'reg_lambda': 8.321064423280033, 'gamma': 1.4963192178605966, 'early_stopping_rounds': 318, 'scale_pos_weight': 2.4335152449023565}\n",
      "2025-02-21 12:22:34,087 | INFO     | xgboost_soccer_prediction |   Score: 0.3412017167381242\n"
     ]
    },
    {
     "name": "stderr",
     "output_type": "stream",
     "text": [
      "[I 2025-02-21 12:22:34,089] Trial 34 finished with value: 0.3412017167381242 and parameters: {'learning_rate': 0.022109938258787588, 'max_depth': 12, 'min_child_weight': 50, 'subsample': 0.4639539695413921, 'colsample_bytree': 0.7575224083596229, 'reg_alpha': 0.5333762361032415, 'reg_lambda': 8.321064423280033, 'gamma': 1.4963192178605966, 'early_stopping_rounds': 318, 'scale_pos_weight': 2.4335152449023565}. Best is trial 12 with value: 0.36503856041121724.\n"
     ]
    },
    {
     "name": "stdout",
     "output_type": "stream",
     "text": [
      "2025-02-21 12:22:34,089 | INFO     | xgboost_soccer_prediction | Current best score: 0.3650\n",
      "2025-02-21 12:22:36,016 | INFO     | xgboost_soccer_prediction | Optimized threshold: 0.480 with precision: 0.338\n",
      "2025-02-21 12:22:36,054 | INFO     | xgboost_soccer_prediction | Trial 35:\n",
      "2025-02-21 12:22:36,056 | INFO     | xgboost_soccer_prediction |   Params: {'objective': 'binary:logistic', 'tree_method': 'hist', 'eval_metric': ['logloss', 'auc'], 'verbose': -1, 'n_jobs': -1, 'random_state': 19, 'learning_rate': 0.036282595945283165, 'max_depth': 13, 'min_child_weight': 64, 'subsample': 0.4086574491038356, 'colsample_bytree': 0.7784113632301098, 'reg_alpha': 0.03216785393208261, 'reg_lambda': 7.985197312224094, 'gamma': 0.8305722792538, 'early_stopping_rounds': 329, 'scale_pos_weight': 2.453700994076957}\n",
      "2025-02-21 12:22:36,056 | INFO     | xgboost_soccer_prediction |   Score: 0.3379923761117741\n"
     ]
    },
    {
     "name": "stderr",
     "output_type": "stream",
     "text": [
      "[I 2025-02-21 12:22:36,060] Trial 35 finished with value: 0.3379923761117741 and parameters: {'learning_rate': 0.036282595945283165, 'max_depth': 13, 'min_child_weight': 64, 'subsample': 0.4086574491038356, 'colsample_bytree': 0.7784113632301098, 'reg_alpha': 0.03216785393208261, 'reg_lambda': 7.985197312224094, 'gamma': 0.8305722792538, 'early_stopping_rounds': 329, 'scale_pos_weight': 2.453700994076957}. Best is trial 12 with value: 0.36503856041121724.\n"
     ]
    },
    {
     "name": "stdout",
     "output_type": "stream",
     "text": [
      "2025-02-21 12:22:36,060 | INFO     | xgboost_soccer_prediction | Current best score: 0.3650\n",
      "2025-02-21 12:22:38,440 | INFO     | xgboost_soccer_prediction | Optimized threshold: 0.530 with precision: 0.348\n",
      "2025-02-21 12:22:38,477 | INFO     | xgboost_soccer_prediction | Trial 36:\n",
      "2025-02-21 12:22:38,479 | INFO     | xgboost_soccer_prediction |   Params: {'objective': 'binary:logistic', 'tree_method': 'hist', 'eval_metric': ['logloss', 'auc'], 'verbose': -1, 'n_jobs': -1, 'random_state': 19, 'learning_rate': 0.04247187078592423, 'max_depth': 14, 'min_child_weight': 55, 'subsample': 0.5915319621661477, 'colsample_bytree': 0.710072037240421, 'reg_alpha': 0.3052504217648215, 'reg_lambda': 10.326046863517263, 'gamma': 1.2288046308021618, 'early_stopping_rounds': 334, 'scale_pos_weight': 2.411897459281977}\n",
      "2025-02-21 12:22:38,481 | INFO     | xgboost_soccer_prediction |   Score: 0.3476070528966379\n"
     ]
    },
    {
     "name": "stderr",
     "output_type": "stream",
     "text": [
      "[I 2025-02-21 12:22:38,484] Trial 36 finished with value: 0.3476070528966379 and parameters: {'learning_rate': 0.04247187078592423, 'max_depth': 14, 'min_child_weight': 55, 'subsample': 0.5915319621661477, 'colsample_bytree': 0.710072037240421, 'reg_alpha': 0.3052504217648215, 'reg_lambda': 10.326046863517263, 'gamma': 1.2288046308021618, 'early_stopping_rounds': 334, 'scale_pos_weight': 2.411897459281977}. Best is trial 12 with value: 0.36503856041121724.\n"
     ]
    },
    {
     "name": "stdout",
     "output_type": "stream",
     "text": [
      "2025-02-21 12:22:38,484 | INFO     | xgboost_soccer_prediction | Current best score: 0.3650\n",
      "2025-02-21 12:22:40,414 | INFO     | xgboost_soccer_prediction | Optimized threshold: 0.530 with precision: 0.346\n",
      "2025-02-21 12:22:40,454 | INFO     | xgboost_soccer_prediction | Trial 37:\n",
      "2025-02-21 12:22:40,456 | INFO     | xgboost_soccer_prediction |   Params: {'objective': 'binary:logistic', 'tree_method': 'hist', 'eval_metric': ['logloss', 'auc'], 'verbose': -1, 'n_jobs': -1, 'random_state': 19, 'learning_rate': 0.024022031083081995, 'max_depth': 9, 'min_child_weight': 60, 'subsample': 0.6564327546999182, 'colsample_bytree': 0.7522587980198127, 'reg_alpha': 0.051699768191026056, 'reg_lambda': 8.505021572286582, 'gamma': 1.6082964503321173, 'early_stopping_rounds': 325, 'scale_pos_weight': 2.5039591550107625}\n",
      "2025-02-21 12:22:40,458 | INFO     | xgboost_soccer_prediction |   Score: 0.34606741573025934\n"
     ]
    },
    {
     "name": "stderr",
     "output_type": "stream",
     "text": [
      "[I 2025-02-21 12:22:40,460] Trial 37 finished with value: 0.34606741573025934 and parameters: {'learning_rate': 0.024022031083081995, 'max_depth': 9, 'min_child_weight': 60, 'subsample': 0.6564327546999182, 'colsample_bytree': 0.7522587980198127, 'reg_alpha': 0.051699768191026056, 'reg_lambda': 8.505021572286582, 'gamma': 1.6082964503321173, 'early_stopping_rounds': 325, 'scale_pos_weight': 2.5039591550107625}. Best is trial 12 with value: 0.36503856041121724.\n"
     ]
    },
    {
     "name": "stdout",
     "output_type": "stream",
     "text": [
      "2025-02-21 12:22:40,460 | INFO     | xgboost_soccer_prediction | Current best score: 0.3650\n",
      "2025-02-21 12:22:42,352 | INFO     | xgboost_soccer_prediction | Optimized threshold: 0.500 with precision: 0.338\n",
      "2025-02-21 12:22:42,392 | INFO     | xgboost_soccer_prediction | Trial 38:\n",
      "2025-02-21 12:22:42,394 | INFO     | xgboost_soccer_prediction |   Params: {'objective': 'binary:logistic', 'tree_method': 'hist', 'eval_metric': ['logloss', 'auc'], 'verbose': -1, 'n_jobs': -1, 'random_state': 19, 'learning_rate': 0.025947063798414327, 'max_depth': 13, 'min_child_weight': 66, 'subsample': 0.4348941858723784, 'colsample_bytree': 0.6643433498823084, 'reg_alpha': 0.02820423713317785, 'reg_lambda': 9.078701267952892, 'gamma': 0.423999528646792, 'early_stopping_rounds': 313, 'scale_pos_weight': 2.438989611356515}\n",
      "2025-02-21 12:22:42,396 | INFO     | xgboost_soccer_prediction |   Score: 0.338259441707662\n"
     ]
    },
    {
     "name": "stderr",
     "output_type": "stream",
     "text": [
      "[I 2025-02-21 12:22:42,398] Trial 38 finished with value: 0.338259441707662 and parameters: {'learning_rate': 0.025947063798414327, 'max_depth': 13, 'min_child_weight': 66, 'subsample': 0.4348941858723784, 'colsample_bytree': 0.6643433498823084, 'reg_alpha': 0.02820423713317785, 'reg_lambda': 9.078701267952892, 'gamma': 0.423999528646792, 'early_stopping_rounds': 313, 'scale_pos_weight': 2.438989611356515}. Best is trial 12 with value: 0.36503856041121724.\n"
     ]
    },
    {
     "name": "stdout",
     "output_type": "stream",
     "text": [
      "2025-02-21 12:22:42,398 | INFO     | xgboost_soccer_prediction | Current best score: 0.3650\n",
      "2025-02-21 12:22:44,114 | INFO     | xgboost_soccer_prediction | Optimized threshold: 0.490 with precision: 0.332\n",
      "2025-02-21 12:22:44,151 | INFO     | xgboost_soccer_prediction | Trial 39:\n",
      "2025-02-21 12:22:44,152 | INFO     | xgboost_soccer_prediction |   Params: {'objective': 'binary:logistic', 'tree_method': 'hist', 'eval_metric': ['logloss', 'auc'], 'verbose': -1, 'n_jobs': -1, 'random_state': 19, 'learning_rate': 0.03223509874972839, 'max_depth': 11, 'min_child_weight': 92, 'subsample': 0.49933192349092087, 'colsample_bytree': 0.727230519189053, 'reg_alpha': 0.014757908174547918, 'reg_lambda': 7.401978571556811, 'gamma': 2.079972374712245, 'early_stopping_rounds': 316, 'scale_pos_weight': 2.4793086132906947}\n",
      "2025-02-21 12:22:44,154 | INFO     | xgboost_soccer_prediction |   Score: 0.3322884012538664\n"
     ]
    },
    {
     "name": "stderr",
     "output_type": "stream",
     "text": [
      "[I 2025-02-21 12:22:44,156] Trial 39 finished with value: 0.3322884012538664 and parameters: {'learning_rate': 0.03223509874972839, 'max_depth': 11, 'min_child_weight': 92, 'subsample': 0.49933192349092087, 'colsample_bytree': 0.727230519189053, 'reg_alpha': 0.014757908174547918, 'reg_lambda': 7.401978571556811, 'gamma': 2.079972374712245, 'early_stopping_rounds': 316, 'scale_pos_weight': 2.4793086132906947}. Best is trial 12 with value: 0.36503856041121724.\n"
     ]
    },
    {
     "name": "stdout",
     "output_type": "stream",
     "text": [
      "2025-02-21 12:22:44,156 | INFO     | xgboost_soccer_prediction | Current best score: 0.3650\n",
      "2025-02-21 12:22:46,276 | INFO     | xgboost_soccer_prediction | Optimized threshold: 0.520 with precision: 0.341\n",
      "2025-02-21 12:22:46,318 | INFO     | xgboost_soccer_prediction | Trial 40:\n",
      "2025-02-21 12:22:46,319 | INFO     | xgboost_soccer_prediction |   Params: {'objective': 'binary:logistic', 'tree_method': 'hist', 'eval_metric': ['logloss', 'auc'], 'verbose': -1, 'n_jobs': -1, 'random_state': 19, 'learning_rate': 0.021591826033344086, 'max_depth': 12, 'min_child_weight': 52, 'subsample': 0.4481748070431445, 'colsample_bytree': 0.6969265126243108, 'reg_alpha': 0.037794736265869676, 'reg_lambda': 11.530612678916507, 'gamma': 1.7410033842708468, 'early_stopping_rounds': 321, 'scale_pos_weight': 2.4223016422441255}\n",
      "2025-02-21 12:22:46,321 | INFO     | xgboost_soccer_prediction |   Score: 0.3414096916298808\n"
     ]
    },
    {
     "name": "stderr",
     "output_type": "stream",
     "text": [
      "[I 2025-02-21 12:22:46,323] Trial 40 finished with value: 0.3414096916298808 and parameters: {'learning_rate': 0.021591826033344086, 'max_depth': 12, 'min_child_weight': 52, 'subsample': 0.4481748070431445, 'colsample_bytree': 0.6969265126243108, 'reg_alpha': 0.037794736265869676, 'reg_lambda': 11.530612678916507, 'gamma': 1.7410033842708468, 'early_stopping_rounds': 321, 'scale_pos_weight': 2.4223016422441255}. Best is trial 12 with value: 0.36503856041121724.\n"
     ]
    },
    {
     "name": "stdout",
     "output_type": "stream",
     "text": [
      "2025-02-21 12:22:46,323 | INFO     | xgboost_soccer_prediction | Current best score: 0.3650\n",
      "2025-02-21 12:22:48,510 | INFO     | xgboost_soccer_prediction | Optimized threshold: 0.510 with precision: 0.341\n",
      "2025-02-21 12:22:48,550 | INFO     | xgboost_soccer_prediction | Trial 41:\n",
      "2025-02-21 12:22:48,551 | INFO     | xgboost_soccer_prediction |   Params: {'objective': 'binary:logistic', 'tree_method': 'hist', 'eval_metric': ['logloss', 'auc'], 'verbose': -1, 'n_jobs': -1, 'random_state': 19, 'learning_rate': 0.02775271537283332, 'max_depth': 10, 'min_child_weight': 50, 'subsample': 0.678438448246656, 'colsample_bytree': 0.7122510193276305, 'reg_alpha': 0.3497049107198972, 'reg_lambda': 10.67290038392463, 'gamma': 1.9688401633105286, 'early_stopping_rounds': 327, 'scale_pos_weight': 2.4289649261320836}\n",
      "2025-02-21 12:22:48,552 | INFO     | xgboost_soccer_prediction |   Score: 0.34064327485375134\n"
     ]
    },
    {
     "name": "stderr",
     "output_type": "stream",
     "text": [
      "[I 2025-02-21 12:22:48,554] Trial 41 finished with value: 0.34064327485375134 and parameters: {'learning_rate': 0.02775271537283332, 'max_depth': 10, 'min_child_weight': 50, 'subsample': 0.678438448246656, 'colsample_bytree': 0.7122510193276305, 'reg_alpha': 0.3497049107198972, 'reg_lambda': 10.67290038392463, 'gamma': 1.9688401633105286, 'early_stopping_rounds': 327, 'scale_pos_weight': 2.4289649261320836}. Best is trial 12 with value: 0.36503856041121724.\n"
     ]
    },
    {
     "name": "stdout",
     "output_type": "stream",
     "text": [
      "2025-02-21 12:22:48,556 | INFO     | xgboost_soccer_prediction | Current best score: 0.3650\n",
      "2025-02-21 12:22:50,651 | INFO     | xgboost_soccer_prediction | Optimized threshold: 0.510 with precision: 0.370\n",
      "2025-02-21 12:22:50,691 | INFO     | xgboost_soccer_prediction | Trial 42:\n",
      "2025-02-21 12:22:50,693 | INFO     | xgboost_soccer_prediction |   Params: {'objective': 'binary:logistic', 'tree_method': 'hist', 'eval_metric': ['logloss', 'auc'], 'verbose': -1, 'n_jobs': -1, 'random_state': 19, 'learning_rate': 0.02342995737062931, 'max_depth': 10, 'min_child_weight': 57, 'subsample': 0.6379628961994726, 'colsample_bytree': 0.7061727831332887, 'reg_alpha': 0.45028544609318505, 'reg_lambda': 10.629310240958844, 'gamma': 1.8067536544147895, 'early_stopping_rounds': 332, 'scale_pos_weight': 2.409640289726406}\n",
      "2025-02-21 12:22:50,695 | INFO     | xgboost_soccer_prediction |   Score: 0.37024221453280787\n"
     ]
    },
    {
     "name": "stderr",
     "output_type": "stream",
     "text": [
      "[I 2025-02-21 12:22:50,697] Trial 42 finished with value: 0.37024221453280787 and parameters: {'learning_rate': 0.02342995737062931, 'max_depth': 10, 'min_child_weight': 57, 'subsample': 0.6379628961994726, 'colsample_bytree': 0.7061727831332887, 'reg_alpha': 0.45028544609318505, 'reg_lambda': 10.629310240958844, 'gamma': 1.8067536544147895, 'early_stopping_rounds': 332, 'scale_pos_weight': 2.409640289726406}. Best is trial 42 with value: 0.37024221453280787.\n"
     ]
    },
    {
     "name": "stdout",
     "output_type": "stream",
     "text": [
      "2025-02-21 12:22:50,697 | INFO     | xgboost_soccer_prediction | Current best score: 0.3650\n",
      "2025-02-21 12:22:50,700 | INFO     | xgboost_soccer_prediction | New best score found in trial 42: 0.3702\n",
      "2025-02-21 12:22:52,730 | INFO     | xgboost_soccer_prediction | Optimized threshold: 0.530 with precision: 0.371\n",
      "2025-02-21 12:22:52,770 | INFO     | xgboost_soccer_prediction | Trial 43:\n",
      "2025-02-21 12:22:52,773 | INFO     | xgboost_soccer_prediction |   Params: {'objective': 'binary:logistic', 'tree_method': 'hist', 'eval_metric': ['logloss', 'auc'], 'verbose': -1, 'n_jobs': -1, 'random_state': 19, 'learning_rate': 0.023317485523179263, 'max_depth': 9, 'min_child_weight': 56, 'subsample': 0.6445964430975312, 'colsample_bytree': 0.6905745025535895, 'reg_alpha': 0.5441747207822268, 'reg_lambda': 10.872865206559323, 'gamma': 2.4335862674234225, 'early_stopping_rounds': 334, 'scale_pos_weight': 2.4080688448989336}\n",
      "2025-02-21 12:22:52,773 | INFO     | xgboost_soccer_prediction |   Score: 0.3709677419353984\n"
     ]
    },
    {
     "name": "stderr",
     "output_type": "stream",
     "text": [
      "[I 2025-02-21 12:22:52,775] Trial 43 finished with value: 0.3709677419353984 and parameters: {'learning_rate': 0.023317485523179263, 'max_depth': 9, 'min_child_weight': 56, 'subsample': 0.6445964430975312, 'colsample_bytree': 0.6905745025535895, 'reg_alpha': 0.5441747207822268, 'reg_lambda': 10.872865206559323, 'gamma': 2.4335862674234225, 'early_stopping_rounds': 334, 'scale_pos_weight': 2.4080688448989336}. Best is trial 43 with value: 0.3709677419353984.\n"
     ]
    },
    {
     "name": "stdout",
     "output_type": "stream",
     "text": [
      "2025-02-21 12:22:52,775 | INFO     | xgboost_soccer_prediction | Current best score: 0.3702\n",
      "2025-02-21 12:22:52,777 | INFO     | xgboost_soccer_prediction | New best score found in trial 43: 0.3710\n",
      "2025-02-21 12:22:54,768 | INFO     | xgboost_soccer_prediction | Optimized threshold: 0.530 with precision: 0.365\n",
      "2025-02-21 12:22:54,804 | INFO     | xgboost_soccer_prediction | Trial 44:\n",
      "2025-02-21 12:22:54,806 | INFO     | xgboost_soccer_prediction |   Params: {'objective': 'binary:logistic', 'tree_method': 'hist', 'eval_metric': ['logloss', 'auc'], 'verbose': -1, 'n_jobs': -1, 'random_state': 19, 'learning_rate': 0.023228887292194113, 'max_depth': 9, 'min_child_weight': 56, 'subsample': 0.6604407237714088, 'colsample_bytree': 0.6681211345156798, 'reg_alpha': 0.5584158434385722, 'reg_lambda': 10.271840221726693, 'gamma': 2.413967589231648, 'early_stopping_rounds': 339, 'scale_pos_weight': 2.4074484161775187}\n",
      "2025-02-21 12:22:54,808 | INFO     | xgboost_soccer_prediction |   Score: 0.3647342995168201\n"
     ]
    },
    {
     "name": "stderr",
     "output_type": "stream",
     "text": [
      "[I 2025-02-21 12:22:54,810] Trial 44 finished with value: 0.3647342995168201 and parameters: {'learning_rate': 0.023228887292194113, 'max_depth': 9, 'min_child_weight': 56, 'subsample': 0.6604407237714088, 'colsample_bytree': 0.6681211345156798, 'reg_alpha': 0.5584158434385722, 'reg_lambda': 10.271840221726693, 'gamma': 2.413967589231648, 'early_stopping_rounds': 339, 'scale_pos_weight': 2.4074484161775187}. Best is trial 43 with value: 0.3709677419353984.\n"
     ]
    },
    {
     "name": "stdout",
     "output_type": "stream",
     "text": [
      "2025-02-21 12:22:54,810 | INFO     | xgboost_soccer_prediction | Current best score: 0.3710\n",
      "2025-02-21 12:22:56,902 | INFO     | xgboost_soccer_prediction | Optimized threshold: 0.500 with precision: 0.351\n",
      "2025-02-21 12:22:56,944 | INFO     | xgboost_soccer_prediction | Trial 45:\n",
      "2025-02-21 12:22:56,946 | INFO     | xgboost_soccer_prediction |   Params: {'objective': 'binary:logistic', 'tree_method': 'hist', 'eval_metric': ['logloss', 'auc'], 'verbose': -1, 'n_jobs': -1, 'random_state': 19, 'learning_rate': 0.023505603412981965, 'max_depth': 9, 'min_child_weight': 55, 'subsample': 0.6378845089438201, 'colsample_bytree': 0.6663186139769979, 'reg_alpha': 0.5111477069873832, 'reg_lambda': 10.91826792982469, 'gamma': 2.458491616780735, 'early_stopping_rounds': 340, 'scale_pos_weight': 2.407863331623173}\n",
      "2025-02-21 12:22:56,947 | INFO     | xgboost_soccer_prediction |   Score: 0.3512544802866754\n"
     ]
    },
    {
     "name": "stderr",
     "output_type": "stream",
     "text": [
      "[I 2025-02-21 12:22:56,949] Trial 45 finished with value: 0.3512544802866754 and parameters: {'learning_rate': 0.023505603412981965, 'max_depth': 9, 'min_child_weight': 55, 'subsample': 0.6378845089438201, 'colsample_bytree': 0.6663186139769979, 'reg_alpha': 0.5111477069873832, 'reg_lambda': 10.91826792982469, 'gamma': 2.458491616780735, 'early_stopping_rounds': 340, 'scale_pos_weight': 2.407863331623173}. Best is trial 43 with value: 0.3709677419353984.\n"
     ]
    },
    {
     "name": "stdout",
     "output_type": "stream",
     "text": [
      "2025-02-21 12:22:56,950 | INFO     | xgboost_soccer_prediction | Current best score: 0.3710\n",
      "2025-02-21 12:22:58,983 | INFO     | xgboost_soccer_prediction | Optimized threshold: 0.530 with precision: 0.344\n",
      "2025-02-21 12:22:59,024 | INFO     | xgboost_soccer_prediction | Trial 46:\n",
      "2025-02-21 12:22:59,026 | INFO     | xgboost_soccer_prediction |   Params: {'objective': 'binary:logistic', 'tree_method': 'hist', 'eval_metric': ['logloss', 'auc'], 'verbose': -1, 'n_jobs': -1, 'random_state': 19, 'learning_rate': 0.0250588552398792, 'max_depth': 10, 'min_child_weight': 63, 'subsample': 0.6605463388528354, 'colsample_bytree': 0.644324803718246, 'reg_alpha': 0.8209103803145115, 'reg_lambda': 10.213256030780917, 'gamma': 2.845760091192719, 'early_stopping_rounds': 337, 'scale_pos_weight': 2.408363869151692}\n",
      "2025-02-21 12:22:59,026 | INFO     | xgboost_soccer_prediction |   Score: 0.3443708609270763\n"
     ]
    },
    {
     "name": "stderr",
     "output_type": "stream",
     "text": [
      "[I 2025-02-21 12:22:59,030] Trial 46 finished with value: 0.3443708609270763 and parameters: {'learning_rate': 0.0250588552398792, 'max_depth': 10, 'min_child_weight': 63, 'subsample': 0.6605463388528354, 'colsample_bytree': 0.644324803718246, 'reg_alpha': 0.8209103803145115, 'reg_lambda': 10.213256030780917, 'gamma': 2.845760091192719, 'early_stopping_rounds': 337, 'scale_pos_weight': 2.408363869151692}. Best is trial 43 with value: 0.3709677419353984.\n"
     ]
    },
    {
     "name": "stdout",
     "output_type": "stream",
     "text": [
      "2025-02-21 12:22:59,030 | INFO     | xgboost_soccer_prediction | Current best score: 0.3710\n",
      "2025-02-21 12:23:00,943 | INFO     | xgboost_soccer_prediction | Optimized threshold: 0.520 with precision: 0.347\n",
      "2025-02-21 12:23:00,978 | INFO     | xgboost_soccer_prediction | Trial 47:\n",
      "2025-02-21 12:23:00,980 | INFO     | xgboost_soccer_prediction |   Params: {'objective': 'binary:logistic', 'tree_method': 'hist', 'eval_metric': ['logloss', 'auc'], 'verbose': -1, 'n_jobs': -1, 'random_state': 19, 'learning_rate': 0.023313362284061424, 'max_depth': 9, 'min_child_weight': 56, 'subsample': 0.5985845625917314, 'colsample_bytree': 0.6875875638832093, 'reg_alpha': 0.6174770426507659, 'reg_lambda': 11.548340500189033, 'gamma': 2.339777194544612, 'early_stopping_rounds': 343, 'scale_pos_weight': 2.4019231136664763}\n",
      "2025-02-21 12:23:00,980 | INFO     | xgboost_soccer_prediction |   Score: 0.3469827586206149\n"
     ]
    },
    {
     "name": "stderr",
     "output_type": "stream",
     "text": [
      "[I 2025-02-21 12:23:00,984] Trial 47 finished with value: 0.3469827586206149 and parameters: {'learning_rate': 0.023313362284061424, 'max_depth': 9, 'min_child_weight': 56, 'subsample': 0.5985845625917314, 'colsample_bytree': 0.6875875638832093, 'reg_alpha': 0.6174770426507659, 'reg_lambda': 11.548340500189033, 'gamma': 2.339777194544612, 'early_stopping_rounds': 343, 'scale_pos_weight': 2.4019231136664763}. Best is trial 43 with value: 0.3709677419353984.\n"
     ]
    },
    {
     "name": "stdout",
     "output_type": "stream",
     "text": [
      "2025-02-21 12:23:00,985 | INFO     | xgboost_soccer_prediction | Current best score: 0.3710\n",
      "2025-02-21 12:23:02,764 | INFO     | xgboost_soccer_prediction | Optimized threshold: 0.540 with precision: 0.361\n",
      "2025-02-21 12:23:02,803 | INFO     | xgboost_soccer_prediction | Trial 48:\n",
      "2025-02-21 12:23:02,805 | INFO     | xgboost_soccer_prediction |   Params: {'objective': 'binary:logistic', 'tree_method': 'hist', 'eval_metric': ['logloss', 'auc'], 'verbose': -1, 'n_jobs': -1, 'random_state': 19, 'learning_rate': 0.02133382504507752, 'max_depth': 8, 'min_child_weight': 68, 'subsample': 0.6925448450276671, 'colsample_bytree': 0.6245533895211681, 'reg_alpha': 0.5040432244720525, 'reg_lambda': 9.805311689936497, 'gamma': 2.5007748367605034, 'early_stopping_rounds': 337, 'scale_pos_weight': 2.549059090308988}\n",
      "2025-02-21 12:23:02,807 | INFO     | xgboost_soccer_prediction |   Score: 0.36069114470834546\n"
     ]
    },
    {
     "name": "stderr",
     "output_type": "stream",
     "text": [
      "[I 2025-02-21 12:23:02,809] Trial 48 finished with value: 0.36069114470834546 and parameters: {'learning_rate': 0.02133382504507752, 'max_depth': 8, 'min_child_weight': 68, 'subsample': 0.6925448450276671, 'colsample_bytree': 0.6245533895211681, 'reg_alpha': 0.5040432244720525, 'reg_lambda': 9.805311689936497, 'gamma': 2.5007748367605034, 'early_stopping_rounds': 337, 'scale_pos_weight': 2.549059090308988}. Best is trial 43 with value: 0.3709677419353984.\n"
     ]
    },
    {
     "name": "stdout",
     "output_type": "stream",
     "text": [
      "2025-02-21 12:23:02,809 | INFO     | xgboost_soccer_prediction | Current best score: 0.3710\n",
      "2025-02-21 12:23:04,628 | INFO     | xgboost_soccer_prediction | Optimized threshold: 0.520 with precision: 0.345\n",
      "2025-02-21 12:23:04,668 | INFO     | xgboost_soccer_prediction | Trial 49:\n",
      "2025-02-21 12:23:04,668 | INFO     | xgboost_soccer_prediction |   Params: {'objective': 'binary:logistic', 'tree_method': 'hist', 'eval_metric': ['logloss', 'auc'], 'verbose': -1, 'n_jobs': -1, 'random_state': 19, 'learning_rate': 0.022754877449192037, 'max_depth': 10, 'min_child_weight': 87, 'subsample': 0.6251781078188868, 'colsample_bytree': 0.6581256856639758, 'reg_alpha': 0.7668522120225184, 'reg_lambda': 9.474294907613903, 'gamma': 2.1279734944141553, 'early_stopping_rounds': 331, 'scale_pos_weight': 2.4120622630122113}\n",
      "2025-02-21 12:23:04,670 | INFO     | xgboost_soccer_prediction |   Score: 0.3454545454544757\n"
     ]
    },
    {
     "name": "stderr",
     "output_type": "stream",
     "text": [
      "[I 2025-02-21 12:23:04,672] Trial 49 finished with value: 0.3454545454544757 and parameters: {'learning_rate': 0.022754877449192037, 'max_depth': 10, 'min_child_weight': 87, 'subsample': 0.6251781078188868, 'colsample_bytree': 0.6581256856639758, 'reg_alpha': 0.7668522120225184, 'reg_lambda': 9.474294907613903, 'gamma': 2.1279734944141553, 'early_stopping_rounds': 331, 'scale_pos_weight': 2.4120622630122113}. Best is trial 43 with value: 0.3709677419353984.\n"
     ]
    },
    {
     "name": "stdout",
     "output_type": "stream",
     "text": [
      "2025-02-21 12:23:04,674 | INFO     | xgboost_soccer_prediction | Current best score: 0.3710\n",
      "2025-02-21 12:23:06,791 | INFO     | xgboost_soccer_prediction | Optimized threshold: 0.540 with precision: 0.344\n",
      "2025-02-21 12:23:06,831 | INFO     | xgboost_soccer_prediction | Trial 50:\n",
      "2025-02-21 12:23:06,831 | INFO     | xgboost_soccer_prediction |   Params: {'objective': 'binary:logistic', 'tree_method': 'hist', 'eval_metric': ['logloss', 'auc'], 'verbose': -1, 'n_jobs': -1, 'random_state': 19, 'learning_rate': 0.026202439983431018, 'max_depth': 11, 'min_child_weight': 65, 'subsample': 0.666659258656391, 'colsample_bytree': 0.6717932547743855, 'reg_alpha': 0.2697494176155489, 'reg_lambda': 10.402459572180456, 'gamma': 2.80569117926724, 'early_stopping_rounds': 332, 'scale_pos_weight': 2.4211522123946385}\n",
      "2025-02-21 12:23:06,834 | INFO     | xgboost_soccer_prediction |   Score: 0.34413965087273213\n"
     ]
    },
    {
     "name": "stderr",
     "output_type": "stream",
     "text": [
      "[I 2025-02-21 12:23:06,837] Trial 50 finished with value: 0.34413965087273213 and parameters: {'learning_rate': 0.026202439983431018, 'max_depth': 11, 'min_child_weight': 65, 'subsample': 0.666659258656391, 'colsample_bytree': 0.6717932547743855, 'reg_alpha': 0.2697494176155489, 'reg_lambda': 10.402459572180456, 'gamma': 2.80569117926724, 'early_stopping_rounds': 332, 'scale_pos_weight': 2.4211522123946385}. Best is trial 43 with value: 0.3709677419353984.\n"
     ]
    },
    {
     "name": "stdout",
     "output_type": "stream",
     "text": [
      "2025-02-21 12:23:06,838 | INFO     | xgboost_soccer_prediction | Current best score: 0.3710\n",
      "2025-02-21 12:23:08,573 | INFO     | xgboost_soccer_prediction | Optimized threshold: 0.540 with precision: 0.348\n",
      "2025-02-21 12:23:08,610 | INFO     | xgboost_soccer_prediction | Trial 51:\n",
      "2025-02-21 12:23:08,612 | INFO     | xgboost_soccer_prediction |   Params: {'objective': 'binary:logistic', 'tree_method': 'hist', 'eval_metric': ['logloss', 'auc'], 'verbose': -1, 'n_jobs': -1, 'random_state': 19, 'learning_rate': 0.021213142211760228, 'max_depth': 8, 'min_child_weight': 68, 'subsample': 0.6906646513299737, 'colsample_bytree': 0.622464077552806, 'reg_alpha': 0.4764182378345237, 'reg_lambda': 9.794472633423933, 'gamma': 2.4204729116457635, 'early_stopping_rounds': 337, 'scale_pos_weight': 2.5839548323822235}\n",
      "2025-02-21 12:23:08,614 | INFO     | xgboost_soccer_prediction |   Score: 0.34841628959268134\n"
     ]
    },
    {
     "name": "stderr",
     "output_type": "stream",
     "text": [
      "[I 2025-02-21 12:23:08,616] Trial 51 finished with value: 0.34841628959268134 and parameters: {'learning_rate': 0.021213142211760228, 'max_depth': 8, 'min_child_weight': 68, 'subsample': 0.6906646513299737, 'colsample_bytree': 0.622464077552806, 'reg_alpha': 0.4764182378345237, 'reg_lambda': 9.794472633423933, 'gamma': 2.4204729116457635, 'early_stopping_rounds': 337, 'scale_pos_weight': 2.5839548323822235}. Best is trial 43 with value: 0.3709677419353984.\n"
     ]
    },
    {
     "name": "stdout",
     "output_type": "stream",
     "text": [
      "2025-02-21 12:23:08,617 | INFO     | xgboost_soccer_prediction | Current best score: 0.3710\n",
      "2025-02-21 12:23:10,397 | INFO     | xgboost_soccer_prediction | Optimized threshold: 0.540 with precision: 0.362\n",
      "2025-02-21 12:23:10,438 | INFO     | xgboost_soccer_prediction | Trial 52:\n",
      "2025-02-21 12:23:10,440 | INFO     | xgboost_soccer_prediction |   Params: {'objective': 'binary:logistic', 'tree_method': 'hist', 'eval_metric': ['logloss', 'auc'], 'verbose': -1, 'n_jobs': -1, 'random_state': 19, 'learning_rate': 0.021121069396738742, 'max_depth': 8, 'min_child_weight': 60, 'subsample': 0.6783503922697445, 'colsample_bytree': 0.6505438934538187, 'reg_alpha': 0.6449697599124743, 'reg_lambda': 10.779473546573529, 'gamma': 2.5330346258652674, 'early_stopping_rounds': 344, 'scale_pos_weight': 2.5373969801430705}\n",
      "2025-02-21 12:23:10,441 | INFO     | xgboost_soccer_prediction |   Score: 0.36165048543680545\n"
     ]
    },
    {
     "name": "stderr",
     "output_type": "stream",
     "text": [
      "[I 2025-02-21 12:23:10,443] Trial 52 finished with value: 0.36165048543680545 and parameters: {'learning_rate': 0.021121069396738742, 'max_depth': 8, 'min_child_weight': 60, 'subsample': 0.6783503922697445, 'colsample_bytree': 0.6505438934538187, 'reg_alpha': 0.6449697599124743, 'reg_lambda': 10.779473546573529, 'gamma': 2.5330346258652674, 'early_stopping_rounds': 344, 'scale_pos_weight': 2.5373969801430705}. Best is trial 43 with value: 0.3709677419353984.\n"
     ]
    },
    {
     "name": "stdout",
     "output_type": "stream",
     "text": [
      "2025-02-21 12:23:10,444 | INFO     | xgboost_soccer_prediction | Current best score: 0.3710\n",
      "2025-02-21 12:23:12,532 | INFO     | xgboost_soccer_prediction | Optimized threshold: 0.540 with precision: 0.358\n",
      "2025-02-21 12:23:12,573 | INFO     | xgboost_soccer_prediction | Trial 53:\n",
      "2025-02-21 12:23:12,575 | INFO     | xgboost_soccer_prediction |   Params: {'objective': 'binary:logistic', 'tree_method': 'hist', 'eval_metric': ['logloss', 'auc'], 'verbose': -1, 'n_jobs': -1, 'random_state': 19, 'learning_rate': 0.025108536525670494, 'max_depth': 9, 'min_child_weight': 57, 'subsample': 0.6517379224026446, 'colsample_bytree': 0.6527227616116825, 'reg_alpha': 0.6721229888836403, 'reg_lambda': 11.317272310983517, 'gamma': 2.2078224962440673, 'early_stopping_rounds': 344, 'scale_pos_weight': 2.4950676010887456}\n",
      "2025-02-21 12:23:12,575 | INFO     | xgboost_soccer_prediction |   Score: 0.35844155844146536\n"
     ]
    },
    {
     "name": "stderr",
     "output_type": "stream",
     "text": [
      "[I 2025-02-21 12:23:12,577] Trial 53 finished with value: 0.35844155844146536 and parameters: {'learning_rate': 0.025108536525670494, 'max_depth': 9, 'min_child_weight': 57, 'subsample': 0.6517379224026446, 'colsample_bytree': 0.6527227616116825, 'reg_alpha': 0.6721229888836403, 'reg_lambda': 11.317272310983517, 'gamma': 2.2078224962440673, 'early_stopping_rounds': 344, 'scale_pos_weight': 2.4950676010887456}. Best is trial 43 with value: 0.3709677419353984.\n"
     ]
    },
    {
     "name": "stdout",
     "output_type": "stream",
     "text": [
      "2025-02-21 12:23:12,579 | INFO     | xgboost_soccer_prediction | Current best score: 0.3710\n",
      "2025-02-21 12:23:14,396 | INFO     | xgboost_soccer_prediction | Optimized threshold: 0.540 with precision: 0.361\n",
      "2025-02-21 12:23:14,435 | INFO     | xgboost_soccer_prediction | Trial 54:\n",
      "2025-02-21 12:23:14,437 | INFO     | xgboost_soccer_prediction |   Params: {'objective': 'binary:logistic', 'tree_method': 'hist', 'eval_metric': ['logloss', 'auc'], 'verbose': -1, 'n_jobs': -1, 'random_state': 19, 'learning_rate': 0.022320310370692396, 'max_depth': 8, 'min_child_weight': 53, 'subsample': 0.6783093535405429, 'colsample_bytree': 0.6439623377890257, 'reg_alpha': 0.9608026750740154, 'reg_lambda': 10.838469086905109, 'gamma': 2.584927057289583, 'early_stopping_rounds': 348, 'scale_pos_weight': 2.532399467926027}\n",
      "2025-02-21 12:23:14,438 | INFO     | xgboost_soccer_prediction |   Score: 0.36082474226794825\n"
     ]
    },
    {
     "name": "stderr",
     "output_type": "stream",
     "text": [
      "[I 2025-02-21 12:23:14,441] Trial 54 finished with value: 0.36082474226794825 and parameters: {'learning_rate': 0.022320310370692396, 'max_depth': 8, 'min_child_weight': 53, 'subsample': 0.6783093535405429, 'colsample_bytree': 0.6439623377890257, 'reg_alpha': 0.9608026750740154, 'reg_lambda': 10.838469086905109, 'gamma': 2.584927057289583, 'early_stopping_rounds': 348, 'scale_pos_weight': 2.532399467926027}. Best is trial 43 with value: 0.3709677419353984.\n"
     ]
    },
    {
     "name": "stdout",
     "output_type": "stream",
     "text": [
      "2025-02-21 12:23:14,441 | INFO     | xgboost_soccer_prediction | Current best score: 0.3710\n",
      "2025-02-21 12:23:16,367 | INFO     | xgboost_soccer_prediction | Optimized threshold: 0.500 with precision: 0.330\n",
      "2025-02-21 12:23:16,404 | INFO     | xgboost_soccer_prediction | Trial 55:\n",
      "2025-02-21 12:23:16,406 | INFO     | xgboost_soccer_prediction |   Params: {'objective': 'binary:logistic', 'tree_method': 'hist', 'eval_metric': ['logloss', 'auc'], 'verbose': -1, 'n_jobs': -1, 'random_state': 19, 'learning_rate': 0.020949799079519695, 'max_depth': 9, 'min_child_weight': 61, 'subsample': 0.627449632094626, 'colsample_bytree': 0.6331948868777186, 'reg_alpha': 0.6234638348795669, 'reg_lambda': 10.42174968423153, 'gamma': 1.8394620400326986, 'early_stopping_rounds': 342, 'scale_pos_weight': 2.5553565751200584}\n",
      "2025-02-21 12:23:16,406 | INFO     | xgboost_soccer_prediction |   Score: 0.329870129870087\n"
     ]
    },
    {
     "name": "stderr",
     "output_type": "stream",
     "text": [
      "[I 2025-02-21 12:23:16,408] Trial 55 finished with value: 0.329870129870087 and parameters: {'learning_rate': 0.020949799079519695, 'max_depth': 9, 'min_child_weight': 61, 'subsample': 0.627449632094626, 'colsample_bytree': 0.6331948868777186, 'reg_alpha': 0.6234638348795669, 'reg_lambda': 10.42174968423153, 'gamma': 1.8394620400326986, 'early_stopping_rounds': 342, 'scale_pos_weight': 2.5553565751200584}. Best is trial 43 with value: 0.3709677419353984.\n"
     ]
    },
    {
     "name": "stdout",
     "output_type": "stream",
     "text": [
      "2025-02-21 12:23:16,410 | INFO     | xgboost_soccer_prediction | Current best score: 0.3710\n",
      "2025-02-21 12:23:18,525 | INFO     | xgboost_soccer_prediction | Optimized threshold: 0.530 with precision: 0.357\n",
      "2025-02-21 12:23:18,562 | INFO     | xgboost_soccer_prediction | Trial 56:\n",
      "2025-02-21 12:23:18,564 | INFO     | xgboost_soccer_prediction |   Params: {'objective': 'binary:logistic', 'tree_method': 'hist', 'eval_metric': ['logloss', 'auc'], 'verbose': -1, 'n_jobs': -1, 'random_state': 19, 'learning_rate': 0.022954303663673934, 'max_depth': 10, 'min_child_weight': 60, 'subsample': 0.633489283996189, 'colsample_bytree': 0.6830343021012489, 'reg_alpha': 0.41032618126892306, 'reg_lambda': 10.102000390467687, 'gamma': 2.0624520677557676, 'early_stopping_rounds': 346, 'scale_pos_weight': 2.521325324396869}\n",
      "2025-02-21 12:23:18,566 | INFO     | xgboost_soccer_prediction |   Score: 0.3567961165047678\n"
     ]
    },
    {
     "name": "stderr",
     "output_type": "stream",
     "text": [
      "[I 2025-02-21 12:23:18,569] Trial 56 finished with value: 0.3567961165047678 and parameters: {'learning_rate': 0.022954303663673934, 'max_depth': 10, 'min_child_weight': 60, 'subsample': 0.633489283996189, 'colsample_bytree': 0.6830343021012489, 'reg_alpha': 0.41032618126892306, 'reg_lambda': 10.102000390467687, 'gamma': 2.0624520677557676, 'early_stopping_rounds': 346, 'scale_pos_weight': 2.521325324396869}. Best is trial 43 with value: 0.3709677419353984.\n"
     ]
    },
    {
     "name": "stdout",
     "output_type": "stream",
     "text": [
      "2025-02-21 12:23:18,569 | INFO     | xgboost_soccer_prediction | Current best score: 0.3710\n",
      "2025-02-21 12:23:20,249 | INFO     | xgboost_soccer_prediction | Optimized threshold: 0.510 with precision: 0.341\n",
      "2025-02-21 12:23:20,287 | INFO     | xgboost_soccer_prediction | Trial 57:\n",
      "2025-02-21 12:23:20,289 | INFO     | xgboost_soccer_prediction |   Params: {'objective': 'binary:logistic', 'tree_method': 'hist', 'eval_metric': ['logloss', 'auc'], 'verbose': -1, 'n_jobs': -1, 'random_state': 19, 'learning_rate': 0.024393132227372407, 'max_depth': 9, 'min_child_weight': 100, 'subsample': 0.6484733369257941, 'colsample_bytree': 0.671318837429413, 'reg_alpha': 0.18938525579316354, 'reg_lambda': 10.794466481475304, 'gamma': 2.3328153610684392, 'early_stopping_rounds': 340, 'scale_pos_weight': 2.4332794027017863}\n",
      "2025-02-21 12:23:20,289 | INFO     | xgboost_soccer_prediction |   Score: 0.34103019538182217\n"
     ]
    },
    {
     "name": "stderr",
     "output_type": "stream",
     "text": [
      "[I 2025-02-21 12:23:20,291] Trial 57 finished with value: 0.34103019538182217 and parameters: {'learning_rate': 0.024393132227372407, 'max_depth': 9, 'min_child_weight': 100, 'subsample': 0.6484733369257941, 'colsample_bytree': 0.671318837429413, 'reg_alpha': 0.18938525579316354, 'reg_lambda': 10.794466481475304, 'gamma': 2.3328153610684392, 'early_stopping_rounds': 340, 'scale_pos_weight': 2.4332794027017863}. Best is trial 43 with value: 0.3709677419353984.\n"
     ]
    },
    {
     "name": "stdout",
     "output_type": "stream",
     "text": [
      "2025-02-21 12:23:20,293 | INFO     | xgboost_soccer_prediction | Current best score: 0.3710\n",
      "2025-02-21 12:23:22,025 | INFO     | xgboost_soccer_prediction | Optimized threshold: 0.550 with precision: 0.345\n",
      "2025-02-21 12:23:22,064 | INFO     | xgboost_soccer_prediction | Trial 58:\n",
      "2025-02-21 12:23:22,064 | INFO     | xgboost_soccer_prediction |   Params: {'objective': 'binary:logistic', 'tree_method': 'hist', 'eval_metric': ['logloss', 'auc'], 'verbose': -1, 'n_jobs': -1, 'random_state': 19, 'learning_rate': 0.02773172841098772, 'max_depth': 8, 'min_child_weight': 82, 'subsample': 0.6078579126604403, 'colsample_bytree': 0.6093908321858434, 'reg_alpha': 0.08466549111200179, 'reg_lambda': 11.146484909813063, 'gamma': 2.5498130531788585, 'early_stopping_rounds': 335, 'scale_pos_weight': 2.5614094663484717}\n",
      "2025-02-21 12:23:22,067 | INFO     | xgboost_soccer_prediction |   Score: 0.34490238611706187\n"
     ]
    },
    {
     "name": "stderr",
     "output_type": "stream",
     "text": [
      "[I 2025-02-21 12:23:22,069] Trial 58 finished with value: 0.34490238611706187 and parameters: {'learning_rate': 0.02773172841098772, 'max_depth': 8, 'min_child_weight': 82, 'subsample': 0.6078579126604403, 'colsample_bytree': 0.6093908321858434, 'reg_alpha': 0.08466549111200179, 'reg_lambda': 11.146484909813063, 'gamma': 2.5498130531788585, 'early_stopping_rounds': 335, 'scale_pos_weight': 2.5614094663484717}. Best is trial 43 with value: 0.3709677419353984.\n"
     ]
    },
    {
     "name": "stdout",
     "output_type": "stream",
     "text": [
      "2025-02-21 12:23:22,071 | INFO     | xgboost_soccer_prediction | Current best score: 0.3710\n",
      "2025-02-21 12:23:24,364 | INFO     | xgboost_soccer_prediction | Optimized threshold: 0.530 with precision: 0.351\n",
      "2025-02-21 12:23:24,406 | INFO     | xgboost_soccer_prediction | Trial 59:\n",
      "2025-02-21 12:23:24,408 | INFO     | xgboost_soccer_prediction |   Params: {'objective': 'binary:logistic', 'tree_method': 'hist', 'eval_metric': ['logloss', 'auc'], 'verbose': -1, 'n_jobs': -1, 'random_state': 19, 'learning_rate': 0.029325598603169214, 'max_depth': 11, 'min_child_weight': 59, 'subsample': 0.6725587552881528, 'colsample_bytree': 0.6937025575452592, 'reg_alpha': 0.3214562805218539, 'reg_lambda': 10.52953799528962, 'gamma': 2.9676946567573395, 'early_stopping_rounds': 347, 'scale_pos_weight': 2.529468916682034}\n",
      "2025-02-21 12:23:24,408 | INFO     | xgboost_soccer_prediction |   Score: 0.35135135135126505\n"
     ]
    },
    {
     "name": "stderr",
     "output_type": "stream",
     "text": [
      "[I 2025-02-21 12:23:24,410] Trial 59 finished with value: 0.35135135135126505 and parameters: {'learning_rate': 0.029325598603169214, 'max_depth': 11, 'min_child_weight': 59, 'subsample': 0.6725587552881528, 'colsample_bytree': 0.6937025575452592, 'reg_alpha': 0.3214562805218539, 'reg_lambda': 10.52953799528962, 'gamma': 2.9676946567573395, 'early_stopping_rounds': 347, 'scale_pos_weight': 2.529468916682034}. Best is trial 43 with value: 0.3709677419353984.\n"
     ]
    },
    {
     "name": "stdout",
     "output_type": "stream",
     "text": [
      "2025-02-21 12:23:24,412 | INFO     | xgboost_soccer_prediction | Current best score: 0.3710\n",
      "2025-02-21 12:23:26,189 | INFO     | xgboost_soccer_prediction | Optimized threshold: 0.530 with precision: 0.352\n",
      "2025-02-21 12:23:26,229 | INFO     | xgboost_soccer_prediction | Trial 60:\n",
      "2025-02-21 12:23:26,231 | INFO     | xgboost_soccer_prediction |   Params: {'objective': 'binary:logistic', 'tree_method': 'hist', 'eval_metric': ['logloss', 'auc'], 'verbose': -1, 'n_jobs': -1, 'random_state': 19, 'learning_rate': 0.021753546530080787, 'max_depth': 10, 'min_child_weight': 75, 'subsample': 0.47872804572270355, 'colsample_bytree': 0.6505397235140434, 'reg_alpha': 0.4317799802643274, 'reg_lambda': 11.366994551908824, 'gamma': 2.703359473664505, 'early_stopping_rounds': 341, 'scale_pos_weight': 2.420459694263303}\n",
      "2025-02-21 12:23:26,233 | INFO     | xgboost_soccer_prediction |   Score: 0.3515439429927906\n"
     ]
    },
    {
     "name": "stderr",
     "output_type": "stream",
     "text": [
      "[I 2025-02-21 12:23:26,235] Trial 60 finished with value: 0.3515439429927906 and parameters: {'learning_rate': 0.021753546530080787, 'max_depth': 10, 'min_child_weight': 75, 'subsample': 0.47872804572270355, 'colsample_bytree': 0.6505397235140434, 'reg_alpha': 0.4317799802643274, 'reg_lambda': 11.366994551908824, 'gamma': 2.703359473664505, 'early_stopping_rounds': 341, 'scale_pos_weight': 2.420459694263303}. Best is trial 43 with value: 0.3709677419353984.\n"
     ]
    },
    {
     "name": "stdout",
     "output_type": "stream",
     "text": [
      "2025-02-21 12:23:26,236 | INFO     | xgboost_soccer_prediction | Current best score: 0.3710\n",
      "2025-02-21 12:23:28,078 | INFO     | xgboost_soccer_prediction | Optimized threshold: 0.550 with precision: 0.384\n",
      "2025-02-21 12:23:28,118 | INFO     | xgboost_soccer_prediction | Trial 61:\n",
      "2025-02-21 12:23:28,120 | INFO     | xgboost_soccer_prediction |   Params: {'objective': 'binary:logistic', 'tree_method': 'hist', 'eval_metric': ['logloss', 'auc'], 'verbose': -1, 'n_jobs': -1, 'random_state': 19, 'learning_rate': 0.02243974108599128, 'max_depth': 8, 'min_child_weight': 55, 'subsample': 0.6719721090216274, 'colsample_bytree': 0.6478606510393722, 'reg_alpha': 0.8048103658456299, 'reg_lambda': 10.82027227495659, 'gamma': 2.747882220851879, 'early_stopping_rounds': 348, 'scale_pos_weight': 2.5391697168468848}\n",
      "2025-02-21 12:23:28,121 | INFO     | xgboost_soccer_prediction |   Score: 0.38418079096034347\n"
     ]
    },
    {
     "name": "stderr",
     "output_type": "stream",
     "text": [
      "[I 2025-02-21 12:23:28,123] Trial 61 finished with value: 0.38418079096034347 and parameters: {'learning_rate': 0.02243974108599128, 'max_depth': 8, 'min_child_weight': 55, 'subsample': 0.6719721090216274, 'colsample_bytree': 0.6478606510393722, 'reg_alpha': 0.8048103658456299, 'reg_lambda': 10.82027227495659, 'gamma': 2.747882220851879, 'early_stopping_rounds': 348, 'scale_pos_weight': 2.5391697168468848}. Best is trial 61 with value: 0.38418079096034347.\n"
     ]
    },
    {
     "name": "stdout",
     "output_type": "stream",
     "text": [
      "2025-02-21 12:23:28,124 | INFO     | xgboost_soccer_prediction | Current best score: 0.3710\n",
      "2025-02-21 12:23:28,126 | INFO     | xgboost_soccer_prediction | New best score found in trial 61: 0.3842\n",
      "2025-02-21 12:23:29,912 | INFO     | xgboost_soccer_prediction | Optimized threshold: 0.540 with precision: 0.357\n",
      "2025-02-21 12:23:29,951 | INFO     | xgboost_soccer_prediction | Trial 62:\n",
      "2025-02-21 12:23:29,952 | INFO     | xgboost_soccer_prediction |   Params: {'objective': 'binary:logistic', 'tree_method': 'hist', 'eval_metric': ['logloss', 'auc'], 'verbose': -1, 'n_jobs': -1, 'random_state': 19, 'learning_rate': 0.02364237923353367, 'max_depth': 8, 'min_child_weight': 57, 'subsample': 0.6629452221070041, 'colsample_bytree': 0.701383360208984, 'reg_alpha': 0.7141753189256359, 'reg_lambda': 10.940559279776041, 'gamma': 2.7237755089122544, 'early_stopping_rounds': 350, 'scale_pos_weight': 2.521773045988817}\n",
      "2025-02-21 12:23:29,954 | INFO     | xgboost_soccer_prediction |   Score: 0.35714285714277744\n"
     ]
    },
    {
     "name": "stderr",
     "output_type": "stream",
     "text": [
      "[I 2025-02-21 12:23:29,956] Trial 62 finished with value: 0.35714285714277744 and parameters: {'learning_rate': 0.02364237923353367, 'max_depth': 8, 'min_child_weight': 57, 'subsample': 0.6629452221070041, 'colsample_bytree': 0.701383360208984, 'reg_alpha': 0.7141753189256359, 'reg_lambda': 10.940559279776041, 'gamma': 2.7237755089122544, 'early_stopping_rounds': 350, 'scale_pos_weight': 2.521773045988817}. Best is trial 61 with value: 0.38418079096034347.\n"
     ]
    },
    {
     "name": "stdout",
     "output_type": "stream",
     "text": [
      "2025-02-21 12:23:29,956 | INFO     | xgboost_soccer_prediction | Current best score: 0.3842\n",
      "2025-02-21 12:23:31,776 | INFO     | xgboost_soccer_prediction | Optimized threshold: 0.540 with precision: 0.356\n",
      "2025-02-21 12:23:31,817 | INFO     | xgboost_soccer_prediction | Trial 63:\n",
      "2025-02-21 12:23:31,819 | INFO     | xgboost_soccer_prediction |   Params: {'objective': 'binary:logistic', 'tree_method': 'hist', 'eval_metric': ['logloss', 'auc'], 'verbose': -1, 'n_jobs': -1, 'random_state': 19, 'learning_rate': 0.02000517765091663, 'max_depth': 8, 'min_child_weight': 52, 'subsample': 0.6849372505120781, 'colsample_bytree': 0.658955480186542, 'reg_alpha': 0.5680321643847761, 'reg_lambda': 10.698733392224423, 'gamma': 2.3339607477897513, 'early_stopping_rounds': 345, 'scale_pos_weight': 2.5062915465421773}\n",
      "2025-02-21 12:23:31,821 | INFO     | xgboost_soccer_prediction |   Score: 0.35626535626526873\n"
     ]
    },
    {
     "name": "stderr",
     "output_type": "stream",
     "text": [
      "[I 2025-02-21 12:23:31,823] Trial 63 finished with value: 0.35626535626526873 and parameters: {'learning_rate': 0.02000517765091663, 'max_depth': 8, 'min_child_weight': 52, 'subsample': 0.6849372505120781, 'colsample_bytree': 0.658955480186542, 'reg_alpha': 0.5680321643847761, 'reg_lambda': 10.698733392224423, 'gamma': 2.3339607477897513, 'early_stopping_rounds': 345, 'scale_pos_weight': 2.5062915465421773}. Best is trial 61 with value: 0.38418079096034347.\n"
     ]
    },
    {
     "name": "stdout",
     "output_type": "stream",
     "text": [
      "2025-02-21 12:23:31,823 | INFO     | xgboost_soccer_prediction | Current best score: 0.3842\n",
      "2025-02-21 12:23:33,844 | INFO     | xgboost_soccer_prediction | Optimized threshold: 0.540 with precision: 0.346\n",
      "2025-02-21 12:23:33,883 | INFO     | xgboost_soccer_prediction | Trial 64:\n",
      "2025-02-21 12:23:33,885 | INFO     | xgboost_soccer_prediction |   Params: {'objective': 'binary:logistic', 'tree_method': 'hist', 'eval_metric': ['logloss', 'auc'], 'verbose': -1, 'n_jobs': -1, 'random_state': 19, 'learning_rate': 0.025507437392276094, 'max_depth': 9, 'min_child_weight': 54, 'subsample': 0.6461010830411158, 'colsample_bytree': 0.6275043979109355, 'reg_alpha': 0.8582308334869699, 'reg_lambda': 11.755720445254315, 'gamma': 1.7039225320858262, 'early_stopping_rounds': 338, 'scale_pos_weight': 2.568965651723215}\n",
      "2025-02-21 12:23:33,885 | INFO     | xgboost_soccer_prediction |   Score: 0.3458823529410951\n"
     ]
    },
    {
     "name": "stderr",
     "output_type": "stream",
     "text": [
      "[I 2025-02-21 12:23:33,889] Trial 64 finished with value: 0.3458823529410951 and parameters: {'learning_rate': 0.025507437392276094, 'max_depth': 9, 'min_child_weight': 54, 'subsample': 0.6461010830411158, 'colsample_bytree': 0.6275043979109355, 'reg_alpha': 0.8582308334869699, 'reg_lambda': 11.755720445254315, 'gamma': 1.7039225320858262, 'early_stopping_rounds': 338, 'scale_pos_weight': 2.568965651723215}. Best is trial 61 with value: 0.38418079096034347.\n"
     ]
    },
    {
     "name": "stdout",
     "output_type": "stream",
     "text": [
      "2025-02-21 12:23:33,889 | INFO     | xgboost_soccer_prediction | Current best score: 0.3842\n",
      "2025-02-21 12:23:35,464 | INFO     | xgboost_soccer_prediction | Optimized threshold: 0.490 with precision: 0.318\n",
      "2025-02-21 12:23:35,504 | INFO     | xgboost_soccer_prediction | Trial 65:\n",
      "2025-02-21 12:23:35,506 | INFO     | xgboost_soccer_prediction |   Params: {'objective': 'binary:logistic', 'tree_method': 'hist', 'eval_metric': ['logloss', 'auc'], 'verbose': -1, 'n_jobs': -1, 'random_state': 19, 'learning_rate': 0.022612774245036125, 'max_depth': 8, 'min_child_weight': 96, 'subsample': 0.5617228704805874, 'colsample_bytree': 0.67163767366572, 'reg_alpha': 0.9842786759765948, 'reg_lambda': 11.022645033101924, 'gamma': 2.798983923692773, 'early_stopping_rounds': 333, 'scale_pos_weight': 2.5428275291609452}\n",
      "2025-02-21 12:23:35,508 | INFO     | xgboost_soccer_prediction |   Score: 0.317634173055825\n"
     ]
    },
    {
     "name": "stderr",
     "output_type": "stream",
     "text": [
      "[I 2025-02-21 12:23:35,510] Trial 65 finished with value: 0.317634173055825 and parameters: {'learning_rate': 0.022612774245036125, 'max_depth': 8, 'min_child_weight': 96, 'subsample': 0.5617228704805874, 'colsample_bytree': 0.67163767366572, 'reg_alpha': 0.9842786759765948, 'reg_lambda': 11.022645033101924, 'gamma': 2.798983923692773, 'early_stopping_rounds': 333, 'scale_pos_weight': 2.5428275291609452}. Best is trial 61 with value: 0.38418079096034347.\n"
     ]
    },
    {
     "name": "stdout",
     "output_type": "stream",
     "text": [
      "2025-02-21 12:23:35,512 | INFO     | xgboost_soccer_prediction | Current best score: 0.3842\n",
      "2025-02-21 12:23:37,364 | INFO     | xgboost_soccer_prediction | Optimized threshold: 0.540 with precision: 0.373\n",
      "2025-02-21 12:23:37,401 | INFO     | xgboost_soccer_prediction | Trial 66:\n",
      "2025-02-21 12:23:37,402 | INFO     | xgboost_soccer_prediction |   Params: {'objective': 'binary:logistic', 'tree_method': 'hist', 'eval_metric': ['logloss', 'auc'], 'verbose': -1, 'n_jobs': -1, 'random_state': 19, 'learning_rate': 0.024835904251282653, 'max_depth': 9, 'min_child_weight': 56, 'subsample': 0.5201896442604378, 'colsample_bytree': 0.6525902285863854, 'reg_alpha': 0.15446051917209655, 'reg_lambda': 10.04217932236707, 'gamma': 1.9023372569722188, 'early_stopping_rounds': 329, 'scale_pos_weight': 2.541417616674185}\n",
      "2025-02-21 12:23:37,404 | INFO     | xgboost_soccer_prediction |   Score: 0.3733681462140017\n"
     ]
    },
    {
     "name": "stderr",
     "output_type": "stream",
     "text": [
      "[I 2025-02-21 12:23:37,406] Trial 66 finished with value: 0.3733681462140017 and parameters: {'learning_rate': 0.024835904251282653, 'max_depth': 9, 'min_child_weight': 56, 'subsample': 0.5201896442604378, 'colsample_bytree': 0.6525902285863854, 'reg_alpha': 0.15446051917209655, 'reg_lambda': 10.04217932236707, 'gamma': 1.9023372569722188, 'early_stopping_rounds': 329, 'scale_pos_weight': 2.541417616674185}. Best is trial 61 with value: 0.38418079096034347.\n"
     ]
    },
    {
     "name": "stdout",
     "output_type": "stream",
     "text": [
      "2025-02-21 12:23:37,406 | INFO     | xgboost_soccer_prediction | Current best score: 0.3842\n",
      "2025-02-21 12:23:39,277 | INFO     | xgboost_soccer_prediction | Optimized threshold: 0.530 with precision: 0.365\n",
      "2025-02-21 12:23:39,316 | INFO     | xgboost_soccer_prediction | Trial 67:\n",
      "2025-02-21 12:23:39,318 | INFO     | xgboost_soccer_prediction |   Params: {'objective': 'binary:logistic', 'tree_method': 'hist', 'eval_metric': ['logloss', 'auc'], 'verbose': -1, 'n_jobs': -1, 'random_state': 19, 'learning_rate': 0.02692734466562298, 'max_depth': 9, 'min_child_weight': 56, 'subsample': 0.532794648293353, 'colsample_bytree': 0.6396231129682074, 'reg_alpha': 0.14986329037687585, 'reg_lambda': 10.111217077608961, 'gamma': 1.8910073626917958, 'early_stopping_rounds': 329, 'scale_pos_weight': 2.406606729973387}\n",
      "2025-02-21 12:23:39,319 | INFO     | xgboost_soccer_prediction |   Score: 0.3647058823528554\n"
     ]
    },
    {
     "name": "stderr",
     "output_type": "stream",
     "text": [
      "[I 2025-02-21 12:23:39,321] Trial 67 finished with value: 0.3647058823528554 and parameters: {'learning_rate': 0.02692734466562298, 'max_depth': 9, 'min_child_weight': 56, 'subsample': 0.532794648293353, 'colsample_bytree': 0.6396231129682074, 'reg_alpha': 0.14986329037687585, 'reg_lambda': 10.111217077608961, 'gamma': 1.8910073626917958, 'early_stopping_rounds': 329, 'scale_pos_weight': 2.406606729973387}. Best is trial 61 with value: 0.38418079096034347.\n"
     ]
    },
    {
     "name": "stdout",
     "output_type": "stream",
     "text": [
      "2025-02-21 12:23:39,323 | INFO     | xgboost_soccer_prediction | Current best score: 0.3842\n",
      "2025-02-21 12:23:41,146 | INFO     | xgboost_soccer_prediction | Optimized threshold: 0.530 with precision: 0.356\n",
      "2025-02-21 12:23:41,185 | INFO     | xgboost_soccer_prediction | Trial 68:\n",
      "2025-02-21 12:23:41,185 | INFO     | xgboost_soccer_prediction |   Params: {'objective': 'binary:logistic', 'tree_method': 'hist', 'eval_metric': ['logloss', 'auc'], 'verbose': -1, 'n_jobs': -1, 'random_state': 19, 'learning_rate': 0.027073350583034447, 'max_depth': 9, 'min_child_weight': 56, 'subsample': 0.5281389637533365, 'colsample_bytree': 0.6384909317962361, 'reg_alpha': 0.13368404443242088, 'reg_lambda': 9.94938694079934, 'gamma': 2.166857812421883, 'early_stopping_rounds': 329, 'scale_pos_weight': 2.400993536734211}\n",
      "2025-02-21 12:23:41,187 | INFO     | xgboost_soccer_prediction |   Score: 0.35648148148139897\n"
     ]
    },
    {
     "name": "stderr",
     "output_type": "stream",
     "text": [
      "[I 2025-02-21 12:23:41,189] Trial 68 finished with value: 0.35648148148139897 and parameters: {'learning_rate': 0.027073350583034447, 'max_depth': 9, 'min_child_weight': 56, 'subsample': 0.5281389637533365, 'colsample_bytree': 0.6384909317962361, 'reg_alpha': 0.13368404443242088, 'reg_lambda': 9.94938694079934, 'gamma': 2.166857812421883, 'early_stopping_rounds': 329, 'scale_pos_weight': 2.400993536734211}. Best is trial 61 with value: 0.38418079096034347.\n"
     ]
    },
    {
     "name": "stdout",
     "output_type": "stream",
     "text": [
      "2025-02-21 12:23:41,189 | INFO     | xgboost_soccer_prediction | Current best score: 0.3842\n",
      "2025-02-21 12:23:43,058 | INFO     | xgboost_soccer_prediction | Optimized threshold: 0.530 with precision: 0.346\n",
      "2025-02-21 12:23:43,096 | INFO     | xgboost_soccer_prediction | Trial 69:\n",
      "2025-02-21 12:23:43,098 | INFO     | xgboost_soccer_prediction |   Params: {'objective': 'binary:logistic', 'tree_method': 'hist', 'eval_metric': ['logloss', 'auc'], 'verbose': -1, 'n_jobs': -1, 'random_state': 19, 'learning_rate': 0.02883615494140269, 'max_depth': 9, 'min_child_weight': 52, 'subsample': 0.5150057793477045, 'colsample_bytree': 0.7060497472281945, 'reg_alpha': 0.2336840329575278, 'reg_lambda': 10.217029317952633, 'gamma': 1.8905568826846726, 'early_stopping_rounds': 329, 'scale_pos_weight': 2.4081305504241692}\n",
      "2025-02-21 12:23:43,100 | INFO     | xgboost_soccer_prediction |   Score: 0.346062052505884\n"
     ]
    },
    {
     "name": "stderr",
     "output_type": "stream",
     "text": [
      "[I 2025-02-21 12:23:43,102] Trial 69 finished with value: 0.346062052505884 and parameters: {'learning_rate': 0.02883615494140269, 'max_depth': 9, 'min_child_weight': 52, 'subsample': 0.5150057793477045, 'colsample_bytree': 0.7060497472281945, 'reg_alpha': 0.2336840329575278, 'reg_lambda': 10.217029317952633, 'gamma': 1.8905568826846726, 'early_stopping_rounds': 329, 'scale_pos_weight': 2.4081305504241692}. Best is trial 61 with value: 0.38418079096034347.\n"
     ]
    },
    {
     "name": "stdout",
     "output_type": "stream",
     "text": [
      "2025-02-21 12:23:43,104 | INFO     | xgboost_soccer_prediction | Current best score: 0.3842\n",
      "2025-02-21 12:23:45,171 | INFO     | xgboost_soccer_prediction | Optimized threshold: 0.510 with precision: 0.351\n",
      "2025-02-21 12:23:45,210 | INFO     | xgboost_soccer_prediction | Trial 70:\n",
      "2025-02-21 12:23:45,212 | INFO     | xgboost_soccer_prediction |   Params: {'objective': 'binary:logistic', 'tree_method': 'hist', 'eval_metric': ['logloss', 'auc'], 'verbose': -1, 'n_jobs': -1, 'random_state': 19, 'learning_rate': 0.024843420964789257, 'max_depth': 10, 'min_child_weight': 54, 'subsample': 0.5511617688836734, 'colsample_bytree': 0.7202004630175589, 'reg_alpha': 0.07827965277197559, 'reg_lambda': 9.556430328241289, 'gamma': 2.019069365876922, 'early_stopping_rounds': 332, 'scale_pos_weight': 2.415661230226485}\n",
      "2025-02-21 12:23:45,212 | INFO     | xgboost_soccer_prediction |   Score: 0.3506224066389314\n"
     ]
    },
    {
     "name": "stderr",
     "output_type": "stream",
     "text": [
      "[I 2025-02-21 12:23:45,216] Trial 70 finished with value: 0.3506224066389314 and parameters: {'learning_rate': 0.024843420964789257, 'max_depth': 10, 'min_child_weight': 54, 'subsample': 0.5511617688836734, 'colsample_bytree': 0.7202004630175589, 'reg_alpha': 0.07827965277197559, 'reg_lambda': 9.556430328241289, 'gamma': 2.019069365876922, 'early_stopping_rounds': 332, 'scale_pos_weight': 2.415661230226485}. Best is trial 61 with value: 0.38418079096034347.\n"
     ]
    },
    {
     "name": "stdout",
     "output_type": "stream",
     "text": [
      "2025-02-21 12:23:45,216 | INFO     | xgboost_soccer_prediction | Current best score: 0.3842\n",
      "2025-02-21 12:23:47,006 | INFO     | xgboost_soccer_prediction | Optimized threshold: 0.530 with precision: 0.351\n",
      "2025-02-21 12:23:47,046 | INFO     | xgboost_soccer_prediction | Trial 71:\n",
      "2025-02-21 12:23:47,048 | INFO     | xgboost_soccer_prediction |   Params: {'objective': 'binary:logistic', 'tree_method': 'hist', 'eval_metric': ['logloss', 'auc'], 'verbose': -1, 'n_jobs': -1, 'random_state': 19, 'learning_rate': 0.023997291291319656, 'max_depth': 9, 'min_child_weight': 57, 'subsample': 0.4676232483983431, 'colsample_bytree': 0.6317913219910323, 'reg_alpha': 0.10413407345026494, 'reg_lambda': 10.483265415776415, 'gamma': 1.546971713317295, 'early_stopping_rounds': 335, 'scale_pos_weight': 2.405994176620484}\n",
      "2025-02-21 12:23:47,049 | INFO     | xgboost_soccer_prediction |   Score: 0.35051546391743543\n"
     ]
    },
    {
     "name": "stderr",
     "output_type": "stream",
     "text": [
      "[I 2025-02-21 12:23:47,051] Trial 71 finished with value: 0.35051546391743543 and parameters: {'learning_rate': 0.023997291291319656, 'max_depth': 9, 'min_child_weight': 57, 'subsample': 0.4676232483983431, 'colsample_bytree': 0.6317913219910323, 'reg_alpha': 0.10413407345026494, 'reg_lambda': 10.483265415776415, 'gamma': 1.546971713317295, 'early_stopping_rounds': 335, 'scale_pos_weight': 2.405994176620484}. Best is trial 61 with value: 0.38418079096034347.\n"
     ]
    },
    {
     "name": "stdout",
     "output_type": "stream",
     "text": [
      "2025-02-21 12:23:47,052 | INFO     | xgboost_soccer_prediction | Current best score: 0.3842\n",
      "2025-02-21 12:23:49,002 | INFO     | xgboost_soccer_prediction | Optimized threshold: 0.530 with precision: 0.346\n",
      "2025-02-21 12:23:49,043 | INFO     | xgboost_soccer_prediction | Trial 72:\n",
      "2025-02-21 12:23:49,044 | INFO     | xgboost_soccer_prediction |   Params: {'objective': 'binary:logistic', 'tree_method': 'hist', 'eval_metric': ['logloss', 'auc'], 'verbose': -1, 'n_jobs': -1, 'random_state': 19, 'learning_rate': 0.026236292178256335, 'max_depth': 10, 'min_child_weight': 58, 'subsample': 0.4950051554057924, 'colsample_bytree': 0.6183430626445466, 'reg_alpha': 0.05620488213233559, 'reg_lambda': 10.027570664014684, 'gamma': 1.7897526582521794, 'early_stopping_rounds': 324, 'scale_pos_weight': 2.487344592988081}\n",
      "2025-02-21 12:23:49,045 | INFO     | xgboost_soccer_prediction |   Score: 0.3463302752292784\n"
     ]
    },
    {
     "name": "stderr",
     "output_type": "stream",
     "text": [
      "[I 2025-02-21 12:23:49,048] Trial 72 finished with value: 0.3463302752292784 and parameters: {'learning_rate': 0.026236292178256335, 'max_depth': 10, 'min_child_weight': 58, 'subsample': 0.4950051554057924, 'colsample_bytree': 0.6183430626445466, 'reg_alpha': 0.05620488213233559, 'reg_lambda': 10.027570664014684, 'gamma': 1.7897526582521794, 'early_stopping_rounds': 324, 'scale_pos_weight': 2.487344592988081}. Best is trial 61 with value: 0.38418079096034347.\n"
     ]
    },
    {
     "name": "stdout",
     "output_type": "stream",
     "text": [
      "2025-02-21 12:23:49,048 | INFO     | xgboost_soccer_prediction | Current best score: 0.3842\n",
      "2025-02-21 12:23:50,840 | INFO     | xgboost_soccer_prediction | Optimized threshold: 0.550 with precision: 0.351\n",
      "2025-02-21 12:23:50,886 | INFO     | xgboost_soccer_prediction | Trial 73:\n",
      "2025-02-21 12:23:50,890 | INFO     | xgboost_soccer_prediction |   Params: {'objective': 'binary:logistic', 'tree_method': 'hist', 'eval_metric': ['logloss', 'auc'], 'verbose': -1, 'n_jobs': -1, 'random_state': 19, 'learning_rate': 0.022984064838366493, 'max_depth': 9, 'min_child_weight': 63, 'subsample': 0.5100594111444284, 'colsample_bytree': 0.6467383405420112, 'reg_alpha': 0.1421554509370805, 'reg_lambda': 10.23752722877524, 'gamma': 1.9264846803550963, 'early_stopping_rounds': 328, 'scale_pos_weight': 2.5965950757857783}\n",
      "2025-02-21 12:23:50,892 | INFO     | xgboost_soccer_prediction |   Score: 0.3508771929823682\n"
     ]
    },
    {
     "name": "stderr",
     "output_type": "stream",
     "text": [
      "[I 2025-02-21 12:23:50,894] Trial 73 finished with value: 0.3508771929823682 and parameters: {'learning_rate': 0.022984064838366493, 'max_depth': 9, 'min_child_weight': 63, 'subsample': 0.5100594111444284, 'colsample_bytree': 0.6467383405420112, 'reg_alpha': 0.1421554509370805, 'reg_lambda': 10.23752722877524, 'gamma': 1.9264846803550963, 'early_stopping_rounds': 328, 'scale_pos_weight': 2.5965950757857783}. Best is trial 61 with value: 0.38418079096034347.\n"
     ]
    },
    {
     "name": "stdout",
     "output_type": "stream",
     "text": [
      "2025-02-21 12:23:50,894 | INFO     | xgboost_soccer_prediction | Current best score: 0.3842\n",
      "2025-02-21 12:23:52,852 | INFO     | xgboost_soccer_prediction | Optimized threshold: 0.500 with precision: 0.338\n",
      "2025-02-21 12:23:52,891 | INFO     | xgboost_soccer_prediction | Trial 74:\n",
      "2025-02-21 12:23:52,893 | INFO     | xgboost_soccer_prediction |   Params: {'objective': 'binary:logistic', 'tree_method': 'hist', 'eval_metric': ['logloss', 'auc'], 'verbose': -1, 'n_jobs': -1, 'random_state': 19, 'learning_rate': 0.030095791064392814, 'max_depth': 10, 'min_child_weight': 54, 'subsample': 0.5348286784016273, 'colsample_bytree': 0.6379803575342234, 'reg_alpha': 0.16258923141913195, 'reg_lambda': 11.229345979891203, 'gamma': 1.4573146933448369, 'early_stopping_rounds': 325, 'scale_pos_weight': 2.4281882189519615}\n",
      "2025-02-21 12:23:52,895 | INFO     | xgboost_soccer_prediction |   Score: 0.3375174337516963\n"
     ]
    },
    {
     "name": "stderr",
     "output_type": "stream",
     "text": [
      "[I 2025-02-21 12:23:52,897] Trial 74 finished with value: 0.3375174337516963 and parameters: {'learning_rate': 0.030095791064392814, 'max_depth': 10, 'min_child_weight': 54, 'subsample': 0.5348286784016273, 'colsample_bytree': 0.6379803575342234, 'reg_alpha': 0.16258923141913195, 'reg_lambda': 11.229345979891203, 'gamma': 1.4573146933448369, 'early_stopping_rounds': 325, 'scale_pos_weight': 2.4281882189519615}. Best is trial 61 with value: 0.38418079096034347.\n"
     ]
    },
    {
     "name": "stdout",
     "output_type": "stream",
     "text": [
      "2025-02-21 12:23:52,897 | INFO     | xgboost_soccer_prediction | Current best score: 0.3842\n",
      "2025-02-21 12:23:54,825 | INFO     | xgboost_soccer_prediction | Optimized threshold: 0.540 with precision: 0.339\n",
      "2025-02-21 12:23:54,864 | INFO     | xgboost_soccer_prediction | Trial 75:\n",
      "2025-02-21 12:23:54,866 | INFO     | xgboost_soccer_prediction |   Params: {'objective': 'binary:logistic', 'tree_method': 'hist', 'eval_metric': ['logloss', 'auc'], 'verbose': -1, 'n_jobs': -1, 'random_state': 19, 'learning_rate': 0.025603970574376522, 'max_depth': 9, 'min_child_weight': 56, 'subsample': 0.5500854445929227, 'colsample_bytree': 0.6148985297498389, 'reg_alpha': 0.10910579052633987, 'reg_lambda': 9.30207164358444, 'gamma': 1.6584833452314847, 'early_stopping_rounds': 331, 'scale_pos_weight': 2.469075690056396}\n",
      "2025-02-21 12:23:54,869 | INFO     | xgboost_soccer_prediction |   Score: 0.33909287257012116\n"
     ]
    },
    {
     "name": "stderr",
     "output_type": "stream",
     "text": [
      "[I 2025-02-21 12:23:54,871] Trial 75 finished with value: 0.33909287257012116 and parameters: {'learning_rate': 0.025603970574376522, 'max_depth': 9, 'min_child_weight': 56, 'subsample': 0.5500854445929227, 'colsample_bytree': 0.6148985297498389, 'reg_alpha': 0.10910579052633987, 'reg_lambda': 9.30207164358444, 'gamma': 1.6584833452314847, 'early_stopping_rounds': 331, 'scale_pos_weight': 2.469075690056396}. Best is trial 61 with value: 0.38418079096034347.\n"
     ]
    },
    {
     "name": "stdout",
     "output_type": "stream",
     "text": [
      "2025-02-21 12:23:54,871 | INFO     | xgboost_soccer_prediction | Current best score: 0.3842\n",
      "2025-02-21 12:23:56,851 | INFO     | xgboost_soccer_prediction | Optimized threshold: 0.530 with precision: 0.341\n",
      "2025-02-21 12:23:56,892 | INFO     | xgboost_soccer_prediction | Trial 76:\n",
      "2025-02-21 12:23:56,894 | INFO     | xgboost_soccer_prediction |   Params: {'objective': 'binary:logistic', 'tree_method': 'hist', 'eval_metric': ['logloss', 'auc'], 'verbose': -1, 'n_jobs': -1, 'random_state': 19, 'learning_rate': 0.022146468619248703, 'max_depth': 9, 'min_child_weight': 59, 'subsample': 0.5779266929429056, 'colsample_bytree': 0.6843673118594289, 'reg_alpha': 0.19944550906619152, 'reg_lambda': 10.577868003684532, 'gamma': 1.7825250175839693, 'early_stopping_rounds': 335, 'scale_pos_weight': 2.4495778951041025}\n",
      "2025-02-21 12:23:56,894 | INFO     | xgboost_soccer_prediction |   Score: 0.3406593406592658\n"
     ]
    },
    {
     "name": "stderr",
     "output_type": "stream",
     "text": [
      "[I 2025-02-21 12:23:56,898] Trial 76 finished with value: 0.3406593406592658 and parameters: {'learning_rate': 0.022146468619248703, 'max_depth': 9, 'min_child_weight': 59, 'subsample': 0.5779266929429056, 'colsample_bytree': 0.6843673118594289, 'reg_alpha': 0.19944550906619152, 'reg_lambda': 10.577868003684532, 'gamma': 1.7825250175839693, 'early_stopping_rounds': 335, 'scale_pos_weight': 2.4495778951041025}. Best is trial 61 with value: 0.38418079096034347.\n"
     ]
    },
    {
     "name": "stdout",
     "output_type": "stream",
     "text": [
      "2025-02-21 12:23:56,898 | INFO     | xgboost_soccer_prediction | Current best score: 0.3842\n",
      "2025-02-21 12:23:58,745 | INFO     | xgboost_soccer_prediction | Optimized threshold: 0.530 with precision: 0.348\n",
      "2025-02-21 12:23:58,784 | INFO     | xgboost_soccer_prediction | Trial 77:\n",
      "2025-02-21 12:23:58,785 | INFO     | xgboost_soccer_prediction |   Params: {'objective': 'binary:logistic', 'tree_method': 'hist', 'eval_metric': ['logloss', 'auc'], 'verbose': -1, 'n_jobs': -1, 'random_state': 19, 'learning_rate': 0.02459746309218029, 'max_depth': 11, 'min_child_weight': 78, 'subsample': 0.48592214427388336, 'colsample_bytree': 0.6766911347897071, 'reg_alpha': 0.17098904404831752, 'reg_lambda': 9.731102463592197, 'gamma': 1.6062929461528264, 'early_stopping_rounds': 327, 'scale_pos_weight': 2.4152351586686533}\n",
      "2025-02-21 12:23:58,785 | INFO     | xgboost_soccer_prediction |   Score: 0.3483870967741186\n"
     ]
    },
    {
     "name": "stderr",
     "output_type": "stream",
     "text": [
      "[I 2025-02-21 12:23:58,789] Trial 77 finished with value: 0.3483870967741186 and parameters: {'learning_rate': 0.02459746309218029, 'max_depth': 11, 'min_child_weight': 78, 'subsample': 0.48592214427388336, 'colsample_bytree': 0.6766911347897071, 'reg_alpha': 0.17098904404831752, 'reg_lambda': 9.731102463592197, 'gamma': 1.6062929461528264, 'early_stopping_rounds': 327, 'scale_pos_weight': 2.4152351586686533}. Best is trial 61 with value: 0.38418079096034347.\n"
     ]
    },
    {
     "name": "stdout",
     "output_type": "stream",
     "text": [
      "2025-02-21 12:23:58,789 | INFO     | xgboost_soccer_prediction | Current best score: 0.3842\n",
      "2025-02-21 12:24:00,877 | INFO     | xgboost_soccer_prediction | Optimized threshold: 0.490 with precision: 0.333\n",
      "2025-02-21 12:24:00,914 | INFO     | xgboost_soccer_prediction | Trial 78:\n",
      "2025-02-21 12:24:00,918 | INFO     | xgboost_soccer_prediction |   Params: {'objective': 'binary:logistic', 'tree_method': 'hist', 'eval_metric': ['logloss', 'auc'], 'verbose': -1, 'n_jobs': -1, 'random_state': 19, 'learning_rate': 0.020708238280797785, 'max_depth': 10, 'min_child_weight': 51, 'subsample': 0.5229145855478821, 'colsample_bytree': 0.6621448019232681, 'reg_alpha': 0.25794911063443743, 'reg_lambda': 11.62497129525339, 'gamma': 2.0095673746066676, 'early_stopping_rounds': 324, 'scale_pos_weight': 2.420642796893782}\n",
      "2025-02-21 12:24:00,919 | INFO     | xgboost_soccer_prediction |   Score: 0.3325991189426946\n"
     ]
    },
    {
     "name": "stderr",
     "output_type": "stream",
     "text": [
      "[I 2025-02-21 12:24:00,921] Trial 78 finished with value: 0.3325991189426946 and parameters: {'learning_rate': 0.020708238280797785, 'max_depth': 10, 'min_child_weight': 51, 'subsample': 0.5229145855478821, 'colsample_bytree': 0.6621448019232681, 'reg_alpha': 0.25794911063443743, 'reg_lambda': 11.62497129525339, 'gamma': 2.0095673746066676, 'early_stopping_rounds': 324, 'scale_pos_weight': 2.420642796893782}. Best is trial 61 with value: 0.38418079096034347.\n"
     ]
    },
    {
     "name": "stdout",
     "output_type": "stream",
     "text": [
      "2025-02-21 12:24:00,923 | INFO     | xgboost_soccer_prediction | Current best score: 0.3842\n",
      "2025-02-21 12:24:02,566 | INFO     | xgboost_soccer_prediction | Optimized threshold: 0.540 with precision: 0.352\n",
      "2025-02-21 12:24:02,608 | INFO     | xgboost_soccer_prediction | Trial 79:\n",
      "2025-02-21 12:24:02,610 | INFO     | xgboost_soccer_prediction |   Params: {'objective': 'binary:logistic', 'tree_method': 'hist', 'eval_metric': ['logloss', 'auc'], 'verbose': -1, 'n_jobs': -1, 'random_state': 19, 'learning_rate': 0.027109592654812945, 'max_depth': 9, 'min_child_weight': 90, 'subsample': 0.5356876217520605, 'colsample_bytree': 0.6913457253960549, 'reg_alpha': 0.03747143227112491, 'reg_lambda': 7.640619895453328, 'gamma': 2.271978813274999, 'early_stopping_rounds': 319, 'scale_pos_weight': 2.437843776610045}\n",
      "2025-02-21 12:24:02,612 | INFO     | xgboost_soccer_prediction |   Score: 0.3521444695258799\n"
     ]
    },
    {
     "name": "stderr",
     "output_type": "stream",
     "text": [
      "[I 2025-02-21 12:24:02,614] Trial 79 finished with value: 0.3521444695258799 and parameters: {'learning_rate': 0.027109592654812945, 'max_depth': 9, 'min_child_weight': 90, 'subsample': 0.5356876217520605, 'colsample_bytree': 0.6913457253960549, 'reg_alpha': 0.03747143227112491, 'reg_lambda': 7.640619895453328, 'gamma': 2.271978813274999, 'early_stopping_rounds': 319, 'scale_pos_weight': 2.437843776610045}. Best is trial 61 with value: 0.38418079096034347.\n"
     ]
    },
    {
     "name": "stdout",
     "output_type": "stream",
     "text": [
      "2025-02-21 12:24:02,614 | INFO     | xgboost_soccer_prediction | Current best score: 0.3842\n",
      "2025-02-21 12:24:04,775 | INFO     | xgboost_soccer_prediction | Optimized threshold: 0.510 with precision: 0.353\n",
      "2025-02-21 12:24:04,814 | INFO     | xgboost_soccer_prediction | Trial 80:\n",
      "2025-02-21 12:24:04,814 | INFO     | xgboost_soccer_prediction |   Params: {'objective': 'binary:logistic', 'tree_method': 'hist', 'eval_metric': ['logloss', 'auc'], 'verbose': -1, 'n_jobs': -1, 'random_state': 19, 'learning_rate': 0.023551124613161514, 'max_depth': 12, 'min_child_weight': 55, 'subsample': 0.5042412174911657, 'colsample_bytree': 0.6547036904860722, 'reg_alpha': 0.12381868303829015, 'reg_lambda': 10.372668008887244, 'gamma': 2.436272882751114, 'early_stopping_rounds': 323, 'scale_pos_weight': 2.406240891451491}\n",
      "2025-02-21 12:24:04,816 | INFO     | xgboost_soccer_prediction |   Score: 0.35343035343027995\n"
     ]
    },
    {
     "name": "stderr",
     "output_type": "stream",
     "text": [
      "[I 2025-02-21 12:24:04,819] Trial 80 finished with value: 0.35343035343027995 and parameters: {'learning_rate': 0.023551124613161514, 'max_depth': 12, 'min_child_weight': 55, 'subsample': 0.5042412174911657, 'colsample_bytree': 0.6547036904860722, 'reg_alpha': 0.12381868303829015, 'reg_lambda': 10.372668008887244, 'gamma': 2.436272882751114, 'early_stopping_rounds': 323, 'scale_pos_weight': 2.406240891451491}. Best is trial 61 with value: 0.38418079096034347.\n"
     ]
    },
    {
     "name": "stdout",
     "output_type": "stream",
     "text": [
      "2025-02-21 12:24:04,821 | INFO     | xgboost_soccer_prediction | Current best score: 0.3842\n",
      "2025-02-21 12:24:06,531 | INFO     | xgboost_soccer_prediction | Optimized threshold: 0.540 with precision: 0.348\n",
      "2025-02-21 12:24:06,571 | INFO     | xgboost_soccer_prediction | Trial 81:\n",
      "2025-02-21 12:24:06,573 | INFO     | xgboost_soccer_prediction |   Params: {'objective': 'binary:logistic', 'tree_method': 'hist', 'eval_metric': ['logloss', 'auc'], 'verbose': -1, 'n_jobs': -1, 'random_state': 19, 'learning_rate': 0.021710601804953846, 'max_depth': 8, 'min_child_weight': 59, 'subsample': 0.4781372639314311, 'colsample_bytree': 0.6480249210140651, 'reg_alpha': 0.5980503541780159, 'reg_lambda': 10.792973934276255, 'gamma': 2.6328464036026027, 'early_stopping_rounds': 343, 'scale_pos_weight': 2.5432420438142262}\n",
      "2025-02-21 12:24:06,575 | INFO     | xgboost_soccer_prediction |   Score: 0.3483412322274056\n"
     ]
    },
    {
     "name": "stderr",
     "output_type": "stream",
     "text": [
      "[I 2025-02-21 12:24:06,577] Trial 81 finished with value: 0.3483412322274056 and parameters: {'learning_rate': 0.021710601804953846, 'max_depth': 8, 'min_child_weight': 59, 'subsample': 0.4781372639314311, 'colsample_bytree': 0.6480249210140651, 'reg_alpha': 0.5980503541780159, 'reg_lambda': 10.792973934276255, 'gamma': 2.6328464036026027, 'early_stopping_rounds': 343, 'scale_pos_weight': 2.5432420438142262}. Best is trial 61 with value: 0.38418079096034347.\n"
     ]
    },
    {
     "name": "stdout",
     "output_type": "stream",
     "text": [
      "2025-02-21 12:24:06,577 | INFO     | xgboost_soccer_prediction | Current best score: 0.3842\n",
      "2025-02-21 12:24:08,323 | INFO     | xgboost_soccer_prediction | Optimized threshold: 0.550 with precision: 0.364\n",
      "2025-02-21 12:24:08,362 | INFO     | xgboost_soccer_prediction | Trial 82:\n",
      "2025-02-21 12:24:08,364 | INFO     | xgboost_soccer_prediction |   Params: {'objective': 'binary:logistic', 'tree_method': 'hist', 'eval_metric': ['logloss', 'auc'], 'verbose': -1, 'n_jobs': -1, 'random_state': 19, 'learning_rate': 0.020821409525486674, 'max_depth': 8, 'min_child_weight': 61, 'subsample': 0.6581224173482946, 'colsample_bytree': 0.6407397187275374, 'reg_alpha': 0.4399282996861885, 'reg_lambda': 11.047364992699073, 'gamma': 2.5228177719642972, 'early_stopping_rounds': 348, 'scale_pos_weight': 2.5493776077297228}\n",
      "2025-02-21 12:24:08,366 | INFO     | xgboost_soccer_prediction |   Score: 0.3643617021275627\n"
     ]
    },
    {
     "name": "stderr",
     "output_type": "stream",
     "text": [
      "[I 2025-02-21 12:24:08,369] Trial 82 finished with value: 0.3643617021275627 and parameters: {'learning_rate': 0.020821409525486674, 'max_depth': 8, 'min_child_weight': 61, 'subsample': 0.6581224173482946, 'colsample_bytree': 0.6407397187275374, 'reg_alpha': 0.4399282996861885, 'reg_lambda': 11.047364992699073, 'gamma': 2.5228177719642972, 'early_stopping_rounds': 348, 'scale_pos_weight': 2.5493776077297228}. Best is trial 61 with value: 0.38418079096034347.\n"
     ]
    },
    {
     "name": "stdout",
     "output_type": "stream",
     "text": [
      "2025-02-21 12:24:08,369 | INFO     | xgboost_soccer_prediction | Current best score: 0.3842\n",
      "2025-02-21 12:24:10,197 | INFO     | xgboost_soccer_prediction | Optimized threshold: 0.550 with precision: 0.375\n",
      "2025-02-21 12:24:10,235 | INFO     | xgboost_soccer_prediction | Trial 83:\n",
      "2025-02-21 12:24:10,237 | INFO     | xgboost_soccer_prediction |   Params: {'objective': 'binary:logistic', 'tree_method': 'hist', 'eval_metric': ['logloss', 'auc'], 'verbose': -1, 'n_jobs': -1, 'random_state': 19, 'learning_rate': 0.02058835254463824, 'max_depth': 8, 'min_child_weight': 62, 'subsample': 0.6569630683268113, 'colsample_bytree': 0.6344073347581742, 'reg_alpha': 0.3419789929366823, 'reg_lambda': 11.01576478693022, 'gamma': 2.3869258929322656, 'early_stopping_rounds': 349, 'scale_pos_weight': 2.5495740670391847}\n",
      "2025-02-21 12:24:10,239 | INFO     | xgboost_soccer_prediction |   Score: 0.37499999999989586\n"
     ]
    },
    {
     "name": "stderr",
     "output_type": "stream",
     "text": [
      "[I 2025-02-21 12:24:10,241] Trial 83 finished with value: 0.37499999999989586 and parameters: {'learning_rate': 0.02058835254463824, 'max_depth': 8, 'min_child_weight': 62, 'subsample': 0.6569630683268113, 'colsample_bytree': 0.6344073347581742, 'reg_alpha': 0.3419789929366823, 'reg_lambda': 11.01576478693022, 'gamma': 2.3869258929322656, 'early_stopping_rounds': 349, 'scale_pos_weight': 2.5495740670391847}. Best is trial 61 with value: 0.38418079096034347.\n"
     ]
    },
    {
     "name": "stdout",
     "output_type": "stream",
     "text": [
      "2025-02-21 12:24:10,241 | INFO     | xgboost_soccer_prediction | Current best score: 0.3842\n",
      "2025-02-21 12:24:12,023 | INFO     | xgboost_soccer_prediction | Optimized threshold: 0.550 with precision: 0.368\n",
      "2025-02-21 12:24:12,062 | INFO     | xgboost_soccer_prediction | Trial 84:\n",
      "2025-02-21 12:24:12,064 | INFO     | xgboost_soccer_prediction |   Params: {'objective': 'binary:logistic', 'tree_method': 'hist', 'eval_metric': ['logloss', 'auc'], 'verbose': -1, 'n_jobs': -1, 'random_state': 19, 'learning_rate': 0.020465050696755097, 'max_depth': 8, 'min_child_weight': 62, 'subsample': 0.6569382891764467, 'colsample_bytree': 0.6315065154997508, 'reg_alpha': 0.429362557945965, 'reg_lambda': 11.069904421507868, 'gamma': 2.393252637177401, 'early_stopping_rounds': 349, 'scale_pos_weight': 2.5482164643433234}\n",
      "2025-02-21 12:24:12,064 | INFO     | xgboost_soccer_prediction |   Score: 0.3678474114440415\n"
     ]
    },
    {
     "name": "stderr",
     "output_type": "stream",
     "text": [
      "[I 2025-02-21 12:24:12,067] Trial 84 finished with value: 0.3678474114440415 and parameters: {'learning_rate': 0.020465050696755097, 'max_depth': 8, 'min_child_weight': 62, 'subsample': 0.6569382891764467, 'colsample_bytree': 0.6315065154997508, 'reg_alpha': 0.429362557945965, 'reg_lambda': 11.069904421507868, 'gamma': 2.393252637177401, 'early_stopping_rounds': 349, 'scale_pos_weight': 2.5482164643433234}. Best is trial 61 with value: 0.38418079096034347.\n"
     ]
    },
    {
     "name": "stdout",
     "output_type": "stream",
     "text": [
      "2025-02-21 12:24:12,068 | INFO     | xgboost_soccer_prediction | Current best score: 0.3842\n",
      "2025-02-21 12:24:13,820 | INFO     | xgboost_soccer_prediction | Optimized threshold: 0.540 with precision: 0.344\n",
      "2025-02-21 12:24:13,858 | INFO     | xgboost_soccer_prediction | Trial 85:\n",
      "2025-02-21 12:24:13,860 | INFO     | xgboost_soccer_prediction |   Params: {'objective': 'binary:logistic', 'tree_method': 'hist', 'eval_metric': ['logloss', 'auc'], 'verbose': -1, 'n_jobs': -1, 'random_state': 19, 'learning_rate': 0.028286270472422655, 'max_depth': 8, 'min_child_weight': 63, 'subsample': 0.639821873858446, 'colsample_bytree': 0.6274051037314982, 'reg_alpha': 0.4038042067795196, 'reg_lambda': 11.343437233321067, 'gamma': 2.204155126320652, 'early_stopping_rounds': 350, 'scale_pos_weight': 2.559722466699771}\n",
      "2025-02-21 12:24:13,862 | INFO     | xgboost_soccer_prediction |   Score: 0.34354485776797733\n"
     ]
    },
    {
     "name": "stderr",
     "output_type": "stream",
     "text": [
      "[I 2025-02-21 12:24:13,864] Trial 85 finished with value: 0.34354485776797733 and parameters: {'learning_rate': 0.028286270472422655, 'max_depth': 8, 'min_child_weight': 63, 'subsample': 0.639821873858446, 'colsample_bytree': 0.6274051037314982, 'reg_alpha': 0.4038042067795196, 'reg_lambda': 11.343437233321067, 'gamma': 2.204155126320652, 'early_stopping_rounds': 350, 'scale_pos_weight': 2.559722466699771}. Best is trial 61 with value: 0.38418079096034347.\n"
     ]
    },
    {
     "name": "stdout",
     "output_type": "stream",
     "text": [
      "2025-02-21 12:24:13,864 | INFO     | xgboost_soccer_prediction | Current best score: 0.3842\n",
      "2025-02-21 12:24:15,662 | INFO     | xgboost_soccer_prediction | Optimized threshold: 0.530 with precision: 0.342\n",
      "2025-02-21 12:24:15,702 | INFO     | xgboost_soccer_prediction | Trial 86:\n",
      "2025-02-21 12:24:15,704 | INFO     | xgboost_soccer_prediction |   Params: {'objective': 'binary:logistic', 'tree_method': 'hist', 'eval_metric': ['logloss', 'auc'], 'verbose': -1, 'n_jobs': -1, 'random_state': 19, 'learning_rate': 0.021954283391886244, 'max_depth': 8, 'min_child_weight': 65, 'subsample': 0.6668384938980341, 'colsample_bytree': 0.6984720801502082, 'reg_alpha': 0.31623135337746994, 'reg_lambda': 10.603364432767053, 'gamma': 2.3509754546095287, 'early_stopping_rounds': 348, 'scale_pos_weight': 2.548665617985181}\n",
      "2025-02-21 12:24:15,704 | INFO     | xgboost_soccer_prediction |   Score: 0.3419243986253708\n"
     ]
    },
    {
     "name": "stderr",
     "output_type": "stream",
     "text": [
      "[I 2025-02-21 12:24:15,707] Trial 86 finished with value: 0.3419243986253708 and parameters: {'learning_rate': 0.021954283391886244, 'max_depth': 8, 'min_child_weight': 65, 'subsample': 0.6668384938980341, 'colsample_bytree': 0.6984720801502082, 'reg_alpha': 0.31623135337746994, 'reg_lambda': 10.603364432767053, 'gamma': 2.3509754546095287, 'early_stopping_rounds': 348, 'scale_pos_weight': 2.548665617985181}. Best is trial 61 with value: 0.38418079096034347.\n"
     ]
    },
    {
     "name": "stdout",
     "output_type": "stream",
     "text": [
      "2025-02-21 12:24:15,707 | INFO     | xgboost_soccer_prediction | Current best score: 0.3842\n",
      "2025-02-21 12:24:17,608 | INFO     | xgboost_soccer_prediction | Optimized threshold: 0.540 with precision: 0.345\n",
      "2025-02-21 12:24:17,646 | INFO     | xgboost_soccer_prediction | Trial 87:\n",
      "2025-02-21 12:24:17,648 | INFO     | xgboost_soccer_prediction |   Params: {'objective': 'binary:logistic', 'tree_method': 'hist', 'eval_metric': ['logloss', 'auc'], 'verbose': -1, 'n_jobs': -1, 'random_state': 19, 'learning_rate': 0.024105514896066837, 'max_depth': 8, 'min_child_weight': 58, 'subsample': 0.654455246670352, 'colsample_bytree': 0.6676770740216377, 'reg_alpha': 0.35547124416352394, 'reg_lambda': 11.4716405788202, 'gamma': 2.0978537512497186, 'early_stopping_rounds': 346, 'scale_pos_weight': 2.5791690035845325}\n",
      "2025-02-21 12:24:17,649 | INFO     | xgboost_soccer_prediction |   Score: 0.34549356223168554\n"
     ]
    },
    {
     "name": "stderr",
     "output_type": "stream",
     "text": [
      "[I 2025-02-21 12:24:17,651] Trial 87 finished with value: 0.34549356223168554 and parameters: {'learning_rate': 0.024105514896066837, 'max_depth': 8, 'min_child_weight': 58, 'subsample': 0.654455246670352, 'colsample_bytree': 0.6676770740216377, 'reg_alpha': 0.35547124416352394, 'reg_lambda': 11.4716405788202, 'gamma': 2.0978537512497186, 'early_stopping_rounds': 346, 'scale_pos_weight': 2.5791690035845325}. Best is trial 61 with value: 0.38418079096034347.\n"
     ]
    },
    {
     "name": "stdout",
     "output_type": "stream",
     "text": [
      "2025-02-21 12:24:17,651 | INFO     | xgboost_soccer_prediction | Current best score: 0.3842\n",
      "2025-02-21 12:24:19,612 | INFO     | xgboost_soccer_prediction | Optimized threshold: 0.530 with precision: 0.356\n",
      "2025-02-21 12:24:19,649 | INFO     | xgboost_soccer_prediction | Trial 88:\n",
      "2025-02-21 12:24:19,651 | INFO     | xgboost_soccer_prediction |   Params: {'objective': 'binary:logistic', 'tree_method': 'hist', 'eval_metric': ['logloss', 'auc'], 'verbose': -1, 'n_jobs': -1, 'random_state': 19, 'learning_rate': 0.02040740691646668, 'max_depth': 9, 'min_child_weight': 62, 'subsample': 0.6973458873632492, 'colsample_bytree': 0.6600030794883497, 'reg_alpha': 0.770391545148556, 'reg_lambda': 10.930101798782465, 'gamma': 2.3904726511356205, 'early_stopping_rounds': 304, 'scale_pos_weight': 2.535930421637999}\n",
      "2025-02-21 12:24:19,651 | INFO     | xgboost_soccer_prediction |   Score: 0.35600907029470386\n"
     ]
    },
    {
     "name": "stderr",
     "output_type": "stream",
     "text": [
      "[I 2025-02-21 12:24:19,654] Trial 88 finished with value: 0.35600907029470386 and parameters: {'learning_rate': 0.02040740691646668, 'max_depth': 9, 'min_child_weight': 62, 'subsample': 0.6973458873632492, 'colsample_bytree': 0.6600030794883497, 'reg_alpha': 0.770391545148556, 'reg_lambda': 10.930101798782465, 'gamma': 2.3904726511356205, 'early_stopping_rounds': 304, 'scale_pos_weight': 2.535930421637999}. Best is trial 61 with value: 0.38418079096034347.\n"
     ]
    },
    {
     "name": "stdout",
     "output_type": "stream",
     "text": [
      "2025-02-21 12:24:19,654 | INFO     | xgboost_soccer_prediction | Current best score: 0.3842\n",
      "2025-02-21 12:24:21,608 | INFO     | xgboost_soccer_prediction | Optimized threshold: 0.550 with precision: 0.351\n",
      "2025-02-21 12:24:21,666 | INFO     | xgboost_soccer_prediction | Trial 89:\n",
      "2025-02-21 12:24:21,669 | INFO     | xgboost_soccer_prediction |   Params: {'objective': 'binary:logistic', 'tree_method': 'hist', 'eval_metric': ['logloss', 'auc'], 'verbose': -1, 'n_jobs': -1, 'random_state': 19, 'learning_rate': 0.023250644387666896, 'max_depth': 9, 'min_child_weight': 70, 'subsample': 0.6324964498159619, 'colsample_bytree': 0.7268289008265422, 'reg_alpha': 0.5244341727315447, 'reg_lambda': 11.181032789401874, 'gamma': 2.2601092144378483, 'early_stopping_rounds': 349, 'scale_pos_weight': 2.5526752628606215}\n",
      "2025-02-21 12:24:21,671 | INFO     | xgboost_soccer_prediction |   Score: 0.35051546391743543\n"
     ]
    },
    {
     "name": "stderr",
     "output_type": "stream",
     "text": [
      "[I 2025-02-21 12:24:21,673] Trial 89 finished with value: 0.35051546391743543 and parameters: {'learning_rate': 0.023250644387666896, 'max_depth': 9, 'min_child_weight': 70, 'subsample': 0.6324964498159619, 'colsample_bytree': 0.7268289008265422, 'reg_alpha': 0.5244341727315447, 'reg_lambda': 11.181032789401874, 'gamma': 2.2601092144378483, 'early_stopping_rounds': 349, 'scale_pos_weight': 2.5526752628606215}. Best is trial 61 with value: 0.38418079096034347.\n"
     ]
    },
    {
     "name": "stdout",
     "output_type": "stream",
     "text": [
      "2025-02-21 12:24:21,675 | INFO     | xgboost_soccer_prediction | Current best score: 0.3842\n",
      "2025-02-21 12:24:23,457 | INFO     | xgboost_soccer_prediction | Optimized threshold: 0.550 with precision: 0.348\n",
      "2025-02-21 12:24:23,497 | INFO     | xgboost_soccer_prediction | Trial 90:\n",
      "2025-02-21 12:24:23,499 | INFO     | xgboost_soccer_prediction |   Params: {'objective': 'binary:logistic', 'tree_method': 'hist', 'eval_metric': ['logloss', 'auc'], 'verbose': -1, 'n_jobs': -1, 'random_state': 19, 'learning_rate': 0.026426266893193287, 'max_depth': 8, 'min_child_weight': 55, 'subsample': 0.6831794162874185, 'colsample_bytree': 0.6008857510600935, 'reg_alpha': 0.4799744244043626, 'reg_lambda': 10.297410231347497, 'gamma': 1.9358009866012185, 'early_stopping_rounds': 330, 'scale_pos_weight': 2.568225595769336}\n",
      "2025-02-21 12:24:23,500 | INFO     | xgboost_soccer_prediction |   Score: 0.3479262672810258\n"
     ]
    },
    {
     "name": "stderr",
     "output_type": "stream",
     "text": [
      "[I 2025-02-21 12:24:23,502] Trial 90 finished with value: 0.3479262672810258 and parameters: {'learning_rate': 0.026426266893193287, 'max_depth': 8, 'min_child_weight': 55, 'subsample': 0.6831794162874185, 'colsample_bytree': 0.6008857510600935, 'reg_alpha': 0.4799744244043626, 'reg_lambda': 10.297410231347497, 'gamma': 1.9358009866012185, 'early_stopping_rounds': 330, 'scale_pos_weight': 2.568225595769336}. Best is trial 61 with value: 0.38418079096034347.\n"
     ]
    },
    {
     "name": "stdout",
     "output_type": "stream",
     "text": [
      "2025-02-21 12:24:23,504 | INFO     | xgboost_soccer_prediction | Current best score: 0.3842\n",
      "2025-02-21 12:24:25,308 | INFO     | xgboost_soccer_prediction | Optimized threshold: 0.530 with precision: 0.358\n",
      "2025-02-21 12:24:25,348 | INFO     | xgboost_soccer_prediction | Trial 91:\n",
      "2025-02-21 12:24:25,350 | INFO     | xgboost_soccer_prediction |   Params: {'objective': 'binary:logistic', 'tree_method': 'hist', 'eval_metric': ['logloss', 'auc'], 'verbose': -1, 'n_jobs': -1, 'random_state': 19, 'learning_rate': 0.021013451397102728, 'max_depth': 8, 'min_child_weight': 61, 'subsample': 0.6609898702185069, 'colsample_bytree': 0.6340901866377394, 'reg_alpha': 0.4608611861334434, 'reg_lambda': 11.051991469304154, 'gamma': 2.593693226844886, 'early_stopping_rounds': 347, 'scale_pos_weight': 2.5473842009755914}\n",
      "2025-02-21 12:24:25,351 | INFO     | xgboost_soccer_prediction |   Score: 0.3580705009275773\n"
     ]
    },
    {
     "name": "stderr",
     "output_type": "stream",
     "text": [
      "[I 2025-02-21 12:24:25,354] Trial 91 finished with value: 0.3580705009275773 and parameters: {'learning_rate': 0.021013451397102728, 'max_depth': 8, 'min_child_weight': 61, 'subsample': 0.6609898702185069, 'colsample_bytree': 0.6340901866377394, 'reg_alpha': 0.4608611861334434, 'reg_lambda': 11.051991469304154, 'gamma': 2.593693226844886, 'early_stopping_rounds': 347, 'scale_pos_weight': 2.5473842009755914}. Best is trial 61 with value: 0.38418079096034347.\n"
     ]
    },
    {
     "name": "stdout",
     "output_type": "stream",
     "text": [
      "2025-02-21 12:24:25,354 | INFO     | xgboost_soccer_prediction | Current best score: 0.3842\n",
      "2025-02-21 12:24:27,124 | INFO     | xgboost_soccer_prediction | Optimized threshold: 0.550 with precision: 0.354\n",
      "2025-02-21 12:24:27,162 | INFO     | xgboost_soccer_prediction | Trial 92:\n",
      "2025-02-21 12:24:27,164 | INFO     | xgboost_soccer_prediction |   Params: {'objective': 'binary:logistic', 'tree_method': 'hist', 'eval_metric': ['logloss', 'auc'], 'verbose': -1, 'n_jobs': -1, 'random_state': 19, 'learning_rate': 0.022369197817024965, 'max_depth': 8, 'min_child_weight': 64, 'subsample': 0.6559956079437476, 'colsample_bytree': 0.6406779104218759, 'reg_alpha': 0.56051154890772, 'reg_lambda': 10.701638307405808, 'gamma': 2.4497580156306182, 'early_stopping_rounds': 348, 'scale_pos_weight': 2.5607179518902434}\n",
      "2025-02-21 12:24:27,166 | INFO     | xgboost_soccer_prediction |   Score: 0.35443037974674574\n"
     ]
    },
    {
     "name": "stderr",
     "output_type": "stream",
     "text": [
      "[I 2025-02-21 12:24:27,169] Trial 92 finished with value: 0.35443037974674574 and parameters: {'learning_rate': 0.022369197817024965, 'max_depth': 8, 'min_child_weight': 64, 'subsample': 0.6559956079437476, 'colsample_bytree': 0.6406779104218759, 'reg_alpha': 0.56051154890772, 'reg_lambda': 10.701638307405808, 'gamma': 2.4497580156306182, 'early_stopping_rounds': 348, 'scale_pos_weight': 2.5607179518902434}. Best is trial 61 with value: 0.38418079096034347.\n"
     ]
    },
    {
     "name": "stdout",
     "output_type": "stream",
     "text": [
      "2025-02-21 12:24:27,169 | INFO     | xgboost_soccer_prediction | Current best score: 0.3842\n",
      "2025-02-21 12:24:28,931 | INFO     | xgboost_soccer_prediction | Optimized threshold: 0.540 with precision: 0.340\n",
      "2025-02-21 12:24:28,971 | INFO     | xgboost_soccer_prediction | Trial 93:\n",
      "2025-02-21 12:24:28,973 | INFO     | xgboost_soccer_prediction |   Params: {'objective': 'binary:logistic', 'tree_method': 'hist', 'eval_metric': ['logloss', 'auc'], 'verbose': -1, 'n_jobs': -1, 'random_state': 19, 'learning_rate': 0.020014176188401664, 'max_depth': 8, 'min_child_weight': 60, 'subsample': 0.6141227726921418, 'colsample_bytree': 0.714106791041053, 'reg_alpha': 0.38232436882060583, 'reg_lambda': 11.991209155524501, 'gamma': 2.726028300309093, 'early_stopping_rounds': 310, 'scale_pos_weight': 2.555132609974962}\n",
      "2025-02-21 12:24:28,973 | INFO     | xgboost_soccer_prediction |   Score: 0.3400809716598502\n"
     ]
    },
    {
     "name": "stderr",
     "output_type": "stream",
     "text": [
      "[I 2025-02-21 12:24:28,976] Trial 93 finished with value: 0.3400809716598502 and parameters: {'learning_rate': 0.020014176188401664, 'max_depth': 8, 'min_child_weight': 60, 'subsample': 0.6141227726921418, 'colsample_bytree': 0.714106791041053, 'reg_alpha': 0.38232436882060583, 'reg_lambda': 11.991209155524501, 'gamma': 2.726028300309093, 'early_stopping_rounds': 310, 'scale_pos_weight': 2.555132609974962}. Best is trial 61 with value: 0.38418079096034347.\n"
     ]
    },
    {
     "name": "stdout",
     "output_type": "stream",
     "text": [
      "2025-02-21 12:24:28,976 | INFO     | xgboost_soccer_prediction | Current best score: 0.3842\n",
      "2025-02-21 12:24:30,775 | INFO     | xgboost_soccer_prediction | Optimized threshold: 0.540 with precision: 0.352\n",
      "2025-02-21 12:24:30,825 | INFO     | xgboost_soccer_prediction | Trial 94:\n",
      "2025-02-21 12:24:30,827 | INFO     | xgboost_soccer_prediction |   Params: {'objective': 'binary:logistic', 'tree_method': 'hist', 'eval_metric': ['logloss', 'auc'], 'verbose': -1, 'n_jobs': -1, 'random_state': 19, 'learning_rate': 0.021402338771805793, 'max_depth': 8, 'min_child_weight': 73, 'subsample': 0.671640926361595, 'colsample_bytree': 0.7075376389833653, 'reg_alpha': 0.448215738929908, 'reg_lambda': 11.063528051860638, 'gamma': 2.491916786581887, 'early_stopping_rounds': 350, 'scale_pos_weight': 2.528802908745086}\n",
      "2025-02-21 12:24:30,829 | INFO     | xgboost_soccer_prediction |   Score: 0.3523809523808685\n"
     ]
    },
    {
     "name": "stderr",
     "output_type": "stream",
     "text": [
      "[I 2025-02-21 12:24:30,831] Trial 94 finished with value: 0.3523809523808685 and parameters: {'learning_rate': 0.021402338771805793, 'max_depth': 8, 'min_child_weight': 73, 'subsample': 0.671640926361595, 'colsample_bytree': 0.7075376389833653, 'reg_alpha': 0.448215738929908, 'reg_lambda': 11.063528051860638, 'gamma': 2.491916786581887, 'early_stopping_rounds': 350, 'scale_pos_weight': 2.528802908745086}. Best is trial 61 with value: 0.38418079096034347.\n"
     ]
    },
    {
     "name": "stdout",
     "output_type": "stream",
     "text": [
      "2025-02-21 12:24:30,831 | INFO     | xgboost_soccer_prediction | Current best score: 0.3842\n",
      "2025-02-21 12:24:32,750 | INFO     | xgboost_soccer_prediction | Optimized threshold: 0.530 with precision: 0.363\n",
      "2025-02-21 12:24:32,788 | INFO     | xgboost_soccer_prediction | Trial 95:\n",
      "2025-02-21 12:24:32,790 | INFO     | xgboost_soccer_prediction |   Params: {'objective': 'binary:logistic', 'tree_method': 'hist', 'eval_metric': ['logloss', 'auc'], 'verbose': -1, 'n_jobs': -1, 'random_state': 19, 'learning_rate': 0.020859592391821297, 'max_depth': 9, 'min_child_weight': 57, 'subsample': 0.624065866438437, 'colsample_bytree': 0.644653734141957, 'reg_alpha': 0.6996957607163738, 'reg_lambda': 10.886365011378206, 'gamma': 2.2678412499918026, 'early_stopping_rounds': 346, 'scale_pos_weight': 2.411254389402135}\n",
      "2025-02-21 12:24:32,790 | INFO     | xgboost_soccer_prediction |   Score: 0.36255924170607523\n"
     ]
    },
    {
     "name": "stderr",
     "output_type": "stream",
     "text": [
      "[I 2025-02-21 12:24:32,792] Trial 95 finished with value: 0.36255924170607523 and parameters: {'learning_rate': 0.020859592391821297, 'max_depth': 9, 'min_child_weight': 57, 'subsample': 0.624065866438437, 'colsample_bytree': 0.644653734141957, 'reg_alpha': 0.6996957607163738, 'reg_lambda': 10.886365011378206, 'gamma': 2.2678412499918026, 'early_stopping_rounds': 346, 'scale_pos_weight': 2.411254389402135}. Best is trial 61 with value: 0.38418079096034347.\n"
     ]
    },
    {
     "name": "stdout",
     "output_type": "stream",
     "text": [
      "2025-02-21 12:24:32,792 | INFO     | xgboost_soccer_prediction | Current best score: 0.3842\n",
      "2025-02-21 12:24:34,504 | INFO     | xgboost_soccer_prediction | Optimized threshold: 0.530 with precision: 0.349\n",
      "2025-02-21 12:24:34,542 | INFO     | xgboost_soccer_prediction | Trial 96:\n",
      "2025-02-21 12:24:34,544 | INFO     | xgboost_soccer_prediction |   Params: {'objective': 'binary:logistic', 'tree_method': 'hist', 'eval_metric': ['logloss', 'auc'], 'verbose': -1, 'n_jobs': -1, 'random_state': 19, 'learning_rate': 0.023020552842009483, 'max_depth': 8, 'min_child_weight': 66, 'subsample': 0.6407355197908943, 'colsample_bytree': 0.6295580459155713, 'reg_alpha': 0.2350597010697489, 'reg_lambda': 10.110679226999576, 'gamma': 2.909958600643159, 'early_stopping_rounds': 349, 'scale_pos_weight': 2.540650258426015}\n",
      "2025-02-21 12:24:34,545 | INFO     | xgboost_soccer_prediction |   Score: 0.34854771784225136\n"
     ]
    },
    {
     "name": "stderr",
     "output_type": "stream",
     "text": [
      "[I 2025-02-21 12:24:34,547] Trial 96 finished with value: 0.34854771784225136 and parameters: {'learning_rate': 0.023020552842009483, 'max_depth': 8, 'min_child_weight': 66, 'subsample': 0.6407355197908943, 'colsample_bytree': 0.6295580459155713, 'reg_alpha': 0.2350597010697489, 'reg_lambda': 10.110679226999576, 'gamma': 2.909958600643159, 'early_stopping_rounds': 349, 'scale_pos_weight': 2.540650258426015}. Best is trial 61 with value: 0.38418079096034347.\n"
     ]
    },
    {
     "name": "stdout",
     "output_type": "stream",
     "text": [
      "2025-02-21 12:24:34,548 | INFO     | xgboost_soccer_prediction | Current best score: 0.3842\n",
      "2025-02-21 12:24:36,377 | INFO     | xgboost_soccer_prediction | Optimized threshold: 0.540 with precision: 0.363\n",
      "2025-02-21 12:24:36,415 | INFO     | xgboost_soccer_prediction | Trial 97:\n",
      "2025-02-21 12:24:36,417 | INFO     | xgboost_soccer_prediction |   Params: {'objective': 'binary:logistic', 'tree_method': 'hist', 'eval_metric': ['logloss', 'auc'], 'verbose': -1, 'n_jobs': -1, 'random_state': 19, 'learning_rate': 0.022660292339313666, 'max_depth': 8, 'min_child_weight': 62, 'subsample': 0.6476873091542232, 'colsample_bytree': 0.6558560180413341, 'reg_alpha': 0.34827636346903856, 'reg_lambda': 10.475229179929329, 'gamma': 2.1759858957660962, 'early_stopping_rounds': 332, 'scale_pos_weight': 2.5646464066760797}\n",
      "2025-02-21 12:24:36,419 | INFO     | xgboost_soccer_prediction |   Score: 0.36305732484068726\n"
     ]
    },
    {
     "name": "stderr",
     "output_type": "stream",
     "text": [
      "[I 2025-02-21 12:24:36,421] Trial 97 finished with value: 0.36305732484068726 and parameters: {'learning_rate': 0.022660292339313666, 'max_depth': 8, 'min_child_weight': 62, 'subsample': 0.6476873091542232, 'colsample_bytree': 0.6558560180413341, 'reg_alpha': 0.34827636346903856, 'reg_lambda': 10.475229179929329, 'gamma': 2.1759858957660962, 'early_stopping_rounds': 332, 'scale_pos_weight': 2.5646464066760797}. Best is trial 61 with value: 0.38418079096034347.\n"
     ]
    },
    {
     "name": "stdout",
     "output_type": "stream",
     "text": [
      "2025-02-21 12:24:36,423 | INFO     | xgboost_soccer_prediction | Current best score: 0.3842\n",
      "2025-02-21 12:24:38,323 | INFO     | xgboost_soccer_prediction | Optimized threshold: 0.520 with precision: 0.352\n",
      "2025-02-21 12:24:38,362 | INFO     | xgboost_soccer_prediction | Trial 98:\n",
      "2025-02-21 12:24:38,364 | INFO     | xgboost_soccer_prediction |   Params: {'objective': 'binary:logistic', 'tree_method': 'hist', 'eval_metric': ['logloss', 'auc'], 'verbose': -1, 'n_jobs': -1, 'random_state': 19, 'learning_rate': 0.020667451347060523, 'max_depth': 9, 'min_child_weight': 56, 'subsample': 0.5431293836313289, 'colsample_bytree': 0.6100615976420516, 'reg_alpha': 0.2885796158294197, 'reg_lambda': 11.164424054634464, 'gamma': 2.543501397743435, 'early_stopping_rounds': 345, 'scale_pos_weight': 2.523267343450555}\n",
      "2025-02-21 12:24:38,364 | INFO     | xgboost_soccer_prediction |   Score: 0.3517587939697903\n"
     ]
    },
    {
     "name": "stderr",
     "output_type": "stream",
     "text": [
      "[I 2025-02-21 12:24:38,367] Trial 98 finished with value: 0.3517587939697903 and parameters: {'learning_rate': 0.020667451347060523, 'max_depth': 9, 'min_child_weight': 56, 'subsample': 0.5431293836313289, 'colsample_bytree': 0.6100615976420516, 'reg_alpha': 0.2885796158294197, 'reg_lambda': 11.164424054634464, 'gamma': 2.543501397743435, 'early_stopping_rounds': 345, 'scale_pos_weight': 2.523267343450555}. Best is trial 61 with value: 0.38418079096034347.\n"
     ]
    },
    {
     "name": "stdout",
     "output_type": "stream",
     "text": [
      "2025-02-21 12:24:38,368 | INFO     | xgboost_soccer_prediction | Current best score: 0.3842\n",
      "2025-02-21 12:24:40,401 | INFO     | xgboost_soccer_prediction | Optimized threshold: 0.530 with precision: 0.353\n",
      "2025-02-21 12:24:40,440 | INFO     | xgboost_soccer_prediction | Trial 99:\n",
      "2025-02-21 12:24:40,441 | INFO     | xgboost_soccer_prediction |   Params: {'objective': 'binary:logistic', 'tree_method': 'hist', 'eval_metric': ['logloss', 'auc'], 'verbose': -1, 'n_jobs': -1, 'random_state': 19, 'learning_rate': 0.021788555622698328, 'max_depth': 10, 'min_child_weight': 61, 'subsample': 0.6337696595638003, 'colsample_bytree': 0.6499546530965828, 'reg_alpha': 0.40620863137317936, 'reg_lambda': 9.912843102939629, 'gamma': 1.8571753265576072, 'early_stopping_rounds': 339, 'scale_pos_weight': 2.5460518135990533}\n",
      "2025-02-21 12:24:40,443 | INFO     | xgboost_soccer_prediction |   Score: 0.3534482758619928\n"
     ]
    },
    {
     "name": "stderr",
     "output_type": "stream",
     "text": [
      "[I 2025-02-21 12:24:40,445] Trial 99 finished with value: 0.3534482758619928 and parameters: {'learning_rate': 0.021788555622698328, 'max_depth': 10, 'min_child_weight': 61, 'subsample': 0.6337696595638003, 'colsample_bytree': 0.6499546530965828, 'reg_alpha': 0.40620863137317936, 'reg_lambda': 9.912843102939629, 'gamma': 1.8571753265576072, 'early_stopping_rounds': 339, 'scale_pos_weight': 2.5460518135990533}. Best is trial 61 with value: 0.38418079096034347.\n"
     ]
    },
    {
     "name": "stdout",
     "output_type": "stream",
     "text": [
      "2025-02-21 12:24:40,446 | INFO     | xgboost_soccer_prediction | Current best score: 0.3842\n",
      "2025-02-21 12:24:42,491 | INFO     | xgboost_soccer_prediction | Optimized threshold: 0.530 with precision: 0.332\n",
      "2025-02-21 12:24:42,531 | INFO     | xgboost_soccer_prediction | Trial 100:\n",
      "2025-02-21 12:24:42,533 | INFO     | xgboost_soccer_prediction |   Params: {'objective': 'binary:logistic', 'tree_method': 'hist', 'eval_metric': ['logloss', 'auc'], 'verbose': -1, 'n_jobs': -1, 'random_state': 19, 'learning_rate': 0.02483709906098238, 'max_depth': 9, 'min_child_weight': 53, 'subsample': 0.6680333406243004, 'colsample_bytree': 0.6351157087803114, 'reg_alpha': 0.8690310045613593, 'reg_lambda': 11.422511888249726, 'gamma': 2.674773104484633, 'early_stopping_rounds': 326, 'scale_pos_weight': 2.510450859913356}\n",
      "2025-02-21 12:24:42,534 | INFO     | xgboost_soccer_prediction |   Score: 0.3316498316497758\n"
     ]
    },
    {
     "name": "stderr",
     "output_type": "stream",
     "text": [
      "[I 2025-02-21 12:24:42,537] Trial 100 finished with value: 0.3316498316497758 and parameters: {'learning_rate': 0.02483709906098238, 'max_depth': 9, 'min_child_weight': 53, 'subsample': 0.6680333406243004, 'colsample_bytree': 0.6351157087803114, 'reg_alpha': 0.8690310045613593, 'reg_lambda': 11.422511888249726, 'gamma': 2.674773104484633, 'early_stopping_rounds': 326, 'scale_pos_weight': 2.510450859913356}. Best is trial 61 with value: 0.38418079096034347.\n"
     ]
    },
    {
     "name": "stdout",
     "output_type": "stream",
     "text": [
      "2025-02-21 12:24:42,538 | INFO     | xgboost_soccer_prediction | Current best score: 0.3842\n",
      "2025-02-21 12:24:44,291 | INFO     | xgboost_soccer_prediction | Optimized threshold: 0.550 with precision: 0.375\n",
      "2025-02-21 12:24:44,331 | INFO     | xgboost_soccer_prediction | Trial 101:\n",
      "2025-02-21 12:24:44,333 | INFO     | xgboost_soccer_prediction |   Params: {'objective': 'binary:logistic', 'tree_method': 'hist', 'eval_metric': ['logloss', 'auc'], 'verbose': -1, 'n_jobs': -1, 'random_state': 19, 'learning_rate': 0.022312051509355852, 'max_depth': 8, 'min_child_weight': 62, 'subsample': 0.6472541970216117, 'colsample_bytree': 0.6532307827493613, 'reg_alpha': 0.33109566444065014, 'reg_lambda': 10.529805827580223, 'gamma': 2.1701944989931192, 'early_stopping_rounds': 333, 'scale_pos_weight': 2.5666209731088476}\n",
      "2025-02-21 12:24:44,335 | INFO     | xgboost_soccer_prediction |   Score: 0.3746898263026366\n"
     ]
    },
    {
     "name": "stderr",
     "output_type": "stream",
     "text": [
      "[I 2025-02-21 12:24:44,338] Trial 101 finished with value: 0.3746898263026366 and parameters: {'learning_rate': 0.022312051509355852, 'max_depth': 8, 'min_child_weight': 62, 'subsample': 0.6472541970216117, 'colsample_bytree': 0.6532307827493613, 'reg_alpha': 0.33109566444065014, 'reg_lambda': 10.529805827580223, 'gamma': 2.1701944989931192, 'early_stopping_rounds': 333, 'scale_pos_weight': 2.5666209731088476}. Best is trial 61 with value: 0.38418079096034347.\n"
     ]
    },
    {
     "name": "stdout",
     "output_type": "stream",
     "text": [
      "2025-02-21 12:24:44,338 | INFO     | xgboost_soccer_prediction | Current best score: 0.3842\n",
      "2025-02-21 12:24:46,138 | INFO     | xgboost_soccer_prediction | Optimized threshold: 0.550 with precision: 0.361\n",
      "2025-02-21 12:24:46,177 | INFO     | xgboost_soccer_prediction | Trial 102:\n",
      "2025-02-21 12:24:46,177 | INFO     | xgboost_soccer_prediction |   Params: {'objective': 'binary:logistic', 'tree_method': 'hist', 'eval_metric': ['logloss', 'auc'], 'verbose': -1, 'n_jobs': -1, 'random_state': 19, 'learning_rate': 0.023946221408899092, 'max_depth': 8, 'min_child_weight': 59, 'subsample': 0.6593025366370536, 'colsample_bytree': 0.6183332739510106, 'reg_alpha': 0.2082393063310313, 'reg_lambda': 10.742801180777128, 'gamma': 2.1424311611037985, 'early_stopping_rounds': 333, 'scale_pos_weight': 2.573688288753924}\n",
      "2025-02-21 12:24:46,179 | INFO     | xgboost_soccer_prediction |   Score: 0.36061381074159576\n"
     ]
    },
    {
     "name": "stderr",
     "output_type": "stream",
     "text": [
      "[I 2025-02-21 12:24:46,181] Trial 102 finished with value: 0.36061381074159576 and parameters: {'learning_rate': 0.023946221408899092, 'max_depth': 8, 'min_child_weight': 59, 'subsample': 0.6593025366370536, 'colsample_bytree': 0.6183332739510106, 'reg_alpha': 0.2082393063310313, 'reg_lambda': 10.742801180777128, 'gamma': 2.1424311611037985, 'early_stopping_rounds': 333, 'scale_pos_weight': 2.573688288753924}. Best is trial 61 with value: 0.38418079096034347.\n"
     ]
    },
    {
     "name": "stdout",
     "output_type": "stream",
     "text": [
      "2025-02-21 12:24:46,181 | INFO     | xgboost_soccer_prediction | Current best score: 0.3842\n",
      "2025-02-21 12:24:48,069 | INFO     | xgboost_soccer_prediction | Optimized threshold: 0.540 with precision: 0.342\n",
      "2025-02-21 12:24:48,110 | INFO     | xgboost_soccer_prediction | Trial 103:\n",
      "2025-02-21 12:24:48,112 | INFO     | xgboost_soccer_prediction |   Params: {'objective': 'binary:logistic', 'tree_method': 'hist', 'eval_metric': ['logloss', 'auc'], 'verbose': -1, 'n_jobs': -1, 'random_state': 19, 'learning_rate': 0.025660923825073803, 'max_depth': 8, 'min_child_weight': 57, 'subsample': 0.6517463280704169, 'colsample_bytree': 0.6418986876433331, 'reg_alpha': 0.7701121554681399, 'reg_lambda': 10.59386902826117, 'gamma': 2.004219360581829, 'early_stopping_rounds': 330, 'scale_pos_weight': 2.5526281615761923}\n",
      "2025-02-21 12:24:48,112 | INFO     | xgboost_soccer_prediction |   Score: 0.3424999999999144\n"
     ]
    },
    {
     "name": "stderr",
     "output_type": "stream",
     "text": [
      "[I 2025-02-21 12:24:48,114] Trial 103 finished with value: 0.3424999999999144 and parameters: {'learning_rate': 0.025660923825073803, 'max_depth': 8, 'min_child_weight': 57, 'subsample': 0.6517463280704169, 'colsample_bytree': 0.6418986876433331, 'reg_alpha': 0.7701121554681399, 'reg_lambda': 10.59386902826117, 'gamma': 2.004219360581829, 'early_stopping_rounds': 330, 'scale_pos_weight': 2.5526281615761923}. Best is trial 61 with value: 0.38418079096034347.\n"
     ]
    },
    {
     "name": "stdout",
     "output_type": "stream",
     "text": [
      "2025-02-21 12:24:48,116 | INFO     | xgboost_soccer_prediction | Current best score: 0.3842\n",
      "2025-02-21 12:24:49,868 | INFO     | xgboost_soccer_prediction | Optimized threshold: 0.520 with precision: 0.336\n",
      "2025-02-21 12:24:49,907 | INFO     | xgboost_soccer_prediction | Trial 104:\n",
      "2025-02-21 12:24:49,909 | INFO     | xgboost_soccer_prediction |   Params: {'objective': 'binary:logistic', 'tree_method': 'hist', 'eval_metric': ['logloss', 'auc'], 'verbose': -1, 'n_jobs': -1, 'random_state': 19, 'learning_rate': 0.02220272152093742, 'max_depth': 8, 'min_child_weight': 65, 'subsample': 0.6444168334200852, 'colsample_bytree': 0.6542988576266392, 'reg_alpha': 0.5747870730480289, 'reg_lambda': 10.99169417959229, 'gamma': 2.0698303120105055, 'early_stopping_rounds': 336, 'scale_pos_weight': 2.4049526323976065}\n",
      "2025-02-21 12:24:49,911 | INFO     | xgboost_soccer_prediction |   Score: 0.3356807511736301\n"
     ]
    },
    {
     "name": "stderr",
     "output_type": "stream",
     "text": [
      "[I 2025-02-21 12:24:49,913] Trial 104 finished with value: 0.3356807511736301 and parameters: {'learning_rate': 0.02220272152093742, 'max_depth': 8, 'min_child_weight': 65, 'subsample': 0.6444168334200852, 'colsample_bytree': 0.6542988576266392, 'reg_alpha': 0.5747870730480289, 'reg_lambda': 10.99169417959229, 'gamma': 2.0698303120105055, 'early_stopping_rounds': 336, 'scale_pos_weight': 2.4049526323976065}. Best is trial 61 with value: 0.38418079096034347.\n"
     ]
    },
    {
     "name": "stdout",
     "output_type": "stream",
     "text": [
      "2025-02-21 12:24:49,913 | INFO     | xgboost_soccer_prediction | Current best score: 0.3842\n",
      "2025-02-21 12:24:51,892 | INFO     | xgboost_soccer_prediction | Optimized threshold: 0.540 with precision: 0.348\n",
      "2025-02-21 12:24:51,933 | INFO     | xgboost_soccer_prediction | Trial 105:\n",
      "2025-02-21 12:24:51,935 | INFO     | xgboost_soccer_prediction |   Params: {'objective': 'binary:logistic', 'tree_method': 'hist', 'eval_metric': ['logloss', 'auc'], 'verbose': -1, 'n_jobs': -1, 'random_state': 19, 'learning_rate': 0.021387857496831416, 'max_depth': 9, 'min_child_weight': 60, 'subsample': 0.6059315843716346, 'colsample_bytree': 0.6382103591094657, 'reg_alpha': 0.32737327939037003, 'reg_lambda': 10.500285241786292, 'gamma': 2.3597299843910338, 'early_stopping_rounds': 334, 'scale_pos_weight': 2.5378814183652474}\n",
      "2025-02-21 12:24:51,936 | INFO     | xgboost_soccer_prediction |   Score: 0.348214285714208\n"
     ]
    },
    {
     "name": "stderr",
     "output_type": "stream",
     "text": [
      "[I 2025-02-21 12:24:51,939] Trial 105 finished with value: 0.348214285714208 and parameters: {'learning_rate': 0.021387857496831416, 'max_depth': 9, 'min_child_weight': 60, 'subsample': 0.6059315843716346, 'colsample_bytree': 0.6382103591094657, 'reg_alpha': 0.32737327939037003, 'reg_lambda': 10.500285241786292, 'gamma': 2.3597299843910338, 'early_stopping_rounds': 334, 'scale_pos_weight': 2.5378814183652474}. Best is trial 61 with value: 0.38418079096034347.\n"
     ]
    },
    {
     "name": "stdout",
     "output_type": "stream",
     "text": [
      "2025-02-21 12:24:51,939 | INFO     | xgboost_soccer_prediction | Current best score: 0.3842\n",
      "2025-02-21 12:24:53,719 | INFO     | xgboost_soccer_prediction | Optimized threshold: 0.550 with precision: 0.343\n",
      "2025-02-21 12:24:53,756 | INFO     | xgboost_soccer_prediction | Trial 106:\n",
      "2025-02-21 12:24:53,758 | INFO     | xgboost_soccer_prediction |   Params: {'objective': 'binary:logistic', 'tree_method': 'hist', 'eval_metric': ['logloss', 'auc'], 'verbose': -1, 'n_jobs': -1, 'random_state': 19, 'learning_rate': 0.02360564580453305, 'max_depth': 8, 'min_child_weight': 62, 'subsample': 0.6751162650212853, 'colsample_bytree': 0.6678873495906908, 'reg_alpha': 0.27782614739187833, 'reg_lambda': 10.82914904947641, 'gamma': 2.22717750358717, 'early_stopping_rounds': 328, 'scale_pos_weight': 2.5882294570070106}\n",
      "2025-02-21 12:24:53,758 | INFO     | xgboost_soccer_prediction |   Score: 0.342789598108666\n"
     ]
    },
    {
     "name": "stderr",
     "output_type": "stream",
     "text": [
      "[I 2025-02-21 12:24:53,762] Trial 106 finished with value: 0.342789598108666 and parameters: {'learning_rate': 0.02360564580453305, 'max_depth': 8, 'min_child_weight': 62, 'subsample': 0.6751162650212853, 'colsample_bytree': 0.6678873495906908, 'reg_alpha': 0.27782614739187833, 'reg_lambda': 10.82914904947641, 'gamma': 2.22717750358717, 'early_stopping_rounds': 328, 'scale_pos_weight': 2.5882294570070106}. Best is trial 61 with value: 0.38418079096034347.\n"
     ]
    },
    {
     "name": "stdout",
     "output_type": "stream",
     "text": [
      "2025-02-21 12:24:53,762 | INFO     | xgboost_soccer_prediction | Current best score: 0.3842\n",
      "2025-02-21 12:24:55,704 | INFO     | xgboost_soccer_prediction | Optimized threshold: 0.540 with precision: 0.341\n",
      "2025-02-21 12:24:55,744 | INFO     | xgboost_soccer_prediction | Trial 107:\n",
      "2025-02-21 12:24:55,746 | INFO     | xgboost_soccer_prediction |   Params: {'objective': 'binary:logistic', 'tree_method': 'hist', 'eval_metric': ['logloss', 'auc'], 'verbose': -1, 'n_jobs': -1, 'random_state': 19, 'learning_rate': 0.022498845189598365, 'max_depth': 9, 'min_child_weight': 64, 'subsample': 0.6900611652811595, 'colsample_bytree': 0.6475867444134132, 'reg_alpha': 0.07134087999196034, 'reg_lambda': 10.180055700716803, 'gamma': 2.4793212725023457, 'early_stopping_rounds': 331, 'scale_pos_weight': 2.5565733252822698}\n",
      "2025-02-21 12:24:55,747 | INFO     | xgboost_soccer_prediction |   Score: 0.34146341463407065\n"
     ]
    },
    {
     "name": "stderr",
     "output_type": "stream",
     "text": [
      "[I 2025-02-21 12:24:55,749] Trial 107 finished with value: 0.34146341463407065 and parameters: {'learning_rate': 0.022498845189598365, 'max_depth': 9, 'min_child_weight': 64, 'subsample': 0.6900611652811595, 'colsample_bytree': 0.6475867444134132, 'reg_alpha': 0.07134087999196034, 'reg_lambda': 10.180055700716803, 'gamma': 2.4793212725023457, 'early_stopping_rounds': 331, 'scale_pos_weight': 2.5565733252822698}. Best is trial 61 with value: 0.38418079096034347.\n"
     ]
    },
    {
     "name": "stdout",
     "output_type": "stream",
     "text": [
      "2025-02-21 12:24:55,750 | INFO     | xgboost_soccer_prediction | Current best score: 0.3842\n",
      "2025-02-21 12:24:57,620 | INFO     | xgboost_soccer_prediction | Optimized threshold: 0.530 with precision: 0.369\n",
      "2025-02-21 12:24:57,660 | INFO     | xgboost_soccer_prediction | Trial 108:\n",
      "2025-02-21 12:24:57,662 | INFO     | xgboost_soccer_prediction |   Params: {'objective': 'binary:logistic', 'tree_method': 'hist', 'eval_metric': ['logloss', 'auc'], 'verbose': -1, 'n_jobs': -1, 'random_state': 19, 'learning_rate': 0.020448174926235824, 'max_depth': 8, 'min_child_weight': 58, 'subsample': 0.6827055801530494, 'colsample_bytree': 0.703660493520012, 'reg_alpha': 0.5003483941165414, 'reg_lambda': 11.2690595201513, 'gamma': 2.3080686260523624, 'early_stopping_rounds': 333, 'scale_pos_weight': 2.400770441852287}\n",
      "2025-02-21 12:24:57,662 | INFO     | xgboost_soccer_prediction |   Score: 0.36881188118802755\n"
     ]
    },
    {
     "name": "stderr",
     "output_type": "stream",
     "text": [
      "[I 2025-02-21 12:24:57,664] Trial 108 finished with value: 0.36881188118802755 and parameters: {'learning_rate': 0.020448174926235824, 'max_depth': 8, 'min_child_weight': 58, 'subsample': 0.6827055801530494, 'colsample_bytree': 0.703660493520012, 'reg_alpha': 0.5003483941165414, 'reg_lambda': 11.2690595201513, 'gamma': 2.3080686260523624, 'early_stopping_rounds': 333, 'scale_pos_weight': 2.400770441852287}. Best is trial 61 with value: 0.38418079096034347.\n"
     ]
    },
    {
     "name": "stdout",
     "output_type": "stream",
     "text": [
      "2025-02-21 12:24:57,666 | INFO     | xgboost_soccer_prediction | Current best score: 0.3842\n",
      "2025-02-21 12:24:59,510 | INFO     | xgboost_soccer_prediction | Optimized threshold: 0.520 with precision: 0.346\n",
      "2025-02-21 12:24:59,548 | INFO     | xgboost_soccer_prediction | Trial 109:\n",
      "2025-02-21 12:24:59,550 | INFO     | xgboost_soccer_prediction |   Params: {'objective': 'binary:logistic', 'tree_method': 'hist', 'eval_metric': ['logloss', 'auc'], 'verbose': -1, 'n_jobs': -1, 'random_state': 19, 'learning_rate': 0.024339965359979173, 'max_depth': 8, 'min_child_weight': 51, 'subsample': 0.6836495012695268, 'colsample_bytree': 0.7018996049535094, 'reg_alpha': 0.5011396829271213, 'reg_lambda': 11.614977288601212, 'gamma': 2.0389562308720293, 'early_stopping_rounds': 338, 'scale_pos_weight': 2.402183470947016}\n",
      "2025-02-21 12:24:59,552 | INFO     | xgboost_soccer_prediction |   Score: 0.34615384615378275\n"
     ]
    },
    {
     "name": "stderr",
     "output_type": "stream",
     "text": [
      "[I 2025-02-21 12:24:59,554] Trial 109 finished with value: 0.34615384615378275 and parameters: {'learning_rate': 0.024339965359979173, 'max_depth': 8, 'min_child_weight': 51, 'subsample': 0.6836495012695268, 'colsample_bytree': 0.7018996049535094, 'reg_alpha': 0.5011396829271213, 'reg_lambda': 11.614977288601212, 'gamma': 2.0389562308720293, 'early_stopping_rounds': 338, 'scale_pos_weight': 2.402183470947016}. Best is trial 61 with value: 0.38418079096034347.\n"
     ]
    },
    {
     "name": "stdout",
     "output_type": "stream",
     "text": [
      "2025-02-21 12:24:59,556 | INFO     | xgboost_soccer_prediction | Current best score: 0.3842\n",
      "2025-02-21 12:25:01,610 | INFO     | xgboost_soccer_prediction | Optimized threshold: 0.530 with precision: 0.355\n",
      "2025-02-21 12:25:01,649 | INFO     | xgboost_soccer_prediction | Trial 110:\n",
      "2025-02-21 12:25:01,650 | INFO     | xgboost_soccer_prediction |   Params: {'objective': 'binary:logistic', 'tree_method': 'hist', 'eval_metric': ['logloss', 'auc'], 'verbose': -1, 'n_jobs': -1, 'random_state': 19, 'learning_rate': 0.023061846927994598, 'max_depth': 9, 'min_child_weight': 54, 'subsample': 0.6646379233501524, 'colsample_bytree': 0.6879757013687916, 'reg_alpha': 0.6704452222018205, 'reg_lambda': 11.22293749295998, 'gamma': 1.7508910926759191, 'early_stopping_rounds': 333, 'scale_pos_weight': 2.4180091957547845}\n",
      "2025-02-21 12:25:01,653 | INFO     | xgboost_soccer_prediction |   Score: 0.3549999999999113\n"
     ]
    },
    {
     "name": "stderr",
     "output_type": "stream",
     "text": [
      "[I 2025-02-21 12:25:01,655] Trial 110 finished with value: 0.3549999999999113 and parameters: {'learning_rate': 0.023061846927994598, 'max_depth': 9, 'min_child_weight': 54, 'subsample': 0.6646379233501524, 'colsample_bytree': 0.6879757013687916, 'reg_alpha': 0.6704452222018205, 'reg_lambda': 11.22293749295998, 'gamma': 1.7508910926759191, 'early_stopping_rounds': 333, 'scale_pos_weight': 2.4180091957547845}. Best is trial 61 with value: 0.38418079096034347.\n"
     ]
    },
    {
     "name": "stdout",
     "output_type": "stream",
     "text": [
      "2025-02-21 12:25:01,657 | INFO     | xgboost_soccer_prediction | Current best score: 0.3842\n",
      "2025-02-21 12:25:03,497 | INFO     | xgboost_soccer_prediction | Optimized threshold: 0.530 with precision: 0.369\n",
      "2025-02-21 12:25:03,533 | INFO     | xgboost_soccer_prediction | Trial 111:\n",
      "2025-02-21 12:25:03,536 | INFO     | xgboost_soccer_prediction |   Params: {'objective': 'binary:logistic', 'tree_method': 'hist', 'eval_metric': ['logloss', 'auc'], 'verbose': -1, 'n_jobs': -1, 'random_state': 19, 'learning_rate': 0.020843428008152344, 'max_depth': 8, 'min_child_weight': 58, 'subsample': 0.6736307539223203, 'colsample_bytree': 0.7157076809608095, 'reg_alpha': 0.4383288922613547, 'reg_lambda': 11.294261502177044, 'gamma': 2.314954830701009, 'early_stopping_rounds': 336, 'scale_pos_weight': 2.410583410612294}\n",
      "2025-02-21 12:25:03,537 | INFO     | xgboost_soccer_prediction |   Score: 0.36854460093888064\n"
     ]
    },
    {
     "name": "stderr",
     "output_type": "stream",
     "text": [
      "[I 2025-02-21 12:25:03,539] Trial 111 finished with value: 0.36854460093888064 and parameters: {'learning_rate': 0.020843428008152344, 'max_depth': 8, 'min_child_weight': 58, 'subsample': 0.6736307539223203, 'colsample_bytree': 0.7157076809608095, 'reg_alpha': 0.4383288922613547, 'reg_lambda': 11.294261502177044, 'gamma': 2.314954830701009, 'early_stopping_rounds': 336, 'scale_pos_weight': 2.410583410612294}. Best is trial 61 with value: 0.38418079096034347.\n"
     ]
    },
    {
     "name": "stdout",
     "output_type": "stream",
     "text": [
      "2025-02-21 12:25:03,540 | INFO     | xgboost_soccer_prediction | Current best score: 0.3842\n",
      "2025-02-21 12:25:05,354 | INFO     | xgboost_soccer_prediction | Optimized threshold: 0.520 with precision: 0.357\n",
      "2025-02-21 12:25:05,392 | INFO     | xgboost_soccer_prediction | Trial 112:\n",
      "2025-02-21 12:25:05,394 | INFO     | xgboost_soccer_prediction |   Params: {'objective': 'binary:logistic', 'tree_method': 'hist', 'eval_metric': ['logloss', 'auc'], 'verbose': -1, 'n_jobs': -1, 'random_state': 19, 'learning_rate': 0.020379938480790775, 'max_depth': 8, 'min_child_weight': 58, 'subsample': 0.6713280245382496, 'colsample_bytree': 0.7100083354025442, 'reg_alpha': 0.5365568620428888, 'reg_lambda': 11.317431566965547, 'gamma': 2.38544932263753, 'early_stopping_rounds': 335, 'scale_pos_weight': 2.413205449091737}\n",
      "2025-02-21 12:25:05,396 | INFO     | xgboost_soccer_prediction |   Score: 0.35650224215238646\n"
     ]
    },
    {
     "name": "stderr",
     "output_type": "stream",
     "text": [
      "[I 2025-02-21 12:25:05,398] Trial 112 finished with value: 0.35650224215238646 and parameters: {'learning_rate': 0.020379938480790775, 'max_depth': 8, 'min_child_weight': 58, 'subsample': 0.6713280245382496, 'colsample_bytree': 0.7100083354025442, 'reg_alpha': 0.5365568620428888, 'reg_lambda': 11.317431566965547, 'gamma': 2.38544932263753, 'early_stopping_rounds': 335, 'scale_pos_weight': 2.413205449091737}. Best is trial 61 with value: 0.38418079096034347.\n"
     ]
    },
    {
     "name": "stdout",
     "output_type": "stream",
     "text": [
      "2025-02-21 12:25:05,398 | INFO     | xgboost_soccer_prediction | Current best score: 0.3842\n",
      "2025-02-21 12:25:07,283 | INFO     | xgboost_soccer_prediction | Optimized threshold: 0.520 with precision: 0.340\n",
      "2025-02-21 12:25:07,319 | INFO     | xgboost_soccer_prediction | Trial 113:\n",
      "2025-02-21 12:25:07,321 | INFO     | xgboost_soccer_prediction |   Params: {'objective': 'binary:logistic', 'tree_method': 'hist', 'eval_metric': ['logloss', 'auc'], 'verbose': -1, 'n_jobs': -1, 'random_state': 19, 'learning_rate': 0.021724095628812216, 'max_depth': 8, 'min_child_weight': 55, 'subsample': 0.6784018687699024, 'colsample_bytree': 0.7219790191195767, 'reg_alpha': 0.38522572974471603, 'reg_lambda': 11.733508830738309, 'gamma': 2.3089066761851145, 'early_stopping_rounds': 333, 'scale_pos_weight': 2.4003514815319926}\n",
      "2025-02-21 12:25:07,323 | INFO     | xgboost_soccer_prediction |   Score: 0.3399558498895497\n"
     ]
    },
    {
     "name": "stderr",
     "output_type": "stream",
     "text": [
      "[I 2025-02-21 12:25:07,325] Trial 113 finished with value: 0.3399558498895497 and parameters: {'learning_rate': 0.021724095628812216, 'max_depth': 8, 'min_child_weight': 55, 'subsample': 0.6784018687699024, 'colsample_bytree': 0.7219790191195767, 'reg_alpha': 0.38522572974471603, 'reg_lambda': 11.733508830738309, 'gamma': 2.3089066761851145, 'early_stopping_rounds': 333, 'scale_pos_weight': 2.4003514815319926}. Best is trial 61 with value: 0.38418079096034347.\n"
     ]
    },
    {
     "name": "stdout",
     "output_type": "stream",
     "text": [
      "2025-02-21 12:25:07,325 | INFO     | xgboost_soccer_prediction | Current best score: 0.3842\n",
      "2025-02-21 12:25:09,043 | INFO     | xgboost_soccer_prediction | Optimized threshold: 0.530 with precision: 0.352\n",
      "2025-02-21 12:25:09,081 | INFO     | xgboost_soccer_prediction | Trial 114:\n",
      "2025-02-21 12:25:09,083 | INFO     | xgboost_soccer_prediction |   Params: {'objective': 'binary:logistic', 'tree_method': 'hist', 'eval_metric': ['logloss', 'auc'], 'verbose': -1, 'n_jobs': -1, 'random_state': 19, 'learning_rate': 0.0212382177939224, 'max_depth': 8, 'min_child_weight': 58, 'subsample': 0.5567931630436376, 'colsample_bytree': 0.6950840696553576, 'reg_alpha': 0.4345647809425153, 'reg_lambda': 10.332419881339195, 'gamma': 1.9721678771284084, 'early_stopping_rounds': 336, 'scale_pos_weight': 2.4230921405133685}\n",
      "2025-02-21 12:25:09,084 | INFO     | xgboost_soccer_prediction |   Score: 0.3524027459953427\n"
     ]
    },
    {
     "name": "stderr",
     "output_type": "stream",
     "text": [
      "[I 2025-02-21 12:25:09,086] Trial 114 finished with value: 0.3524027459953427 and parameters: {'learning_rate': 0.0212382177939224, 'max_depth': 8, 'min_child_weight': 58, 'subsample': 0.5567931630436376, 'colsample_bytree': 0.6950840696553576, 'reg_alpha': 0.4345647809425153, 'reg_lambda': 10.332419881339195, 'gamma': 1.9721678771284084, 'early_stopping_rounds': 336, 'scale_pos_weight': 2.4230921405133685}. Best is trial 61 with value: 0.38418079096034347.\n"
     ]
    },
    {
     "name": "stdout",
     "output_type": "stream",
     "text": [
      "2025-02-21 12:25:09,088 | INFO     | xgboost_soccer_prediction | Current best score: 0.3842\n",
      "2025-02-21 12:25:10,904 | INFO     | xgboost_soccer_prediction | Optimized threshold: 0.520 with precision: 0.351\n",
      "2025-02-21 12:25:10,945 | INFO     | xgboost_soccer_prediction | Trial 115:\n",
      "2025-02-21 12:25:10,947 | INFO     | xgboost_soccer_prediction |   Params: {'objective': 'binary:logistic', 'tree_method': 'hist', 'eval_metric': ['logloss', 'auc'], 'verbose': -1, 'n_jobs': -1, 'random_state': 19, 'learning_rate': 0.020375381381519186, 'max_depth': 8, 'min_child_weight': 56, 'subsample': 0.6515282490011286, 'colsample_bytree': 0.7042740438048474, 'reg_alpha': 0.09233467130960646, 'reg_lambda': 10.908515466603241, 'gamma': 2.2940158040277776, 'early_stopping_rounds': 334, 'scale_pos_weight': 2.4066483911843237}\n",
      "2025-02-21 12:25:10,948 | INFO     | xgboost_soccer_prediction |   Score: 0.3508064516128325\n"
     ]
    },
    {
     "name": "stderr",
     "output_type": "stream",
     "text": [
      "[I 2025-02-21 12:25:10,950] Trial 115 finished with value: 0.3508064516128325 and parameters: {'learning_rate': 0.020375381381519186, 'max_depth': 8, 'min_child_weight': 56, 'subsample': 0.6515282490011286, 'colsample_bytree': 0.7042740438048474, 'reg_alpha': 0.09233467130960646, 'reg_lambda': 10.908515466603241, 'gamma': 2.2940158040277776, 'early_stopping_rounds': 334, 'scale_pos_weight': 2.4066483911843237}. Best is trial 61 with value: 0.38418079096034347.\n"
     ]
    },
    {
     "name": "stdout",
     "output_type": "stream",
     "text": [
      "2025-02-21 12:25:10,951 | INFO     | xgboost_soccer_prediction | Current best score: 0.3842\n",
      "2025-02-21 12:25:13,095 | INFO     | xgboost_soccer_prediction | Optimized threshold: 0.530 with precision: 0.353\n",
      "2025-02-21 12:25:13,175 | INFO     | xgboost_soccer_prediction | Trial 116:\n",
      "2025-02-21 12:25:13,177 | INFO     | xgboost_soccer_prediction |   Params: {'objective': 'binary:logistic', 'tree_method': 'hist', 'eval_metric': ['logloss', 'auc'], 'verbose': -1, 'n_jobs': -1, 'random_state': 19, 'learning_rate': 0.0251752401429455, 'max_depth': 10, 'min_child_weight': 59, 'subsample': 0.6887747703626332, 'colsample_bytree': 0.7224839941087973, 'reg_alpha': 0.4857987490288561, 'reg_lambda': 11.27596397153311, 'gamma': 2.1014599128792577, 'early_stopping_rounds': 336, 'scale_pos_weight': 2.410349395446596}\n",
      "2025-02-21 12:25:13,177 | INFO     | xgboost_soccer_prediction |   Score: 0.3525179856114263\n"
     ]
    },
    {
     "name": "stderr",
     "output_type": "stream",
     "text": [
      "[I 2025-02-21 12:25:13,181] Trial 116 finished with value: 0.3525179856114263 and parameters: {'learning_rate': 0.0251752401429455, 'max_depth': 10, 'min_child_weight': 59, 'subsample': 0.6887747703626332, 'colsample_bytree': 0.7224839941087973, 'reg_alpha': 0.4857987490288561, 'reg_lambda': 11.27596397153311, 'gamma': 2.1014599128792577, 'early_stopping_rounds': 336, 'scale_pos_weight': 2.410349395446596}. Best is trial 61 with value: 0.38418079096034347.\n"
     ]
    },
    {
     "name": "stdout",
     "output_type": "stream",
     "text": [
      "2025-02-21 12:25:13,181 | INFO     | xgboost_soccer_prediction | Current best score: 0.3842\n",
      "2025-02-21 12:25:15,171 | INFO     | xgboost_soccer_prediction | Optimized threshold: 0.510 with precision: 0.326\n",
      "2025-02-21 12:25:15,210 | INFO     | xgboost_soccer_prediction | Trial 117:\n",
      "2025-02-21 12:25:15,210 | INFO     | xgboost_soccer_prediction |   Params: {'objective': 'binary:logistic', 'tree_method': 'hist', 'eval_metric': ['logloss', 'auc'], 'verbose': -1, 'n_jobs': -1, 'random_state': 19, 'learning_rate': 0.0327332481270783, 'max_depth': 9, 'min_child_weight': 52, 'subsample': 0.6978466656274896, 'colsample_bytree': 0.7158283813454609, 'reg_alpha': 0.6216056027149126, 'reg_lambda': 10.663976338742991, 'gamma': 2.1606600539311662, 'early_stopping_rounds': 331, 'scale_pos_weight': 2.425498717445759}\n",
      "2025-02-21 12:25:15,212 | INFO     | xgboost_soccer_prediction |   Score: 0.3257328990227482\n"
     ]
    },
    {
     "name": "stderr",
     "output_type": "stream",
     "text": [
      "[I 2025-02-21 12:25:15,214] Trial 117 finished with value: 0.3257328990227482 and parameters: {'learning_rate': 0.0327332481270783, 'max_depth': 9, 'min_child_weight': 52, 'subsample': 0.6978466656274896, 'colsample_bytree': 0.7158283813454609, 'reg_alpha': 0.6216056027149126, 'reg_lambda': 10.663976338742991, 'gamma': 2.1606600539311662, 'early_stopping_rounds': 331, 'scale_pos_weight': 2.425498717445759}. Best is trial 61 with value: 0.38418079096034347.\n"
     ]
    },
    {
     "name": "stdout",
     "output_type": "stream",
     "text": [
      "2025-02-21 12:25:15,216 | INFO     | xgboost_soccer_prediction | Current best score: 0.3842\n",
      "2025-02-21 12:25:16,950 | INFO     | xgboost_soccer_prediction | Optimized threshold: 0.510 with precision: 0.351\n",
      "2025-02-21 12:25:16,988 | INFO     | xgboost_soccer_prediction | Trial 118:\n",
      "2025-02-21 12:25:16,990 | INFO     | xgboost_soccer_prediction |   Params: {'objective': 'binary:logistic', 'tree_method': 'hist', 'eval_metric': ['logloss', 'auc'], 'verbose': -1, 'n_jobs': -1, 'random_state': 19, 'learning_rate': 0.022185937124005045, 'max_depth': 8, 'min_child_weight': 57, 'subsample': 0.5111819510507918, 'colsample_bytree': 0.7361176410563686, 'reg_alpha': 0.34891338892506873, 'reg_lambda': 9.95887623348151, 'gamma': 2.4163921687879264, 'early_stopping_rounds': 329, 'scale_pos_weight': 2.410023451721611}\n",
      "2025-02-21 12:25:16,992 | INFO     | xgboost_soccer_prediction |   Score: 0.3512269938649768\n"
     ]
    },
    {
     "name": "stderr",
     "output_type": "stream",
     "text": [
      "[I 2025-02-21 12:25:16,994] Trial 118 finished with value: 0.3512269938649768 and parameters: {'learning_rate': 0.022185937124005045, 'max_depth': 8, 'min_child_weight': 57, 'subsample': 0.5111819510507918, 'colsample_bytree': 0.7361176410563686, 'reg_alpha': 0.34891338892506873, 'reg_lambda': 9.95887623348151, 'gamma': 2.4163921687879264, 'early_stopping_rounds': 329, 'scale_pos_weight': 2.410023451721611}. Best is trial 61 with value: 0.38418079096034347.\n"
     ]
    },
    {
     "name": "stdout",
     "output_type": "stream",
     "text": [
      "2025-02-21 12:25:16,994 | INFO     | xgboost_soccer_prediction | Current best score: 0.3842\n",
      "2025-02-21 12:25:18,959 | INFO     | xgboost_soccer_prediction | Optimized threshold: 0.520 with precision: 0.364\n",
      "2025-02-21 12:25:18,996 | INFO     | xgboost_soccer_prediction | Trial 119:\n",
      "2025-02-21 12:25:18,998 | INFO     | xgboost_soccer_prediction |   Params: {'objective': 'binary:logistic', 'tree_method': 'hist', 'eval_metric': ['logloss', 'auc'], 'verbose': -1, 'n_jobs': -1, 'random_state': 19, 'learning_rate': 0.020043813766776206, 'max_depth': 9, 'min_child_weight': 55, 'subsample': 0.5292697459000211, 'colsample_bytree': 0.6800586215892681, 'reg_alpha': 0.05851609211442694, 'reg_lambda': 11.100269814154714, 'gamma': 1.8263858370661539, 'early_stopping_rounds': 332, 'scale_pos_weight': 2.4185522983790353}\n",
      "2025-02-21 12:25:18,998 | INFO     | xgboost_soccer_prediction |   Score: 0.3640167364015975\n"
     ]
    },
    {
     "name": "stderr",
     "output_type": "stream",
     "text": [
      "[I 2025-02-21 12:25:19,001] Trial 119 finished with value: 0.3640167364015975 and parameters: {'learning_rate': 0.020043813766776206, 'max_depth': 9, 'min_child_weight': 55, 'subsample': 0.5292697459000211, 'colsample_bytree': 0.6800586215892681, 'reg_alpha': 0.05851609211442694, 'reg_lambda': 11.100269814154714, 'gamma': 1.8263858370661539, 'early_stopping_rounds': 332, 'scale_pos_weight': 2.4185522983790353}. Best is trial 61 with value: 0.38418079096034347.\n"
     ]
    },
    {
     "name": "stdout",
     "output_type": "stream",
     "text": [
      "2025-02-21 12:25:19,002 | INFO     | xgboost_soccer_prediction | Current best score: 0.3842\n",
      "2025-02-21 12:25:20,785 | INFO     | xgboost_soccer_prediction | Optimized threshold: 0.530 with precision: 0.337\n",
      "2025-02-21 12:25:20,825 | INFO     | xgboost_soccer_prediction | Trial 120:\n",
      "2025-02-21 12:25:20,827 | INFO     | xgboost_soccer_prediction |   Params: {'objective': 'binary:logistic', 'tree_method': 'hist', 'eval_metric': ['logloss', 'auc'], 'verbose': -1, 'n_jobs': -1, 'random_state': 19, 'learning_rate': 0.036677945932516935, 'max_depth': 8, 'min_child_weight': 53, 'subsample': 0.6654112636463395, 'colsample_bytree': 0.7118002861130823, 'reg_alpha': 0.04911242570637727, 'reg_lambda': 11.45287166774183, 'gamma': 1.9045126563733432, 'early_stopping_rounds': 338, 'scale_pos_weight': 2.403517645447848}\n",
      "2025-02-21 12:25:20,829 | INFO     | xgboost_soccer_prediction |   Score: 0.3370044052862694\n"
     ]
    },
    {
     "name": "stderr",
     "output_type": "stream",
     "text": [
      "[I 2025-02-21 12:25:20,831] Trial 120 finished with value: 0.3370044052862694 and parameters: {'learning_rate': 0.036677945932516935, 'max_depth': 8, 'min_child_weight': 53, 'subsample': 0.6654112636463395, 'colsample_bytree': 0.7118002861130823, 'reg_alpha': 0.04911242570637727, 'reg_lambda': 11.45287166774183, 'gamma': 1.9045126563733432, 'early_stopping_rounds': 338, 'scale_pos_weight': 2.403517645447848}. Best is trial 61 with value: 0.38418079096034347.\n"
     ]
    },
    {
     "name": "stdout",
     "output_type": "stream",
     "text": [
      "2025-02-21 12:25:20,831 | INFO     | xgboost_soccer_prediction | Current best score: 0.3842\n",
      "2025-02-21 12:25:22,737 | INFO     | xgboost_soccer_prediction | Optimized threshold: 0.530 with precision: 0.359\n",
      "2025-02-21 12:25:22,777 | INFO     | xgboost_soccer_prediction | Trial 121:\n",
      "2025-02-21 12:25:22,779 | INFO     | xgboost_soccer_prediction |   Params: {'objective': 'binary:logistic', 'tree_method': 'hist', 'eval_metric': ['logloss', 'auc'], 'verbose': -1, 'n_jobs': -1, 'random_state': 19, 'learning_rate': 0.020715233811438645, 'max_depth': 8, 'min_child_weight': 61, 'subsample': 0.6614088950818203, 'colsample_bytree': 0.6264364155924769, 'reg_alpha': 0.4390028407295883, 'reg_lambda': 11.06929318325513, 'gamma': 2.5972313915506775, 'early_stopping_rounds': 342, 'scale_pos_weight': 2.4136739134921115}\n",
      "2025-02-21 12:25:22,779 | INFO     | xgboost_soccer_prediction |   Score: 0.35903614457822675\n"
     ]
    },
    {
     "name": "stderr",
     "output_type": "stream",
     "text": [
      "[I 2025-02-21 12:25:22,781] Trial 121 finished with value: 0.35903614457822675 and parameters: {'learning_rate': 0.020715233811438645, 'max_depth': 8, 'min_child_weight': 61, 'subsample': 0.6614088950818203, 'colsample_bytree': 0.6264364155924769, 'reg_alpha': 0.4390028407295883, 'reg_lambda': 11.06929318325513, 'gamma': 2.5972313915506775, 'early_stopping_rounds': 342, 'scale_pos_weight': 2.4136739134921115}. Best is trial 61 with value: 0.38418079096034347.\n"
     ]
    },
    {
     "name": "stdout",
     "output_type": "stream",
     "text": [
      "2025-02-21 12:25:22,783 | INFO     | xgboost_soccer_prediction | Current best score: 0.3842\n",
      "2025-02-21 12:25:24,586 | INFO     | xgboost_soccer_prediction | Optimized threshold: 0.540 with precision: 0.357\n",
      "2025-02-21 12:25:24,624 | INFO     | xgboost_soccer_prediction | Trial 122:\n",
      "2025-02-21 12:25:24,626 | INFO     | xgboost_soccer_prediction |   Params: {'objective': 'binary:logistic', 'tree_method': 'hist', 'eval_metric': ['logloss', 'auc'], 'verbose': -1, 'n_jobs': -1, 'random_state': 19, 'learning_rate': 0.021340415259460913, 'max_depth': 8, 'min_child_weight': 63, 'subsample': 0.6581144379181266, 'colsample_bytree': 0.6308378693871892, 'reg_alpha': 0.3864605191349042, 'reg_lambda': 10.807498704653629, 'gamma': 2.21900231274231, 'early_stopping_rounds': 347, 'scale_pos_weight': 2.5515510162602997}\n",
      "2025-02-21 12:25:24,627 | INFO     | xgboost_soccer_prediction |   Score: 0.3569937369519088\n"
     ]
    },
    {
     "name": "stderr",
     "output_type": "stream",
     "text": [
      "[I 2025-02-21 12:25:24,629] Trial 122 finished with value: 0.3569937369519088 and parameters: {'learning_rate': 0.021340415259460913, 'max_depth': 8, 'min_child_weight': 63, 'subsample': 0.6581144379181266, 'colsample_bytree': 0.6308378693871892, 'reg_alpha': 0.3864605191349042, 'reg_lambda': 10.807498704653629, 'gamma': 2.21900231274231, 'early_stopping_rounds': 347, 'scale_pos_weight': 2.5515510162602997}. Best is trial 61 with value: 0.38418079096034347.\n"
     ]
    },
    {
     "name": "stdout",
     "output_type": "stream",
     "text": [
      "2025-02-21 12:25:24,629 | INFO     | xgboost_soccer_prediction | Current best score: 0.3842\n",
      "2025-02-21 12:25:26,409 | INFO     | xgboost_soccer_prediction | Optimized threshold: 0.540 with precision: 0.347\n",
      "2025-02-21 12:25:26,448 | INFO     | xgboost_soccer_prediction | Trial 123:\n",
      "2025-02-21 12:25:26,450 | INFO     | xgboost_soccer_prediction |   Params: {'objective': 'binary:logistic', 'tree_method': 'hist', 'eval_metric': ['logloss', 'auc'], 'verbose': -1, 'n_jobs': -1, 'random_state': 19, 'learning_rate': 0.02100628500244228, 'max_depth': 8, 'min_child_weight': 60, 'subsample': 0.6358512900864136, 'colsample_bytree': 0.6430761939212998, 'reg_alpha': 0.29910108473504243, 'reg_lambda': 10.43092876850866, 'gamma': 2.511584747505303, 'early_stopping_rounds': 349, 'scale_pos_weight': 2.5330949534488494}\n",
      "2025-02-21 12:25:26,452 | INFO     | xgboost_soccer_prediction |   Score: 0.34739454094284183\n"
     ]
    },
    {
     "name": "stderr",
     "output_type": "stream",
     "text": [
      "[I 2025-02-21 12:25:26,453] Trial 123 finished with value: 0.34739454094284183 and parameters: {'learning_rate': 0.02100628500244228, 'max_depth': 8, 'min_child_weight': 60, 'subsample': 0.6358512900864136, 'colsample_bytree': 0.6430761939212998, 'reg_alpha': 0.29910108473504243, 'reg_lambda': 10.43092876850866, 'gamma': 2.511584747505303, 'early_stopping_rounds': 349, 'scale_pos_weight': 2.5330949534488494}. Best is trial 61 with value: 0.38418079096034347.\n"
     ]
    },
    {
     "name": "stdout",
     "output_type": "stream",
     "text": [
      "2025-02-21 12:25:26,455 | INFO     | xgboost_soccer_prediction | Current best score: 0.3842\n",
      "2025-02-21 12:25:28,697 | INFO     | xgboost_soccer_prediction | Optimized threshold: 0.530 with precision: 0.358\n",
      "2025-02-21 12:25:28,739 | INFO     | xgboost_soccer_prediction | Trial 124:\n",
      "2025-02-21 12:25:28,741 | INFO     | xgboost_soccer_prediction |   Params: {'objective': 'binary:logistic', 'tree_method': 'hist', 'eval_metric': ['logloss', 'auc'], 'verbose': -1, 'n_jobs': -1, 'random_state': 19, 'learning_rate': 0.022623821385332185, 'max_depth': 11, 'min_child_weight': 58, 'subsample': 0.6437098189452974, 'colsample_bytree': 0.662285439816845, 'reg_alpha': 0.5318171380480434, 'reg_lambda': 10.954967578528727, 'gamma': 2.3674154217575865, 'early_stopping_rounds': 328, 'scale_pos_weight': 2.5438050884770695}\n",
      "2025-02-21 12:25:28,742 | INFO     | xgboost_soccer_prediction |   Score: 0.35820895522381374\n"
     ]
    },
    {
     "name": "stderr",
     "output_type": "stream",
     "text": [
      "[I 2025-02-21 12:25:28,744] Trial 124 finished with value: 0.35820895522381374 and parameters: {'learning_rate': 0.022623821385332185, 'max_depth': 11, 'min_child_weight': 58, 'subsample': 0.6437098189452974, 'colsample_bytree': 0.662285439816845, 'reg_alpha': 0.5318171380480434, 'reg_lambda': 10.954967578528727, 'gamma': 2.3674154217575865, 'early_stopping_rounds': 328, 'scale_pos_weight': 2.5438050884770695}. Best is trial 61 with value: 0.38418079096034347.\n"
     ]
    },
    {
     "name": "stdout",
     "output_type": "stream",
     "text": [
      "2025-02-21 12:25:28,745 | INFO     | xgboost_soccer_prediction | Current best score: 0.3842\n",
      "2025-02-21 12:25:30,460 | INFO     | xgboost_soccer_prediction | Optimized threshold: 0.520 with precision: 0.335\n",
      "2025-02-21 12:25:30,498 | INFO     | xgboost_soccer_prediction | Trial 125:\n",
      "2025-02-21 12:25:30,501 | INFO     | xgboost_soccer_prediction |   Params: {'objective': 'binary:logistic', 'tree_method': 'hist', 'eval_metric': ['logloss', 'auc'], 'verbose': -1, 'n_jobs': -1, 'random_state': 19, 'learning_rate': 0.05574745100883283, 'max_depth': 8, 'min_child_weight': 56, 'subsample': 0.6813018587621058, 'colsample_bytree': 0.6507958981483534, 'reg_alpha': 0.2536346516770602, 'reg_lambda': 11.193395731834663, 'gamma': 2.7797934648275473, 'early_stopping_rounds': 344, 'scale_pos_weight': 2.407950558708326}\n",
      "2025-02-21 12:25:30,502 | INFO     | xgboost_soccer_prediction |   Score: 0.3350877192981868\n"
     ]
    },
    {
     "name": "stderr",
     "output_type": "stream",
     "text": [
      "[I 2025-02-21 12:25:30,504] Trial 125 finished with value: 0.3350877192981868 and parameters: {'learning_rate': 0.05574745100883283, 'max_depth': 8, 'min_child_weight': 56, 'subsample': 0.6813018587621058, 'colsample_bytree': 0.6507958981483534, 'reg_alpha': 0.2536346516770602, 'reg_lambda': 11.193395731834663, 'gamma': 2.7797934648275473, 'early_stopping_rounds': 344, 'scale_pos_weight': 2.407950558708326}. Best is trial 61 with value: 0.38418079096034347.\n"
     ]
    },
    {
     "name": "stdout",
     "output_type": "stream",
     "text": [
      "2025-02-21 12:25:30,504 | INFO     | xgboost_soccer_prediction | Current best score: 0.3842\n",
      "2025-02-21 12:25:32,350 | INFO     | xgboost_soccer_prediction | Optimized threshold: 0.550 with precision: 0.367\n",
      "2025-02-21 12:25:32,392 | INFO     | xgboost_soccer_prediction | Trial 126:\n",
      "2025-02-21 12:25:32,394 | INFO     | xgboost_soccer_prediction |   Params: {'objective': 'binary:logistic', 'tree_method': 'hist', 'eval_metric': ['logloss', 'auc'], 'verbose': -1, 'n_jobs': -1, 'random_state': 19, 'learning_rate': 0.021814675417366338, 'max_depth': 8, 'min_child_weight': 60, 'subsample': 0.672346506979686, 'colsample_bytree': 0.7014206327257461, 'reg_alpha': 0.4553672208237055, 'reg_lambda': 10.592237649124723, 'gamma': 2.4659469606436772, 'early_stopping_rounds': 347, 'scale_pos_weight': 2.5659697524634852}\n",
      "2025-02-21 12:25:32,394 | INFO     | xgboost_soccer_prediction |   Score: 0.3667546174141513\n"
     ]
    },
    {
     "name": "stderr",
     "output_type": "stream",
     "text": [
      "[I 2025-02-21 12:25:32,396] Trial 126 finished with value: 0.3667546174141513 and parameters: {'learning_rate': 0.021814675417366338, 'max_depth': 8, 'min_child_weight': 60, 'subsample': 0.672346506979686, 'colsample_bytree': 0.7014206327257461, 'reg_alpha': 0.4553672208237055, 'reg_lambda': 10.592237649124723, 'gamma': 2.4659469606436772, 'early_stopping_rounds': 347, 'scale_pos_weight': 2.5659697524634852}. Best is trial 61 with value: 0.38418079096034347.\n"
     ]
    },
    {
     "name": "stdout",
     "output_type": "stream",
     "text": [
      "2025-02-21 12:25:32,398 | INFO     | xgboost_soccer_prediction | Current best score: 0.3842\n",
      "2025-02-21 12:25:34,423 | INFO     | xgboost_soccer_prediction | Optimized threshold: 0.540 with precision: 0.351\n",
      "2025-02-21 12:25:34,463 | INFO     | xgboost_soccer_prediction | Trial 127:\n",
      "2025-02-21 12:25:34,465 | INFO     | xgboost_soccer_prediction |   Params: {'objective': 'binary:logistic', 'tree_method': 'hist', 'eval_metric': ['logloss', 'auc'], 'verbose': -1, 'n_jobs': -1, 'random_state': 19, 'learning_rate': 0.023453416834523472, 'max_depth': 9, 'min_child_weight': 59, 'subsample': 0.6746755491894856, 'colsample_bytree': 0.6975878103895253, 'reg_alpha': 0.6023522997090227, 'reg_lambda': 10.594601472199223, 'gamma': 2.415502737900326, 'early_stopping_rounds': 350, 'scale_pos_weight': 2.5720179895388053}\n",
      "2025-02-21 12:25:34,465 | INFO     | xgboost_soccer_prediction |   Score: 0.35058823529403516\n"
     ]
    },
    {
     "name": "stderr",
     "output_type": "stream",
     "text": [
      "[I 2025-02-21 12:25:34,468] Trial 127 finished with value: 0.35058823529403516 and parameters: {'learning_rate': 0.023453416834523472, 'max_depth': 9, 'min_child_weight': 59, 'subsample': 0.6746755491894856, 'colsample_bytree': 0.6975878103895253, 'reg_alpha': 0.6023522997090227, 'reg_lambda': 10.594601472199223, 'gamma': 2.415502737900326, 'early_stopping_rounds': 350, 'scale_pos_weight': 2.5720179895388053}. Best is trial 61 with value: 0.38418079096034347.\n"
     ]
    },
    {
     "name": "stdout",
     "output_type": "stream",
     "text": [
      "2025-02-21 12:25:34,469 | INFO     | xgboost_soccer_prediction | Current best score: 0.3842\n",
      "2025-02-21 12:25:36,579 | INFO     | xgboost_soccer_prediction | Optimized threshold: 0.540 with precision: 0.362\n",
      "2025-02-21 12:25:36,619 | INFO     | xgboost_soccer_prediction | Trial 128:\n",
      "2025-02-21 12:25:36,620 | INFO     | xgboost_soccer_prediction |   Params: {'objective': 'binary:logistic', 'tree_method': 'hist', 'eval_metric': ['logloss', 'auc'], 'verbose': -1, 'n_jobs': -1, 'random_state': 19, 'learning_rate': 0.02176218613190813, 'max_depth': 10, 'min_child_weight': 57, 'subsample': 0.6687141806821316, 'colsample_bytree': 0.7063186029110433, 'reg_alpha': 0.7448321269477706, 'reg_lambda': 10.696625083226074, 'gamma': 2.3146413226096323, 'early_stopping_rounds': 300, 'scale_pos_weight': 2.5626946162760422}\n",
      "2025-02-21 12:25:36,622 | INFO     | xgboost_soccer_prediction |   Score: 0.3615702479338096\n"
     ]
    },
    {
     "name": "stderr",
     "output_type": "stream",
     "text": [
      "[I 2025-02-21 12:25:36,624] Trial 128 finished with value: 0.3615702479338096 and parameters: {'learning_rate': 0.02176218613190813, 'max_depth': 10, 'min_child_weight': 57, 'subsample': 0.6687141806821316, 'colsample_bytree': 0.7063186029110433, 'reg_alpha': 0.7448321269477706, 'reg_lambda': 10.696625083226074, 'gamma': 2.3146413226096323, 'early_stopping_rounds': 300, 'scale_pos_weight': 2.5626946162760422}. Best is trial 61 with value: 0.38418079096034347.\n"
     ]
    },
    {
     "name": "stdout",
     "output_type": "stream",
     "text": [
      "2025-02-21 12:25:36,624 | INFO     | xgboost_soccer_prediction | Current best score: 0.3842\n",
      "2025-02-21 12:25:38,396 | INFO     | xgboost_soccer_prediction | Optimized threshold: 0.530 with precision: 0.356\n",
      "2025-02-21 12:25:38,437 | INFO     | xgboost_soccer_prediction | Trial 129:\n",
      "2025-02-21 12:25:38,438 | INFO     | xgboost_soccer_prediction |   Params: {'objective': 'binary:logistic', 'tree_method': 'hist', 'eval_metric': ['logloss', 'auc'], 'verbose': -1, 'n_jobs': -1, 'random_state': 19, 'learning_rate': 0.022745011494013163, 'max_depth': 8, 'min_child_weight': 67, 'subsample': 0.6865849350890993, 'colsample_bytree': 0.7009767587186342, 'reg_alpha': 0.16088361794287037, 'reg_lambda': 10.308380572336356, 'gamma': 2.2265184761473757, 'early_stopping_rounds': 334, 'scale_pos_weight': 2.4046047898991274}\n",
      "2025-02-21 12:25:38,440 | INFO     | xgboost_soccer_prediction |   Score: 0.3564593301434554\n"
     ]
    },
    {
     "name": "stderr",
     "output_type": "stream",
     "text": [
      "[I 2025-02-21 12:25:38,442] Trial 129 finished with value: 0.3564593301434554 and parameters: {'learning_rate': 0.022745011494013163, 'max_depth': 8, 'min_child_weight': 67, 'subsample': 0.6865849350890993, 'colsample_bytree': 0.7009767587186342, 'reg_alpha': 0.16088361794287037, 'reg_lambda': 10.308380572336356, 'gamma': 2.2265184761473757, 'early_stopping_rounds': 334, 'scale_pos_weight': 2.4046047898991274}. Best is trial 61 with value: 0.38418079096034347.\n"
     ]
    },
    {
     "name": "stdout",
     "output_type": "stream",
     "text": [
      "2025-02-21 12:25:38,442 | INFO     | xgboost_soccer_prediction | Current best score: 0.3842\n",
      "2025-02-21 12:25:40,223 | INFO     | xgboost_soccer_prediction | Optimized threshold: 0.520 with precision: 0.328\n",
      "2025-02-21 12:25:40,258 | INFO     | xgboost_soccer_prediction | Trial 130:\n",
      "2025-02-21 12:25:40,260 | INFO     | xgboost_soccer_prediction |   Params: {'objective': 'binary:logistic', 'tree_method': 'hist', 'eval_metric': ['logloss', 'auc'], 'verbose': -1, 'n_jobs': -1, 'random_state': 19, 'learning_rate': 0.024558561727251398, 'max_depth': 8, 'min_child_weight': 54, 'subsample': 0.5424920766263529, 'colsample_bytree': 0.7170571561857845, 'reg_alpha': 0.11475393518190892, 'reg_lambda': 10.185918968640934, 'gamma': 1.6869317947506937, 'early_stopping_rounds': 340, 'scale_pos_weight': 2.580587390330681}\n",
      "2025-02-21 12:25:40,262 | INFO     | xgboost_soccer_prediction |   Score: 0.32786885245895664\n"
     ]
    },
    {
     "name": "stderr",
     "output_type": "stream",
     "text": [
      "[I 2025-02-21 12:25:40,264] Trial 130 finished with value: 0.32786885245895664 and parameters: {'learning_rate': 0.024558561727251398, 'max_depth': 8, 'min_child_weight': 54, 'subsample': 0.5424920766263529, 'colsample_bytree': 0.7170571561857845, 'reg_alpha': 0.11475393518190892, 'reg_lambda': 10.185918968640934, 'gamma': 1.6869317947506937, 'early_stopping_rounds': 340, 'scale_pos_weight': 2.580587390330681}. Best is trial 61 with value: 0.38418079096034347.\n"
     ]
    },
    {
     "name": "stdout",
     "output_type": "stream",
     "text": [
      "2025-02-21 12:25:40,264 | INFO     | xgboost_soccer_prediction | Current best score: 0.3842\n",
      "2025-02-21 12:25:42,052 | INFO     | xgboost_soccer_prediction | Optimized threshold: 0.540 with precision: 0.351\n",
      "2025-02-21 12:25:42,094 | INFO     | xgboost_soccer_prediction | Trial 131:\n",
      "2025-02-21 12:25:42,094 | INFO     | xgboost_soccer_prediction |   Params: {'objective': 'binary:logistic', 'tree_method': 'hist', 'eval_metric': ['logloss', 'auc'], 'verbose': -1, 'n_jobs': -1, 'random_state': 19, 'learning_rate': 0.020832199605596496, 'max_depth': 8, 'min_child_weight': 62, 'subsample': 0.6556370419301566, 'colsample_bytree': 0.6925721831095693, 'reg_alpha': 0.44975183705833705, 'reg_lambda': 10.89220943762744, 'gamma': 2.516944937122762, 'early_stopping_rounds': 347, 'scale_pos_weight': 2.5678680087543904}\n",
      "2025-02-21 12:25:42,096 | INFO     | xgboost_soccer_prediction |   Score: 0.35123042505584984\n"
     ]
    },
    {
     "name": "stderr",
     "output_type": "stream",
     "text": [
      "[I 2025-02-21 12:25:42,098] Trial 131 finished with value: 0.35123042505584984 and parameters: {'learning_rate': 0.020832199605596496, 'max_depth': 8, 'min_child_weight': 62, 'subsample': 0.6556370419301566, 'colsample_bytree': 0.6925721831095693, 'reg_alpha': 0.44975183705833705, 'reg_lambda': 10.89220943762744, 'gamma': 2.516944937122762, 'early_stopping_rounds': 347, 'scale_pos_weight': 2.5678680087543904}. Best is trial 61 with value: 0.38418079096034347.\n"
     ]
    },
    {
     "name": "stdout",
     "output_type": "stream",
     "text": [
      "2025-02-21 12:25:42,100 | INFO     | xgboost_soccer_prediction | Current best score: 0.3842\n",
      "2025-02-21 12:25:43,920 | INFO     | xgboost_soccer_prediction | Optimized threshold: 0.520 with precision: 0.333\n",
      "2025-02-21 12:25:43,959 | INFO     | xgboost_soccer_prediction | Trial 132:\n",
      "2025-02-21 12:25:43,961 | INFO     | xgboost_soccer_prediction |   Params: {'objective': 'binary:logistic', 'tree_method': 'hist', 'eval_metric': ['logloss', 'auc'], 'verbose': -1, 'n_jobs': -1, 'random_state': 19, 'learning_rate': 0.022004828412424404, 'max_depth': 8, 'min_child_weight': 61, 'subsample': 0.5739623495303474, 'colsample_bytree': 0.7105319740264195, 'reg_alpha': 0.3729884028794221, 'reg_lambda': 11.016780374050477, 'gamma': 2.5767002943235955, 'early_stopping_rounds': 349, 'scale_pos_weight': 2.557264941241833}\n",
      "2025-02-21 12:25:43,961 | INFO     | xgboost_soccer_prediction |   Score: 0.3326732673266668\n"
     ]
    },
    {
     "name": "stderr",
     "output_type": "stream",
     "text": [
      "[I 2025-02-21 12:25:43,965] Trial 132 finished with value: 0.3326732673266668 and parameters: {'learning_rate': 0.022004828412424404, 'max_depth': 8, 'min_child_weight': 61, 'subsample': 0.5739623495303474, 'colsample_bytree': 0.7105319740264195, 'reg_alpha': 0.3729884028794221, 'reg_lambda': 11.016780374050477, 'gamma': 2.5767002943235955, 'early_stopping_rounds': 349, 'scale_pos_weight': 2.557264941241833}. Best is trial 61 with value: 0.38418079096034347.\n"
     ]
    },
    {
     "name": "stdout",
     "output_type": "stream",
     "text": [
      "2025-02-21 12:25:43,965 | INFO     | xgboost_soccer_prediction | Current best score: 0.3842\n",
      "2025-02-21 12:25:45,729 | INFO     | xgboost_soccer_prediction | Optimized threshold: 0.530 with precision: 0.339\n",
      "2025-02-21 12:25:45,778 | INFO     | xgboost_soccer_prediction | Trial 133:\n",
      "2025-02-21 12:25:45,778 | INFO     | xgboost_soccer_prediction |   Params: {'objective': 'binary:logistic', 'tree_method': 'hist', 'eval_metric': ['logloss', 'auc'], 'verbose': -1, 'n_jobs': -1, 'random_state': 19, 'learning_rate': 0.021428583422197296, 'max_depth': 8, 'min_child_weight': 60, 'subsample': 0.6285166941201786, 'colsample_bytree': 0.6390607376875138, 'reg_alpha': 0.41749437492273744, 'reg_lambda': 10.541693155999955, 'gamma': 2.4095897792597234, 'early_stopping_rounds': 348, 'scale_pos_weight': 2.5497166162773173}\n",
      "2025-02-21 12:25:45,780 | INFO     | xgboost_soccer_prediction |   Score: 0.33879781420758853\n"
     ]
    },
    {
     "name": "stderr",
     "output_type": "stream",
     "text": [
      "[I 2025-02-21 12:25:45,782] Trial 133 finished with value: 0.33879781420758853 and parameters: {'learning_rate': 0.021428583422197296, 'max_depth': 8, 'min_child_weight': 60, 'subsample': 0.6285166941201786, 'colsample_bytree': 0.6390607376875138, 'reg_alpha': 0.41749437492273744, 'reg_lambda': 10.541693155999955, 'gamma': 2.4095897792597234, 'early_stopping_rounds': 348, 'scale_pos_weight': 2.5497166162773173}. Best is trial 61 with value: 0.38418079096034347.\n"
     ]
    },
    {
     "name": "stdout",
     "output_type": "stream",
     "text": [
      "2025-02-21 12:25:45,784 | INFO     | xgboost_soccer_prediction | Current best score: 0.3842\n",
      "2025-02-21 12:25:47,686 | INFO     | xgboost_soccer_prediction | Optimized threshold: 0.530 with precision: 0.355\n",
      "2025-02-21 12:25:47,727 | INFO     | xgboost_soccer_prediction | Trial 134:\n",
      "2025-02-21 12:25:47,727 | INFO     | xgboost_soccer_prediction |   Params: {'objective': 'binary:logistic', 'tree_method': 'hist', 'eval_metric': ['logloss', 'auc'], 'verbose': -1, 'n_jobs': -1, 'random_state': 19, 'learning_rate': 0.02034636306065686, 'max_depth': 9, 'min_child_weight': 63, 'subsample': 0.6476666836436388, 'colsample_bytree': 0.645886612140582, 'reg_alpha': 0.32871100623101074, 'reg_lambda': 9.613035569253977, 'gamma': 2.4659282716829023, 'early_stopping_rounds': 345, 'scale_pos_weight': 2.564250851240364}\n",
      "2025-02-21 12:25:47,729 | INFO     | xgboost_soccer_prediction |   Score: 0.35472370766482086\n"
     ]
    },
    {
     "name": "stderr",
     "output_type": "stream",
     "text": [
      "[I 2025-02-21 12:25:47,731] Trial 134 finished with value: 0.35472370766482086 and parameters: {'learning_rate': 0.02034636306065686, 'max_depth': 9, 'min_child_weight': 63, 'subsample': 0.6476666836436388, 'colsample_bytree': 0.645886612140582, 'reg_alpha': 0.32871100623101074, 'reg_lambda': 9.613035569253977, 'gamma': 2.4659282716829023, 'early_stopping_rounds': 345, 'scale_pos_weight': 2.564250851240364}. Best is trial 61 with value: 0.38418079096034347.\n"
     ]
    },
    {
     "name": "stdout",
     "output_type": "stream",
     "text": [
      "2025-02-21 12:25:47,731 | INFO     | xgboost_soccer_prediction | Current best score: 0.3842\n",
      "2025-02-21 12:25:49,594 | INFO     | xgboost_soccer_prediction | Optimized threshold: 0.530 with precision: 0.358\n",
      "2025-02-21 12:25:49,631 | INFO     | xgboost_soccer_prediction | Trial 135:\n",
      "2025-02-21 12:25:49,632 | INFO     | xgboost_soccer_prediction |   Params: {'objective': 'binary:logistic', 'tree_method': 'hist', 'eval_metric': ['logloss', 'auc'], 'verbose': -1, 'n_jobs': -1, 'random_state': 19, 'learning_rate': 0.023709482273670535, 'max_depth': 8, 'min_child_weight': 59, 'subsample': 0.6741117485208528, 'colsample_bytree': 0.6752771959736246, 'reg_alpha': 0.46172676020796777, 'reg_lambda': 10.739351657382304, 'gamma': 2.287830088950944, 'early_stopping_rounds': 346, 'scale_pos_weight': 2.400433809123175}\n",
      "2025-02-21 12:25:49,633 | INFO     | xgboost_soccer_prediction |   Score: 0.35813953488363764\n"
     ]
    },
    {
     "name": "stderr",
     "output_type": "stream",
     "text": [
      "[I 2025-02-21 12:25:49,636] Trial 135 finished with value: 0.35813953488363764 and parameters: {'learning_rate': 0.023709482273670535, 'max_depth': 8, 'min_child_weight': 59, 'subsample': 0.6741117485208528, 'colsample_bytree': 0.6752771959736246, 'reg_alpha': 0.46172676020796777, 'reg_lambda': 10.739351657382304, 'gamma': 2.287830088950944, 'early_stopping_rounds': 346, 'scale_pos_weight': 2.400433809123175}. Best is trial 61 with value: 0.38418079096034347.\n"
     ]
    },
    {
     "name": "stdout",
     "output_type": "stream",
     "text": [
      "2025-02-21 12:25:49,637 | INFO     | xgboost_soccer_prediction | Current best score: 0.3842\n",
      "2025-02-21 12:25:51,443 | INFO     | xgboost_soccer_prediction | Optimized threshold: 0.540 with precision: 0.345\n",
      "2025-02-21 12:25:51,483 | INFO     | xgboost_soccer_prediction | Trial 136:\n",
      "2025-02-21 12:25:51,486 | INFO     | xgboost_soccer_prediction |   Params: {'objective': 'binary:logistic', 'tree_method': 'hist', 'eval_metric': ['logloss', 'auc'], 'verbose': -1, 'n_jobs': -1, 'random_state': 19, 'learning_rate': 0.020058556895865633, 'max_depth': 8, 'min_child_weight': 58, 'subsample': 0.6542018253200067, 'colsample_bytree': 0.6352573595048902, 'reg_alpha': 0.5634288721090539, 'reg_lambda': 11.510280203196368, 'gamma': 2.623407655984708, 'early_stopping_rounds': 337, 'scale_pos_weight': 2.5743068868818693}\n",
      "2025-02-21 12:25:51,488 | INFO     | xgboost_soccer_prediction |   Score: 0.34511434511427336\n"
     ]
    },
    {
     "name": "stderr",
     "output_type": "stream",
     "text": [
      "[I 2025-02-21 12:25:51,490] Trial 136 finished with value: 0.34511434511427336 and parameters: {'learning_rate': 0.020058556895865633, 'max_depth': 8, 'min_child_weight': 58, 'subsample': 0.6542018253200067, 'colsample_bytree': 0.6352573595048902, 'reg_alpha': 0.5634288721090539, 'reg_lambda': 11.510280203196368, 'gamma': 2.623407655984708, 'early_stopping_rounds': 337, 'scale_pos_weight': 2.5743068868818693}. Best is trial 61 with value: 0.38418079096034347.\n"
     ]
    },
    {
     "name": "stdout",
     "output_type": "stream",
     "text": [
      "2025-02-21 12:25:51,490 | INFO     | xgboost_soccer_prediction | Current best score: 0.3842\n",
      "2025-02-21 12:25:53,368 | INFO     | xgboost_soccer_prediction | Optimized threshold: 0.510 with precision: 0.348\n",
      "2025-02-21 12:25:53,407 | INFO     | xgboost_soccer_prediction | Trial 137:\n",
      "2025-02-21 12:25:53,407 | INFO     | xgboost_soccer_prediction |   Params: {'objective': 'binary:logistic', 'tree_method': 'hist', 'eval_metric': ['logloss', 'auc'], 'verbose': -1, 'n_jobs': -1, 'random_state': 19, 'learning_rate': 0.02311537256243002, 'max_depth': 9, 'min_child_weight': 56, 'subsample': 0.4493143835633592, 'colsample_bytree': 0.729815995930606, 'reg_alpha': 0.5007060158398895, 'reg_lambda': 10.418159745531211, 'gamma': 2.158623013056144, 'early_stopping_rounds': 348, 'scale_pos_weight': 2.538932853646438}\n",
      "2025-02-21 12:25:53,409 | INFO     | xgboost_soccer_prediction |   Score: 0.3483709273182521\n"
     ]
    },
    {
     "name": "stderr",
     "output_type": "stream",
     "text": [
      "[I 2025-02-21 12:25:53,411] Trial 137 finished with value: 0.3483709273182521 and parameters: {'learning_rate': 0.02311537256243002, 'max_depth': 9, 'min_child_weight': 56, 'subsample': 0.4493143835633592, 'colsample_bytree': 0.729815995930606, 'reg_alpha': 0.5007060158398895, 'reg_lambda': 10.418159745531211, 'gamma': 2.158623013056144, 'early_stopping_rounds': 348, 'scale_pos_weight': 2.538932853646438}. Best is trial 61 with value: 0.38418079096034347.\n"
     ]
    },
    {
     "name": "stdout",
     "output_type": "stream",
     "text": [
      "2025-02-21 12:25:53,413 | INFO     | xgboost_soccer_prediction | Current best score: 0.3842\n",
      "2025-02-21 12:25:55,136 | INFO     | xgboost_soccer_prediction | Optimized threshold: 0.540 with precision: 0.361\n",
      "2025-02-21 12:25:55,173 | INFO     | xgboost_soccer_prediction | Trial 138:\n",
      "2025-02-21 12:25:55,175 | INFO     | xgboost_soccer_prediction |   Params: {'objective': 'binary:logistic', 'tree_method': 'hist', 'eval_metric': ['logloss', 'auc'], 'verbose': -1, 'n_jobs': -1, 'random_state': 19, 'learning_rate': 0.02107671609735532, 'max_depth': 8, 'min_child_weight': 64, 'subsample': 0.5178111167899458, 'colsample_bytree': 0.6562140215029103, 'reg_alpha': 0.13319464725325522, 'reg_lambda': 11.119202396590419, 'gamma': 2.879418961659518, 'early_stopping_rounds': 331, 'scale_pos_weight': 2.5278526510547827}\n",
      "2025-02-21 12:25:55,177 | INFO     | xgboost_soccer_prediction |   Score: 0.3613053613052771\n"
     ]
    },
    {
     "name": "stderr",
     "output_type": "stream",
     "text": [
      "[I 2025-02-21 12:25:55,179] Trial 138 finished with value: 0.3613053613052771 and parameters: {'learning_rate': 0.02107671609735532, 'max_depth': 8, 'min_child_weight': 64, 'subsample': 0.5178111167899458, 'colsample_bytree': 0.6562140215029103, 'reg_alpha': 0.13319464725325522, 'reg_lambda': 11.119202396590419, 'gamma': 2.879418961659518, 'early_stopping_rounds': 331, 'scale_pos_weight': 2.5278526510547827}. Best is trial 61 with value: 0.38418079096034347.\n"
     ]
    },
    {
     "name": "stdout",
     "output_type": "stream",
     "text": [
      "2025-02-21 12:25:55,179 | INFO     | xgboost_soccer_prediction | Current best score: 0.3842\n",
      "2025-02-21 12:25:57,344 | INFO     | xgboost_soccer_prediction | Optimized threshold: 0.530 with precision: 0.343\n",
      "2025-02-21 12:25:57,384 | INFO     | xgboost_soccer_prediction | Trial 139:\n",
      "2025-02-21 12:25:57,386 | INFO     | xgboost_soccer_prediction |   Params: {'objective': 'binary:logistic', 'tree_method': 'hist', 'eval_metric': ['logloss', 'auc'], 'verbose': -1, 'n_jobs': -1, 'random_state': 19, 'learning_rate': 0.022237706803971472, 'max_depth': 11, 'min_child_weight': 61, 'subsample': 0.6621655849531234, 'colsample_bytree': 0.6216153836113016, 'reg_alpha': 0.35748369299878235, 'reg_lambda': 9.829805654693162, 'gamma': 2.1027540589098987, 'early_stopping_rounds': 326, 'scale_pos_weight': 2.4157725098542313}\n",
      "2025-02-21 12:25:57,388 | INFO     | xgboost_soccer_prediction |   Score: 0.3425531914892888\n"
     ]
    },
    {
     "name": "stderr",
     "output_type": "stream",
     "text": [
      "[I 2025-02-21 12:25:57,390] Trial 139 finished with value: 0.3425531914892888 and parameters: {'learning_rate': 0.022237706803971472, 'max_depth': 11, 'min_child_weight': 61, 'subsample': 0.6621655849531234, 'colsample_bytree': 0.6216153836113016, 'reg_alpha': 0.35748369299878235, 'reg_lambda': 9.829805654693162, 'gamma': 2.1027540589098987, 'early_stopping_rounds': 326, 'scale_pos_weight': 2.4157725098542313}. Best is trial 61 with value: 0.38418079096034347.\n"
     ]
    },
    {
     "name": "stdout",
     "output_type": "stream",
     "text": [
      "2025-02-21 12:25:57,390 | INFO     | xgboost_soccer_prediction | Current best score: 0.3842\n",
      "2025-02-21 12:25:59,262 | INFO     | xgboost_soccer_prediction | Optimized threshold: 0.530 with precision: 0.359\n",
      "2025-02-21 12:25:59,302 | INFO     | xgboost_soccer_prediction | Trial 140:\n",
      "2025-02-21 12:25:59,304 | INFO     | xgboost_soccer_prediction |   Params: {'objective': 'binary:logistic', 'tree_method': 'hist', 'eval_metric': ['logloss', 'auc'], 'verbose': -1, 'n_jobs': -1, 'random_state': 19, 'learning_rate': 0.030165106059373187, 'max_depth': 8, 'min_child_weight': 55, 'subsample': 0.6924675877278416, 'colsample_bytree': 0.6876893781614518, 'reg_alpha': 0.6530117098114339, 'reg_lambda': 11.31883566699513, 'gamma': 2.741173184283218, 'early_stopping_rounds': 330, 'scale_pos_weight': 2.408793858421418}\n",
      "2025-02-21 12:25:59,306 | INFO     | xgboost_soccer_prediction |   Score: 0.3589108910890201\n"
     ]
    },
    {
     "name": "stderr",
     "output_type": "stream",
     "text": [
      "[I 2025-02-21 12:25:59,308] Trial 140 finished with value: 0.3589108910890201 and parameters: {'learning_rate': 0.030165106059373187, 'max_depth': 8, 'min_child_weight': 55, 'subsample': 0.6924675877278416, 'colsample_bytree': 0.6876893781614518, 'reg_alpha': 0.6530117098114339, 'reg_lambda': 11.31883566699513, 'gamma': 2.741173184283218, 'early_stopping_rounds': 330, 'scale_pos_weight': 2.408793858421418}. Best is trial 61 with value: 0.38418079096034347.\n"
     ]
    },
    {
     "name": "stdout",
     "output_type": "stream",
     "text": [
      "2025-02-21 12:25:59,308 | INFO     | xgboost_soccer_prediction | Current best score: 0.3842\n",
      "2025-02-21 12:26:01,344 | INFO     | xgboost_soccer_prediction | Optimized threshold: 0.520 with precision: 0.344\n",
      "2025-02-21 12:26:01,383 | INFO     | xgboost_soccer_prediction | Trial 141:\n",
      "2025-02-21 12:26:01,385 | INFO     | xgboost_soccer_prediction |   Params: {'objective': 'binary:logistic', 'tree_method': 'hist', 'eval_metric': ['logloss', 'auc'], 'verbose': -1, 'n_jobs': -1, 'random_state': 19, 'learning_rate': 0.020572801271448962, 'max_depth': 9, 'min_child_weight': 55, 'subsample': 0.6693421812154103, 'colsample_bytree': 0.6817156092793804, 'reg_alpha': 0.0637222149837683, 'reg_lambda': 11.103978639824192, 'gamma': 1.835250240187477, 'early_stopping_rounds': 333, 'scale_pos_weight': 2.412211039914716}\n",
      "2025-02-21 12:26:01,386 | INFO     | xgboost_soccer_prediction |   Score: 0.3442265795206222\n"
     ]
    },
    {
     "name": "stderr",
     "output_type": "stream",
     "text": [
      "[I 2025-02-21 12:26:01,388] Trial 141 finished with value: 0.3442265795206222 and parameters: {'learning_rate': 0.020572801271448962, 'max_depth': 9, 'min_child_weight': 55, 'subsample': 0.6693421812154103, 'colsample_bytree': 0.6817156092793804, 'reg_alpha': 0.0637222149837683, 'reg_lambda': 11.103978639824192, 'gamma': 1.835250240187477, 'early_stopping_rounds': 333, 'scale_pos_weight': 2.412211039914716}. Best is trial 61 with value: 0.38418079096034347.\n"
     ]
    },
    {
     "name": "stdout",
     "output_type": "stream",
     "text": [
      "2025-02-21 12:26:01,390 | INFO     | xgboost_soccer_prediction | Current best score: 0.3842\n",
      "2025-02-21 12:26:03,262 | INFO     | xgboost_soccer_prediction | Optimized threshold: 0.530 with precision: 0.367\n",
      "2025-02-21 12:26:03,302 | INFO     | xgboost_soccer_prediction | Trial 142:\n",
      "2025-02-21 12:26:03,304 | INFO     | xgboost_soccer_prediction |   Params: {'objective': 'binary:logistic', 'tree_method': 'hist', 'eval_metric': ['logloss', 'auc'], 'verbose': -1, 'n_jobs': -1, 'random_state': 19, 'learning_rate': 0.020807730265853922, 'max_depth': 9, 'min_child_weight': 57, 'subsample': 0.5293211091431147, 'colsample_bytree': 0.6773998548975422, 'reg_alpha': 0.05903495571237215, 'reg_lambda': 10.799019107610077, 'gamma': 1.7954298796349726, 'early_stopping_rounds': 335, 'scale_pos_weight': 2.4189872283390894}\n",
      "2025-02-21 12:26:03,306 | INFO     | xgboost_soccer_prediction |   Score: 0.3669250645993884\n"
     ]
    },
    {
     "name": "stderr",
     "output_type": "stream",
     "text": [
      "[I 2025-02-21 12:26:03,308] Trial 142 finished with value: 0.3669250645993884 and parameters: {'learning_rate': 0.020807730265853922, 'max_depth': 9, 'min_child_weight': 57, 'subsample': 0.5293211091431147, 'colsample_bytree': 0.6773998548975422, 'reg_alpha': 0.05903495571237215, 'reg_lambda': 10.799019107610077, 'gamma': 1.7954298796349726, 'early_stopping_rounds': 335, 'scale_pos_weight': 2.4189872283390894}. Best is trial 61 with value: 0.38418079096034347.\n"
     ]
    },
    {
     "name": "stdout",
     "output_type": "stream",
     "text": [
      "2025-02-21 12:26:03,308 | INFO     | xgboost_soccer_prediction | Current best score: 0.3842\n",
      "2025-02-21 12:26:05,260 | INFO     | xgboost_soccer_prediction | Optimized threshold: 0.520 with precision: 0.338\n",
      "2025-02-21 12:26:05,301 | INFO     | xgboost_soccer_prediction | Trial 143:\n",
      "2025-02-21 12:26:05,302 | INFO     | xgboost_soccer_prediction |   Params: {'objective': 'binary:logistic', 'tree_method': 'hist', 'eval_metric': ['logloss', 'auc'], 'verbose': -1, 'n_jobs': -1, 'random_state': 19, 'learning_rate': 0.02178322478967343, 'max_depth': 9, 'min_child_weight': 57, 'subsample': 0.4971987121369042, 'colsample_bytree': 0.6729872158397882, 'reg_alpha': 0.04765073165150261, 'reg_lambda': 10.845324933399562, 'gamma': 1.977700256927379, 'early_stopping_rounds': 335, 'scale_pos_weight': 2.4058218801249125}\n",
      "2025-02-21 12:26:05,304 | INFO     | xgboost_soccer_prediction |   Score: 0.3381147540982914\n"
     ]
    },
    {
     "name": "stderr",
     "output_type": "stream",
     "text": [
      "[I 2025-02-21 12:26:05,306] Trial 143 finished with value: 0.3381147540982914 and parameters: {'learning_rate': 0.02178322478967343, 'max_depth': 9, 'min_child_weight': 57, 'subsample': 0.4971987121369042, 'colsample_bytree': 0.6729872158397882, 'reg_alpha': 0.04765073165150261, 'reg_lambda': 10.845324933399562, 'gamma': 1.977700256927379, 'early_stopping_rounds': 335, 'scale_pos_weight': 2.4058218801249125}. Best is trial 61 with value: 0.38418079096034347.\n"
     ]
    },
    {
     "name": "stdout",
     "output_type": "stream",
     "text": [
      "2025-02-21 12:26:05,306 | INFO     | xgboost_soccer_prediction | Current best score: 0.3842\n",
      "2025-02-21 12:26:07,130 | INFO     | xgboost_soccer_prediction | Optimized threshold: 0.530 with precision: 0.355\n",
      "2025-02-21 12:26:07,173 | INFO     | xgboost_soccer_prediction | Trial 144:\n",
      "2025-02-21 12:26:07,175 | INFO     | xgboost_soccer_prediction |   Params: {'objective': 'binary:logistic', 'tree_method': 'hist', 'eval_metric': ['logloss', 'auc'], 'verbose': -1, 'n_jobs': -1, 'random_state': 19, 'learning_rate': 0.02146131832517908, 'max_depth': 9, 'min_child_weight': 60, 'subsample': 0.5228104646557254, 'colsample_bytree': 0.6662433046496322, 'reg_alpha': 0.08189534507581825, 'reg_lambda': 10.631868920609426, 'gamma': 1.9327226626330773, 'early_stopping_rounds': 332, 'scale_pos_weight': 2.5448879607123813}\n",
      "2025-02-21 12:26:07,175 | INFO     | xgboost_soccer_prediction |   Score: 0.35502958579874655\n"
     ]
    },
    {
     "name": "stderr",
     "output_type": "stream",
     "text": [
      "[I 2025-02-21 12:26:07,179] Trial 144 finished with value: 0.35502958579874655 and parameters: {'learning_rate': 0.02146131832517908, 'max_depth': 9, 'min_child_weight': 60, 'subsample': 0.5228104646557254, 'colsample_bytree': 0.6662433046496322, 'reg_alpha': 0.08189534507581825, 'reg_lambda': 10.631868920609426, 'gamma': 1.9327226626330773, 'early_stopping_rounds': 332, 'scale_pos_weight': 2.5448879607123813}. Best is trial 61 with value: 0.38418079096034347.\n"
     ]
    },
    {
     "name": "stdout",
     "output_type": "stream",
     "text": [
      "2025-02-21 12:26:07,179 | INFO     | xgboost_soccer_prediction | Current best score: 0.3842\n",
      "2025-02-21 12:26:09,057 | INFO     | xgboost_soccer_prediction | Optimized threshold: 0.500 with precision: 0.333\n",
      "2025-02-21 12:26:09,094 | INFO     | xgboost_soccer_prediction | Trial 145:\n",
      "2025-02-21 12:26:09,096 | INFO     | xgboost_soccer_prediction |   Params: {'objective': 'binary:logistic', 'tree_method': 'hist', 'eval_metric': ['logloss', 'auc'], 'verbose': -1, 'n_jobs': -1, 'random_state': 19, 'learning_rate': 0.022597265635517668, 'max_depth': 9, 'min_child_weight': 58, 'subsample': 0.5383196576318917, 'colsample_bytree': 0.7005522184172718, 'reg_alpha': 0.4156802443613787, 'reg_lambda': 11.003973073997134, 'gamma': 1.7221768719992379, 'early_stopping_rounds': 336, 'scale_pos_weight': 2.418325940866483}\n",
      "2025-02-21 12:26:09,096 | INFO     | xgboost_soccer_prediction |   Score: 0.33272058823523293\n"
     ]
    },
    {
     "name": "stderr",
     "output_type": "stream",
     "text": [
      "[I 2025-02-21 12:26:09,098] Trial 145 finished with value: 0.33272058823523293 and parameters: {'learning_rate': 0.022597265635517668, 'max_depth': 9, 'min_child_weight': 58, 'subsample': 0.5383196576318917, 'colsample_bytree': 0.7005522184172718, 'reg_alpha': 0.4156802443613787, 'reg_lambda': 11.003973073997134, 'gamma': 1.7221768719992379, 'early_stopping_rounds': 336, 'scale_pos_weight': 2.418325940866483}. Best is trial 61 with value: 0.38418079096034347.\n"
     ]
    },
    {
     "name": "stdout",
     "output_type": "stream",
     "text": [
      "2025-02-21 12:26:09,100 | INFO     | xgboost_soccer_prediction | Current best score: 0.3842\n",
      "2025-02-21 12:26:10,802 | INFO     | xgboost_soccer_prediction | Optimized threshold: 0.520 with precision: 0.356\n",
      "2025-02-21 12:26:10,843 | INFO     | xgboost_soccer_prediction | Trial 146:\n",
      "2025-02-21 12:26:10,844 | INFO     | xgboost_soccer_prediction |   Params: {'objective': 'binary:logistic', 'tree_method': 'hist', 'eval_metric': ['logloss', 'auc'], 'verbose': -1, 'n_jobs': -1, 'random_state': 19, 'learning_rate': 0.020743709352676915, 'max_depth': 8, 'min_child_weight': 62, 'subsample': 0.5318131356152979, 'colsample_bytree': 0.6939501736035387, 'reg_alpha': 0.4769963714619354, 'reg_lambda': 10.05076743145394, 'gamma': 2.4610994617061137, 'early_stopping_rounds': 350, 'scale_pos_weight': 2.411609373153105}\n",
      "2025-02-21 12:26:10,846 | INFO     | xgboost_soccer_prediction |   Score: 0.35578947368413566\n"
     ]
    },
    {
     "name": "stderr",
     "output_type": "stream",
     "text": [
      "[I 2025-02-21 12:26:10,848] Trial 146 finished with value: 0.35578947368413566 and parameters: {'learning_rate': 0.020743709352676915, 'max_depth': 8, 'min_child_weight': 62, 'subsample': 0.5318131356152979, 'colsample_bytree': 0.6939501736035387, 'reg_alpha': 0.4769963714619354, 'reg_lambda': 10.05076743145394, 'gamma': 2.4610994617061137, 'early_stopping_rounds': 350, 'scale_pos_weight': 2.411609373153105}. Best is trial 61 with value: 0.38418079096034347.\n"
     ]
    },
    {
     "name": "stdout",
     "output_type": "stream",
     "text": [
      "2025-02-21 12:26:10,848 | INFO     | xgboost_soccer_prediction | Current best score: 0.3842\n",
      "2025-02-21 12:26:12,961 | INFO     | xgboost_soccer_prediction | Optimized threshold: 0.530 with precision: 0.334\n",
      "2025-02-21 12:26:13,001 | INFO     | xgboost_soccer_prediction | Trial 147:\n",
      "2025-02-21 12:26:13,003 | INFO     | xgboost_soccer_prediction |   Params: {'objective': 'binary:logistic', 'tree_method': 'hist', 'eval_metric': ['logloss', 'auc'], 'verbose': -1, 'n_jobs': -1, 'random_state': 19, 'learning_rate': 0.024058097684131485, 'max_depth': 10, 'min_child_weight': 54, 'subsample': 0.6399843942011495, 'colsample_bytree': 0.688636848615612, 'reg_alpha': 0.042206253457447176, 'reg_lambda': 10.776509002679543, 'gamma': 2.3506565475516226, 'early_stopping_rounds': 339, 'scale_pos_weight': 2.5582226561121213}\n",
      "2025-02-21 12:26:13,005 | INFO     | xgboost_soccer_prediction |   Score: 0.3340611353711061\n"
     ]
    },
    {
     "name": "stderr",
     "output_type": "stream",
     "text": [
      "[I 2025-02-21 12:26:13,007] Trial 147 finished with value: 0.3340611353711061 and parameters: {'learning_rate': 0.024058097684131485, 'max_depth': 10, 'min_child_weight': 54, 'subsample': 0.6399843942011495, 'colsample_bytree': 0.688636848615612, 'reg_alpha': 0.042206253457447176, 'reg_lambda': 10.776509002679543, 'gamma': 2.3506565475516226, 'early_stopping_rounds': 339, 'scale_pos_weight': 2.5582226561121213}. Best is trial 61 with value: 0.38418079096034347.\n"
     ]
    },
    {
     "name": "stdout",
     "output_type": "stream",
     "text": [
      "2025-02-21 12:26:13,007 | INFO     | xgboost_soccer_prediction | Current best score: 0.3842\n",
      "2025-02-21 12:26:15,073 | INFO     | xgboost_soccer_prediction | Optimized threshold: 0.540 with precision: 0.345\n",
      "2025-02-21 12:26:15,113 | INFO     | xgboost_soccer_prediction | Trial 148:\n",
      "2025-02-21 12:26:15,115 | INFO     | xgboost_soccer_prediction |   Params: {'objective': 'binary:logistic', 'tree_method': 'hist', 'eval_metric': ['logloss', 'auc'], 'verbose': -1, 'n_jobs': -1, 'random_state': 19, 'learning_rate': 0.02318790855299008, 'max_depth': 9, 'min_child_weight': 53, 'subsample': 0.676704528423459, 'colsample_bytree': 0.6593164307985322, 'reg_alpha': 0.053896119213783164, 'reg_lambda': 10.524990218161678, 'gamma': 1.7904442463716321, 'early_stopping_rounds': 334, 'scale_pos_weight': 2.5336814585069534}\n",
      "2025-02-21 12:26:15,115 | INFO     | xgboost_soccer_prediction |   Score: 0.34460887949252755\n"
     ]
    },
    {
     "name": "stderr",
     "output_type": "stream",
     "text": [
      "[I 2025-02-21 12:26:15,118] Trial 148 finished with value: 0.34460887949252755 and parameters: {'learning_rate': 0.02318790855299008, 'max_depth': 9, 'min_child_weight': 53, 'subsample': 0.676704528423459, 'colsample_bytree': 0.6593164307985322, 'reg_alpha': 0.053896119213783164, 'reg_lambda': 10.524990218161678, 'gamma': 1.7904442463716321, 'early_stopping_rounds': 334, 'scale_pos_weight': 2.5336814585069534}. Best is trial 61 with value: 0.38418079096034347.\n"
     ]
    },
    {
     "name": "stdout",
     "output_type": "stream",
     "text": [
      "2025-02-21 12:26:15,118 | INFO     | xgboost_soccer_prediction | Current best score: 0.3842\n",
      "2025-02-21 12:26:16,892 | INFO     | xgboost_soccer_prediction | Optimized threshold: 0.540 with precision: 0.362\n",
      "2025-02-21 12:26:16,953 | INFO     | xgboost_soccer_prediction | Trial 149:\n",
      "2025-02-21 12:26:16,955 | INFO     | xgboost_soccer_prediction |   Params: {'objective': 'binary:logistic', 'tree_method': 'hist', 'eval_metric': ['logloss', 'auc'], 'verbose': -1, 'n_jobs': -1, 'random_state': 19, 'learning_rate': 0.026761357526604676, 'max_depth': 8, 'min_child_weight': 59, 'subsample': 0.6587979079533597, 'colsample_bytree': 0.7074175128340465, 'reg_alpha': 0.5471986945609444, 'reg_lambda': 11.258761487774578, 'gamma': 2.0415593912046694, 'early_stopping_rounds': 314, 'scale_pos_weight': 2.403478913435499}\n",
      "2025-02-21 12:26:16,957 | INFO     | xgboost_soccer_prediction |   Score: 0.36220472440935375\n"
     ]
    },
    {
     "name": "stderr",
     "output_type": "stream",
     "text": [
      "[I 2025-02-21 12:26:16,959] Trial 149 finished with value: 0.36220472440935375 and parameters: {'learning_rate': 0.026761357526604676, 'max_depth': 8, 'min_child_weight': 59, 'subsample': 0.6587979079533597, 'colsample_bytree': 0.7074175128340465, 'reg_alpha': 0.5471986945609444, 'reg_lambda': 11.258761487774578, 'gamma': 2.0415593912046694, 'early_stopping_rounds': 314, 'scale_pos_weight': 2.403478913435499}. Best is trial 61 with value: 0.38418079096034347.\n"
     ]
    },
    {
     "name": "stdout",
     "output_type": "stream",
     "text": [
      "2025-02-21 12:26:16,961 | INFO     | xgboost_soccer_prediction | Current best score: 0.3842\n",
      "2025-02-21 12:26:18,821 | INFO     | xgboost_soccer_prediction | Optimized threshold: 0.520 with precision: 0.347\n",
      "2025-02-21 12:26:18,860 | INFO     | xgboost_soccer_prediction | Trial 150:\n",
      "2025-02-21 12:26:18,862 | INFO     | xgboost_soccer_prediction |   Params: {'objective': 'binary:logistic', 'tree_method': 'hist', 'eval_metric': ['logloss', 'auc'], 'verbose': -1, 'n_jobs': -1, 'random_state': 19, 'learning_rate': 0.021101017061532033, 'max_depth': 8, 'min_child_weight': 56, 'subsample': 0.6505325467599039, 'colsample_bytree': 0.6843620118245277, 'reg_alpha': 0.06900212069406066, 'reg_lambda': 10.91024051346449, 'gamma': 1.5553703375313455, 'early_stopping_rounds': 307, 'scale_pos_weight': 2.4252959125366305}\n",
      "2025-02-21 12:26:18,862 | INFO     | xgboost_soccer_prediction |   Score: 0.3471698113206892\n"
     ]
    },
    {
     "name": "stderr",
     "output_type": "stream",
     "text": [
      "[I 2025-02-21 12:26:18,864] Trial 150 finished with value: 0.3471698113206892 and parameters: {'learning_rate': 0.021101017061532033, 'max_depth': 8, 'min_child_weight': 56, 'subsample': 0.6505325467599039, 'colsample_bytree': 0.6843620118245277, 'reg_alpha': 0.06900212069406066, 'reg_lambda': 10.91024051346449, 'gamma': 1.5553703375313455, 'early_stopping_rounds': 307, 'scale_pos_weight': 2.4252959125366305}. Best is trial 61 with value: 0.38418079096034347.\n"
     ]
    },
    {
     "name": "stdout",
     "output_type": "stream",
     "text": [
      "2025-02-21 12:26:18,866 | INFO     | xgboost_soccer_prediction | Current best score: 0.3842\n",
      "2025-02-21 12:26:20,808 | INFO     | xgboost_soccer_prediction | Optimized threshold: 0.490 with precision: 0.357\n",
      "2025-02-21 12:26:20,844 | INFO     | xgboost_soccer_prediction | Trial 151:\n",
      "2025-02-21 12:26:20,846 | INFO     | xgboost_soccer_prediction |   Params: {'objective': 'binary:logistic', 'tree_method': 'hist', 'eval_metric': ['logloss', 'auc'], 'verbose': -1, 'n_jobs': -1, 'random_state': 19, 'learning_rate': 0.02013858212691204, 'max_depth': 9, 'min_child_weight': 55, 'subsample': 0.5313549281282347, 'colsample_bytree': 0.6776884370646455, 'reg_alpha': 0.09836674567265756, 'reg_lambda': 11.13028987453245, 'gamma': 1.8567835941115285, 'early_stopping_rounds': 332, 'scale_pos_weight': 2.419674799834378}\n",
      "2025-02-21 12:26:20,847 | INFO     | xgboost_soccer_prediction |   Score: 0.35703001579773186\n"
     ]
    },
    {
     "name": "stderr",
     "output_type": "stream",
     "text": [
      "[I 2025-02-21 12:26:20,850] Trial 151 finished with value: 0.35703001579773186 and parameters: {'learning_rate': 0.02013858212691204, 'max_depth': 9, 'min_child_weight': 55, 'subsample': 0.5313549281282347, 'colsample_bytree': 0.6776884370646455, 'reg_alpha': 0.09836674567265756, 'reg_lambda': 11.13028987453245, 'gamma': 1.8567835941115285, 'early_stopping_rounds': 332, 'scale_pos_weight': 2.419674799834378}. Best is trial 61 with value: 0.38418079096034347.\n"
     ]
    },
    {
     "name": "stdout",
     "output_type": "stream",
     "text": [
      "2025-02-21 12:26:20,850 | INFO     | xgboost_soccer_prediction | Current best score: 0.3842\n",
      "2025-02-21 12:26:22,806 | INFO     | xgboost_soccer_prediction | Optimized threshold: 0.520 with precision: 0.351\n",
      "2025-02-21 12:26:22,845 | INFO     | xgboost_soccer_prediction | Trial 152:\n",
      "2025-02-21 12:26:22,847 | INFO     | xgboost_soccer_prediction |   Params: {'objective': 'binary:logistic', 'tree_method': 'hist', 'eval_metric': ['logloss', 'auc'], 'verbose': -1, 'n_jobs': -1, 'random_state': 19, 'learning_rate': 0.02055873956000811, 'max_depth': 9, 'min_child_weight': 57, 'subsample': 0.5477303369075011, 'colsample_bytree': 0.6797719440953098, 'reg_alpha': 0.05881648212371374, 'reg_lambda': 11.043207627341026, 'gamma': 1.8461647881585683, 'early_stopping_rounds': 332, 'scale_pos_weight': 2.40029494335049}\n",
      "2025-02-21 12:26:22,849 | INFO     | xgboost_soccer_prediction |   Score: 0.35145631067954336\n"
     ]
    },
    {
     "name": "stderr",
     "output_type": "stream",
     "text": [
      "[I 2025-02-21 12:26:22,851] Trial 152 finished with value: 0.35145631067954336 and parameters: {'learning_rate': 0.02055873956000811, 'max_depth': 9, 'min_child_weight': 57, 'subsample': 0.5477303369075011, 'colsample_bytree': 0.6797719440953098, 'reg_alpha': 0.05881648212371374, 'reg_lambda': 11.043207627341026, 'gamma': 1.8461647881585683, 'early_stopping_rounds': 332, 'scale_pos_weight': 2.40029494335049}. Best is trial 61 with value: 0.38418079096034347.\n"
     ]
    },
    {
     "name": "stdout",
     "output_type": "stream",
     "text": [
      "2025-02-21 12:26:22,852 | INFO     | xgboost_soccer_prediction | Current best score: 0.3842\n",
      "2025-02-21 12:26:24,733 | INFO     | xgboost_soccer_prediction | Optimized threshold: 0.520 with precision: 0.342\n",
      "2025-02-21 12:26:24,769 | INFO     | xgboost_soccer_prediction | Trial 153:\n",
      "2025-02-21 12:26:24,771 | INFO     | xgboost_soccer_prediction |   Params: {'objective': 'binary:logistic', 'tree_method': 'hist', 'eval_metric': ['logloss', 'auc'], 'verbose': -1, 'n_jobs': -1, 'random_state': 19, 'learning_rate': 0.020014781818665606, 'max_depth': 9, 'min_child_weight': 56, 'subsample': 0.5231723441581564, 'colsample_bytree': 0.6967478992570352, 'reg_alpha': 0.03947816987240619, 'reg_lambda': 11.380742231537312, 'gamma': 1.644093897206461, 'early_stopping_rounds': 333, 'scale_pos_weight': 2.4292334199050383}\n",
      "2025-02-21 12:26:24,773 | INFO     | xgboost_soccer_prediction |   Score: 0.34232365145221116\n"
     ]
    },
    {
     "name": "stderr",
     "output_type": "stream",
     "text": [
      "[I 2025-02-21 12:26:24,775] Trial 153 finished with value: 0.34232365145221116 and parameters: {'learning_rate': 0.020014781818665606, 'max_depth': 9, 'min_child_weight': 56, 'subsample': 0.5231723441581564, 'colsample_bytree': 0.6967478992570352, 'reg_alpha': 0.03947816987240619, 'reg_lambda': 11.380742231537312, 'gamma': 1.644093897206461, 'early_stopping_rounds': 333, 'scale_pos_weight': 2.4292334199050383}. Best is trial 61 with value: 0.38418079096034347.\n"
     ]
    },
    {
     "name": "stdout",
     "output_type": "stream",
     "text": [
      "2025-02-21 12:26:24,775 | INFO     | xgboost_soccer_prediction | Current best score: 0.3842\n",
      "2025-02-21 12:26:26,618 | INFO     | xgboost_soccer_prediction | Optimized threshold: 0.530 with precision: 0.371\n",
      "2025-02-21 12:26:26,658 | INFO     | xgboost_soccer_prediction | Trial 154:\n",
      "2025-02-21 12:26:26,660 | INFO     | xgboost_soccer_prediction |   Params: {'objective': 'binary:logistic', 'tree_method': 'hist', 'eval_metric': ['logloss', 'auc'], 'verbose': -1, 'n_jobs': -1, 'random_state': 19, 'learning_rate': 0.021784407136642814, 'max_depth': 9, 'min_child_weight': 58, 'subsample': 0.5151866990447675, 'colsample_bytree': 0.651399295503288, 'reg_alpha': 0.07550961968284305, 'reg_lambda': 10.727205919825147, 'gamma': 1.9033585389202277, 'early_stopping_rounds': 330, 'scale_pos_weight': 2.416268763910876}\n",
      "2025-02-21 12:26:26,662 | INFO     | xgboost_soccer_prediction |   Score: 0.3708133971290979\n"
     ]
    },
    {
     "name": "stderr",
     "output_type": "stream",
     "text": [
      "[I 2025-02-21 12:26:26,664] Trial 154 finished with value: 0.3708133971290979 and parameters: {'learning_rate': 0.021784407136642814, 'max_depth': 9, 'min_child_weight': 58, 'subsample': 0.5151866990447675, 'colsample_bytree': 0.651399295503288, 'reg_alpha': 0.07550961968284305, 'reg_lambda': 10.727205919825147, 'gamma': 1.9033585389202277, 'early_stopping_rounds': 330, 'scale_pos_weight': 2.416268763910876}. Best is trial 61 with value: 0.38418079096034347.\n"
     ]
    },
    {
     "name": "stdout",
     "output_type": "stream",
     "text": [
      "2025-02-21 12:26:26,664 | INFO     | xgboost_soccer_prediction | Current best score: 0.3842\n",
      "2025-02-21 12:26:28,554 | INFO     | xgboost_soccer_prediction | Optimized threshold: 0.520 with precision: 0.352\n",
      "2025-02-21 12:26:28,594 | INFO     | xgboost_soccer_prediction | Trial 155:\n",
      "2025-02-21 12:26:28,596 | INFO     | xgboost_soccer_prediction |   Params: {'objective': 'binary:logistic', 'tree_method': 'hist', 'eval_metric': ['logloss', 'auc'], 'verbose': -1, 'n_jobs': -1, 'random_state': 19, 'learning_rate': 0.021985596224369852, 'max_depth': 9, 'min_child_weight': 60, 'subsample': 0.5557666288720388, 'colsample_bytree': 0.6509841048581056, 'reg_alpha': 0.08398534350792713, 'reg_lambda': 10.67155480465238, 'gamma': 2.266360995048147, 'early_stopping_rounds': 329, 'scale_pos_weight': 2.4093829942296283}\n",
      "2025-02-21 12:26:28,596 | INFO     | xgboost_soccer_prediction |   Score: 0.35238095238088524\n"
     ]
    },
    {
     "name": "stderr",
     "output_type": "stream",
     "text": [
      "[I 2025-02-21 12:26:28,598] Trial 155 finished with value: 0.35238095238088524 and parameters: {'learning_rate': 0.021985596224369852, 'max_depth': 9, 'min_child_weight': 60, 'subsample': 0.5557666288720388, 'colsample_bytree': 0.6509841048581056, 'reg_alpha': 0.08398534350792713, 'reg_lambda': 10.67155480465238, 'gamma': 2.266360995048147, 'early_stopping_rounds': 329, 'scale_pos_weight': 2.4093829942296283}. Best is trial 61 with value: 0.38418079096034347.\n"
     ]
    },
    {
     "name": "stdout",
     "output_type": "stream",
     "text": [
      "2025-02-21 12:26:28,600 | INFO     | xgboost_soccer_prediction | Current best score: 0.3842\n",
      "2025-02-21 12:26:30,333 | INFO     | xgboost_soccer_prediction | Optimized threshold: 0.500 with precision: 0.343\n",
      "2025-02-21 12:26:30,373 | INFO     | xgboost_soccer_prediction | Trial 156:\n",
      "2025-02-21 12:26:30,375 | INFO     | xgboost_soccer_prediction |   Params: {'objective': 'binary:logistic', 'tree_method': 'hist', 'eval_metric': ['logloss', 'auc'], 'verbose': -1, 'n_jobs': -1, 'random_state': 19, 'learning_rate': 0.021526864168769564, 'max_depth': 8, 'min_child_weight': 58, 'subsample': 0.5034326981757511, 'colsample_bytree': 0.6418255067556046, 'reg_alpha': 0.42836280636279317, 'reg_lambda': 10.302075235649346, 'gamma': 1.904825830014511, 'early_stopping_rounds': 330, 'scale_pos_weight': 2.415668070812204}\n",
      "2025-02-21 12:26:30,377 | INFO     | xgboost_soccer_prediction |   Score: 0.34254143646404106\n"
     ]
    },
    {
     "name": "stderr",
     "output_type": "stream",
     "text": [
      "[I 2025-02-21 12:26:30,379] Trial 156 finished with value: 0.34254143646404106 and parameters: {'learning_rate': 0.021526864168769564, 'max_depth': 8, 'min_child_weight': 58, 'subsample': 0.5034326981757511, 'colsample_bytree': 0.6418255067556046, 'reg_alpha': 0.42836280636279317, 'reg_lambda': 10.302075235649346, 'gamma': 1.904825830014511, 'early_stopping_rounds': 330, 'scale_pos_weight': 2.415668070812204}. Best is trial 61 with value: 0.38418079096034347.\n"
     ]
    },
    {
     "name": "stdout",
     "output_type": "stream",
     "text": [
      "2025-02-21 12:26:30,379 | INFO     | xgboost_soccer_prediction | Current best score: 0.3842\n",
      "2025-02-21 12:26:32,190 | INFO     | xgboost_soccer_prediction | Optimized threshold: 0.540 with precision: 0.357\n",
      "2025-02-21 12:26:32,229 | INFO     | xgboost_soccer_prediction | Trial 157:\n",
      "2025-02-21 12:26:32,231 | INFO     | xgboost_soccer_prediction |   Params: {'objective': 'binary:logistic', 'tree_method': 'hist', 'eval_metric': ['logloss', 'auc'], 'verbose': -1, 'n_jobs': -1, 'random_state': 19, 'learning_rate': 0.041105615109409605, 'max_depth': 10, 'min_child_weight': 61, 'subsample': 0.4169260191192925, 'colsample_bytree': 0.6332574578511654, 'reg_alpha': 0.5052924502800936, 'reg_lambda': 10.756694523139332, 'gamma': 2.1936195663923637, 'early_stopping_rounds': 328, 'scale_pos_weight': 2.4086982660567258}\n",
      "2025-02-21 12:26:32,231 | INFO     | xgboost_soccer_prediction |   Score: 0.3571428571427749\n"
     ]
    },
    {
     "name": "stderr",
     "output_type": "stream",
     "text": [
      "[I 2025-02-21 12:26:32,235] Trial 157 finished with value: 0.3571428571427749 and parameters: {'learning_rate': 0.041105615109409605, 'max_depth': 10, 'min_child_weight': 61, 'subsample': 0.4169260191192925, 'colsample_bytree': 0.6332574578511654, 'reg_alpha': 0.5052924502800936, 'reg_lambda': 10.756694523139332, 'gamma': 2.1936195663923637, 'early_stopping_rounds': 328, 'scale_pos_weight': 2.4086982660567258}. Best is trial 61 with value: 0.38418079096034347.\n"
     ]
    },
    {
     "name": "stdout",
     "output_type": "stream",
     "text": [
      "2025-02-21 12:26:32,235 | INFO     | xgboost_soccer_prediction | Current best score: 0.3842\n",
      "2025-02-21 12:26:33,959 | INFO     | xgboost_soccer_prediction | Optimized threshold: 0.530 with precision: 0.361\n",
      "2025-02-21 12:26:34,000 | INFO     | xgboost_soccer_prediction | Trial 158:\n",
      "2025-02-21 12:26:34,002 | INFO     | xgboost_soccer_prediction |   Params: {'objective': 'binary:logistic', 'tree_method': 'hist', 'eval_metric': ['logloss', 'auc'], 'verbose': -1, 'n_jobs': -1, 'random_state': 19, 'learning_rate': 0.022237396501382005, 'max_depth': 8, 'min_child_weight': 59, 'subsample': 0.5123422546526306, 'colsample_bytree': 0.6457981869516103, 'reg_alpha': 0.06548290263602193, 'reg_lambda': 10.88861775994328, 'gamma': 2.5480026916724703, 'early_stopping_rounds': 337, 'scale_pos_weight': 2.4042186712513005}\n",
      "2025-02-21 12:26:34,003 | INFO     | xgboost_soccer_prediction |   Score: 0.36132315521619307\n"
     ]
    },
    {
     "name": "stderr",
     "output_type": "stream",
     "text": [
      "[I 2025-02-21 12:26:34,007] Trial 158 finished with value: 0.36132315521619307 and parameters: {'learning_rate': 0.022237396501382005, 'max_depth': 8, 'min_child_weight': 59, 'subsample': 0.5123422546526306, 'colsample_bytree': 0.6457981869516103, 'reg_alpha': 0.06548290263602193, 'reg_lambda': 10.88861775994328, 'gamma': 2.5480026916724703, 'early_stopping_rounds': 337, 'scale_pos_weight': 2.4042186712513005}. Best is trial 61 with value: 0.38418079096034347.\n"
     ]
    },
    {
     "name": "stdout",
     "output_type": "stream",
     "text": [
      "2025-02-21 12:26:34,007 | INFO     | xgboost_soccer_prediction | Current best score: 0.3842\n",
      "2025-02-21 12:26:35,937 | INFO     | xgboost_soccer_prediction | Optimized threshold: 0.530 with precision: 0.357\n",
      "2025-02-21 12:26:35,977 | INFO     | xgboost_soccer_prediction | Trial 159:\n",
      "2025-02-21 12:26:35,979 | INFO     | xgboost_soccer_prediction |   Params: {'objective': 'binary:logistic', 'tree_method': 'hist', 'eval_metric': ['logloss', 'auc'], 'verbose': -1, 'n_jobs': -1, 'random_state': 19, 'learning_rate': 0.02102577278987452, 'max_depth': 9, 'min_child_weight': 57, 'subsample': 0.5182076982658032, 'colsample_bytree': 0.7035694319580086, 'reg_alpha': 0.3869103104827606, 'reg_lambda': 10.414851540747636, 'gamma': 2.3764570346937974, 'early_stopping_rounds': 347, 'scale_pos_weight': 2.552864436192716}\n",
      "2025-02-21 12:26:35,979 | INFO     | xgboost_soccer_prediction |   Score: 0.3570159857903451\n"
     ]
    },
    {
     "name": "stderr",
     "output_type": "stream",
     "text": [
      "[I 2025-02-21 12:26:35,981] Trial 159 finished with value: 0.3570159857903451 and parameters: {'learning_rate': 0.02102577278987452, 'max_depth': 9, 'min_child_weight': 57, 'subsample': 0.5182076982658032, 'colsample_bytree': 0.7035694319580086, 'reg_alpha': 0.3869103104827606, 'reg_lambda': 10.414851540747636, 'gamma': 2.3764570346937974, 'early_stopping_rounds': 347, 'scale_pos_weight': 2.552864436192716}. Best is trial 61 with value: 0.38418079096034347.\n"
     ]
    },
    {
     "name": "stdout",
     "output_type": "stream",
     "text": [
      "2025-02-21 12:26:35,983 | INFO     | xgboost_soccer_prediction | Current best score: 0.3842\n",
      "2025-02-21 12:26:38,084 | INFO     | xgboost_soccer_prediction | Optimized threshold: 0.520 with precision: 0.340\n",
      "2025-02-21 12:26:38,123 | INFO     | xgboost_soccer_prediction | Trial 160:\n",
      "2025-02-21 12:26:38,125 | INFO     | xgboost_soccer_prediction |   Params: {'objective': 'binary:logistic', 'tree_method': 'hist', 'eval_metric': ['logloss', 'auc'], 'verbose': -1, 'n_jobs': -1, 'random_state': 19, 'learning_rate': 0.022774203032361898, 'max_depth': 10, 'min_child_weight': 63, 'subsample': 0.6633608058038655, 'colsample_bytree': 0.6626928970310891, 'reg_alpha': 0.17923263646991283, 'reg_lambda': 10.584299002388775, 'gamma': 2.6457735143089134, 'early_stopping_rounds': 335, 'scale_pos_weight': 2.4556524869734178}\n",
      "2025-02-21 12:26:38,126 | INFO     | xgboost_soccer_prediction |   Score: 0.3396551724137345\n"
     ]
    },
    {
     "name": "stderr",
     "output_type": "stream",
     "text": [
      "[I 2025-02-21 12:26:38,128] Trial 160 finished with value: 0.3396551724137345 and parameters: {'learning_rate': 0.022774203032361898, 'max_depth': 10, 'min_child_weight': 63, 'subsample': 0.6633608058038655, 'colsample_bytree': 0.6626928970310891, 'reg_alpha': 0.17923263646991283, 'reg_lambda': 10.584299002388775, 'gamma': 2.6457735143089134, 'early_stopping_rounds': 335, 'scale_pos_weight': 2.4556524869734178}. Best is trial 61 with value: 0.38418079096034347.\n"
     ]
    },
    {
     "name": "stdout",
     "output_type": "stream",
     "text": [
      "2025-02-21 12:26:38,128 | INFO     | xgboost_soccer_prediction | Current best score: 0.3842\n",
      "2025-02-21 12:26:40,025 | INFO     | xgboost_soccer_prediction | Optimized threshold: 0.530 with precision: 0.390\n",
      "2025-02-21 12:26:40,063 | INFO     | xgboost_soccer_prediction | Trial 161:\n",
      "2025-02-21 12:26:40,065 | INFO     | xgboost_soccer_prediction |   Params: {'objective': 'binary:logistic', 'tree_method': 'hist', 'eval_metric': ['logloss', 'auc'], 'verbose': -1, 'n_jobs': -1, 'random_state': 19, 'learning_rate': 0.02054068407141532, 'max_depth': 9, 'min_child_weight': 54, 'subsample': 0.5260707987602047, 'colsample_bytree': 0.6681727685021486, 'reg_alpha': 0.07727180013165219, 'reg_lambda': 11.225510838289434, 'gamma': 1.7715866142249037, 'early_stopping_rounds': 331, 'scale_pos_weight': 2.422289591187272}\n",
      "2025-02-21 12:26:40,067 | INFO     | xgboost_soccer_prediction |   Score: 0.38964577656665134\n"
     ]
    },
    {
     "name": "stderr",
     "output_type": "stream",
     "text": [
      "[I 2025-02-21 12:26:40,069] Trial 161 finished with value: 0.38964577656665134 and parameters: {'learning_rate': 0.02054068407141532, 'max_depth': 9, 'min_child_weight': 54, 'subsample': 0.5260707987602047, 'colsample_bytree': 0.6681727685021486, 'reg_alpha': 0.07727180013165219, 'reg_lambda': 11.225510838289434, 'gamma': 1.7715866142249037, 'early_stopping_rounds': 331, 'scale_pos_weight': 2.422289591187272}. Best is trial 161 with value: 0.38964577656665134.\n"
     ]
    },
    {
     "name": "stdout",
     "output_type": "stream",
     "text": [
      "2025-02-21 12:26:40,069 | INFO     | xgboost_soccer_prediction | Current best score: 0.3842\n",
      "2025-02-21 12:26:40,073 | INFO     | xgboost_soccer_prediction | New best score found in trial 161: 0.3896\n",
      "2025-02-21 12:26:41,998 | INFO     | xgboost_soccer_prediction | Optimized threshold: 0.520 with precision: 0.372\n",
      "2025-02-21 12:26:42,036 | INFO     | xgboost_soccer_prediction | Trial 162:\n",
      "2025-02-21 12:26:42,038 | INFO     | xgboost_soccer_prediction |   Params: {'objective': 'binary:logistic', 'tree_method': 'hist', 'eval_metric': ['logloss', 'auc'], 'verbose': -1, 'n_jobs': -1, 'random_state': 19, 'learning_rate': 0.020739361078260608, 'max_depth': 9, 'min_child_weight': 54, 'subsample': 0.524927964371195, 'colsample_bytree': 0.6536503394828537, 'reg_alpha': 0.07304380190617746, 'reg_lambda': 11.214792751258452, 'gamma': 2.0016670543747557, 'early_stopping_rounds': 330, 'scale_pos_weight': 2.4134142267082406}\n",
      "2025-02-21 12:26:42,039 | INFO     | xgboost_soccer_prediction |   Score: 0.37196765498642265\n"
     ]
    },
    {
     "name": "stderr",
     "output_type": "stream",
     "text": [
      "[I 2025-02-21 12:26:42,041] Trial 162 finished with value: 0.37196765498642265 and parameters: {'learning_rate': 0.020739361078260608, 'max_depth': 9, 'min_child_weight': 54, 'subsample': 0.524927964371195, 'colsample_bytree': 0.6536503394828537, 'reg_alpha': 0.07304380190617746, 'reg_lambda': 11.214792751258452, 'gamma': 2.0016670543747557, 'early_stopping_rounds': 330, 'scale_pos_weight': 2.4134142267082406}. Best is trial 161 with value: 0.38964577656665134.\n"
     ]
    },
    {
     "name": "stdout",
     "output_type": "stream",
     "text": [
      "2025-02-21 12:26:42,042 | INFO     | xgboost_soccer_prediction | Current best score: 0.3896\n",
      "2025-02-21 12:26:43,933 | INFO     | xgboost_soccer_prediction | Optimized threshold: 0.510 with precision: 0.358\n",
      "2025-02-21 12:26:43,971 | INFO     | xgboost_soccer_prediction | Trial 163:\n",
      "2025-02-21 12:26:43,973 | INFO     | xgboost_soccer_prediction |   Params: {'objective': 'binary:logistic', 'tree_method': 'hist', 'eval_metric': ['logloss', 'auc'], 'verbose': -1, 'n_jobs': -1, 'random_state': 19, 'learning_rate': 0.021433173629392867, 'max_depth': 9, 'min_child_weight': 52, 'subsample': 0.5267243980246813, 'colsample_bytree': 0.6570039896438173, 'reg_alpha': 0.05552754227862497, 'reg_lambda': 11.63586110253599, 'gamma': 1.7910578021818238, 'early_stopping_rounds': 331, 'scale_pos_weight': 2.4224199675619467}\n",
      "2025-02-21 12:26:43,975 | INFO     | xgboost_soccer_prediction |   Score: 0.3580786026200092\n"
     ]
    },
    {
     "name": "stderr",
     "output_type": "stream",
     "text": [
      "[I 2025-02-21 12:26:43,977] Trial 163 finished with value: 0.3580786026200092 and parameters: {'learning_rate': 0.021433173629392867, 'max_depth': 9, 'min_child_weight': 52, 'subsample': 0.5267243980246813, 'colsample_bytree': 0.6570039896438173, 'reg_alpha': 0.05552754227862497, 'reg_lambda': 11.63586110253599, 'gamma': 1.7910578021818238, 'early_stopping_rounds': 331, 'scale_pos_weight': 2.4224199675619467}. Best is trial 161 with value: 0.38964577656665134.\n"
     ]
    },
    {
     "name": "stdout",
     "output_type": "stream",
     "text": [
      "2025-02-21 12:26:43,977 | INFO     | xgboost_soccer_prediction | Current best score: 0.3896\n",
      "2025-02-21 12:26:45,977 | INFO     | xgboost_soccer_prediction | Optimized threshold: 0.530 with precision: 0.345\n",
      "2025-02-21 12:26:46,019 | INFO     | xgboost_soccer_prediction | Trial 164:\n",
      "2025-02-21 12:26:46,019 | INFO     | xgboost_soccer_prediction |   Params: {'objective': 'binary:logistic', 'tree_method': 'hist', 'eval_metric': ['logloss', 'auc'], 'verbose': -1, 'n_jobs': -1, 'random_state': 19, 'learning_rate': 0.028269832248160272, 'max_depth': 9, 'min_child_weight': 51, 'subsample': 0.522939812788856, 'colsample_bytree': 0.6528452892891197, 'reg_alpha': 0.07998963968422597, 'reg_lambda': 11.223445388637227, 'gamma': 1.9918588286862793, 'early_stopping_rounds': 331, 'scale_pos_weight': 2.4141343789783787}\n",
      "2025-02-21 12:26:46,021 | INFO     | xgboost_soccer_prediction |   Score: 0.34515366430251887\n"
     ]
    },
    {
     "name": "stderr",
     "output_type": "stream",
     "text": [
      "[I 2025-02-21 12:26:46,023] Trial 164 finished with value: 0.34515366430251887 and parameters: {'learning_rate': 0.028269832248160272, 'max_depth': 9, 'min_child_weight': 51, 'subsample': 0.522939812788856, 'colsample_bytree': 0.6528452892891197, 'reg_alpha': 0.07998963968422597, 'reg_lambda': 11.223445388637227, 'gamma': 1.9918588286862793, 'early_stopping_rounds': 331, 'scale_pos_weight': 2.4141343789783787}. Best is trial 161 with value: 0.38964577656665134.\n"
     ]
    },
    {
     "name": "stdout",
     "output_type": "stream",
     "text": [
      "2025-02-21 12:26:46,023 | INFO     | xgboost_soccer_prediction | Current best score: 0.3896\n",
      "2025-02-21 12:26:47,979 | INFO     | xgboost_soccer_prediction | Optimized threshold: 0.510 with precision: 0.341\n",
      "2025-02-21 12:26:48,019 | INFO     | xgboost_soccer_prediction | Trial 165:\n",
      "2025-02-21 12:26:48,019 | INFO     | xgboost_soccer_prediction |   Params: {'objective': 'binary:logistic', 'tree_method': 'hist', 'eval_metric': ['logloss', 'auc'], 'verbose': -1, 'n_jobs': -1, 'random_state': 19, 'learning_rate': 0.020504592043490026, 'max_depth': 9, 'min_child_weight': 54, 'subsample': 0.5381223451228945, 'colsample_bytree': 0.6668519233924906, 'reg_alpha': 0.0694638139482689, 'reg_lambda': 11.435251571840155, 'gamma': 1.9050521537550031, 'early_stopping_rounds': 329, 'scale_pos_weight': 2.4330034459503387}\n",
      "2025-02-21 12:26:48,021 | INFO     | xgboost_soccer_prediction |   Score: 0.3405088062621643\n"
     ]
    },
    {
     "name": "stderr",
     "output_type": "stream",
     "text": [
      "[I 2025-02-21 12:26:48,023] Trial 165 finished with value: 0.3405088062621643 and parameters: {'learning_rate': 0.020504592043490026, 'max_depth': 9, 'min_child_weight': 54, 'subsample': 0.5381223451228945, 'colsample_bytree': 0.6668519233924906, 'reg_alpha': 0.0694638139482689, 'reg_lambda': 11.435251571840155, 'gamma': 1.9050521537550031, 'early_stopping_rounds': 329, 'scale_pos_weight': 2.4330034459503387}. Best is trial 161 with value: 0.38964577656665134.\n"
     ]
    },
    {
     "name": "stdout",
     "output_type": "stream",
     "text": [
      "2025-02-21 12:26:48,025 | INFO     | xgboost_soccer_prediction | Current best score: 0.3896\n",
      "2025-02-21 12:26:49,853 | INFO     | xgboost_soccer_prediction | Optimized threshold: 0.510 with precision: 0.336\n",
      "2025-02-21 12:26:49,892 | INFO     | xgboost_soccer_prediction | Trial 166:\n",
      "2025-02-21 12:26:49,894 | INFO     | xgboost_soccer_prediction |   Params: {'objective': 'binary:logistic', 'tree_method': 'hist', 'eval_metric': ['logloss', 'auc'], 'verbose': -1, 'n_jobs': -1, 'random_state': 19, 'learning_rate': 0.02181999706064516, 'max_depth': 9, 'min_child_weight': 56, 'subsample': 0.4916612883375705, 'colsample_bytree': 0.670711513042807, 'reg_alpha': 0.06273818149474725, 'reg_lambda': 10.987494335030505, 'gamma': 2.0440076696533915, 'early_stopping_rounds': 327, 'scale_pos_weight': 2.4170982614359895}\n",
      "2025-02-21 12:26:49,896 | INFO     | xgboost_soccer_prediction |   Score: 0.3362521891417975\n"
     ]
    },
    {
     "name": "stderr",
     "output_type": "stream",
     "text": [
      "[I 2025-02-21 12:26:49,898] Trial 166 finished with value: 0.3362521891417975 and parameters: {'learning_rate': 0.02181999706064516, 'max_depth': 9, 'min_child_weight': 56, 'subsample': 0.4916612883375705, 'colsample_bytree': 0.670711513042807, 'reg_alpha': 0.06273818149474725, 'reg_lambda': 10.987494335030505, 'gamma': 2.0440076696533915, 'early_stopping_rounds': 327, 'scale_pos_weight': 2.4170982614359895}. Best is trial 161 with value: 0.38964577656665134.\n"
     ]
    },
    {
     "name": "stdout",
     "output_type": "stream",
     "text": [
      "2025-02-21 12:26:49,898 | INFO     | xgboost_soccer_prediction | Current best score: 0.3896\n",
      "2025-02-21 12:26:51,825 | INFO     | xgboost_soccer_prediction | Optimized threshold: 0.530 with precision: 0.354\n",
      "2025-02-21 12:26:51,865 | INFO     | xgboost_soccer_prediction | Trial 167:\n",
      "2025-02-21 12:26:51,866 | INFO     | xgboost_soccer_prediction |   Params: {'objective': 'binary:logistic', 'tree_method': 'hist', 'eval_metric': ['logloss', 'auc'], 'verbose': -1, 'n_jobs': -1, 'random_state': 19, 'learning_rate': 0.020875632650308718, 'max_depth': 9, 'min_child_weight': 54, 'subsample': 0.5143257854005403, 'colsample_bytree': 0.7149480477887032, 'reg_alpha': 0.07511843841301537, 'reg_lambda': 10.763794240889876, 'gamma': 1.7191867921898796, 'early_stopping_rounds': 333, 'scale_pos_weight': 2.411911962829816}\n",
      "2025-02-21 12:26:51,869 | INFO     | xgboost_soccer_prediction |   Score: 0.35368956742993546\n"
     ]
    },
    {
     "name": "stderr",
     "output_type": "stream",
     "text": [
      "[I 2025-02-21 12:26:51,871] Trial 167 finished with value: 0.35368956742993546 and parameters: {'learning_rate': 0.020875632650308718, 'max_depth': 9, 'min_child_weight': 54, 'subsample': 0.5143257854005403, 'colsample_bytree': 0.7149480477887032, 'reg_alpha': 0.07511843841301537, 'reg_lambda': 10.763794240889876, 'gamma': 1.7191867921898796, 'early_stopping_rounds': 333, 'scale_pos_weight': 2.411911962829816}. Best is trial 161 with value: 0.38964577656665134.\n"
     ]
    },
    {
     "name": "stdout",
     "output_type": "stream",
     "text": [
      "2025-02-21 12:26:51,871 | INFO     | xgboost_soccer_prediction | Current best score: 0.3896\n",
      "2025-02-21 12:26:53,683 | INFO     | xgboost_soccer_prediction | Optimized threshold: 0.520 with precision: 0.364\n",
      "2025-02-21 12:26:53,721 | INFO     | xgboost_soccer_prediction | Trial 168:\n",
      "2025-02-21 12:26:53,723 | INFO     | xgboost_soccer_prediction |   Params: {'objective': 'binary:logistic', 'tree_method': 'hist', 'eval_metric': ['logloss', 'auc'], 'verbose': -1, 'n_jobs': -1, 'random_state': 19, 'learning_rate': 0.022445229416230197, 'max_depth': 9, 'min_child_weight': 56, 'subsample': 0.504977744091701, 'colsample_bytree': 0.6604207003477386, 'reg_alpha': 0.08638570507111125, 'reg_lambda': 10.119753282458595, 'gamma': 1.9494949071104577, 'early_stopping_rounds': 330, 'scale_pos_weight': 2.408109477751864}\n",
      "2025-02-21 12:26:53,723 | INFO     | xgboost_soccer_prediction |   Score: 0.3643617021275627\n"
     ]
    },
    {
     "name": "stderr",
     "output_type": "stream",
     "text": [
      "[I 2025-02-21 12:26:53,727] Trial 168 finished with value: 0.3643617021275627 and parameters: {'learning_rate': 0.022445229416230197, 'max_depth': 9, 'min_child_weight': 56, 'subsample': 0.504977744091701, 'colsample_bytree': 0.6604207003477386, 'reg_alpha': 0.08638570507111125, 'reg_lambda': 10.119753282458595, 'gamma': 1.9494949071104577, 'early_stopping_rounds': 330, 'scale_pos_weight': 2.408109477751864}. Best is trial 161 with value: 0.38964577656665134.\n"
     ]
    },
    {
     "name": "stdout",
     "output_type": "stream",
     "text": [
      "2025-02-21 12:26:53,727 | INFO     | xgboost_soccer_prediction | Current best score: 0.3896\n",
      "2025-02-21 12:26:55,628 | INFO     | xgboost_soccer_prediction | Optimized threshold: 0.530 with precision: 0.340\n",
      "2025-02-21 12:26:55,690 | INFO     | xgboost_soccer_prediction | Trial 169:\n",
      "2025-02-21 12:26:55,692 | INFO     | xgboost_soccer_prediction |   Params: {'objective': 'binary:logistic', 'tree_method': 'hist', 'eval_metric': ['logloss', 'auc'], 'verbose': -1, 'n_jobs': -1, 'random_state': 19, 'learning_rate': 0.02327327782182957, 'max_depth': 9, 'min_child_weight': 53, 'subsample': 0.5260469339101598, 'colsample_bytree': 0.7828025944549631, 'reg_alpha': 0.07400983402683549, 'reg_lambda': 10.490098009423715, 'gamma': 2.1058754069360943, 'early_stopping_rounds': 334, 'scale_pos_weight': 2.421537691359262}\n",
      "2025-02-21 12:26:55,694 | INFO     | xgboost_soccer_prediction |   Score: 0.3400503778336675\n"
     ]
    },
    {
     "name": "stderr",
     "output_type": "stream",
     "text": [
      "[I 2025-02-21 12:26:55,696] Trial 169 finished with value: 0.3400503778336675 and parameters: {'learning_rate': 0.02327327782182957, 'max_depth': 9, 'min_child_weight': 53, 'subsample': 0.5260469339101598, 'colsample_bytree': 0.7828025944549631, 'reg_alpha': 0.07400983402683549, 'reg_lambda': 10.490098009423715, 'gamma': 2.1058754069360943, 'early_stopping_rounds': 334, 'scale_pos_weight': 2.421537691359262}. Best is trial 161 with value: 0.38964577656665134.\n"
     ]
    },
    {
     "name": "stdout",
     "output_type": "stream",
     "text": [
      "2025-02-21 12:26:55,696 | INFO     | xgboost_soccer_prediction | Current best score: 0.3896\n",
      "2025-02-21 12:26:57,628 | INFO     | xgboost_soccer_prediction | Optimized threshold: 0.530 with precision: 0.347\n",
      "2025-02-21 12:26:57,669 | INFO     | xgboost_soccer_prediction | Trial 170:\n",
      "2025-02-21 12:26:57,671 | INFO     | xgboost_soccer_prediction |   Params: {'objective': 'binary:logistic', 'tree_method': 'hist', 'eval_metric': ['logloss', 'auc'], 'verbose': -1, 'n_jobs': -1, 'random_state': 19, 'learning_rate': 0.021255239874339724, 'max_depth': 9, 'min_child_weight': 57, 'subsample': 0.5440188949078243, 'colsample_bytree': 0.6486818952448027, 'reg_alpha': 0.093275249373242, 'reg_lambda': 11.210845869621119, 'gamma': 2.0131496076465205, 'early_stopping_rounds': 328, 'scale_pos_weight': 2.4891685860514055}\n",
      "2025-02-21 12:26:57,671 | INFO     | xgboost_soccer_prediction |   Score: 0.34725274725267097\n"
     ]
    },
    {
     "name": "stderr",
     "output_type": "stream",
     "text": [
      "[I 2025-02-21 12:26:57,673] Trial 170 finished with value: 0.34725274725267097 and parameters: {'learning_rate': 0.021255239874339724, 'max_depth': 9, 'min_child_weight': 57, 'subsample': 0.5440188949078243, 'colsample_bytree': 0.6486818952448027, 'reg_alpha': 0.093275249373242, 'reg_lambda': 11.210845869621119, 'gamma': 2.0131496076465205, 'early_stopping_rounds': 328, 'scale_pos_weight': 2.4891685860514055}. Best is trial 161 with value: 0.38964577656665134.\n"
     ]
    },
    {
     "name": "stdout",
     "output_type": "stream",
     "text": [
      "2025-02-21 12:26:57,675 | INFO     | xgboost_soccer_prediction | Current best score: 0.3896\n",
      "2025-02-21 12:26:59,555 | INFO     | xgboost_soccer_prediction | Optimized threshold: 0.540 with precision: 0.340\n",
      "2025-02-21 12:26:59,592 | INFO     | xgboost_soccer_prediction | Trial 171:\n",
      "2025-02-21 12:26:59,594 | INFO     | xgboost_soccer_prediction |   Params: {'objective': 'binary:logistic', 'tree_method': 'hist', 'eval_metric': ['logloss', 'auc'], 'verbose': -1, 'n_jobs': -1, 'random_state': 19, 'learning_rate': 0.020598290223621096, 'max_depth': 8, 'min_child_weight': 58, 'subsample': 0.6820060693309772, 'colsample_bytree': 0.6374306590009615, 'reg_alpha': 0.05216641929636137, 'reg_lambda': 11.304349392527424, 'gamma': 1.7617472117261193, 'early_stopping_rounds': 349, 'scale_pos_weight': 2.540663992774518}\n",
      "2025-02-21 12:26:59,596 | INFO     | xgboost_soccer_prediction |   Score: 0.34047619047610944\n"
     ]
    },
    {
     "name": "stderr",
     "output_type": "stream",
     "text": [
      "[I 2025-02-21 12:26:59,598] Trial 171 finished with value: 0.34047619047610944 and parameters: {'learning_rate': 0.020598290223621096, 'max_depth': 8, 'min_child_weight': 58, 'subsample': 0.6820060693309772, 'colsample_bytree': 0.6374306590009615, 'reg_alpha': 0.05216641929636137, 'reg_lambda': 11.304349392527424, 'gamma': 1.7617472117261193, 'early_stopping_rounds': 349, 'scale_pos_weight': 2.540663992774518}. Best is trial 161 with value: 0.38964577656665134.\n"
     ]
    },
    {
     "name": "stdout",
     "output_type": "stream",
     "text": [
      "2025-02-21 12:26:59,598 | INFO     | xgboost_soccer_prediction | Current best score: 0.3896\n",
      "2025-02-21 12:27:01,541 | INFO     | xgboost_soccer_prediction | Optimized threshold: 0.530 with precision: 0.353\n",
      "2025-02-21 12:27:01,579 | INFO     | xgboost_soccer_prediction | Trial 172:\n",
      "2025-02-21 12:27:01,581 | INFO     | xgboost_soccer_prediction |   Params: {'objective': 'binary:logistic', 'tree_method': 'hist', 'eval_metric': ['logloss', 'auc'], 'verbose': -1, 'n_jobs': -1, 'random_state': 19, 'learning_rate': 0.021846730585733044, 'max_depth': 8, 'min_child_weight': 55, 'subsample': 0.667027244860609, 'colsample_bytree': 0.6440494208791065, 'reg_alpha': 0.45672638040529534, 'reg_lambda': 10.956381314143446, 'gamma': 2.4627542486574776, 'early_stopping_rounds': 331, 'scale_pos_weight': 2.400055533594358}\n",
      "2025-02-21 12:27:01,581 | INFO     | xgboost_soccer_prediction |   Score: 0.3532219570404885\n"
     ]
    },
    {
     "name": "stderr",
     "output_type": "stream",
     "text": [
      "[I 2025-02-21 12:27:01,585] Trial 172 finished with value: 0.3532219570404885 and parameters: {'learning_rate': 0.021846730585733044, 'max_depth': 8, 'min_child_weight': 55, 'subsample': 0.667027244860609, 'colsample_bytree': 0.6440494208791065, 'reg_alpha': 0.45672638040529534, 'reg_lambda': 10.956381314143446, 'gamma': 2.4627542486574776, 'early_stopping_rounds': 331, 'scale_pos_weight': 2.400055533594358}. Best is trial 161 with value: 0.38964577656665134.\n"
     ]
    },
    {
     "name": "stdout",
     "output_type": "stream",
     "text": [
      "2025-02-21 12:27:01,586 | INFO     | xgboost_soccer_prediction | Current best score: 0.3896\n",
      "2025-02-21 12:27:03,420 | INFO     | xgboost_soccer_prediction | Optimized threshold: 0.530 with precision: 0.357\n",
      "2025-02-21 12:27:03,461 | INFO     | xgboost_soccer_prediction | Trial 173:\n",
      "2025-02-21 12:27:03,463 | INFO     | xgboost_soccer_prediction |   Params: {'objective': 'binary:logistic', 'tree_method': 'hist', 'eval_metric': ['logloss', 'auc'], 'verbose': -1, 'n_jobs': -1, 'random_state': 19, 'learning_rate': 0.0210592992767477, 'max_depth': 9, 'min_child_weight': 65, 'subsample': 0.5890794025290783, 'colsample_bytree': 0.6552037035042566, 'reg_alpha': 0.1029017302725163, 'reg_lambda': 10.814269937398748, 'gamma': 2.3070255027319773, 'early_stopping_rounds': 334, 'scale_pos_weight': 2.4058230930232254}\n",
      "2025-02-21 12:27:03,463 | INFO     | xgboost_soccer_prediction |   Score: 0.3573264781490084\n"
     ]
    },
    {
     "name": "stderr",
     "output_type": "stream",
     "text": [
      "[I 2025-02-21 12:27:03,465] Trial 173 finished with value: 0.3573264781490084 and parameters: {'learning_rate': 0.0210592992767477, 'max_depth': 9, 'min_child_weight': 65, 'subsample': 0.5890794025290783, 'colsample_bytree': 0.6552037035042566, 'reg_alpha': 0.1029017302725163, 'reg_lambda': 10.814269937398748, 'gamma': 2.3070255027319773, 'early_stopping_rounds': 334, 'scale_pos_weight': 2.4058230930232254}. Best is trial 161 with value: 0.38964577656665134.\n"
     ]
    },
    {
     "name": "stdout",
     "output_type": "stream",
     "text": [
      "2025-02-21 12:27:03,467 | INFO     | xgboost_soccer_prediction | Current best score: 0.3896\n",
      "2025-02-21 12:27:05,269 | INFO     | xgboost_soccer_prediction | Optimized threshold: 0.540 with precision: 0.335\n",
      "2025-02-21 12:27:05,308 | INFO     | xgboost_soccer_prediction | Trial 174:\n",
      "2025-02-21 12:27:05,310 | INFO     | xgboost_soccer_prediction |   Params: {'objective': 'binary:logistic', 'tree_method': 'hist', 'eval_metric': ['logloss', 'auc'], 'verbose': -1, 'n_jobs': -1, 'random_state': 19, 'learning_rate': 0.020386426187742706, 'max_depth': 8, 'min_child_weight': 59, 'subsample': 0.6540984663075867, 'colsample_bytree': 0.7106432069047433, 'reg_alpha': 0.3341376677443395, 'reg_lambda': 11.118538389076496, 'gamma': 1.860238324161412, 'early_stopping_rounds': 332, 'scale_pos_weight': 2.547617550510202}\n",
      "2025-02-21 12:27:05,312 | INFO     | xgboost_soccer_prediction |   Score: 0.33491686460799647\n"
     ]
    },
    {
     "name": "stderr",
     "output_type": "stream",
     "text": [
      "[I 2025-02-21 12:27:05,314] Trial 174 finished with value: 0.33491686460799647 and parameters: {'learning_rate': 0.020386426187742706, 'max_depth': 8, 'min_child_weight': 59, 'subsample': 0.6540984663075867, 'colsample_bytree': 0.7106432069047433, 'reg_alpha': 0.3341376677443395, 'reg_lambda': 11.118538389076496, 'gamma': 1.860238324161412, 'early_stopping_rounds': 332, 'scale_pos_weight': 2.547617550510202}. Best is trial 161 with value: 0.38964577656665134.\n"
     ]
    },
    {
     "name": "stdout",
     "output_type": "stream",
     "text": [
      "2025-02-21 12:27:05,314 | INFO     | xgboost_soccer_prediction | Current best score: 0.3896\n",
      "2025-02-21 12:27:07,168 | INFO     | xgboost_soccer_prediction | Optimized threshold: 0.550 with precision: 0.382\n",
      "2025-02-21 12:27:07,207 | INFO     | xgboost_soccer_prediction | Trial 175:\n",
      "2025-02-21 12:27:07,209 | INFO     | xgboost_soccer_prediction |   Params: {'objective': 'binary:logistic', 'tree_method': 'hist', 'eval_metric': ['logloss', 'auc'], 'verbose': -1, 'n_jobs': -1, 'random_state': 19, 'learning_rate': 0.020807314578692657, 'max_depth': 8, 'min_child_weight': 61, 'subsample': 0.6453986968009675, 'colsample_bytree': 0.6290308415714762, 'reg_alpha': 0.22534508671753178, 'reg_lambda': 11.555141249588788, 'gamma': 2.4141832613940957, 'early_stopping_rounds': 348, 'scale_pos_weight': 2.5878914068450536}\n",
      "2025-02-21 12:27:07,209 | INFO     | xgboost_soccer_prediction |   Score: 0.38190954773859753\n"
     ]
    },
    {
     "name": "stderr",
     "output_type": "stream",
     "text": [
      "[I 2025-02-21 12:27:07,211] Trial 175 finished with value: 0.38190954773859753 and parameters: {'learning_rate': 0.020807314578692657, 'max_depth': 8, 'min_child_weight': 61, 'subsample': 0.6453986968009675, 'colsample_bytree': 0.6290308415714762, 'reg_alpha': 0.22534508671753178, 'reg_lambda': 11.555141249588788, 'gamma': 2.4141832613940957, 'early_stopping_rounds': 348, 'scale_pos_weight': 2.5878914068450536}. Best is trial 161 with value: 0.38964577656665134.\n"
     ]
    },
    {
     "name": "stdout",
     "output_type": "stream",
     "text": [
      "2025-02-21 12:27:07,213 | INFO     | xgboost_soccer_prediction | Current best score: 0.3896\n",
      "2025-02-21 12:27:09,001 | INFO     | xgboost_soccer_prediction | Optimized threshold: 0.550 with precision: 0.355\n",
      "2025-02-21 12:27:09,038 | INFO     | xgboost_soccer_prediction | Trial 176:\n",
      "2025-02-21 12:27:09,040 | INFO     | xgboost_soccer_prediction |   Params: {'objective': 'binary:logistic', 'tree_method': 'hist', 'eval_metric': ['logloss', 'auc'], 'verbose': -1, 'n_jobs': -1, 'random_state': 19, 'learning_rate': 0.03129792544983859, 'max_depth': 9, 'min_child_weight': 82, 'subsample': 0.6485604936338092, 'colsample_bytree': 0.70427893954772, 'reg_alpha': 0.19724261888174707, 'reg_lambda': 11.793161392749267, 'gamma': 2.405804002221412, 'early_stopping_rounds': 336, 'scale_pos_weight': 2.5945763921301572}\n",
      "2025-02-21 12:27:09,042 | INFO     | xgboost_soccer_prediction |   Score: 0.35516372795960827\n"
     ]
    },
    {
     "name": "stderr",
     "output_type": "stream",
     "text": [
      "[I 2025-02-21 12:27:09,044] Trial 176 finished with value: 0.35516372795960827 and parameters: {'learning_rate': 0.03129792544983859, 'max_depth': 9, 'min_child_weight': 82, 'subsample': 0.6485604936338092, 'colsample_bytree': 0.70427893954772, 'reg_alpha': 0.19724261888174707, 'reg_lambda': 11.793161392749267, 'gamma': 2.405804002221412, 'early_stopping_rounds': 336, 'scale_pos_weight': 2.5945763921301572}. Best is trial 161 with value: 0.38964577656665134.\n"
     ]
    },
    {
     "name": "stdout",
     "output_type": "stream",
     "text": [
      "2025-02-21 12:27:09,044 | INFO     | xgboost_soccer_prediction | Current best score: 0.3896\n",
      "2025-02-21 12:27:10,723 | INFO     | xgboost_soccer_prediction | Optimized threshold: 0.540 with precision: 0.345\n",
      "2025-02-21 12:27:10,761 | INFO     | xgboost_soccer_prediction | Trial 177:\n",
      "2025-02-21 12:27:10,763 | INFO     | xgboost_soccer_prediction |   Params: {'objective': 'binary:logistic', 'tree_method': 'hist', 'eval_metric': ['logloss', 'auc'], 'verbose': -1, 'n_jobs': -1, 'random_state': 19, 'learning_rate': 0.021506025005564058, 'max_depth': 8, 'min_child_weight': 60, 'subsample': 0.47766992589691454, 'colsample_bytree': 0.6295230482508646, 'reg_alpha': 0.14094518535141404, 'reg_lambda': 11.588241618147826, 'gamma': 2.234083915185403, 'early_stopping_rounds': 330, 'scale_pos_weight': 2.5891727582593997}\n",
      "2025-02-21 12:27:10,763 | INFO     | xgboost_soccer_prediction |   Score: 0.3454545454544757\n"
     ]
    },
    {
     "name": "stderr",
     "output_type": "stream",
     "text": [
      "[I 2025-02-21 12:27:10,765] Trial 177 finished with value: 0.3454545454544757 and parameters: {'learning_rate': 0.021506025005564058, 'max_depth': 8, 'min_child_weight': 60, 'subsample': 0.47766992589691454, 'colsample_bytree': 0.6295230482508646, 'reg_alpha': 0.14094518535141404, 'reg_lambda': 11.588241618147826, 'gamma': 2.234083915185403, 'early_stopping_rounds': 330, 'scale_pos_weight': 2.5891727582593997}. Best is trial 161 with value: 0.38964577656665134.\n"
     ]
    },
    {
     "name": "stdout",
     "output_type": "stream",
     "text": [
      "2025-02-21 12:27:10,767 | INFO     | xgboost_soccer_prediction | Current best score: 0.3896\n",
      "2025-02-21 12:27:12,579 | INFO     | xgboost_soccer_prediction | Optimized threshold: 0.530 with precision: 0.349\n",
      "2025-02-21 12:27:12,619 | INFO     | xgboost_soccer_prediction | Trial 178:\n",
      "2025-02-21 12:27:12,621 | INFO     | xgboost_soccer_prediction |   Params: {'objective': 'binary:logistic', 'tree_method': 'hist', 'eval_metric': ['logloss', 'auc'], 'verbose': -1, 'n_jobs': -1, 'random_state': 19, 'learning_rate': 0.025921793800064586, 'max_depth': 8, 'min_child_weight': 62, 'subsample': 0.6435387911314607, 'colsample_bytree': 0.67075765116941, 'reg_alpha': 0.2749663109944904, 'reg_lambda': 11.43603039118923, 'gamma': 2.1334981367998203, 'early_stopping_rounds': 350, 'scale_pos_weight': 2.5828045428297197}\n",
      "2025-02-21 12:27:12,622 | INFO     | xgboost_soccer_prediction |   Score: 0.3492333901191909\n"
     ]
    },
    {
     "name": "stderr",
     "output_type": "stream",
     "text": [
      "[I 2025-02-21 12:27:12,624] Trial 178 finished with value: 0.3492333901191909 and parameters: {'learning_rate': 0.025921793800064586, 'max_depth': 8, 'min_child_weight': 62, 'subsample': 0.6435387911314607, 'colsample_bytree': 0.67075765116941, 'reg_alpha': 0.2749663109944904, 'reg_lambda': 11.43603039118923, 'gamma': 2.1334981367998203, 'early_stopping_rounds': 350, 'scale_pos_weight': 2.5828045428297197}. Best is trial 161 with value: 0.38964577656665134.\n"
     ]
    },
    {
     "name": "stdout",
     "output_type": "stream",
     "text": [
      "2025-02-21 12:27:12,625 | INFO     | xgboost_soccer_prediction | Current best score: 0.3896\n",
      "2025-02-21 12:27:14,592 | INFO     | xgboost_soccer_prediction | Optimized threshold: 0.520 with precision: 0.348\n",
      "2025-02-21 12:27:14,632 | INFO     | xgboost_soccer_prediction | Trial 179:\n",
      "2025-02-21 12:27:14,633 | INFO     | xgboost_soccer_prediction |   Params: {'objective': 'binary:logistic', 'tree_method': 'hist', 'eval_metric': ['logloss', 'auc'], 'verbose': -1, 'n_jobs': -1, 'random_state': 19, 'learning_rate': 0.02377769987050911, 'max_depth': 9, 'min_child_weight': 58, 'subsample': 0.6373293650336055, 'colsample_bytree': 0.6242041760628488, 'reg_alpha': 0.15631695628410627, 'reg_lambda': 11.706191257043514, 'gamma': 1.948665360064397, 'early_stopping_rounds': 317, 'scale_pos_weight': 2.575659581416299}\n",
      "2025-02-21 12:27:14,635 | INFO     | xgboost_soccer_prediction |   Score: 0.3475836431226119\n"
     ]
    },
    {
     "name": "stderr",
     "output_type": "stream",
     "text": [
      "[I 2025-02-21 12:27:14,637] Trial 179 finished with value: 0.3475836431226119 and parameters: {'learning_rate': 0.02377769987050911, 'max_depth': 9, 'min_child_weight': 58, 'subsample': 0.6373293650336055, 'colsample_bytree': 0.6242041760628488, 'reg_alpha': 0.15631695628410627, 'reg_lambda': 11.706191257043514, 'gamma': 1.948665360064397, 'early_stopping_rounds': 317, 'scale_pos_weight': 2.575659581416299}. Best is trial 161 with value: 0.38964577656665134.\n"
     ]
    },
    {
     "name": "stdout",
     "output_type": "stream",
     "text": [
      "2025-02-21 12:27:14,638 | INFO     | xgboost_soccer_prediction | Current best score: 0.3896\n",
      "2025-02-21 12:27:16,415 | INFO     | xgboost_soccer_prediction | Optimized threshold: 0.540 with precision: 0.349\n",
      "2025-02-21 12:27:16,453 | INFO     | xgboost_soccer_prediction | Trial 180:\n",
      "2025-02-21 12:27:16,455 | INFO     | xgboost_soccer_prediction |   Params: {'objective': 'binary:logistic', 'tree_method': 'hist', 'eval_metric': ['logloss', 'auc'], 'verbose': -1, 'n_jobs': -1, 'random_state': 19, 'learning_rate': 0.048544007654408014, 'max_depth': 8, 'min_child_weight': 57, 'subsample': 0.5358375234270345, 'colsample_bytree': 0.7183349090040717, 'reg_alpha': 0.22788202963518, 'reg_lambda': 10.639223964796917, 'gamma': 2.3751499468476367, 'early_stopping_rounds': 346, 'scale_pos_weight': 2.416264408814732}\n",
      "2025-02-21 12:27:16,455 | INFO     | xgboost_soccer_prediction |   Score: 0.3488372093022445\n"
     ]
    },
    {
     "name": "stderr",
     "output_type": "stream",
     "text": [
      "[I 2025-02-21 12:27:16,459] Trial 180 finished with value: 0.3488372093022445 and parameters: {'learning_rate': 0.048544007654408014, 'max_depth': 8, 'min_child_weight': 57, 'subsample': 0.5358375234270345, 'colsample_bytree': 0.7183349090040717, 'reg_alpha': 0.22788202963518, 'reg_lambda': 10.639223964796917, 'gamma': 2.3751499468476367, 'early_stopping_rounds': 346, 'scale_pos_weight': 2.416264408814732}. Best is trial 161 with value: 0.38964577656665134.\n"
     ]
    },
    {
     "name": "stdout",
     "output_type": "stream",
     "text": [
      "2025-02-21 12:27:16,459 | INFO     | xgboost_soccer_prediction | Current best score: 0.3896\n",
      "2025-02-21 12:27:18,294 | INFO     | xgboost_soccer_prediction | Optimized threshold: 0.550 with precision: 0.375\n",
      "2025-02-21 12:27:18,333 | INFO     | xgboost_soccer_prediction | Trial 181:\n",
      "2025-02-21 12:27:18,336 | INFO     | xgboost_soccer_prediction |   Params: {'objective': 'binary:logistic', 'tree_method': 'hist', 'eval_metric': ['logloss', 'auc'], 'verbose': -1, 'n_jobs': -1, 'random_state': 19, 'learning_rate': 0.020723355165450947, 'max_depth': 8, 'min_child_weight': 61, 'subsample': 0.6567737304309771, 'colsample_bytree': 0.6355417872770394, 'reg_alpha': 0.30212575797598124, 'reg_lambda': 11.04273546393939, 'gamma': 2.552341765316775, 'early_stopping_rounds': 349, 'scale_pos_weight': 2.591335359929741}\n",
      "2025-02-21 12:27:18,337 | INFO     | xgboost_soccer_prediction |   Score: 0.37467018469647106\n"
     ]
    },
    {
     "name": "stderr",
     "output_type": "stream",
     "text": [
      "[I 2025-02-21 12:27:18,339] Trial 181 finished with value: 0.37467018469647106 and parameters: {'learning_rate': 0.020723355165450947, 'max_depth': 8, 'min_child_weight': 61, 'subsample': 0.6567737304309771, 'colsample_bytree': 0.6355417872770394, 'reg_alpha': 0.30212575797598124, 'reg_lambda': 11.04273546393939, 'gamma': 2.552341765316775, 'early_stopping_rounds': 349, 'scale_pos_weight': 2.591335359929741}. Best is trial 161 with value: 0.38964577656665134.\n"
     ]
    },
    {
     "name": "stdout",
     "output_type": "stream",
     "text": [
      "2025-02-21 12:27:18,340 | INFO     | xgboost_soccer_prediction | Current best score: 0.3896\n",
      "2025-02-21 12:27:20,127 | INFO     | xgboost_soccer_prediction | Optimized threshold: 0.550 with precision: 0.365\n",
      "2025-02-21 12:27:20,165 | INFO     | xgboost_soccer_prediction | Trial 182:\n",
      "2025-02-21 12:27:20,167 | INFO     | xgboost_soccer_prediction |   Params: {'objective': 'binary:logistic', 'tree_method': 'hist', 'eval_metric': ['logloss', 'auc'], 'verbose': -1, 'n_jobs': -1, 'random_state': 19, 'learning_rate': 0.020717680281009364, 'max_depth': 8, 'min_child_weight': 62, 'subsample': 0.6736893895187519, 'colsample_bytree': 0.6322430232342251, 'reg_alpha': 0.3041033463435667, 'reg_lambda': 11.350988732498948, 'gamma': 2.482713274234289, 'early_stopping_rounds': 348, 'scale_pos_weight': 2.5913480887110754}\n",
      "2025-02-21 12:27:20,169 | INFO     | xgboost_soccer_prediction |   Score: 0.3652849740931696\n"
     ]
    },
    {
     "name": "stderr",
     "output_type": "stream",
     "text": [
      "[I 2025-02-21 12:27:20,171] Trial 182 finished with value: 0.3652849740931696 and parameters: {'learning_rate': 0.020717680281009364, 'max_depth': 8, 'min_child_weight': 62, 'subsample': 0.6736893895187519, 'colsample_bytree': 0.6322430232342251, 'reg_alpha': 0.3041033463435667, 'reg_lambda': 11.350988732498948, 'gamma': 2.482713274234289, 'early_stopping_rounds': 348, 'scale_pos_weight': 2.5913480887110754}. Best is trial 161 with value: 0.38964577656665134.\n"
     ]
    },
    {
     "name": "stdout",
     "output_type": "stream",
     "text": [
      "2025-02-21 12:27:20,171 | INFO     | xgboost_soccer_prediction | Current best score: 0.3896\n",
      "2025-02-21 12:27:22,081 | INFO     | xgboost_soccer_prediction | Optimized threshold: 0.550 with precision: 0.354\n",
      "2025-02-21 12:27:22,121 | INFO     | xgboost_soccer_prediction | Trial 183:\n",
      "2025-02-21 12:27:22,123 | INFO     | xgboost_soccer_prediction |   Params: {'objective': 'binary:logistic', 'tree_method': 'hist', 'eval_metric': ['logloss', 'auc'], 'verbose': -1, 'n_jobs': -1, 'random_state': 19, 'learning_rate': 0.020763596454156392, 'max_depth': 8, 'min_child_weight': 63, 'subsample': 0.6698085808247614, 'colsample_bytree': 0.6297525948880699, 'reg_alpha': 0.30369571500443665, 'reg_lambda': 11.233283813939144, 'gamma': 2.50989275591524, 'early_stopping_rounds': 348, 'scale_pos_weight': 2.5900357181717086}\n",
      "2025-02-21 12:27:22,124 | INFO     | xgboost_soccer_prediction |   Score: 0.3541666666665847\n"
     ]
    },
    {
     "name": "stderr",
     "output_type": "stream",
     "text": [
      "[I 2025-02-21 12:27:22,126] Trial 183 finished with value: 0.3541666666665847 and parameters: {'learning_rate': 0.020763596454156392, 'max_depth': 8, 'min_child_weight': 63, 'subsample': 0.6698085808247614, 'colsample_bytree': 0.6297525948880699, 'reg_alpha': 0.30369571500443665, 'reg_lambda': 11.233283813939144, 'gamma': 2.50989275591524, 'early_stopping_rounds': 348, 'scale_pos_weight': 2.5900357181717086}. Best is trial 161 with value: 0.38964577656665134.\n"
     ]
    },
    {
     "name": "stdout",
     "output_type": "stream",
     "text": [
      "2025-02-21 12:27:22,127 | INFO     | xgboost_soccer_prediction | Current best score: 0.3896\n",
      "2025-02-21 12:27:23,892 | INFO     | xgboost_soccer_prediction | Optimized threshold: 0.540 with precision: 0.349\n",
      "2025-02-21 12:27:23,930 | INFO     | xgboost_soccer_prediction | Trial 184:\n",
      "2025-02-21 12:27:23,932 | INFO     | xgboost_soccer_prediction |   Params: {'objective': 'binary:logistic', 'tree_method': 'hist', 'eval_metric': ['logloss', 'auc'], 'verbose': -1, 'n_jobs': -1, 'random_state': 19, 'learning_rate': 0.020377018050033974, 'max_depth': 8, 'min_child_weight': 62, 'subsample': 0.676408757290238, 'colsample_bytree': 0.6343269160057498, 'reg_alpha': 0.2885125829313554, 'reg_lambda': 11.512915929774696, 'gamma': 2.4549529311805927, 'early_stopping_rounds': 350, 'scale_pos_weight': 2.597827128518857}\n",
      "2025-02-21 12:27:23,934 | INFO     | xgboost_soccer_prediction |   Score: 0.34854771784225136\n"
     ]
    },
    {
     "name": "stderr",
     "output_type": "stream",
     "text": [
      "[I 2025-02-21 12:27:23,936] Trial 184 finished with value: 0.34854771784225136 and parameters: {'learning_rate': 0.020377018050033974, 'max_depth': 8, 'min_child_weight': 62, 'subsample': 0.676408757290238, 'colsample_bytree': 0.6343269160057498, 'reg_alpha': 0.2885125829313554, 'reg_lambda': 11.512915929774696, 'gamma': 2.4549529311805927, 'early_stopping_rounds': 350, 'scale_pos_weight': 2.597827128518857}. Best is trial 161 with value: 0.38964577656665134.\n"
     ]
    },
    {
     "name": "stdout",
     "output_type": "stream",
     "text": [
      "2025-02-21 12:27:23,937 | INFO     | xgboost_soccer_prediction | Current best score: 0.3896\n",
      "2025-02-21 12:27:25,737 | INFO     | xgboost_soccer_prediction | Optimized threshold: 0.540 with precision: 0.367\n",
      "2025-02-21 12:27:25,777 | INFO     | xgboost_soccer_prediction | Trial 185:\n",
      "2025-02-21 12:27:25,779 | INFO     | xgboost_soccer_prediction |   Params: {'objective': 'binary:logistic', 'tree_method': 'hist', 'eval_metric': ['logloss', 'auc'], 'verbose': -1, 'n_jobs': -1, 'random_state': 19, 'learning_rate': 0.02103167088663634, 'max_depth': 8, 'min_child_weight': 61, 'subsample': 0.6599888725072175, 'colsample_bytree': 0.6188000938310566, 'reg_alpha': 0.3125407288067509, 'reg_lambda': 11.327420570196534, 'gamma': 2.5721857670877597, 'early_stopping_rounds': 347, 'scale_pos_weight': 2.5948613480607903}\n",
      "2025-02-21 12:27:25,779 | INFO     | xgboost_soccer_prediction |   Score: 0.36681222707415573\n"
     ]
    },
    {
     "name": "stderr",
     "output_type": "stream",
     "text": [
      "[I 2025-02-21 12:27:25,781] Trial 185 finished with value: 0.36681222707415573 and parameters: {'learning_rate': 0.02103167088663634, 'max_depth': 8, 'min_child_weight': 61, 'subsample': 0.6599888725072175, 'colsample_bytree': 0.6188000938310566, 'reg_alpha': 0.3125407288067509, 'reg_lambda': 11.327420570196534, 'gamma': 2.5721857670877597, 'early_stopping_rounds': 347, 'scale_pos_weight': 2.5948613480607903}. Best is trial 161 with value: 0.38964577656665134.\n"
     ]
    },
    {
     "name": "stdout",
     "output_type": "stream",
     "text": [
      "2025-02-21 12:27:25,783 | INFO     | xgboost_soccer_prediction | Current best score: 0.3896\n",
      "2025-02-21 12:27:27,585 | INFO     | xgboost_soccer_prediction | Optimized threshold: 0.540 with precision: 0.335\n",
      "2025-02-21 12:27:27,628 | INFO     | xgboost_soccer_prediction | Trial 186:\n",
      "2025-02-21 12:27:27,630 | INFO     | xgboost_soccer_prediction |   Params: {'objective': 'binary:logistic', 'tree_method': 'hist', 'eval_metric': ['logloss', 'auc'], 'verbose': -1, 'n_jobs': -1, 'random_state': 19, 'learning_rate': 0.020029073053515742, 'max_depth': 8, 'min_child_weight': 64, 'subsample': 0.6209055060663643, 'colsample_bytree': 0.6176011082532855, 'reg_alpha': 0.31815787052777955, 'reg_lambda': 11.346966380039369, 'gamma': 2.566536026696801, 'early_stopping_rounds': 347, 'scale_pos_weight': 2.592412845057654}\n",
      "2025-02-21 12:27:27,631 | INFO     | xgboost_soccer_prediction |   Score: 0.3353783231083159\n"
     ]
    },
    {
     "name": "stderr",
     "output_type": "stream",
     "text": [
      "[I 2025-02-21 12:27:27,633] Trial 186 finished with value: 0.3353783231083159 and parameters: {'learning_rate': 0.020029073053515742, 'max_depth': 8, 'min_child_weight': 64, 'subsample': 0.6209055060663643, 'colsample_bytree': 0.6176011082532855, 'reg_alpha': 0.31815787052777955, 'reg_lambda': 11.346966380039369, 'gamma': 2.566536026696801, 'early_stopping_rounds': 347, 'scale_pos_weight': 2.592412845057654}. Best is trial 161 with value: 0.38964577656665134.\n"
     ]
    },
    {
     "name": "stdout",
     "output_type": "stream",
     "text": [
      "2025-02-21 12:27:27,633 | INFO     | xgboost_soccer_prediction | Current best score: 0.3896\n",
      "2025-02-21 12:27:29,447 | INFO     | xgboost_soccer_prediction | Optimized threshold: 0.550 with precision: 0.368\n",
      "2025-02-21 12:27:29,486 | INFO     | xgboost_soccer_prediction | Trial 187:\n",
      "2025-02-21 12:27:29,488 | INFO     | xgboost_soccer_prediction |   Params: {'objective': 'binary:logistic', 'tree_method': 'hist', 'eval_metric': ['logloss', 'auc'], 'verbose': -1, 'n_jobs': -1, 'random_state': 19, 'learning_rate': 0.02111744525874378, 'max_depth': 8, 'min_child_weight': 61, 'subsample': 0.6622641737398574, 'colsample_bytree': 0.6212795247919091, 'reg_alpha': 0.25869502683413675, 'reg_lambda': 11.92339275468564, 'gamma': 2.6168738161978276, 'early_stopping_rounds': 345, 'scale_pos_weight': 2.585628658769516}\n",
      "2025-02-21 12:27:29,488 | INFO     | xgboost_soccer_prediction |   Score: 0.36829836829828244\n"
     ]
    },
    {
     "name": "stderr",
     "output_type": "stream",
     "text": [
      "[I 2025-02-21 12:27:29,490] Trial 187 finished with value: 0.36829836829828244 and parameters: {'learning_rate': 0.02111744525874378, 'max_depth': 8, 'min_child_weight': 61, 'subsample': 0.6622641737398574, 'colsample_bytree': 0.6212795247919091, 'reg_alpha': 0.25869502683413675, 'reg_lambda': 11.92339275468564, 'gamma': 2.6168738161978276, 'early_stopping_rounds': 345, 'scale_pos_weight': 2.585628658769516}. Best is trial 161 with value: 0.38964577656665134.\n"
     ]
    },
    {
     "name": "stdout",
     "output_type": "stream",
     "text": [
      "2025-02-21 12:27:29,492 | INFO     | xgboost_soccer_prediction | Current best score: 0.3896\n",
      "2025-02-21 12:27:31,304 | INFO     | xgboost_soccer_prediction | Optimized threshold: 0.550 with precision: 0.365\n",
      "2025-02-21 12:27:31,344 | INFO     | xgboost_soccer_prediction | Trial 188:\n",
      "2025-02-21 12:27:31,346 | INFO     | xgboost_soccer_prediction |   Params: {'objective': 'binary:logistic', 'tree_method': 'hist', 'eval_metric': ['logloss', 'auc'], 'verbose': -1, 'n_jobs': -1, 'random_state': 19, 'learning_rate': 0.021281695588907378, 'max_depth': 8, 'min_child_weight': 60, 'subsample': 0.6589509404345427, 'colsample_bytree': 0.6203213644121941, 'reg_alpha': 0.24780906401220618, 'reg_lambda': 11.952686919906979, 'gamma': 2.674953133503716, 'early_stopping_rounds': 345, 'scale_pos_weight': 2.5778192837243434}\n",
      "2025-02-21 12:27:31,347 | INFO     | xgboost_soccer_prediction |   Score: 0.36519607843128304\n"
     ]
    },
    {
     "name": "stderr",
     "output_type": "stream",
     "text": [
      "[I 2025-02-21 12:27:31,349] Trial 188 finished with value: 0.36519607843128304 and parameters: {'learning_rate': 0.021281695588907378, 'max_depth': 8, 'min_child_weight': 60, 'subsample': 0.6589509404345427, 'colsample_bytree': 0.6203213644121941, 'reg_alpha': 0.24780906401220618, 'reg_lambda': 11.952686919906979, 'gamma': 2.674953133503716, 'early_stopping_rounds': 345, 'scale_pos_weight': 2.5778192837243434}. Best is trial 161 with value: 0.38964577656665134.\n"
     ]
    },
    {
     "name": "stdout",
     "output_type": "stream",
     "text": [
      "2025-02-21 12:27:31,350 | INFO     | xgboost_soccer_prediction | Current best score: 0.3896\n",
      "2025-02-21 12:27:33,153 | INFO     | xgboost_soccer_prediction | Optimized threshold: 0.550 with precision: 0.362\n",
      "2025-02-21 12:27:33,192 | INFO     | xgboost_soccer_prediction | Trial 189:\n",
      "2025-02-21 12:27:33,194 | INFO     | xgboost_soccer_prediction |   Params: {'objective': 'binary:logistic', 'tree_method': 'hist', 'eval_metric': ['logloss', 'auc'], 'verbose': -1, 'n_jobs': -1, 'random_state': 19, 'learning_rate': 0.020723100239237915, 'max_depth': 8, 'min_child_weight': 61, 'subsample': 0.6721380289641463, 'colsample_bytree': 0.6140356677152325, 'reg_alpha': 0.21700903470649005, 'reg_lambda': 11.718541801479702, 'gamma': 2.604170621604617, 'early_stopping_rounds': 347, 'scale_pos_weight': 2.5994875814658918}\n",
      "2025-02-21 12:27:33,196 | INFO     | xgboost_soccer_prediction |   Score: 0.36224489795909126\n"
     ]
    },
    {
     "name": "stderr",
     "output_type": "stream",
     "text": [
      "[I 2025-02-21 12:27:33,198] Trial 189 finished with value: 0.36224489795909126 and parameters: {'learning_rate': 0.020723100239237915, 'max_depth': 8, 'min_child_weight': 61, 'subsample': 0.6721380289641463, 'colsample_bytree': 0.6140356677152325, 'reg_alpha': 0.21700903470649005, 'reg_lambda': 11.718541801479702, 'gamma': 2.604170621604617, 'early_stopping_rounds': 347, 'scale_pos_weight': 2.5994875814658918}. Best is trial 161 with value: 0.38964577656665134.\n"
     ]
    },
    {
     "name": "stdout",
     "output_type": "stream",
     "text": [
      "2025-02-21 12:27:33,198 | INFO     | xgboost_soccer_prediction | Current best score: 0.3896\n",
      "2025-02-21 12:27:34,959 | INFO     | xgboost_soccer_prediction | Optimized threshold: 0.550 with precision: 0.361\n",
      "2025-02-21 12:27:34,996 | INFO     | xgboost_soccer_prediction | Trial 190:\n",
      "2025-02-21 12:27:34,998 | INFO     | xgboost_soccer_prediction |   Params: {'objective': 'binary:logistic', 'tree_method': 'hist', 'eval_metric': ['logloss', 'auc'], 'verbose': -1, 'n_jobs': -1, 'random_state': 19, 'learning_rate': 0.021777248129187382, 'max_depth': 8, 'min_child_weight': 62, 'subsample': 0.6506344058335278, 'colsample_bytree': 0.6269755845314625, 'reg_alpha': 0.26842693505203397, 'reg_lambda': 11.547200502253434, 'gamma': 2.6868761058756006, 'early_stopping_rounds': 349, 'scale_pos_weight': 2.584995701241367}\n",
      "2025-02-21 12:27:35,000 | INFO     | xgboost_soccer_prediction |   Score: 0.3610389610388673\n"
     ]
    },
    {
     "name": "stderr",
     "output_type": "stream",
     "text": [
      "[I 2025-02-21 12:27:35,003] Trial 190 finished with value: 0.3610389610388673 and parameters: {'learning_rate': 0.021777248129187382, 'max_depth': 8, 'min_child_weight': 62, 'subsample': 0.6506344058335278, 'colsample_bytree': 0.6269755845314625, 'reg_alpha': 0.26842693505203397, 'reg_lambda': 11.547200502253434, 'gamma': 2.6868761058756006, 'early_stopping_rounds': 349, 'scale_pos_weight': 2.584995701241367}. Best is trial 161 with value: 0.38964577656665134.\n"
     ]
    },
    {
     "name": "stdout",
     "output_type": "stream",
     "text": [
      "2025-02-21 12:27:35,005 | INFO     | xgboost_soccer_prediction | Current best score: 0.3896\n",
      "2025-02-21 12:27:36,803 | INFO     | xgboost_soccer_prediction | Optimized threshold: 0.550 with precision: 0.361\n",
      "2025-02-21 12:27:36,843 | INFO     | xgboost_soccer_prediction | Trial 191:\n",
      "2025-02-21 12:27:36,845 | INFO     | xgboost_soccer_prediction |   Params: {'objective': 'binary:logistic', 'tree_method': 'hist', 'eval_metric': ['logloss', 'auc'], 'verbose': -1, 'n_jobs': -1, 'random_state': 19, 'learning_rate': 0.021194746788016458, 'max_depth': 8, 'min_child_weight': 60, 'subsample': 0.6625406846943472, 'colsample_bytree': 0.6260573535002526, 'reg_alpha': 0.26111876908379467, 'reg_lambda': 11.43601165634251, 'gamma': 2.7454181149704393, 'early_stopping_rounds': 345, 'scale_pos_weight': 2.5847200460846715}\n",
      "2025-02-21 12:27:36,846 | INFO     | xgboost_soccer_prediction |   Score: 0.36132315521619307\n"
     ]
    },
    {
     "name": "stderr",
     "output_type": "stream",
     "text": [
      "[I 2025-02-21 12:27:36,848] Trial 191 finished with value: 0.36132315521619307 and parameters: {'learning_rate': 0.021194746788016458, 'max_depth': 8, 'min_child_weight': 60, 'subsample': 0.6625406846943472, 'colsample_bytree': 0.6260573535002526, 'reg_alpha': 0.26111876908379467, 'reg_lambda': 11.43601165634251, 'gamma': 2.7454181149704393, 'early_stopping_rounds': 345, 'scale_pos_weight': 2.5847200460846715}. Best is trial 161 with value: 0.38964577656665134.\n"
     ]
    },
    {
     "name": "stdout",
     "output_type": "stream",
     "text": [
      "2025-02-21 12:27:36,854 | INFO     | xgboost_soccer_prediction | Current best score: 0.3896\n",
      "2025-02-21 12:27:38,709 | INFO     | xgboost_soccer_prediction | Optimized threshold: 0.550 with precision: 0.357\n",
      "2025-02-21 12:27:38,747 | INFO     | xgboost_soccer_prediction | Trial 192:\n",
      "2025-02-21 12:27:38,749 | INFO     | xgboost_soccer_prediction |   Params: {'objective': 'binary:logistic', 'tree_method': 'hist', 'eval_metric': ['logloss', 'auc'], 'verbose': -1, 'n_jobs': -1, 'random_state': 19, 'learning_rate': 0.021066385412980403, 'max_depth': 8, 'min_child_weight': 60, 'subsample': 0.6590473683995913, 'colsample_bytree': 0.6197486351649393, 'reg_alpha': 0.23491789078002576, 'reg_lambda': 11.812453379202896, 'gamma': 2.638157795228321, 'early_stopping_rounds': 343, 'scale_pos_weight': 2.5773485515763572}\n",
      "2025-02-21 12:27:38,750 | INFO     | xgboost_soccer_prediction |   Score: 0.35677083333324044\n"
     ]
    },
    {
     "name": "stderr",
     "output_type": "stream",
     "text": [
      "[I 2025-02-21 12:27:38,753] Trial 192 finished with value: 0.35677083333324044 and parameters: {'learning_rate': 0.021066385412980403, 'max_depth': 8, 'min_child_weight': 60, 'subsample': 0.6590473683995913, 'colsample_bytree': 0.6197486351649393, 'reg_alpha': 0.23491789078002576, 'reg_lambda': 11.812453379202896, 'gamma': 2.638157795228321, 'early_stopping_rounds': 343, 'scale_pos_weight': 2.5773485515763572}. Best is trial 161 with value: 0.38964577656665134.\n"
     ]
    },
    {
     "name": "stdout",
     "output_type": "stream",
     "text": [
      "2025-02-21 12:27:38,753 | INFO     | xgboost_soccer_prediction | Current best score: 0.3896\n",
      "2025-02-21 12:27:40,540 | INFO     | xgboost_soccer_prediction | Optimized threshold: 0.540 with precision: 0.344\n",
      "2025-02-21 12:27:40,579 | INFO     | xgboost_soccer_prediction | Trial 193:\n",
      "2025-02-21 12:27:40,581 | INFO     | xgboost_soccer_prediction |   Params: {'objective': 'binary:logistic', 'tree_method': 'hist', 'eval_metric': ['logloss', 'auc'], 'verbose': -1, 'n_jobs': -1, 'random_state': 19, 'learning_rate': 0.0214701719503321, 'max_depth': 8, 'min_child_weight': 61, 'subsample': 0.6447540247933254, 'colsample_bytree': 0.6243304211002538, 'reg_alpha': 0.2470469008757629, 'reg_lambda': 11.97653788791738, 'gamma': 2.6725982697756407, 'early_stopping_rounds': 346, 'scale_pos_weight': 2.5934332926462758}\n",
      "2025-02-21 12:27:40,583 | INFO     | xgboost_soccer_prediction |   Score: 0.3436018957345157\n"
     ]
    },
    {
     "name": "stderr",
     "output_type": "stream",
     "text": [
      "[I 2025-02-21 12:27:40,585] Trial 193 finished with value: 0.3436018957345157 and parameters: {'learning_rate': 0.0214701719503321, 'max_depth': 8, 'min_child_weight': 61, 'subsample': 0.6447540247933254, 'colsample_bytree': 0.6243304211002538, 'reg_alpha': 0.2470469008757629, 'reg_lambda': 11.97653788791738, 'gamma': 2.6725982697756407, 'early_stopping_rounds': 346, 'scale_pos_weight': 2.5934332926462758}. Best is trial 161 with value: 0.38964577656665134.\n"
     ]
    },
    {
     "name": "stdout",
     "output_type": "stream",
     "text": [
      "2025-02-21 12:27:40,586 | INFO     | xgboost_soccer_prediction | Current best score: 0.3896\n",
      "2025-02-21 12:27:42,360 | INFO     | xgboost_soccer_prediction | Optimized threshold: 0.530 with precision: 0.348\n",
      "2025-02-21 12:27:42,398 | INFO     | xgboost_soccer_prediction | Trial 194:\n",
      "2025-02-21 12:27:42,402 | INFO     | xgboost_soccer_prediction |   Params: {'objective': 'binary:logistic', 'tree_method': 'hist', 'eval_metric': ['logloss', 'auc'], 'verbose': -1, 'n_jobs': -1, 'random_state': 19, 'learning_rate': 0.020455369053647875, 'max_depth': 8, 'min_child_weight': 59, 'subsample': 0.6553767406513922, 'colsample_bytree': 0.6206597312291675, 'reg_alpha': 0.29316674266442116, 'reg_lambda': 11.84853380716191, 'gamma': 2.513561671784332, 'early_stopping_rounds': 345, 'scale_pos_weight': 2.5870119266914213}\n",
      "2025-02-21 12:27:42,403 | INFO     | xgboost_soccer_prediction |   Score: 0.3482142857142235\n"
     ]
    },
    {
     "name": "stderr",
     "output_type": "stream",
     "text": [
      "[I 2025-02-21 12:27:42,406] Trial 194 finished with value: 0.3482142857142235 and parameters: {'learning_rate': 0.020455369053647875, 'max_depth': 8, 'min_child_weight': 59, 'subsample': 0.6553767406513922, 'colsample_bytree': 0.6206597312291675, 'reg_alpha': 0.29316674266442116, 'reg_lambda': 11.84853380716191, 'gamma': 2.513561671784332, 'early_stopping_rounds': 345, 'scale_pos_weight': 2.5870119266914213}. Best is trial 161 with value: 0.38964577656665134.\n"
     ]
    },
    {
     "name": "stdout",
     "output_type": "stream",
     "text": [
      "2025-02-21 12:27:42,406 | INFO     | xgboost_soccer_prediction | Current best score: 0.3896\n",
      "2025-02-21 12:27:44,205 | INFO     | xgboost_soccer_prediction | Optimized threshold: 0.530 with precision: 0.342\n",
      "2025-02-21 12:27:44,246 | INFO     | xgboost_soccer_prediction | Trial 195:\n",
      "2025-02-21 12:27:44,247 | INFO     | xgboost_soccer_prediction |   Params: {'objective': 'binary:logistic', 'tree_method': 'hist', 'eval_metric': ['logloss', 'auc'], 'verbose': -1, 'n_jobs': -1, 'random_state': 19, 'learning_rate': 0.02229076272950114, 'max_depth': 8, 'min_child_weight': 61, 'subsample': 0.6795024735571278, 'colsample_bytree': 0.61327032984273, 'reg_alpha': 0.3653966968246971, 'reg_lambda': 11.658861411461041, 'gamma': 2.5579902716910383, 'early_stopping_rounds': 348, 'scale_pos_weight': 2.590789952903283}\n",
      "2025-02-21 12:27:44,249 | INFO     | xgboost_soccer_prediction |   Score: 0.342198581560223\n"
     ]
    },
    {
     "name": "stderr",
     "output_type": "stream",
     "text": [
      "[I 2025-02-21 12:27:44,251] Trial 195 finished with value: 0.342198581560223 and parameters: {'learning_rate': 0.02229076272950114, 'max_depth': 8, 'min_child_weight': 61, 'subsample': 0.6795024735571278, 'colsample_bytree': 0.61327032984273, 'reg_alpha': 0.3653966968246971, 'reg_lambda': 11.658861411461041, 'gamma': 2.5579902716910383, 'early_stopping_rounds': 348, 'scale_pos_weight': 2.590789952903283}. Best is trial 161 with value: 0.38964577656665134.\n"
     ]
    },
    {
     "name": "stdout",
     "output_type": "stream",
     "text": [
      "2025-02-21 12:27:44,252 | INFO     | xgboost_soccer_prediction | Current best score: 0.3896\n",
      "2025-02-21 12:27:46,021 | INFO     | xgboost_soccer_prediction | Optimized threshold: 0.550 with precision: 0.366\n",
      "2025-02-21 12:27:46,061 | INFO     | xgboost_soccer_prediction | Trial 196:\n",
      "2025-02-21 12:27:46,063 | INFO     | xgboost_soccer_prediction |   Params: {'objective': 'binary:logistic', 'tree_method': 'hist', 'eval_metric': ['logloss', 'auc'], 'verbose': -1, 'n_jobs': -1, 'random_state': 19, 'learning_rate': 0.020939549759166422, 'max_depth': 8, 'min_child_weight': 63, 'subsample': 0.665141575574185, 'colsample_bytree': 0.6095995049289635, 'reg_alpha': 0.3172725766841109, 'reg_lambda': 11.960512765357018, 'gamma': 2.44163389222412, 'early_stopping_rounds': 349, 'scale_pos_weight': 2.5810238848580207}\n",
      "2025-02-21 12:27:46,063 | INFO     | xgboost_soccer_prediction |   Score: 0.3660477453579931\n"
     ]
    },
    {
     "name": "stderr",
     "output_type": "stream",
     "text": [
      "[I 2025-02-21 12:27:46,065] Trial 196 finished with value: 0.3660477453579931 and parameters: {'learning_rate': 0.020939549759166422, 'max_depth': 8, 'min_child_weight': 63, 'subsample': 0.665141575574185, 'colsample_bytree': 0.6095995049289635, 'reg_alpha': 0.3172725766841109, 'reg_lambda': 11.960512765357018, 'gamma': 2.44163389222412, 'early_stopping_rounds': 349, 'scale_pos_weight': 2.5810238848580207}. Best is trial 161 with value: 0.38964577656665134.\n"
     ]
    },
    {
     "name": "stdout",
     "output_type": "stream",
     "text": [
      "2025-02-21 12:27:46,065 | INFO     | xgboost_soccer_prediction | Current best score: 0.3896\n",
      "2025-02-21 12:27:47,941 | INFO     | xgboost_soccer_prediction | Optimized threshold: 0.550 with precision: 0.367\n",
      "2025-02-21 12:27:47,977 | INFO     | xgboost_soccer_prediction | Trial 197:\n",
      "2025-02-21 12:27:47,979 | INFO     | xgboost_soccer_prediction |   Params: {'objective': 'binary:logistic', 'tree_method': 'hist', 'eval_metric': ['logloss', 'auc'], 'verbose': -1, 'n_jobs': -1, 'random_state': 19, 'learning_rate': 0.020742059416468214, 'max_depth': 8, 'min_child_weight': 64, 'subsample': 0.6662075193034823, 'colsample_bytree': 0.6053506673212132, 'reg_alpha': 0.3358941329812032, 'reg_lambda': 11.852380121885187, 'gamma': 2.4634583763937736, 'early_stopping_rounds': 348, 'scale_pos_weight': 2.5811573029252313}\n",
      "2025-02-21 12:27:47,981 | INFO     | xgboost_soccer_prediction |   Score: 0.3673469387754165\n"
     ]
    },
    {
     "name": "stderr",
     "output_type": "stream",
     "text": [
      "[I 2025-02-21 12:27:47,983] Trial 197 finished with value: 0.3673469387754165 and parameters: {'learning_rate': 0.020742059416468214, 'max_depth': 8, 'min_child_weight': 64, 'subsample': 0.6662075193034823, 'colsample_bytree': 0.6053506673212132, 'reg_alpha': 0.3358941329812032, 'reg_lambda': 11.852380121885187, 'gamma': 2.4634583763937736, 'early_stopping_rounds': 348, 'scale_pos_weight': 2.5811573029252313}. Best is trial 161 with value: 0.38964577656665134.\n"
     ]
    },
    {
     "name": "stdout",
     "output_type": "stream",
     "text": [
      "2025-02-21 12:27:47,984 | INFO     | xgboost_soccer_prediction | Current best score: 0.3896\n",
      "2025-02-21 12:27:49,769 | INFO     | xgboost_soccer_prediction | Optimized threshold: 0.550 with precision: 0.349\n",
      "2025-02-21 12:27:49,811 | INFO     | xgboost_soccer_prediction | Trial 198:\n",
      "2025-02-21 12:27:49,813 | INFO     | xgboost_soccer_prediction |   Params: {'objective': 'binary:logistic', 'tree_method': 'hist', 'eval_metric': ['logloss', 'auc'], 'verbose': -1, 'n_jobs': -1, 'random_state': 19, 'learning_rate': 0.02007889553449964, 'max_depth': 8, 'min_child_weight': 64, 'subsample': 0.6661761842841475, 'colsample_bytree': 0.6115032390789836, 'reg_alpha': 0.34652551285285094, 'reg_lambda': 11.903317069777195, 'gamma': 2.429449020255619, 'early_stopping_rounds': 347, 'scale_pos_weight': 2.5819805187656133}\n",
      "2025-02-21 12:27:49,813 | INFO     | xgboost_soccer_prediction |   Score: 0.34928229665063415\n"
     ]
    },
    {
     "name": "stderr",
     "output_type": "stream",
     "text": [
      "[I 2025-02-21 12:27:49,815] Trial 198 finished with value: 0.34928229665063415 and parameters: {'learning_rate': 0.02007889553449964, 'max_depth': 8, 'min_child_weight': 64, 'subsample': 0.6661761842841475, 'colsample_bytree': 0.6115032390789836, 'reg_alpha': 0.34652551285285094, 'reg_lambda': 11.903317069777195, 'gamma': 2.429449020255619, 'early_stopping_rounds': 347, 'scale_pos_weight': 2.5819805187656133}. Best is trial 161 with value: 0.38964577656665134.\n"
     ]
    },
    {
     "name": "stdout",
     "output_type": "stream",
     "text": [
      "2025-02-21 12:27:49,817 | INFO     | xgboost_soccer_prediction | Current best score: 0.3896\n",
      "2025-02-21 12:27:51,545 | INFO     | xgboost_soccer_prediction | Optimized threshold: 0.540 with precision: 0.345\n",
      "2025-02-21 12:27:51,583 | INFO     | xgboost_soccer_prediction | Trial 199:\n",
      "2025-02-21 12:27:51,586 | INFO     | xgboost_soccer_prediction |   Params: {'objective': 'binary:logistic', 'tree_method': 'hist', 'eval_metric': ['logloss', 'auc'], 'verbose': -1, 'n_jobs': -1, 'random_state': 19, 'learning_rate': 0.021999854398650338, 'max_depth': 8, 'min_child_weight': 63, 'subsample': 0.631232085928475, 'colsample_bytree': 0.6077813375844773, 'reg_alpha': 0.3255748885105559, 'reg_lambda': 11.856220675554304, 'gamma': 2.3476316607376404, 'early_stopping_rounds': 349, 'scale_pos_weight': 2.570300583876652}\n",
      "2025-02-21 12:27:51,586 | INFO     | xgboost_soccer_prediction |   Score: 0.34549356223168554\n"
     ]
    },
    {
     "name": "stderr",
     "output_type": "stream",
     "text": [
      "[I 2025-02-21 12:27:51,590] Trial 199 finished with value: 0.34549356223168554 and parameters: {'learning_rate': 0.021999854398650338, 'max_depth': 8, 'min_child_weight': 63, 'subsample': 0.631232085928475, 'colsample_bytree': 0.6077813375844773, 'reg_alpha': 0.3255748885105559, 'reg_lambda': 11.856220675554304, 'gamma': 2.3476316607376404, 'early_stopping_rounds': 349, 'scale_pos_weight': 2.570300583876652}. Best is trial 161 with value: 0.38964577656665134.\n"
     ]
    },
    {
     "name": "stdout",
     "output_type": "stream",
     "text": [
      "2025-02-21 12:27:51,590 | INFO     | xgboost_soccer_prediction | Current best score: 0.3896\n",
      "2025-02-21 12:27:51,592 | INFO     | xgboost_soccer_prediction | Best trial value: 0.38964577656665134\n",
      "2025-02-21 12:27:51,594 | INFO     | xgboost_soccer_prediction | Best parameters found: {'learning_rate': 0.02054068407141532, 'max_depth': 9, 'min_child_weight': 54, 'subsample': 0.5260707987602047, 'colsample_bytree': 0.6681727685021486, 'reg_alpha': 0.07727180013165219, 'reg_lambda': 11.225510838289434, 'gamma': 1.7715866142249037, 'early_stopping_rounds': 331, 'scale_pos_weight': 2.422289591187272}\n",
      "2025-02-21 12:27:51,594 | INFO     | xgboost_soccer_prediction | Training final model with best parameters\n",
      "2025-02-21 12:27:53,496 | INFO     | xgboost_soccer_prediction | Optimized threshold: 0.520 with precision: 0.345\n"
     ]
    },
    {
     "name": "stderr",
     "output_type": "stream",
     "text": [
      "c:\\Users\\szita\\.conda\\envs\\soccerpredictor_env\\lib\\site-packages\\mlflow\\types\\utils.py:435: UserWarning: Hint: Inferred schema contains integer column(s). Integer columns in Python cannot represent missing values. If your input data contains missing values at inference time, it will be encoded as floats and will cause a schema enforcement error. The best way to avoid this problem is to infer the model schema based on a realistic data sample (training dataset) that includes missing values. Alternatively, you can declare integer columns as doubles (float64) whenever these columns may have missing values. See `Handling Integers With Missing Values <https://www.mlflow.org/docs/latest/models.html#handling-integers-with-missing-values>`_ for more details.\n",
      "  warnings.warn(\n",
      "c:\\Users\\szita\\.conda\\envs\\soccerpredictor_env\\lib\\site-packages\\xgboost\\core.py:158: UserWarning: [12:27:53] WARNING: D:\\bld\\xgboost-split_1737531313485\\work\\src\\c_api\\c_api.cc:1374: Saving model in the UBJSON format as default.  You can use file extension: `json`, `ubj` or `deprecated` to choose between formats.\n",
      "  warnings.warn(smsg, UserWarning)\n",
      "2025/02/21 12:27:57 WARNING mlflow.utils.environment: Encountered an unexpected error while inferring pip requirements (model URI: C:\\Users\\szita\\AppData\\Local\\Temp\\tmphcrm5bun\\model, flavor: xgboost). Fall back to return ['xgboost==2.1.3']. Set logging level to DEBUG to see the full traceback. \n"
     ]
    },
    {
     "data": {
      "application/vnd.jupyter.widget-view+json": {
       "model_id": "0e02de11e5dc4549abc2f01e4e815a36",
       "version_major": 2,
       "version_minor": 0
      },
      "text/plain": [
       "Downloading artifacts:   0%|          | 0/7 [00:00<?, ?it/s]"
      ]
     },
     "metadata": {},
     "output_type": "display_data"
    },
    {
     "name": "stderr",
     "output_type": "stream",
     "text": [
      "2025/02/21 12:27:57 WARNING mlflow.models.model: Failed to validate serving input example {\n",
      "  \"dataframe_split\": {\n",
      "    \"columns\": [\n",
      "      \"away_yellow_cards_mean\",\n",
      "      \"Home_offsides_mean\",\n",
      "      \"away_attack_strength\",\n",
      "      \"venue_encoded\",\n",
      "      \"defensive_stability\",\n",
      "      \"away_saves_rollingaverage\",\n",
      "      \"venue_match_count\",\n",
      "      \"away_corners_rollingaverage\",\n",
      "      \"home_position_form\",\n",
      "      \"home_corners_mean\",\n",
      "      \"away_weighted_attack\",\n",
      "      \"home_win_rate\",\n",
      "      \"away_team_elo\",\n",
      "      \"away_form_momentum_home_attack_strength_interaction\",\n",
      "      \"away_h2h_wins\",\n",
      "      \"fixture_id\",\n",
      "      \"away_scoring_efficiency\",\n",
      "      \"away_xg_form\",\n",
      "      \"home_performance\",\n",
      "      \"away_goal_rollingaverage\",\n",
      "      \"elo_similarity_form_similarity\",\n",
      "      \"away_defensive_organization\",\n",
      "      \"home_defense_index\",\n",
      "      \"avg_league_position\",\n",
      "      \"away_style_compatibility\",\n",
      "      \"date_encoded\",\n",
      "      \"home_form_momentum_away_attack_strength_interaction\",\n",
      "      \"home_style_compatibility\",\n",
      "      \"home_offensive_sustainability\",\n",
      "      \"home_saves_rollingaverage\",\n",
      "      \"xg_momentum_similarity\",\n",
      "      \"away_draw_rate\",\n",
      "      \"home_red_cards_mean\",\n",
      "      \"away_form_stability\",\n",
      "      \"home_goal_momentum\",\n",
      "      \"form_weighted_xg_diff\",\n",
      "      \"draw_propensity_score\",\n",
      "      \"home_league_context\",\n",
      "      \"away_tactical_adaptability\",\n",
      "      \"away_corners_mean\",\n",
      "      \"away_shot_on_target_rollingaverage\",\n",
      "      \"Home_draws\",\n",
      "      \"away_form_momentum\",\n",
      "      \"position_equilibrium\",\n",
      "      \"away_defense_index\",\n",
      "      \"away_offensive_sustainability\",\n",
      "      \"away_historical_strength\",\n",
      "      \"home_xg_momentum\",\n",
      "      \"combined_draw_rate\",\n",
      "      \"home_form_weighted_xg\",\n",
      "      \"away_defense_weakness\",\n",
      "      \"away_possession_mean\",\n",
      "      \"away_season_form\",\n",
      "      \"home_fouls_rollingaverage\",\n",
      "      \"home_passing_efficiency\",\n",
      "      \"home_h2h_dominance\",\n",
      "      \"away_founded_year\",\n",
      "      \"historical_draw_tendency\",\n",
      "      \"away_days_since_last_draw\",\n",
      "      \"xg_equilibrium\",\n",
      "      \"possession_balance\",\n",
      "      \"away_h2h_weighted\",\n",
      "      \"strength_possession_interaction\",\n",
      "      \"Home_saves_mean\",\n",
      "      \"Home_possession_mean\",\n",
      "      \"home_draw_rate\",\n",
      "      \"home_possession_impact\",\n",
      "      \"home_red_cards_rollingaverage\",\n",
      "      \"away_yellow_cards_rollingaverage\",\n",
      "      \"Away_fouls_mean\",\n",
      "      \"strength_equilibrium\",\n",
      "      \"Home_passes_mean\",\n",
      "      \"form_stability\",\n",
      "      \"away_passing_efficiency\",\n",
      "      \"home_attack_strength\",\n",
      "      \"team_strength_diff\",\n",
      "      \"form_convergence\",\n",
      "      \"away_fouls_rollingaverage\",\n",
      "      \"league_draw_rate\",\n",
      "      \"away_attack_strength_home_league_position_interaction\",\n",
      "      \"home_days_since_last_draw\",\n",
      "      \"venue_draws\",\n",
      "      \"home_corners_rollingaverage\",\n",
      "      \"away_shot_on_target_mean\",\n",
      "      \"away_win_rate\",\n",
      "      \"away_crowd_resistance\",\n",
      "      \"home_defense_weakness\",\n",
      "      \"venue_draw_rate\",\n",
      "      \"Away_offsides_mean\",\n",
      "      \"home_shots_on_target_accuracy_rollingaverage\",\n",
      "      \"Home_goal_difference_cum\",\n",
      "      \"home_league_position\",\n",
      "      \"Away_saves_mean\",\n",
      "      \"league_home_draw_rate\",\n",
      "      \"home_yellow_cards_mean\",\n",
      "      \"away_poisson_xG\",\n",
      "      \"seasonal_draw_pattern\",\n",
      "      \"season_progress\",\n",
      "      \"draw_probability_score\",\n",
      "      \"Away_goal_difference_cum\",\n",
      "      \"league_draw_rate_composite\",\n",
      "      \"away_xg_momentum\"\n",
      "    ],\n",
      "    \"data\": [\n",
      "      [\n",
      "        2.0,\n",
      "        2.25,\n",
      "        0.76,\n",
      "        18622.0,\n",
      "        2.25,\n",
      "        1.75,\n",
      "        4.0,\n",
      "        2.59,\n",
      "        0.0,\n",
      "        2.25,\n",
      "        0.0,\n",
      "        0.75,\n",
      "        1518.51,\n",
      "        0.0,\n",
      "        0,\n",
      "        872901,\n",
      "        0.07269565217075237,\n",
      "        0.0,\n",
      "        5.56,\n",
      "        0.88,\n",
      "        0.99,\n",
      "        0.2250000000000002,\n",
      "        2.346975,\n",
      "        1.5,\n",
      "        3.2329250000000003,\n",
      "        749,\n",
      "        0.0,\n",
      "        4.0362,\n",
      "        5.147550000000001,\n",
      "        1.71,\n",
      "        0.42,\n",
      "        0.5,\n",
      "        0.0,\n",
      "        0.0,\n",
      "        0.0,\n",
      "        0.72,\n",
      "        0.37,\n",
      "        0.0,\n",
      "        0.0,\n",
      "        4.25,\n",
      "        2.3,\n",
      "        0.0,\n",
      "        0.0,\n",
      "        0.95,\n",
      "        0.2362500000000002,\n",
      "        8.69975,\n",
      "        0.0,\n",
      "        1.71,\n",
      "        0.25,\n",
      "        1.28,\n",
      "        0.94,\n",
      "        0.89,\n",
      "        -0.0,\n",
      "        5.55,\n",
      "        3616.6666662777775,\n",
      "        0.0,\n",
      "        1900.0,\n",
      "        0.23,\n",
      "        28,\n",
      "        0.81,\n",
      "        1.0,\n",
      "        0.0,\n",
      "        -0.31,\n",
      "        3.0,\n",
      "        0.93,\n",
      "        0.0,\n",
      "        -0.0,\n",
      "        0.05,\n",
      "        0.88,\n",
      "        11.5,\n",
      "        -0.31,\n",
      "        434.0,\n",
      "        0.6,\n",
      "        1632.5842694794849,\n",
      "        0.0,\n",
      "        -1,\n",
      "        1.0,\n",
      "        6.67,\n",
      "        0.19,\n",
      "        0.76,\n",
      "        749,\n",
      "        1.0,\n",
      "        1.84,\n",
      "        4.0,\n",
      "        0.5,\n",
      "        0.0,\n",
      "        0.39,\n",
      "        0.25,\n",
      "        2.0,\n",
      "        2.46,\n",
      "        7.0,\n",
      "        1.0,\n",
      "        3.75,\n",
      "        1.78,\n",
      "        1.75,\n",
      "        1.12,\n",
      "        0.01,\n",
      "        14.5,\n",
      "        0.62,\n",
      "        4,\n",
      "        1.33,\n",
      "        1.12\n",
      "      ]\n",
      "    ]\n",
      "  }\n",
      "}. Alternatively, you can avoid passing input example and pass model signature instead when logging the model. To ensure the input example is valid prior to serving, please try calling `mlflow.models.validate_serving_input` on the model uri and serving input example. A serving input example can be generated from model input example using `mlflow.models.convert_input_example_to_serving_input` function.\n",
      "Got error: 'super' object has no attribute '__sklearn_tags__'\n",
      "Successfully registered model 'xgboost_base_20250221_1227'.\n",
      "Created version '1' of model 'xgboost_base_20250221_1227'.\n"
     ]
    },
    {
     "name": "stdout",
     "output_type": "stream",
     "text": [
      "2025-02-21 12:27:57,853 | INFO     | xgboost_soccer_prediction | Training completed with precision: 0.3447\n"
     ]
    }
   ],
   "source": [
    "if __name__ == \"__main__\":\n",
    "    train_seed_model()\n",
    "    # hypertune_xgboost(experiment_name)\n"
   ]
  }
 ],
 "metadata": {
  "kernelspec": {
   "display_name": "soccerpredictor_env",
   "language": "python",
   "name": "python3"
  },
  "language_info": {
   "codemirror_mode": {
    "name": "ipython",
    "version": 3
   },
   "file_extension": ".py",
   "mimetype": "text/x-python",
   "name": "python",
   "nbconvert_exporter": "python",
   "pygments_lexer": "ipython3",
   "version": "3.9.19"
  }
 },
 "nbformat": 4,
 "nbformat_minor": 2
}
